{
 "cells": [
  {
   "cell_type": "markdown",
   "metadata": {},
   "source": [
    "# 송인욱 0701_2번 과제\n",
    "## 'iris.csv'에서 아래 결과를 도출하세요\n",
    "    - Length 데이터만 추출해서 출력해주세요\n",
    "    - SepallLength 컬럼에서 길이가 5.0보다 큰 컬럼의  SepalLength와 Names만 출력해주세요\n",
    "    - iris-setosa, iris-versicolor, iris-virginica에서 각각 최대,최소 컬럼을 출력해 주세요"
   ]
  },
  {
   "cell_type": "markdown",
   "metadata": {},
   "source": [
    "### 1. Length 데이터만 추출해서 출력해주세요 "
   ]
  },
  {
   "cell_type": "code",
   "execution_count": 74,
   "metadata": {},
   "outputs": [],
   "source": [
    "import pandas as pd\n",
    "DIR_PATH = './data/'\n",
    "FILE = DIR_PATH + 'iris.csv'\n",
    "iris = pd.read_csv(FILE)"
   ]
  },
  {
   "cell_type": "code",
   "execution_count": 75,
   "metadata": {},
   "outputs": [
    {
     "name": "stdout",
     "output_type": "stream",
     "text": [
      "<class 'pandas.core.frame.DataFrame'>\n",
      "RangeIndex: 150 entries, 0 to 149\n",
      "Data columns (total 5 columns):\n",
      " #   Column       Non-Null Count  Dtype  \n",
      "---  ------       --------------  -----  \n",
      " 0   SepalLength  150 non-null    float64\n",
      " 1   SepalWidth   150 non-null    float64\n",
      " 2   PetalLength  150 non-null    float64\n",
      " 3   PetalWidth   150 non-null    float64\n",
      " 4   Name         150 non-null    object \n",
      "dtypes: float64(4), object(1)\n",
      "memory usage: 6.0+ KB\n",
      "None\n",
      "RangeIndex(start=0, stop=150, step=1)\n",
      "Index(['SepalLength', 'SepalWidth', 'PetalLength', 'PetalWidth', 'Name'], dtype='object')\n"
     ]
    }
   ],
   "source": [
    "print(iris.info())\n",
    "print(iris.index)\n",
    "print(iris.columns)"
   ]
  },
  {
   "cell_type": "code",
   "execution_count": 76,
   "metadata": {},
   "outputs": [
    {
     "data": {
      "text/plain": [
       "['SepalLength', 'PetalLength']"
      ]
     },
     "execution_count": 76,
     "metadata": {},
     "output_type": "execute_result"
    }
   ],
   "source": [
    "irisCol = iris.columns\n",
    "irisLenCol = [ i for i in irisCol if 'Length' in i]\n",
    "irisLenCol"
   ]
  },
  {
   "cell_type": "code",
   "execution_count": 77,
   "metadata": {},
   "outputs": [
    {
     "data": {
      "text/html": [
       "<div>\n",
       "<style scoped>\n",
       "    .dataframe tbody tr th:only-of-type {\n",
       "        vertical-align: middle;\n",
       "    }\n",
       "\n",
       "    .dataframe tbody tr th {\n",
       "        vertical-align: top;\n",
       "    }\n",
       "\n",
       "    .dataframe thead th {\n",
       "        text-align: right;\n",
       "    }\n",
       "</style>\n",
       "<table border=\"1\" class=\"dataframe\">\n",
       "  <thead>\n",
       "    <tr style=\"text-align: right;\">\n",
       "      <th></th>\n",
       "      <th>SepalLength</th>\n",
       "      <th>PetalLength</th>\n",
       "    </tr>\n",
       "  </thead>\n",
       "  <tbody>\n",
       "    <tr>\n",
       "      <th>0</th>\n",
       "      <td>5.1</td>\n",
       "      <td>1.4</td>\n",
       "    </tr>\n",
       "    <tr>\n",
       "      <th>1</th>\n",
       "      <td>4.9</td>\n",
       "      <td>1.4</td>\n",
       "    </tr>\n",
       "    <tr>\n",
       "      <th>2</th>\n",
       "      <td>4.7</td>\n",
       "      <td>1.3</td>\n",
       "    </tr>\n",
       "    <tr>\n",
       "      <th>3</th>\n",
       "      <td>4.6</td>\n",
       "      <td>1.5</td>\n",
       "    </tr>\n",
       "    <tr>\n",
       "      <th>4</th>\n",
       "      <td>5.0</td>\n",
       "      <td>1.4</td>\n",
       "    </tr>\n",
       "    <tr>\n",
       "      <th>...</th>\n",
       "      <td>...</td>\n",
       "      <td>...</td>\n",
       "    </tr>\n",
       "    <tr>\n",
       "      <th>145</th>\n",
       "      <td>6.7</td>\n",
       "      <td>5.2</td>\n",
       "    </tr>\n",
       "    <tr>\n",
       "      <th>146</th>\n",
       "      <td>6.3</td>\n",
       "      <td>5.0</td>\n",
       "    </tr>\n",
       "    <tr>\n",
       "      <th>147</th>\n",
       "      <td>6.5</td>\n",
       "      <td>5.2</td>\n",
       "    </tr>\n",
       "    <tr>\n",
       "      <th>148</th>\n",
       "      <td>6.2</td>\n",
       "      <td>5.4</td>\n",
       "    </tr>\n",
       "    <tr>\n",
       "      <th>149</th>\n",
       "      <td>5.9</td>\n",
       "      <td>5.1</td>\n",
       "    </tr>\n",
       "  </tbody>\n",
       "</table>\n",
       "<p>150 rows × 2 columns</p>\n",
       "</div>"
      ],
      "text/plain": [
       "     SepalLength  PetalLength\n",
       "0            5.1          1.4\n",
       "1            4.9          1.4\n",
       "2            4.7          1.3\n",
       "3            4.6          1.5\n",
       "4            5.0          1.4\n",
       "..           ...          ...\n",
       "145          6.7          5.2\n",
       "146          6.3          5.0\n",
       "147          6.5          5.2\n",
       "148          6.2          5.4\n",
       "149          5.9          5.1\n",
       "\n",
       "[150 rows x 2 columns]"
      ]
     },
     "execution_count": 77,
     "metadata": {},
     "output_type": "execute_result"
    }
   ],
   "source": [
    "iris[irisLenCol]"
   ]
  },
  {
   "cell_type": "markdown",
   "metadata": {},
   "source": [
    "### 2. SepallLength 컬럼에서 길이가 5.0보다 큰 컬럼의  SepalLength와 Names만 출력해주세요"
   ]
  },
  {
   "cell_type": "code",
   "execution_count": 78,
   "metadata": {},
   "outputs": [
    {
     "data": {
      "text/html": [
       "<div>\n",
       "<style scoped>\n",
       "    .dataframe tbody tr th:only-of-type {\n",
       "        vertical-align: middle;\n",
       "    }\n",
       "\n",
       "    .dataframe tbody tr th {\n",
       "        vertical-align: top;\n",
       "    }\n",
       "\n",
       "    .dataframe thead th {\n",
       "        text-align: right;\n",
       "    }\n",
       "</style>\n",
       "<table border=\"1\" class=\"dataframe\">\n",
       "  <thead>\n",
       "    <tr style=\"text-align: right;\">\n",
       "      <th></th>\n",
       "      <th>SepalLength</th>\n",
       "      <th>Name</th>\n",
       "    </tr>\n",
       "  </thead>\n",
       "  <tbody>\n",
       "    <tr>\n",
       "      <th>0</th>\n",
       "      <td>5.1</td>\n",
       "      <td>Iris-setosa</td>\n",
       "    </tr>\n",
       "    <tr>\n",
       "      <th>1</th>\n",
       "      <td>5.4</td>\n",
       "      <td>Iris-setosa</td>\n",
       "    </tr>\n",
       "    <tr>\n",
       "      <th>2</th>\n",
       "      <td>5.4</td>\n",
       "      <td>Iris-setosa</td>\n",
       "    </tr>\n",
       "    <tr>\n",
       "      <th>3</th>\n",
       "      <td>5.8</td>\n",
       "      <td>Iris-setosa</td>\n",
       "    </tr>\n",
       "    <tr>\n",
       "      <th>4</th>\n",
       "      <td>5.7</td>\n",
       "      <td>Iris-setosa</td>\n",
       "    </tr>\n",
       "    <tr>\n",
       "      <th>...</th>\n",
       "      <td>...</td>\n",
       "      <td>...</td>\n",
       "    </tr>\n",
       "    <tr>\n",
       "      <th>113</th>\n",
       "      <td>6.7</td>\n",
       "      <td>Iris-virginica</td>\n",
       "    </tr>\n",
       "    <tr>\n",
       "      <th>114</th>\n",
       "      <td>6.3</td>\n",
       "      <td>Iris-virginica</td>\n",
       "    </tr>\n",
       "    <tr>\n",
       "      <th>115</th>\n",
       "      <td>6.5</td>\n",
       "      <td>Iris-virginica</td>\n",
       "    </tr>\n",
       "    <tr>\n",
       "      <th>116</th>\n",
       "      <td>6.2</td>\n",
       "      <td>Iris-virginica</td>\n",
       "    </tr>\n",
       "    <tr>\n",
       "      <th>117</th>\n",
       "      <td>5.9</td>\n",
       "      <td>Iris-virginica</td>\n",
       "    </tr>\n",
       "  </tbody>\n",
       "</table>\n",
       "<p>118 rows × 2 columns</p>\n",
       "</div>"
      ],
      "text/plain": [
       "     SepalLength            Name\n",
       "0            5.1     Iris-setosa\n",
       "1            5.4     Iris-setosa\n",
       "2            5.4     Iris-setosa\n",
       "3            5.8     Iris-setosa\n",
       "4            5.7     Iris-setosa\n",
       "..           ...             ...\n",
       "113          6.7  Iris-virginica\n",
       "114          6.3  Iris-virginica\n",
       "115          6.5  Iris-virginica\n",
       "116          6.2  Iris-virginica\n",
       "117          5.9  Iris-virginica\n",
       "\n",
       "[118 rows x 2 columns]"
      ]
     },
     "execution_count": 78,
     "metadata": {},
     "output_type": "execute_result"
    }
   ],
   "source": [
    "result = iris['SepalLength'] > 5.0\n",
    "data = iris[result].dropna(axis=0)\n",
    "data = data.reset_index(drop=True)\n",
    "data[['SepalLength','Name']]"
   ]
  },
  {
   "cell_type": "markdown",
   "metadata": {},
   "source": [
    "### 3. iris-setosa, iris-versicolor, iris-virginica에서 각각 최대,최소 컬럼을 출력해 주세요"
   ]
  },
  {
   "cell_type": "code",
   "execution_count": 79,
   "metadata": {},
   "outputs": [],
   "source": [
    "irisNameIndex = iris.set_index('Name')\n",
    "irisSetosa = irisNameIndex.loc['Iris-setosa']\n",
    "irisVersicolor = irisNameIndex.loc['Iris-versicolor']\n",
    "irisVirginica = irisNameIndex.loc['Iris-virginica']"
   ]
  },
  {
   "cell_type": "code",
   "execution_count": 80,
   "metadata": {},
   "outputs": [
    {
     "name": "stdout",
     "output_type": "stream",
     "text": [
      "setosa max = \n",
      "SepalLength    5.8\n",
      "SepalWidth     4.4\n",
      "PetalLength    1.9\n",
      "PetalWidth     0.6\n",
      "dtype: float64\n",
      "setosa min = \n",
      "SepalLength    4.3\n",
      "SepalWidth     2.3\n",
      "PetalLength    1.0\n",
      "PetalWidth     0.1\n",
      "dtype: float64\n"
     ]
    }
   ],
   "source": [
    "print(f'setosa max = \\n{irisSetosa.max()}')\n",
    "print(f'setosa min = \\n{irisSetosa.min()}')"
   ]
  },
  {
   "cell_type": "code",
   "execution_count": 81,
   "metadata": {},
   "outputs": [
    {
     "name": "stdout",
     "output_type": "stream",
     "text": [
      "versicolor max = \n",
      "SepalLength    7.0\n",
      "SepalWidth     3.4\n",
      "PetalLength    5.1\n",
      "PetalWidth     1.8\n",
      "dtype: float64\n",
      "versicolor min = \n",
      "SepalLength    4.9\n",
      "SepalWidth     2.0\n",
      "PetalLength    3.0\n",
      "PetalWidth     1.0\n",
      "dtype: float64\n"
     ]
    }
   ],
   "source": [
    "print(f'versicolor max = \\n{irisVersicolor.max()}')\n",
    "print(f'versicolor min = \\n{irisVersicolor.min()}')"
   ]
  },
  {
   "cell_type": "code",
   "execution_count": 82,
   "metadata": {},
   "outputs": [
    {
     "name": "stdout",
     "output_type": "stream",
     "text": [
      "virginica max = \n",
      "SepalLength    7.9\n",
      "SepalWidth     3.8\n",
      "PetalLength    6.9\n",
      "PetalWidth     2.5\n",
      "dtype: float64\n",
      "virginica min = \n",
      "SepalLength    4.9\n",
      "SepalWidth     2.2\n",
      "PetalLength    4.5\n",
      "PetalWidth     1.4\n",
      "dtype: float64\n"
     ]
    }
   ],
   "source": [
    "print(f'virginica max = \\n{irisVirginica.max()}')\n",
    "print(f'virginica min = \\n{irisVirginica.min()}')"
   ]
  }
 ],
 "metadata": {
  "kernelspec": {
   "display_name": "Python 3.9.12 ('EV_PY39')",
   "language": "python",
   "name": "python3"
  },
  "language_info": {
   "codemirror_mode": {
    "name": "ipython",
    "version": 3
   },
   "file_extension": ".py",
   "mimetype": "text/x-python",
   "name": "python",
   "nbconvert_exporter": "python",
   "pygments_lexer": "ipython3",
   "version": "3.9.12"
  },
  "orig_nbformat": 4,
  "vscode": {
   "interpreter": {
    "hash": "ecbb256efbbf2e6a48de4f11a785e1a9701c0b8691667a6aa3f10a29af86e563"
   }
  }
 },
 "nbformat": 4,
 "nbformat_minor": 2
}
