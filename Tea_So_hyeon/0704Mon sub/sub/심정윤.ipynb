{
 "cells": [
  {
   "cell_type": "code",
   "execution_count": 1,
   "id": "2732e6c7",
   "metadata": {},
   "outputs": [],
   "source": [
    "# 모듈 로딩\n",
    "import pandas as pd\n",
    "\n",
    "# 파일 관련 변수 선언\n",
    "DIR_PATH='../Data/'\n",
    "FILE_NAME=DIR_PATH+'weather.csv'"
   ]
  },
  {
   "cell_type": "code",
   "execution_count": 2,
   "id": "4d723bb5",
   "metadata": {},
   "outputs": [
    {
     "name": "stdout",
     "output_type": "stream",
     "text": [
      "<class 'pandas.core.frame.DataFrame'>\n",
      "RangeIndex: 22 entries, 0 to 21\n",
      "Data columns (total 35 columns):\n",
      " #   Column   Non-Null Count  Dtype  \n",
      "---  ------   --------------  -----  \n",
      " 0   id       22 non-null     object \n",
      " 1   year     22 non-null     int64  \n",
      " 2   month    22 non-null     int64  \n",
      " 3   element  22 non-null     object \n",
      " 4   d1       2 non-null      float64\n",
      " 5   d2       4 non-null      float64\n",
      " 6   d3       4 non-null      float64\n",
      " 7   d4       2 non-null      float64\n",
      " 8   d5       8 non-null      float64\n",
      " 9   d6       2 non-null      float64\n",
      " 10  d7       2 non-null      float64\n",
      " 11  d8       2 non-null      float64\n",
      " 12  d9       0 non-null      float64\n",
      " 13  d10      2 non-null      float64\n",
      " 14  d11      2 non-null      float64\n",
      " 15  d12      0 non-null      float64\n",
      " 16  d13      2 non-null      float64\n",
      " 17  d14      4 non-null      float64\n",
      " 18  d15      2 non-null      float64\n",
      " 19  d16      2 non-null      float64\n",
      " 20  d17      2 non-null      float64\n",
      " 21  d18      0 non-null      float64\n",
      " 22  d19      0 non-null      float64\n",
      " 23  d20      0 non-null      float64\n",
      " 24  d21      0 non-null      float64\n",
      " 25  d22      0 non-null      float64\n",
      " 26  d23      4 non-null      float64\n",
      " 27  d24      0 non-null      float64\n",
      " 28  d25      2 non-null      float64\n",
      " 29  d26      2 non-null      float64\n",
      " 30  d27      6 non-null      float64\n",
      " 31  d28      2 non-null      float64\n",
      " 32  d29      4 non-null      float64\n",
      " 33  d30      2 non-null      float64\n",
      " 34  d31      2 non-null      float64\n",
      "dtypes: float64(31), int64(2), object(2)\n",
      "memory usage: 6.1+ KB\n"
     ]
    }
   ],
   "source": [
    "# CSV 파일 -> DataFrame 으로 로딩\n",
    "weatherDF=pd.read_csv(FILE_NAME)\n",
    "weatherDF.info()"
   ]
  },
  {
   "cell_type": "code",
   "execution_count": 3,
   "id": "5dc39cea",
   "metadata": {},
   "outputs": [
    {
     "data": {
      "text/plain": [
       "id          0\n",
       "year        0\n",
       "month       0\n",
       "element     0\n",
       "d1         20\n",
       "d2         18\n",
       "d3         18\n",
       "d4         20\n",
       "d5         14\n",
       "d6         20\n",
       "d7         20\n",
       "d8         20\n",
       "d9         22\n",
       "d10        20\n",
       "d11        20\n",
       "d12        22\n",
       "d13        20\n",
       "d14        18\n",
       "d15        20\n",
       "d16        20\n",
       "d17        20\n",
       "d18        22\n",
       "d19        22\n",
       "d20        22\n",
       "d21        22\n",
       "d22        22\n",
       "d23        18\n",
       "d24        22\n",
       "d25        20\n",
       "d26        20\n",
       "d27        16\n",
       "d28        20\n",
       "d29        18\n",
       "d30        20\n",
       "d31        20\n",
       "dtype: int64"
      ]
     },
     "execution_count": 3,
     "metadata": {},
     "output_type": "execute_result"
    }
   ],
   "source": [
    "# 결측치 갯수 파악\n",
    "weatherDF.isnull().sum()"
   ]
  },
  {
   "cell_type": "code",
   "execution_count": 4,
   "id": "8b1f6ee3",
   "metadata": {},
   "outputs": [
    {
     "name": "stdout",
     "output_type": "stream",
     "text": [
      "1월 기온 \n",
      "최고 기온 : 27.8\n",
      "최저 기온 : 14.5\n",
      "-------------------------------\n",
      "2월 기온 \n",
      "최고 기온 : 29.9\n",
      "최저 기온 : 10.7\n",
      "-------------------------------\n",
      "3월 기온 \n",
      "최고 기온 : 34.5\n",
      "최저 기온 : 14.2\n",
      "-------------------------------\n",
      "4월 기온 \n",
      "최고 기온 : 36.3\n",
      "최저 기온 : 16.7\n",
      "-------------------------------\n",
      "5월 기온 \n",
      "최고 기온 : 33.2\n",
      "최저 기온 : 18.2\n",
      "-------------------------------\n",
      "6월 기온 \n",
      "최고 기온 : 30.1\n",
      "최저 기온 : 17.5\n",
      "-------------------------------\n",
      "7월 기온 \n",
      "최고 기온 : 29.9\n",
      "최저 기온 : 16.5\n",
      "-------------------------------\n",
      "8월 기온 \n",
      "최고 기온 : 29.8\n",
      "최저 기온 : 15.0\n",
      "-------------------------------\n",
      "10월 기온 \n",
      "최고 기온 : 31.2\n",
      "최저 기온 : 10.5\n",
      "-------------------------------\n",
      "11월 기온 \n",
      "최고 기온 : 31.3\n",
      "최저 기온 : 7.9\n",
      "-------------------------------\n",
      "12월 기온 \n",
      "최고 기온 : 29.9\n",
      "최저 기온 : 10.5\n",
      "-------------------------------\n"
     ]
    }
   ],
   "source": [
    "# 과제 - 0704-(1) 2010년 1월~12월 최저온도-최고온도 데이터 추출 #######################################\n",
    "month=0\n",
    "for i in range(0,21,2):\n",
    "    month+=1\n",
    "    if month==9:month+=1\n",
    "    print(f'{month}월 기온 ')\n",
    "    print(f'최고 기온 : {weatherDF.iloc[i][4:].max()}')\n",
    "    print(f'최저 기온 : {weatherDF.iloc[i+1][4:].min()}')\n",
    "    print('-------------------------------')\n",
    "\n",
    "    "
   ]
  },
  {
   "cell_type": "code",
   "execution_count": null,
   "id": "7568f379",
   "metadata": {},
   "outputs": [],
   "source": []
  }
 ],
 "metadata": {
  "kernelspec": {
   "display_name": "Python 3 (ipykernel)",
   "language": "python",
   "name": "python3"
  },
  "language_info": {
   "codemirror_mode": {
    "name": "ipython",
    "version": 3
   },
   "file_extension": ".py",
   "mimetype": "text/x-python",
   "name": "python",
   "nbconvert_exporter": "python",
   "pygments_lexer": "ipython3",
   "version": "3.9.12"
  }
 },
 "nbformat": 4,
 "nbformat_minor": 5
}
