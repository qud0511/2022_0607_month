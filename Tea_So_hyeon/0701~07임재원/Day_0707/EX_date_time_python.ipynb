{
 "cells": [
  {
   "cell_type": "markdown",
   "id": "ac5c6c3c",
   "metadata": {},
   "source": [
    "# 날짜, 시간관련 패키지 다루기\n",
    "- 파이썬 => data, time, datetime 관련 클래스"
   ]
  },
  {
   "cell_type": "code",
   "execution_count": 5,
   "id": "24a5917d",
   "metadata": {},
   "outputs": [
    {
     "data": {
      "text/plain": [
       "'3.5.1'"
      ]
     },
     "execution_count": 5,
     "metadata": {},
     "output_type": "execute_result"
    }
   ],
   "source": [
    "# 모듈 로딩\n",
    "\n",
    "import time as tm\n",
    "import matplotlib as mp\n",
    "\n",
    "mp.__version__\n"
   ]
  },
  {
   "cell_type": "markdown",
   "id": "0f5a4510",
   "metadata": {},
   "source": [
    "# 시간 관련 클래스 - time"
   ]
  },
  {
   "cell_type": "code",
   "execution_count": 3,
   "id": "e0cc8f84",
   "metadata": {},
   "outputs": [
    {
     "name": "stdout",
     "output_type": "stream",
     "text": [
      "현재시간 : Thu Jul  7 09:39:26 2022\n"
     ]
    }
   ],
   "source": [
    "# 현재 시간 출력 메서드\n",
    "\n",
    "# (1) 보기 쉽게 변환되어서 가져오기\n",
    "currentTm = tm.ctime(tm.time())\n",
    "print(f'현재시간 : {currentTm}')"
   ]
  },
  {
   "cell_type": "code",
   "execution_count": 4,
   "id": "fbbd272b",
   "metadata": {},
   "outputs": [
    {
     "name": "stdout",
     "output_type": "stream",
     "text": [
      "현재시간 구조체 클래스 : time.struct_time(tm_year=2022, tm_mon=7, tm_mday=7, tm_hour=9, tm_min=40, tm_sec=13, tm_wday=3, tm_yday=188, tm_isdst=0)\n"
     ]
    }
   ],
   "source": [
    "# (2) 원하는 대로 변환할 수 있도록 구조체 생성\n",
    "localStrct = tm.localtime(tm.time())\n",
    "print(f'현재시간 구조체 클래스 : {localStrct}')"
   ]
  },
  {
   "cell_type": "markdown",
   "id": "b92c03f9",
   "metadata": {},
   "source": [
    "# 날짜 관련 클래스 - datetime.date"
   ]
  },
  {
   "cell_type": "code",
   "execution_count": 7,
   "id": "ff69634b",
   "metadata": {},
   "outputs": [],
   "source": [
    "from datetime import date\n",
    "\n",
    "currentDT = date.today()"
   ]
  },
  {
   "cell_type": "code",
   "execution_count": 9,
   "id": "dd67112c",
   "metadata": {},
   "outputs": [
    {
     "name": "stdout",
     "output_type": "stream",
     "text": [
      "<class 'datetime.date'> 2022-12-24\n"
     ]
    }
   ],
   "source": [
    "d_day = date(2022, 12, 24)\n",
    "\n",
    "print(type(d_day), d_day)"
   ]
  },
  {
   "cell_type": "code",
   "execution_count": 10,
   "id": "9ddea66e",
   "metadata": {},
   "outputs": [
    {
     "data": {
      "text/plain": [
       "(24, 12)"
      ]
     },
     "execution_count": 10,
     "metadata": {},
     "output_type": "execute_result"
    }
   ],
   "source": [
    "d_day.day, d_day.month"
   ]
  },
  {
   "cell_type": "markdown",
   "id": "335ceee8",
   "metadata": {},
   "source": [
    "# 날짜 시간 관련 클래스 - datetime.datetime"
   ]
  },
  {
   "cell_type": "code",
   "execution_count": 11,
   "id": "168ee304",
   "metadata": {},
   "outputs": [
    {
     "data": {
      "text/plain": [
       "datetime.datetime(2022, 7, 7, 10, 4, 45, 688669)"
      ]
     },
     "execution_count": 11,
     "metadata": {},
     "output_type": "execute_result"
    }
   ],
   "source": [
    "from datetime import datetime as dt\n",
    "\n",
    "dt.today()"
   ]
  },
  {
   "cell_type": "code",
   "execution_count": 12,
   "id": "69e4afb7",
   "metadata": {},
   "outputs": [
    {
     "data": {
      "text/plain": [
       "datetime.datetime(2022, 7, 7, 10, 5, 15, 155912)"
      ]
     },
     "execution_count": 12,
     "metadata": {},
     "output_type": "execute_result"
    }
   ],
   "source": [
    "dt.now()"
   ]
  }
 ],
 "metadata": {
  "kernelspec": {
   "display_name": "Python 3 (ipykernel)",
   "language": "python",
   "name": "python3"
  },
  "language_info": {
   "codemirror_mode": {
    "name": "ipython",
    "version": 3
   },
   "file_extension": ".py",
   "mimetype": "text/x-python",
   "name": "python",
   "nbconvert_exporter": "python",
   "pygments_lexer": "ipython3",
   "version": "3.9.12"
  }
 },
 "nbformat": 4,
 "nbformat_minor": 5
}
