{
 "cells": [
  {
   "cell_type": "markdown",
   "id": "e8dabd89",
   "metadata": {},
   "source": [
    "# Pandas's Data Type\n",
    "- series : 1차원 배열의 데이터, 주로 세로 벡터(ex. 이름만, 학과만)\n",
    "- dataframe : 2차원 배열의 데이터(ex. 이름과 학과)\n",
    "- dType : pandas안의 데이터 타입을 dType이라고 함"
   ]
  },
  {
   "cell_type": "code",
   "execution_count": 9,
   "id": "8cccfe9c",
   "metadata": {},
   "outputs": [
    {
     "data": {
      "text/plain": [
       "0    1\n",
       "1    2\n",
       "2    3\n",
       "3    4\n",
       "4    5\n",
       "5    6\n",
       "dtype: int64"
      ]
     },
     "execution_count": 9,
     "metadata": {},
     "output_type": "execute_result"
    }
   ],
   "source": [
    "import pandas as pd    # pandas 모듈 삽입\n",
    "\n",
    "data = [1, 2, 3, 4, 5, 6]\n",
    "sr = pd.Series(data)    # series 객체 생성\n",
    "sr    # 생성된 series 객체 데이터 확인해 보기"
   ]
  },
  {
   "cell_type": "code",
   "execution_count": 13,
   "id": "10c81c90",
   "metadata": {},
   "outputs": [
    {
     "data": {
      "text/plain": [
       "RangeIndex(start=0, stop=6, step=1)"
      ]
     },
     "execution_count": 13,
     "metadata": {},
     "output_type": "execute_result"
    }
   ],
   "source": [
    "sr.index    # series 객체의 속성 또는 변수 확인 => 객체변수명.속성명"
   ]
  },
  {
   "cell_type": "code",
   "execution_count": 17,
   "id": "5b9e3f26",
   "metadata": {},
   "outputs": [
    {
     "data": {
      "text/plain": [
       "array([1, 2, 3, 4, 5, 6], dtype=int64)"
      ]
     },
     "execution_count": 17,
     "metadata": {},
     "output_type": "execute_result"
    }
   ],
   "source": [
    "sr.values    # series의 value를 표시하는 함수"
   ]
  },
  {
   "cell_type": "code",
   "execution_count": 18,
   "id": "760e7e61",
   "metadata": {},
   "outputs": [
    {
     "data": {
      "text/plain": [
       "1"
      ]
     },
     "execution_count": 18,
     "metadata": {},
     "output_type": "execute_result"
    }
   ],
   "source": [
    "sr.ndim    # dimension(차원)표시 함수"
   ]
  },
  {
   "cell_type": "code",
   "execution_count": 21,
   "id": "b0eb6f22",
   "metadata": {},
   "outputs": [
    {
     "data": {
      "text/plain": [
       "(6,)"
      ]
     },
     "execution_count": 21,
     "metadata": {},
     "output_type": "execute_result"
    }
   ],
   "source": [
    "sr.shape    # series의 형태를 표시하는 함수"
   ]
  },
  {
   "cell_type": "code",
   "execution_count": 22,
   "id": "faf4d528",
   "metadata": {},
   "outputs": [
    {
     "data": {
      "text/plain": [
       "48"
      ]
     },
     "execution_count": 22,
     "metadata": {},
     "output_type": "execute_result"
    }
   ],
   "source": [
    "sr.nbytes    # 실제 사용 메모리 byte, 데이터 갯수"
   ]
  },
  {
   "cell_type": "code",
   "execution_count": 25,
   "id": "672c7a17",
   "metadata": {
    "scrolled": true
   },
   "outputs": [
    {
     "data": {
      "text/plain": [
       "0       1\n",
       "1       A\n",
       "2    9.23\n",
       "dtype: object"
      ]
     },
     "execution_count": 25,
     "metadata": {},
     "output_type": "execute_result"
    }
   ],
   "source": [
    "sr2 = pd.Series([1, 'A', 9.23])    # 여러 타입의 데이터로 series 객체 생성\n",
    "sr2"
   ]
  },
  {
   "cell_type": "code",
   "execution_count": 31,
   "id": "da34ff9e",
   "metadata": {},
   "outputs": [
    {
     "name": "stdout",
     "output_type": "stream",
     "text": [
      "RangeIndex(start=0, stop=3, step=1)\n",
      "--------------\n",
      "[1 'A' 9.23]\n",
      "<PandasArray>\n",
      "[1, 'A', 9.23]\n",
      "Length: 3, dtype: object\n",
      "(3,)\n",
      "24\n",
      "<class 'pandas.core.series.Series'>\n",
      "<class 'numpy.ndarray'>\n"
     ]
    }
   ],
   "source": [
    "# series 객체 속성 읽기\n",
    "print(sr2.index)\n",
    "print(sr2.values)\n",
    "print(sr2.array)\n",
    "print(sr2.shape)\n",
    "print(sr2.nbytes)\n",
    "print(type(sr2))\n",
    "print(type(sr2.values))"
   ]
  },
  {
   "cell_type": "code",
   "execution_count": 33,
   "id": "c2e2d956",
   "metadata": {},
   "outputs": [
    {
     "data": {
      "text/plain": [
       "name               재원\n",
       "age                27\n",
       "number    01071215819\n",
       "dtype: object"
      ]
     },
     "execution_count": 33,
     "metadata": {},
     "output_type": "execute_result"
    }
   ],
   "source": [
    "# dictionary data로 series 생성\n",
    "sr3 = pd.Series({'name':'재원', 'age':27, 'number':'01071215819'})\n",
    "sr3"
   ]
  },
  {
   "cell_type": "code",
   "execution_count": 34,
   "id": "8706b50d",
   "metadata": {},
   "outputs": [
    {
     "data": {
      "text/plain": [
       "하나    a\n",
       "둘     b\n",
       "셋     c\n",
       "dtype: object"
      ]
     },
     "execution_count": 34,
     "metadata": {},
     "output_type": "execute_result"
    }
   ],
   "source": [
    "# series 객체 생성\n",
    "sr4 = pd.Series(['a', 'b', 'c'], index = ['하나', '둘', '셋'])\n",
    "sr4"
   ]
  },
  {
   "cell_type": "code",
   "execution_count": 35,
   "id": "f4f188ca",
   "metadata": {},
   "outputs": [
    {
     "data": {
      "text/plain": [
       "0    a\n",
       "1    b\n",
       "2    c\n",
       "dtype: object"
      ]
     },
     "execution_count": 35,
     "metadata": {},
     "output_type": "execute_result"
    }
   ],
   "source": [
    "sr5 = pd.Series(['a', 'b', 'c'])\n",
    "sr5"
   ]
  },
  {
   "cell_type": "code",
   "execution_count": 40,
   "id": "53a8679e",
   "metadata": {},
   "outputs": [
    {
     "data": {
      "text/plain": [
       "하나    a\n",
       "둘     b\n",
       "셋     c\n",
       "dtype: object"
      ]
     },
     "execution_count": 40,
     "metadata": {},
     "output_type": "execute_result"
    }
   ],
   "source": [
    "# index를 새로운 값으로 설정 : 객체변수명.속성명 = 새로운값\n",
    "sr5.index = ['하나', '둘', '셋']\n",
    "sr5"
   ]
  },
  {
   "cell_type": "markdown",
   "id": "28be6f61",
   "metadata": {},
   "source": [
    "# Series 객체의 요소 다루기\n",
    "- 방법\n",
    "    - 시리즈 객체[인덱스 번호]\n",
    "    - 시리즈 객체[인덱스 라벨]"
   ]
  },
  {
   "cell_type": "code",
   "execution_count": 48,
   "id": "8486c14b",
   "metadata": {},
   "outputs": [
    {
     "data": {
      "text/plain": [
       "('a', 'a')"
      ]
     },
     "execution_count": 48,
     "metadata": {},
     "output_type": "execute_result"
    }
   ],
   "source": [
    "sr5[0], sr5['하나']    # 두 값이 같다."
   ]
  },
  {
   "cell_type": "code",
   "execution_count": 49,
   "id": "ee65442a",
   "metadata": {},
   "outputs": [
    {
     "data": {
      "text/plain": [
       "('01071215819', '01071215819')"
      ]
     },
     "execution_count": 49,
     "metadata": {},
     "output_type": "execute_result"
    }
   ],
   "source": [
    "sr3[2], sr3['number']    # 딕셔너리 타입도 역시 같은 방식임."
   ]
  },
  {
   "cell_type": "markdown",
   "id": "13228b75",
   "metadata": {},
   "source": []
  }
 ],
 "metadata": {
  "kernelspec": {
   "display_name": "Python 3 (ipykernel)",
   "language": "python",
   "name": "python3"
  },
  "language_info": {
   "codemirror_mode": {
    "name": "ipython",
    "version": 3
   },
   "file_extension": ".py",
   "mimetype": "text/x-python",
   "name": "python",
   "nbconvert_exporter": "python",
   "pygments_lexer": "ipython3",
   "version": "3.9.12"
  }
 },
 "nbformat": 4,
 "nbformat_minor": 5
}
