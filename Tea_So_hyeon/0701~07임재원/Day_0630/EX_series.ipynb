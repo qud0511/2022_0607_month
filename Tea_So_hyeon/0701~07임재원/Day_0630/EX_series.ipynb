{
 "cells": [
  {
   "cell_type": "markdown",
   "id": "66421fda",
   "metadata": {},
   "source": [
    "# Pandas's Data Type\n",
    "- series : 1차원 배열의 데이터, 주로 세로 벡터(ex. 이름만, 학과만)\n",
    "- dataframe : 2차원 배열의 데이터(ex. 이름과 학과)\n",
    "- dType : pandas안의 데이터 타입을 dType이라고 함"
   ]
  },
  {
   "cell_type": "code",
   "execution_count": 9,
   "id": "eb88309a",
   "metadata": {},
   "outputs": [
    {
     "data": {
      "text/plain": [
       "0    1\n",
       "1    2\n",
       "2    3\n",
       "3    4\n",
       "4    5\n",
       "5    6\n",
       "dtype: int64"
      ]
     },
     "execution_count": 9,
     "metadata": {},
     "output_type": "execute_result"
    }
   ],
   "source": [
    "import pandas as pd    # pandas 모듈 삽입\n",
    "\n",
    "data = [1, 2, 3, 4, 5, 6]\n",
    "sr = pd.Series(data)    # series 객체 생성\n",
    "sr    # 생성된 series 객체 데이터 확인해 보기"
   ]
  },
  {
   "cell_type": "code",
   "execution_count": 13,
   "id": "4c915cee",
   "metadata": {},
   "outputs": [
    {
     "data": {
      "text/plain": [
       "RangeIndex(start=0, stop=6, step=1)"
      ]
     },
     "execution_count": 13,
     "metadata": {},
     "output_type": "execute_result"
    }
   ],
   "source": [
    "sr.index    # series 객체의 속성 또는 변수 확인 => 객체변수명.속성명"
   ]
  },
  {
   "cell_type": "code",
   "execution_count": 17,
   "id": "9c161811",
   "metadata": {},
   "outputs": [
    {
     "data": {
      "text/plain": [
       "array([1, 2, 3, 4, 5, 6], dtype=int64)"
      ]
     },
     "execution_count": 17,
     "metadata": {},
     "output_type": "execute_result"
    }
   ],
   "source": [
    "sr.values    # series의 value를 표시하는 함수"
   ]
  },
  {
   "cell_type": "code",
   "execution_count": 18,
   "id": "9dbbdfd8",
   "metadata": {},
   "outputs": [
    {
     "data": {
      "text/plain": [
       "1"
      ]
     },
     "execution_count": 18,
     "metadata": {},
     "output_type": "execute_result"
    }
   ],
   "source": [
    "sr.ndim    # dimension(차원)표시 함수"
   ]
  },
  {
   "cell_type": "code",
   "execution_count": 21,
   "id": "934098c0",
   "metadata": {},
   "outputs": [
    {
     "data": {
      "text/plain": [
       "(6,)"
      ]
     },
     "execution_count": 21,
     "metadata": {},
     "output_type": "execute_result"
    }
   ],
   "source": [
    "sr.shape    # series의 형태를 표시하는 함수"
   ]
  },
  {
   "cell_type": "code",
   "execution_count": 22,
   "id": "3dacc8d7",
   "metadata": {},
   "outputs": [
    {
     "data": {
      "text/plain": [
       "48"
      ]
     },
     "execution_count": 22,
     "metadata": {},
     "output_type": "execute_result"
    }
   ],
   "source": [
    "sr.nbytes    # 실제 사용 메모리 byte, 데이터 갯수"
   ]
  },
  {
   "cell_type": "code",
   "execution_count": 25,
   "id": "60e06749",
   "metadata": {
    "scrolled": true
   },
   "outputs": [
    {
     "data": {
      "text/plain": [
       "0       1\n",
       "1       A\n",
       "2    9.23\n",
       "dtype: object"
      ]
     },
     "execution_count": 25,
     "metadata": {},
     "output_type": "execute_result"
    }
   ],
   "source": [
    "sr2 = pd.Series([1, 'A', 9.23])    # 여러 타입의 데이터로 series 객체 생성\n",
    "sr2"
   ]
  },
  {
   "cell_type": "code",
   "execution_count": 31,
   "id": "728c4f1d",
   "metadata": {},
   "outputs": [
    {
     "name": "stdout",
     "output_type": "stream",
     "text": [
      "RangeIndex(start=0, stop=3, step=1)\n",
      "--------------\n",
      "[1 'A' 9.23]\n",
      "<PandasArray>\n",
      "[1, 'A', 9.23]\n",
      "Length: 3, dtype: object\n",
      "(3,)\n",
      "24\n",
      "<class 'pandas.core.series.Series'>\n",
      "<class 'numpy.ndarray'>\n"
     ]
    }
   ],
   "source": [
    "# series 객체 속성 읽기\n",
    "print(sr2.index)\n",
    "print(sr2.values)\n",
    "print(sr2.array)\n",
    "print(sr2.shape)\n",
    "print(sr2.nbytes)\n",
    "print(type(sr2))\n",
    "print(type(sr2.values))"
   ]
  },
  {
   "cell_type": "code",
   "execution_count": 33,
   "id": "b59c58b4",
   "metadata": {},
   "outputs": [
    {
     "data": {
      "text/plain": [
       "name               재원\n",
       "age                27\n",
       "number    01071215819\n",
       "dtype: object"
      ]
     },
     "execution_count": 33,
     "metadata": {},
     "output_type": "execute_result"
    }
   ],
   "source": [
    "# dictionary data로 series 생성\n",
    "sr3 = pd.Series({'name':'재원', 'age':27, 'number':'01071215819'})\n",
    "sr3"
   ]
  },
  {
   "cell_type": "code",
   "execution_count": 34,
   "id": "68ad3edb",
   "metadata": {},
   "outputs": [
    {
     "data": {
      "text/plain": [
       "하나    a\n",
       "둘     b\n",
       "셋     c\n",
       "dtype: object"
      ]
     },
     "execution_count": 34,
     "metadata": {},
     "output_type": "execute_result"
    }
   ],
   "source": [
    "# series 객체 생성\n",
    "sr4 = pd.Series(['a', 'b', 'c'], index = ['하나', '둘', '셋'])\n",
    "sr4"
   ]
  },
  {
   "cell_type": "code",
   "execution_count": 35,
   "id": "c044154a",
   "metadata": {},
   "outputs": [
    {
     "data": {
      "text/plain": [
       "0    a\n",
       "1    b\n",
       "2    c\n",
       "dtype: object"
      ]
     },
     "execution_count": 35,
     "metadata": {},
     "output_type": "execute_result"
    }
   ],
   "source": [
    "sr5 = pd.Series(['a', 'b', 'c'])\n",
    "sr5"
   ]
  },
  {
   "cell_type": "code",
   "execution_count": 40,
   "id": "4e9f222d",
   "metadata": {},
   "outputs": [
    {
     "data": {
      "text/plain": [
       "하나    a\n",
       "둘     b\n",
       "셋     c\n",
       "dtype: object"
      ]
     },
     "execution_count": 40,
     "metadata": {},
     "output_type": "execute_result"
    }
   ],
   "source": [
    "# index를 새로운 값으로 설정 : 객체변수명.속성명 = 새로운값\n",
    "sr5.index = ['하나', '둘', '셋']\n",
    "sr5"
   ]
  },
  {
   "cell_type": "markdown",
   "id": "6ee29f19",
   "metadata": {},
   "source": [
    "# Series 객체의 요소 다루기\n",
    "- 방법\n",
    "    - 시리즈 객체[인덱스 번호]\n",
    "    - 시리즈 객체[인덱스 라벨]\n",
    "- 인덱싱, 슬라이싱도 사용할 수 있다."
   ]
  },
  {
   "cell_type": "code",
   "execution_count": 48,
   "id": "11b852a4",
   "metadata": {},
   "outputs": [
    {
     "data": {
      "text/plain": [
       "('a', 'a')"
      ]
     },
     "execution_count": 48,
     "metadata": {},
     "output_type": "execute_result"
    }
   ],
   "source": [
    "sr5[0], sr5['하나']    # 두 값이 같다."
   ]
  },
  {
   "cell_type": "code",
   "execution_count": 49,
   "id": "505acc8b",
   "metadata": {},
   "outputs": [
    {
     "data": {
      "text/plain": [
       "('01071215819', '01071215819')"
      ]
     },
     "execution_count": 49,
     "metadata": {},
     "output_type": "execute_result"
    }
   ],
   "source": [
    "sr3[2], sr3['number']    # 딕셔너리 타입도 역시 같은 방식임."
   ]
  },
  {
   "cell_type": "code",
   "execution_count": 68,
   "id": "246d233b",
   "metadata": {},
   "outputs": [
    {
     "data": {
      "text/plain": [
       "0    2022-06-30\n",
       "1        pandas\n",
       "2            86\n",
       "3         12.43\n",
       "4          True\n",
       "5       No Work\n",
       "dtype: object"
      ]
     },
     "execution_count": 68,
     "metadata": {},
     "output_type": "execute_result"
    }
   ],
   "source": [
    "sr6 = pd.Series(('2022-06-30', 'pandas', 86, 12.43, True, 'No Work'))\n",
    "sr6\n"
   ]
  },
  {
   "cell_type": "code",
   "execution_count": 69,
   "id": "f71c66bc",
   "metadata": {},
   "outputs": [
    {
     "data": {
      "text/plain": [
       "0    2022-06-30\n",
       "3         12.43\n",
       "5       No Work\n",
       "dtype: object"
      ]
     },
     "execution_count": 69,
     "metadata": {},
     "output_type": "execute_result"
    }
   ],
   "source": [
    "sr6[[0, 3, 5]]    # 요소 다루기에 인덱싱 활용"
   ]
  },
  {
   "cell_type": "code",
   "execution_count": 70,
   "id": "70fcd6b0",
   "metadata": {},
   "outputs": [
    {
     "data": {
      "text/plain": [
       "2       86\n",
       "3    12.43\n",
       "4     True\n",
       "dtype: object"
      ]
     },
     "execution_count": 70,
     "metadata": {},
     "output_type": "execute_result"
    }
   ],
   "source": [
    "sr6[2:5]    # 요소 다루기에 슬라이싱 활용"
   ]
  },
  {
   "cell_type": "code",
   "execution_count": 71,
   "id": "bfcaaa50",
   "metadata": {},
   "outputs": [
    {
     "data": {
      "text/plain": [
       "C        86\n",
       "B    pandas\n",
       "dtype: object"
      ]
     },
     "execution_count": 71,
     "metadata": {},
     "output_type": "execute_result"
    }
   ],
   "source": [
    "sr6.index = ['A', 'B', 'C', 'D', 'E', 'F']\n",
    "sr6[['C', 'B']]     # 요소 다루기에 인덱싱(라벨) 활용"
   ]
  },
  {
   "cell_type": "code",
   "execution_count": 73,
   "id": "71361c3b",
   "metadata": {},
   "outputs": [
    {
     "data": {
      "text/plain": [
       "A    2022-06-30\n",
       "B        pandas\n",
       "C            86\n",
       "D         12.43\n",
       "dtype: object"
      ]
     },
     "execution_count": 73,
     "metadata": {},
     "output_type": "execute_result"
    }
   ],
   "source": [
    "sr6['A':'D']    # 요소 다루기에 슬라이싱(라벨) 활용 * 라벨 슬라이싱 할때는 끝 요소가 포함됨, 왜? 숫자와 달리 다음을 예상할 수 없어서."
   ]
  },
  {
   "cell_type": "code",
   "execution_count": null,
   "id": "e7ed8f58",
   "metadata": {},
   "outputs": [],
   "source": []
  }
 ],
 "metadata": {
  "kernelspec": {
   "display_name": "Python 3 (ipykernel)",
   "language": "python",
   "name": "python3"
  },
  "language_info": {
   "codemirror_mode": {
    "name": "ipython",
    "version": 3
   },
   "file_extension": ".py",
   "mimetype": "text/x-python",
   "name": "python",
   "nbconvert_exporter": "python",
   "pygments_lexer": "ipython3",
   "version": "3.9.12"
  }
 },
 "nbformat": 4,
 "nbformat_minor": 5
}
