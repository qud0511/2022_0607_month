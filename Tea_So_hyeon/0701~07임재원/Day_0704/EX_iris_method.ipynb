{
 "cells": [
  {
   "cell_type": "markdown",
   "id": "fb8493b7",
   "metadata": {},
   "source": [
    "# 통계 관련 메서드 실습\n",
    "- 데이터에 대한 평균,표준편차, 중앙(간)값, 최빈값, 상관계수 관련 메서드 활용\n",
    "- 데이터와 데이터의 관계, 데이터의 분포 등을 파악"
   ]
  },
  {
   "cell_type": "code",
   "execution_count": 4,
   "id": "84810e2d",
   "metadata": {},
   "outputs": [],
   "source": [
    "# 모듈 로딩\n",
    "import pandas as pd\n",
    "\n",
    "# 파일 관련 변수 선언\n",
    "DIR_PATH = r'../Data/'\n",
    "FILE_NAME = DIR_PATH + 'iris.csv'"
   ]
  },
  {
   "cell_type": "code",
   "execution_count": 6,
   "id": "32220434",
   "metadata": {},
   "outputs": [
    {
     "name": "stdout",
     "output_type": "stream",
     "text": [
      "<class 'pandas.core.frame.DataFrame'>\n",
      "RangeIndex: 150 entries, 0 to 149\n",
      "Data columns (total 5 columns):\n",
      " #   Column       Non-Null Count  Dtype  \n",
      "---  ------       --------------  -----  \n",
      " 0   SepalLength  150 non-null    float64\n",
      " 1   SepalWidth   150 non-null    float64\n",
      " 2   PetalLength  150 non-null    float64\n",
      " 3   PetalWidth   150 non-null    float64\n",
      " 4   Name         150 non-null    object \n",
      "dtypes: float64(4), object(1)\n",
      "memory usage: 6.0+ KB\n"
     ]
    }
   ],
   "source": [
    "# cvs => dataframe으로 로딩\n",
    "irisDF = pd.read_csv(FILE_NAME)\n",
    "irisDF.info()"
   ]
  },
  {
   "cell_type": "code",
   "execution_count": 7,
   "id": "7fcc4cb0",
   "metadata": {},
   "outputs": [
    {
     "name": "stderr",
     "output_type": "stream",
     "text": [
      "C:\\Users\\kry11\\AppData\\Local\\Temp\\ipykernel_9708\\2441055979.py:2: FutureWarning: Dropping of nuisance columns in DataFrame reductions (with 'numeric_only=None') is deprecated; in a future version this will raise TypeError.  Select only valid columns before calling the reduction.\n",
      "  irisDF.mean()\n"
     ]
    },
    {
     "data": {
      "text/plain": [
       "SepalLength    5.843333\n",
       "SepalWidth     3.054000\n",
       "PetalLength    3.758667\n",
       "PetalWidth     1.198667\n",
       "dtype: float64"
      ]
     },
     "execution_count": 7,
     "metadata": {},
     "output_type": "execute_result"
    }
   ],
   "source": [
    "# DF객체에 대한 통계 관련 메서드 적용\n",
    "irisDF.mean()"
   ]
  },
  {
   "cell_type": "code",
   "execution_count": 8,
   "id": "9d608888",
   "metadata": {},
   "outputs": [
    {
     "name": "stderr",
     "output_type": "stream",
     "text": [
      "C:\\Users\\kry11\\AppData\\Local\\Temp\\ipykernel_9708\\3571167801.py:1: FutureWarning: Dropping of nuisance columns in DataFrame reductions (with 'numeric_only=None') is deprecated; in a future version this will raise TypeError.  Select only valid columns before calling the reduction.\n",
      "  irisDF.std()\n"
     ]
    },
    {
     "data": {
      "text/plain": [
       "SepalLength    0.828066\n",
       "SepalWidth     0.433594\n",
       "PetalLength    1.764420\n",
       "PetalWidth     0.763161\n",
       "dtype: float64"
      ]
     },
     "execution_count": 8,
     "metadata": {},
     "output_type": "execute_result"
    }
   ],
   "source": [
    "irisDF.std()"
   ]
  },
  {
   "cell_type": "code",
   "execution_count": 10,
   "id": "c6188308",
   "metadata": {},
   "outputs": [
    {
     "name": "stderr",
     "output_type": "stream",
     "text": [
      "C:\\Users\\kry11\\AppData\\Local\\Temp\\ipykernel_9708\\1330024277.py:1: FutureWarning: Dropping of nuisance columns in DataFrame reductions (with 'numeric_only=None') is deprecated; in a future version this will raise TypeError.  Select only valid columns before calling the reduction.\n",
      "  irisDF.median()\n"
     ]
    },
    {
     "data": {
      "text/plain": [
       "SepalLength    5.80\n",
       "SepalWidth     3.00\n",
       "PetalLength    4.35\n",
       "PetalWidth     1.30\n",
       "dtype: float64"
      ]
     },
     "execution_count": 10,
     "metadata": {},
     "output_type": "execute_result"
    }
   ],
   "source": [
    "irisDF.median()"
   ]
  },
  {
   "cell_type": "code",
   "execution_count": 11,
   "id": "7a13e213",
   "metadata": {},
   "outputs": [
    {
     "data": {
      "text/html": [
       "<div>\n",
       "<style scoped>\n",
       "    .dataframe tbody tr th:only-of-type {\n",
       "        vertical-align: middle;\n",
       "    }\n",
       "\n",
       "    .dataframe tbody tr th {\n",
       "        vertical-align: top;\n",
       "    }\n",
       "\n",
       "    .dataframe thead th {\n",
       "        text-align: right;\n",
       "    }\n",
       "</style>\n",
       "<table border=\"1\" class=\"dataframe\">\n",
       "  <thead>\n",
       "    <tr style=\"text-align: right;\">\n",
       "      <th></th>\n",
       "      <th>SepalLength</th>\n",
       "      <th>SepalWidth</th>\n",
       "      <th>PetalLength</th>\n",
       "      <th>PetalWidth</th>\n",
       "    </tr>\n",
       "  </thead>\n",
       "  <tbody>\n",
       "    <tr>\n",
       "      <th>SepalLength</th>\n",
       "      <td>1.000000</td>\n",
       "      <td>-0.109369</td>\n",
       "      <td>0.871754</td>\n",
       "      <td>0.817954</td>\n",
       "    </tr>\n",
       "    <tr>\n",
       "      <th>SepalWidth</th>\n",
       "      <td>-0.109369</td>\n",
       "      <td>1.000000</td>\n",
       "      <td>-0.420516</td>\n",
       "      <td>-0.356544</td>\n",
       "    </tr>\n",
       "    <tr>\n",
       "      <th>PetalLength</th>\n",
       "      <td>0.871754</td>\n",
       "      <td>-0.420516</td>\n",
       "      <td>1.000000</td>\n",
       "      <td>0.962757</td>\n",
       "    </tr>\n",
       "    <tr>\n",
       "      <th>PetalWidth</th>\n",
       "      <td>0.817954</td>\n",
       "      <td>-0.356544</td>\n",
       "      <td>0.962757</td>\n",
       "      <td>1.000000</td>\n",
       "    </tr>\n",
       "  </tbody>\n",
       "</table>\n",
       "</div>"
      ],
      "text/plain": [
       "             SepalLength  SepalWidth  PetalLength  PetalWidth\n",
       "SepalLength     1.000000   -0.109369     0.871754    0.817954\n",
       "SepalWidth     -0.109369    1.000000    -0.420516   -0.356544\n",
       "PetalLength     0.871754   -0.420516     1.000000    0.962757\n",
       "PetalWidth      0.817954   -0.356544     0.962757    1.000000"
      ]
     },
     "execution_count": 11,
     "metadata": {},
     "output_type": "execute_result"
    }
   ],
   "source": [
    "irisDF.corr()"
   ]
  },
  {
   "cell_type": "code",
   "execution_count": 38,
   "id": "cfc3a1d2",
   "metadata": {},
   "outputs": [
    {
     "data": {
      "text/html": [
       "<div>\n",
       "<style scoped>\n",
       "    .dataframe tbody tr th:only-of-type {\n",
       "        vertical-align: middle;\n",
       "    }\n",
       "\n",
       "    .dataframe tbody tr th {\n",
       "        vertical-align: top;\n",
       "    }\n",
       "\n",
       "    .dataframe thead th {\n",
       "        text-align: right;\n",
       "    }\n",
       "</style>\n",
       "<table border=\"1\" class=\"dataframe\">\n",
       "  <thead>\n",
       "    <tr style=\"text-align: right;\">\n",
       "      <th></th>\n",
       "      <th>SepalLength</th>\n",
       "      <th>SepalWidth</th>\n",
       "    </tr>\n",
       "  </thead>\n",
       "  <tbody>\n",
       "    <tr>\n",
       "      <th>mean</th>\n",
       "      <td>5.843333</td>\n",
       "      <td>3.054000</td>\n",
       "    </tr>\n",
       "    <tr>\n",
       "      <th>std</th>\n",
       "      <td>0.828066</td>\n",
       "      <td>0.433594</td>\n",
       "    </tr>\n",
       "    <tr>\n",
       "      <th>median</th>\n",
       "      <td>5.800000</td>\n",
       "      <td>3.000000</td>\n",
       "    </tr>\n",
       "    <tr>\n",
       "      <th>corr</th>\n",
       "      <td>-0.109369</td>\n",
       "      <td>-0.109369</td>\n",
       "    </tr>\n",
       "  </tbody>\n",
       "</table>\n",
       "</div>"
      ],
      "text/plain": [
       "        SepalLength  SepalWidth\n",
       "mean       5.843333    3.054000\n",
       "std        0.828066    0.433594\n",
       "median     5.800000    3.000000\n",
       "corr      -0.109369   -0.109369"
      ]
     },
     "execution_count": 38,
     "metadata": {},
     "output_type": "execute_result"
    }
   ],
   "source": [
    "# 컬럼별 평균, 표준편차, 상관계수 출력하기\n",
    "\n",
    "irisDF_data = pd.DataFrame({'SepalLength':[irisDF['SepalLength'].mean(),\n",
    "                                          irisDF['SepalLength'].std(),\n",
    "                                          irisDF['SepalLength'].median(),\n",
    "                                          irisDF['SepalLength'].corr(irisDF['SepalWidth'])],\n",
    "                           'SepalWidth':[irisDF['SepalWidth'].mean(),\n",
    "                                          irisDF['SepalWidth'].std(),\n",
    "                                          irisDF['SepalWidth'].median(),\n",
    "                                        irisDF['SepalWidth'].corr(irisDF['SepalLength'])]})\n",
    "irisDF_data.index = ['mean','std','median','corr']\n",
    "irisDF_data"
   ]
  },
  {
   "cell_type": "code",
   "execution_count": 56,
   "id": "8e7eaf3b",
   "metadata": {},
   "outputs": [
    {
     "name": "stdout",
     "output_type": "stream",
     "text": [
      "=========SepalLength=========\n",
      "평    균 : 5.84\n",
      "표준편차 : 0.83\n",
      "최 빈 값 : 5.0\n",
      "상관계수\n",
      "vs SepalWidth : -0.11\n",
      "vs PetalLength : 0.87\n",
      "vs PetalWidth : 0.82\n",
      "=========SepalWidth=========\n",
      "평    균 : 3.05\n",
      "표준편차 : 0.43\n",
      "최 빈 값 : 3.0\n",
      "상관계수\n",
      "vs SepalLength : -0.11\n",
      "vs PetalLength : -0.42\n",
      "vs PetalWidth : -0.36\n",
      "=========PetalLength=========\n",
      "평    균 : 3.76\n",
      "표준편차 : 1.76\n",
      "최 빈 값 : 1.5\n",
      "상관계수\n",
      "vs SepalLength : 0.87\n",
      "vs SepalWidth : -0.42\n",
      "vs PetalWidth : 0.96\n",
      "=========PetalWidth=========\n",
      "평    균 : 1.20\n",
      "표준편차 : 0.76\n",
      "최 빈 값 : 0.2\n",
      "상관계수\n",
      "vs SepalLength : 0.82\n",
      "vs SepalWidth : -0.36\n",
      "vs PetalLength : 0.96\n"
     ]
    }
   ],
   "source": [
    "for col in irisDF.columns[:4]:\n",
    "    print(f'========={col}=========')\n",
    "    print(f'평    균 : {irisDF[col].mean():0.2f}')\n",
    "    print(f'표준편차 : {irisDF[col].std():0.2f}')\n",
    "    print(f'최 빈 값 : {irisDF[col].mode()[0]}')\n",
    "    print(f'상관계수')\n",
    "    for icol in irisDF.columns[:4]:\n",
    "        if icol != col:\n",
    "            print(f'vs {icol} : {irisDF[col].corr(irisDF[icol]):0.2f}')\n",
    "        else:\n",
    "            pass"
   ]
  },
  {
   "cell_type": "code",
   "execution_count": null,
   "id": "265fc1dd",
   "metadata": {},
   "outputs": [],
   "source": []
  }
 ],
 "metadata": {
  "kernelspec": {
   "display_name": "Python 3 (ipykernel)",
   "language": "python",
   "name": "python3"
  },
  "language_info": {
   "codemirror_mode": {
    "name": "ipython",
    "version": 3
   },
   "file_extension": ".py",
   "mimetype": "text/x-python",
   "name": "python",
   "nbconvert_exporter": "python",
   "pygments_lexer": "ipython3",
   "version": "3.9.12"
  }
 },
 "nbformat": 4,
 "nbformat_minor": 5
}
