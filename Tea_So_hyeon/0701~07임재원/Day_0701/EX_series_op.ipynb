{
 "cells": [
  {
   "cell_type": "markdown",
   "id": "dba480e5",
   "metadata": {},
   "source": [
    "# Series 객체와 숫자 연산 수행\n",
    "- Series 객체의 모든 원소에 숫자 연산 적용 -> Broadcasting"
   ]
  },
  {
   "cell_type": "code",
   "execution_count": 2,
   "id": "84d60581",
   "metadata": {},
   "outputs": [
    {
     "data": {
      "text/plain": [
       "0    10\n",
       "1    20\n",
       "2    30\n",
       "3    40\n",
       "dtype: int64"
      ]
     },
     "execution_count": 2,
     "metadata": {},
     "output_type": "execute_result"
    }
   ],
   "source": [
    "# 모듈 로딩\n",
    "import pandas as pd\n",
    "\n",
    "# Series 객체 생성\n",
    "sr = pd.Series([10,20,30,40])\n",
    "\n",
    "# Series 객체 데이터 확인\n",
    "sr"
   ]
  },
  {
   "cell_type": "code",
   "execution_count": 8,
   "id": "78093670",
   "metadata": {},
   "outputs": [
    {
     "name": "stdout",
     "output_type": "stream",
     "text": [
      "[result]\n",
      "0    15\n",
      "1    25\n",
      "2    35\n",
      "3    45\n",
      "dtype: int64 result type -> <class 'pandas.core.series.Series'>\n"
     ]
    }
   ],
   "source": [
    "# 숫자 데이터와 연산 수행\n",
    "result = sr + 5\n",
    "print(f'[result]\\n{result}', f'result type -> {type(result)}')"
   ]
  },
  {
   "cell_type": "code",
   "execution_count": 19,
   "id": "09dea3cb",
   "metadata": {},
   "outputs": [],
   "source": [
    "# Series 객체 + Series 객체 연산 수행\n",
    "sr1 = pd.Series({'국어':78,'영어':90,'수학':76})\n",
    "sr2 = pd.Series({'수학':98,'국어':74,'영어':40})\n",
    "sr3 = pd.Series({'국어':74,'영어':88})"
   ]
  },
  {
   "cell_type": "code",
   "execution_count": 20,
   "id": "5490a551",
   "metadata": {},
   "outputs": [
    {
     "data": {
      "text/plain": [
       "국어    152\n",
       "수학    174\n",
       "영어    130\n",
       "dtype: int64"
      ]
     },
     "execution_count": 20,
     "metadata": {},
     "output_type": "execute_result"
    }
   ],
   "source": [
    "# 인덱스 정렬 후 동일 인덱스 끼리 연산 수행\n",
    "result = sr1 + sr2\n",
    "result"
   ]
  },
  {
   "cell_type": "code",
   "execution_count": 18,
   "id": "c9e53fc9",
   "metadata": {},
   "outputs": [
    {
     "data": {
      "text/plain": [
       "국어    152.0\n",
       "수학      NaN\n",
       "영어    178.0\n",
       "dtype: float64"
      ]
     },
     "execution_count": 18,
     "metadata": {},
     "output_type": "execute_result"
    }
   ],
   "source": [
    "# 동일 인덱스가 없는 경우 연산 수행 안함 -> NaN(아무것도 없는 빈칸 의미)\n",
    "result = sr1 + sr3\n",
    "result"
   ]
  },
  {
   "cell_type": "code",
   "execution_count": null,
   "id": "50481e17",
   "metadata": {},
   "outputs": [],
   "source": []
  }
 ],
 "metadata": {
  "kernelspec": {
   "display_name": "Python 3 (ipykernel)",
   "language": "python",
   "name": "python3"
  },
  "language_info": {
   "codemirror_mode": {
    "name": "ipython",
    "version": 3
   },
   "file_extension": ".py",
   "mimetype": "text/x-python",
   "name": "python",
   "nbconvert_exporter": "python",
   "pygments_lexer": "ipython3",
   "version": "3.9.12"
  }
 },
 "nbformat": 4,
 "nbformat_minor": 5
}
