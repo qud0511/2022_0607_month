{
 "cells": [
  {
   "cell_type": "markdown",
   "source": [
    "# [실습]\n",
    "\n",
    "iris2.csv 파일 읽고 컬럼별 최고값과 값의 개수 출력하기"
   ],
   "metadata": {
    "collapsed": false,
    "pycharm": {
     "name": "#%% md\n"
    }
   }
  },
  {
   "cell_type": "code",
   "execution_count": 1,
   "outputs": [],
   "source": [
    "import pandas as pd"
   ],
   "metadata": {
    "collapsed": false,
    "pycharm": {
     "name": "#%%\n"
    }
   }
  },
  {
   "cell_type": "code",
   "execution_count": 2,
   "outputs": [
    {
     "data": {
      "text/plain": "       0    1    2    3               4\n0    5.1  3.5  1.4  0.2     Iris-setosa\n1    4.9  3.0  1.4  0.2     Iris-setosa\n2    4.7  3.2  1.3  0.2     Iris-setosa\n3    4.6  3.1  1.5  0.2     Iris-setosa\n4    5.0  3.6  1.4  0.2     Iris-setosa\n..   ...  ...  ...  ...             ...\n145  6.7  3.0  5.2  2.3  Iris-virginica\n146  6.3  2.5  5.0  1.9  Iris-virginica\n147  6.5  3.0  5.2  2.0  Iris-virginica\n148  6.2  3.4  5.4  2.3  Iris-virginica\n149  5.9  3.0  5.1  1.8  Iris-virginica\n\n[150 rows x 5 columns]",
      "text/html": "<div>\n<style scoped>\n    .dataframe tbody tr th:only-of-type {\n        vertical-align: middle;\n    }\n\n    .dataframe tbody tr th {\n        vertical-align: top;\n    }\n\n    .dataframe thead th {\n        text-align: right;\n    }\n</style>\n<table border=\"1\" class=\"dataframe\">\n  <thead>\n    <tr style=\"text-align: right;\">\n      <th></th>\n      <th>0</th>\n      <th>1</th>\n      <th>2</th>\n      <th>3</th>\n      <th>4</th>\n    </tr>\n  </thead>\n  <tbody>\n    <tr>\n      <th>0</th>\n      <td>5.1</td>\n      <td>3.5</td>\n      <td>1.4</td>\n      <td>0.2</td>\n      <td>Iris-setosa</td>\n    </tr>\n    <tr>\n      <th>1</th>\n      <td>4.9</td>\n      <td>3.0</td>\n      <td>1.4</td>\n      <td>0.2</td>\n      <td>Iris-setosa</td>\n    </tr>\n    <tr>\n      <th>2</th>\n      <td>4.7</td>\n      <td>3.2</td>\n      <td>1.3</td>\n      <td>0.2</td>\n      <td>Iris-setosa</td>\n    </tr>\n    <tr>\n      <th>3</th>\n      <td>4.6</td>\n      <td>3.1</td>\n      <td>1.5</td>\n      <td>0.2</td>\n      <td>Iris-setosa</td>\n    </tr>\n    <tr>\n      <th>4</th>\n      <td>5.0</td>\n      <td>3.6</td>\n      <td>1.4</td>\n      <td>0.2</td>\n      <td>Iris-setosa</td>\n    </tr>\n    <tr>\n      <th>...</th>\n      <td>...</td>\n      <td>...</td>\n      <td>...</td>\n      <td>...</td>\n      <td>...</td>\n    </tr>\n    <tr>\n      <th>145</th>\n      <td>6.7</td>\n      <td>3.0</td>\n      <td>5.2</td>\n      <td>2.3</td>\n      <td>Iris-virginica</td>\n    </tr>\n    <tr>\n      <th>146</th>\n      <td>6.3</td>\n      <td>2.5</td>\n      <td>5.0</td>\n      <td>1.9</td>\n      <td>Iris-virginica</td>\n    </tr>\n    <tr>\n      <th>147</th>\n      <td>6.5</td>\n      <td>3.0</td>\n      <td>5.2</td>\n      <td>2.0</td>\n      <td>Iris-virginica</td>\n    </tr>\n    <tr>\n      <th>148</th>\n      <td>6.2</td>\n      <td>3.4</td>\n      <td>5.4</td>\n      <td>2.3</td>\n      <td>Iris-virginica</td>\n    </tr>\n    <tr>\n      <th>149</th>\n      <td>5.9</td>\n      <td>3.0</td>\n      <td>5.1</td>\n      <td>1.8</td>\n      <td>Iris-virginica</td>\n    </tr>\n  </tbody>\n</table>\n<p>150 rows × 5 columns</p>\n</div>"
     },
     "execution_count": 2,
     "metadata": {},
     "output_type": "execute_result"
    }
   ],
   "source": [
    "# irisdf2 = pd.read_csv('../data/iris2.csv',\n",
    "#                       header=None,\n",
    "#                       sep=',',\n",
    "#                       columns=[])\n",
    "irisdf2 = pd.read_csv('../data/iris2.csv', header=None)\n",
    "print(irisdf2)"
   ],
   "metadata": {
    "collapsed": false,
    "pycharm": {
     "name": "#%%\n"
    }
   }
  },
  {
   "cell_type": "code",
   "execution_count": 55,
   "outputs": [
    {
     "name": "stdout",
     "output_type": "stream",
     "text": [
      "<class 'pandas.core.frame.DataFrame'>\n",
      "RangeIndex: 150 entries, 0 to 149\n",
      "Data columns (total 5 columns):\n",
      " #   Column  Non-Null Count  Dtype  \n",
      "---  ------  --------------  -----  \n",
      " 0   0       150 non-null    float64\n",
      " 1   1       150 non-null    float64\n",
      " 2   2       150 non-null    float64\n",
      " 3   3       150 non-null    float64\n",
      " 4   4       150 non-null    object \n",
      "dtypes: float64(4), object(1)\n",
      "memory usage: 6.0+ KB\n",
      "None\n"
     ]
    }
   ],
   "source": [
    "print(irisdf2.info())"
   ],
   "metadata": {
    "collapsed": false,
    "pycharm": {
     "name": "#%%\n"
    }
   }
  },
  {
   "cell_type": "markdown",
   "source": [
    "---\n",
    "## 1. 컬럼별 최고값 구하기"
   ],
   "metadata": {
    "collapsed": false,
    "pycharm": {
     "name": "#%% md\n"
    }
   }
  },
  {
   "cell_type": "code",
   "execution_count": 68,
   "outputs": [
    {
     "name": "stdout",
     "output_type": "stream",
     "text": [
      "index 131, max value 7.9\n"
     ]
    }
   ],
   "source": [
    "# column0 max value\n",
    "m = irisdf2[0].max()\n",
    "i = irisdf2[0][irisdf2[0]==m].index[0]\n",
    "print(f'index {i}, max value {m}')"
   ],
   "metadata": {
    "collapsed": false,
    "pycharm": {
     "name": "#%%\n"
    }
   }
  },
  {
   "cell_type": "code",
   "execution_count": 45,
   "outputs": [
    {
     "name": "stdout",
     "output_type": "stream",
     "text": [
      "7.9\n",
      "4.4\n",
      "6.9\n",
      "2.5\n",
      "Iris-virginica\n"
     ]
    }
   ],
   "source": [
    "# 0, 1, 2, 3, 4 columns max value\n",
    "for col in irisdf2.columns:\n",
    "    print(irisdf2[col].max())"
   ],
   "metadata": {
    "collapsed": false,
    "pycharm": {
     "name": "#%%\n"
    }
   }
  },
  {
   "cell_type": "code",
   "execution_count": 58,
   "outputs": [
    {
     "name": "stdout",
     "output_type": "stream",
     "text": [
      "                 0           1           2           3            4\n",
      "count   150.000000  150.000000  150.000000  150.000000          150\n",
      "unique         NaN         NaN         NaN         NaN            3\n",
      "top            NaN         NaN         NaN         NaN  Iris-setosa\n",
      "freq           NaN         NaN         NaN         NaN           50\n",
      "mean      5.843333    3.054000    3.758667    1.198667          NaN\n",
      "std       0.828066    0.433594    1.764420    0.763161          NaN\n",
      "min       4.300000    2.000000    1.000000    0.100000          NaN\n",
      "25%       5.100000    2.800000    1.600000    0.300000          NaN\n",
      "50%       5.800000    3.000000    4.350000    1.300000          NaN\n",
      "75%       6.400000    3.300000    5.100000    1.800000          NaN\n",
      "max       7.900000    4.400000    6.900000    2.500000          NaN\n"
     ]
    }
   ],
   "source": [
    "# 모든 컬럼 최대값 한번에 구하기\n",
    "print(irisdf2.describe(include='all'))"
   ],
   "metadata": {
    "collapsed": false,
    "pycharm": {
     "name": "#%%\n"
    }
   }
  },
  {
   "cell_type": "code",
   "execution_count": 65,
   "outputs": [
    {
     "name": "stdout",
     "output_type": "stream",
     "text": [
      "<class 'pandas.core.series.Series'>\n",
      "0    7.9\n",
      "1    4.4\n",
      "2    6.9\n",
      "3    2.5\n",
      "Name: max, dtype: float64\n"
     ]
    }
   ],
   "source": [
    "# column 0~4 max value\n",
    "print(type(irisdf2.describe().loc['max']))\n",
    "print(irisdf2.describe().loc['max'])"
   ],
   "metadata": {
    "collapsed": false,
    "pycharm": {
     "name": "#%%\n"
    }
   }
  },
  {
   "cell_type": "code",
   "execution_count": 63,
   "outputs": [
    {
     "name": "stdout",
     "output_type": "stream",
     "text": [
      "<class 'str'>\n",
      "Iris-virginica\n"
     ]
    }
   ],
   "source": [
    "# column 4 max value\n",
    "print(type(irisdf2[4].max()))\n",
    "print(irisdf2[4].max())"
   ],
   "metadata": {
    "collapsed": false,
    "pycharm": {
     "name": "#%%\n"
    }
   }
  },
  {
   "cell_type": "markdown",
   "source": [
    "---\n",
    "# 컬럼 값의 개수 출력하기"
   ],
   "metadata": {
    "collapsed": false,
    "pycharm": {
     "name": "#%% md\n"
    }
   }
  },
  {
   "cell_type": "code",
   "execution_count": 77,
   "outputs": [
    {
     "name": "stdout",
     "output_type": "stream",
     "text": [
      "column0 max value 7.9\n",
      "column1 max value 4.4\n",
      "column2 max value 6.9\n",
      "column3 max value 2.5\n",
      "column4 max value Iris-virginica\n"
     ]
    }
   ],
   "source": [
    "for col in irisdf2.columns:\n",
    "    print('column'+str(col)+' max value', irisdf2[col].max())"
   ],
   "metadata": {
    "collapsed": false,
    "pycharm": {
     "name": "#%%\n"
    }
   }
  },
  {
   "cell_type": "code",
   "execution_count": 72,
   "outputs": [
    {
     "name": "stdout",
     "output_type": "stream",
     "text": [
      "<class 'pandas.core.series.Series'>\n",
      "0    150.0\n",
      "1    150.0\n",
      "2    150.0\n",
      "3    150.0\n",
      "4      150\n",
      "Name: count, dtype: object\n"
     ]
    }
   ],
   "source": [
    "# 컬럼 값의 개수 한번에 구하기\n",
    "print(type(irisdf2.describe(include='all').loc['count']))\n",
    "print(irisdf2.describe(include='all').loc['count'])"
   ],
   "metadata": {
    "collapsed": false,
    "pycharm": {
     "name": "#%%\n"
    }
   }
  },
  {
   "cell_type": "code",
   "execution_count": 109,
   "outputs": [
    {
     "name": "stdout",
     "output_type": "stream",
     "text": [
      "5.0    10\n",
      "5.1     9\n",
      "6.3     9\n",
      "5.7     8\n",
      "6.7     8\n",
      "5.8     7\n",
      "5.5     7\n",
      "6.4     7\n",
      "4.9     6\n",
      "5.4     6\n",
      "6.1     6\n",
      "6.0     6\n",
      "5.6     6\n",
      "4.8     5\n",
      "6.5     5\n",
      "6.2     4\n",
      "7.7     4\n",
      "6.9     4\n",
      "4.6     4\n",
      "5.2     4\n",
      "5.9     3\n",
      "4.4     3\n",
      "7.2     3\n",
      "6.8     3\n",
      "6.6     2\n",
      "4.7     2\n",
      "7.6     1\n",
      "7.4     1\n",
      "7.3     1\n",
      "7.0     1\n",
      "7.1     1\n",
      "5.3     1\n",
      "4.3     1\n",
      "4.5     1\n",
      "7.9     1\n",
      "Name: 0, dtype: int64\n",
      "3.0    26\n",
      "2.8    14\n",
      "3.2    13\n",
      "3.1    12\n",
      "3.4    12\n",
      "2.9    10\n",
      "2.7     9\n",
      "2.5     8\n",
      "3.5     6\n",
      "3.3     6\n",
      "3.8     6\n",
      "2.6     5\n",
      "2.3     4\n",
      "3.7     3\n",
      "2.4     3\n",
      "2.2     3\n",
      "3.6     3\n",
      "3.9     2\n",
      "4.4     1\n",
      "4.0     1\n",
      "4.1     1\n",
      "4.2     1\n",
      "2.0     1\n",
      "Name: 1, dtype: int64\n",
      "1.5    14\n",
      "1.4    12\n",
      "5.1     8\n",
      "4.5     8\n",
      "1.6     7\n",
      "1.3     7\n",
      "5.6     6\n",
      "4.7     5\n",
      "4.9     5\n",
      "4.0     5\n",
      "4.2     4\n",
      "5.0     4\n",
      "4.4     4\n",
      "4.8     4\n",
      "1.7     4\n",
      "3.9     3\n",
      "4.6     3\n",
      "5.7     3\n",
      "4.1     3\n",
      "5.5     3\n",
      "6.1     3\n",
      "5.8     3\n",
      "3.3     2\n",
      "5.4     2\n",
      "6.7     2\n",
      "5.3     2\n",
      "5.9     2\n",
      "6.0     2\n",
      "1.2     2\n",
      "4.3     2\n",
      "1.9     2\n",
      "3.5     2\n",
      "5.2     2\n",
      "3.0     1\n",
      "1.1     1\n",
      "3.7     1\n",
      "3.8     1\n",
      "6.6     1\n",
      "6.3     1\n",
      "1.0     1\n",
      "6.9     1\n",
      "3.6     1\n",
      "6.4     1\n",
      "Name: 2, dtype: int64\n",
      "0.2    28\n",
      "1.3    13\n",
      "1.8    12\n",
      "1.5    12\n",
      "1.4     8\n",
      "2.3     8\n",
      "1.0     7\n",
      "0.4     7\n",
      "0.3     7\n",
      "0.1     6\n",
      "2.1     6\n",
      "2.0     6\n",
      "1.2     5\n",
      "1.9     5\n",
      "1.6     4\n",
      "2.5     3\n",
      "2.2     3\n",
      "2.4     3\n",
      "1.1     3\n",
      "1.7     2\n",
      "0.6     1\n",
      "0.5     1\n",
      "Name: 3, dtype: int64\n",
      "Iris-setosa        50\n",
      "Iris-versicolor    50\n",
      "Iris-virginica     50\n",
      "Name: 4, dtype: int64\n"
     ]
    }
   ],
   "source": [
    "# 개별 컬럼 안의 각각의 데이터 개수\n",
    "print(irisdf2[0].value_counts())\n",
    "print(irisdf2[1].value_counts())\n",
    "print(irisdf2[2].value_counts())\n",
    "print(irisdf2[3].value_counts())\n",
    "print(irisdf2[4].value_counts())"
   ],
   "metadata": {
    "collapsed": false,
    "pycharm": {
     "name": "#%%\n"
    }
   }
  }
 ],
 "metadata": {
  "kernelspec": {
   "display_name": "Python 3",
   "language": "python",
   "name": "python3"
  },
  "language_info": {
   "codemirror_mode": {
    "name": "ipython",
    "version": 2
   },
   "file_extension": ".py",
   "mimetype": "text/x-python",
   "name": "python",
   "nbconvert_exporter": "python",
   "pygments_lexer": "ipython2",
   "version": "2.7.6"
  }
 },
 "nbformat": 4,
 "nbformat_minor": 0
}