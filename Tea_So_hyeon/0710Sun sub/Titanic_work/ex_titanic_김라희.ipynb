{
 "cells": [
  {
   "cell_type": "markdown",
   "source": [
    "# 타이타닉 생존률 분석\n",
    "\n",
    "- 연령대 기준 생존률\n",
    "- plcass 기준 생존률\n",
    "- 성별 기준 생존률"
   ],
   "metadata": {
    "collapsed": false,
    "pycharm": {
     "name": "#%% md\n"
    }
   }
  },
  {
   "cell_type": "code",
   "execution_count": 38,
   "outputs": [],
   "source": [
    "import seaborn  # load titanic data\n",
    "import pandas  # data operation\n",
    "\n",
    "titanic = seaborn.load_dataset('titanic')"
   ],
   "metadata": {
    "collapsed": false,
    "pycharm": {
     "name": "#%%\n"
    }
   }
  },
  {
   "cell_type": "code",
   "execution_count": 39,
   "outputs": [
    {
     "name": "stdout",
     "output_type": "stream",
     "text": [
      "<class 'pandas.core.frame.DataFrame'>\n",
      "RangeIndex: 891 entries, 0 to 890\n",
      "Data columns (total 15 columns):\n",
      " #   Column       Non-Null Count  Dtype   \n",
      "---  ------       --------------  -----   \n",
      " 0   survived     891 non-null    int64   \n",
      " 1   pclass       891 non-null    int64   \n",
      " 2   sex          891 non-null    object  \n",
      " 3   age          714 non-null    float64 \n",
      " 4   sibsp        891 non-null    int64   \n",
      " 5   parch        891 non-null    int64   \n",
      " 6   fare         891 non-null    float64 \n",
      " 7   embarked     889 non-null    object  \n",
      " 8   class        891 non-null    category\n",
      " 9   who          891 non-null    object  \n",
      " 10  adult_male   891 non-null    bool    \n",
      " 11  deck         203 non-null    category\n",
      " 12  embark_town  889 non-null    object  \n",
      " 13  alive        891 non-null    object  \n",
      " 14  alone        891 non-null    bool    \n",
      "dtypes: bool(2), category(2), float64(2), int64(4), object(5)\n",
      "memory usage: 80.7+ KB\n"
     ]
    }
   ],
   "source": [
    "titanic.info()"
   ],
   "metadata": {
    "collapsed": false,
    "pycharm": {
     "name": "#%%\n"
    }
   }
  },
  {
   "cell_type": "markdown",
   "source": [
    "---\n",
    "## 상관계수 구하기"
   ],
   "metadata": {
    "collapsed": false,
    "pycharm": {
     "name": "#%% md\n"
    }
   }
  },
  {
   "cell_type": "code",
   "execution_count": 40,
   "outputs": [
    {
     "data": {
      "text/plain": "                    0  survived  pclass   age  sibsp  parch  fare adult_male  \\\nsurvived     0.383838       NaN     NaN   NaN    NaN    NaN   NaN        NaN   \npclass       2.308642       NaN     NaN   NaN    NaN    NaN   NaN        NaN   \nage         29.699118       NaN     NaN   NaN    NaN    NaN   NaN        NaN   \nsibsp        0.523008       NaN     NaN   NaN    NaN    NaN   NaN        NaN   \nparch        0.381594       NaN     NaN   NaN    NaN    NaN   NaN        NaN   \nfare        32.204208       NaN     NaN   NaN    NaN    NaN   NaN        NaN   \nadult_male   0.602694       NaN     NaN   NaN    NaN    NaN   NaN        NaN   \nalone        0.602694       NaN     NaN   NaN    NaN    NaN   NaN        NaN   \n0                 NaN       0.0     3.0  24.0    0.0    0.0  8.05       True   \n\n           alone          1  \nsurvived     NaN   0.383838  \npclass       NaN   2.308642  \nage          NaN  29.699118  \nsibsp        NaN   0.523008  \nparch        NaN   0.381594  \nfare         NaN  32.204208  \nadult_male   NaN   0.602694  \nalone        NaN   0.602694  \n0           True        NaN  ",
      "text/html": "<div>\n<style scoped>\n    .dataframe tbody tr th:only-of-type {\n        vertical-align: middle;\n    }\n\n    .dataframe tbody tr th {\n        vertical-align: top;\n    }\n\n    .dataframe thead th {\n        text-align: right;\n    }\n</style>\n<table border=\"1\" class=\"dataframe\">\n  <thead>\n    <tr style=\"text-align: right;\">\n      <th></th>\n      <th>0</th>\n      <th>survived</th>\n      <th>pclass</th>\n      <th>age</th>\n      <th>sibsp</th>\n      <th>parch</th>\n      <th>fare</th>\n      <th>adult_male</th>\n      <th>alone</th>\n      <th>1</th>\n    </tr>\n  </thead>\n  <tbody>\n    <tr>\n      <th>survived</th>\n      <td>0.383838</td>\n      <td>NaN</td>\n      <td>NaN</td>\n      <td>NaN</td>\n      <td>NaN</td>\n      <td>NaN</td>\n      <td>NaN</td>\n      <td>NaN</td>\n      <td>NaN</td>\n      <td>0.383838</td>\n    </tr>\n    <tr>\n      <th>pclass</th>\n      <td>2.308642</td>\n      <td>NaN</td>\n      <td>NaN</td>\n      <td>NaN</td>\n      <td>NaN</td>\n      <td>NaN</td>\n      <td>NaN</td>\n      <td>NaN</td>\n      <td>NaN</td>\n      <td>2.308642</td>\n    </tr>\n    <tr>\n      <th>age</th>\n      <td>29.699118</td>\n      <td>NaN</td>\n      <td>NaN</td>\n      <td>NaN</td>\n      <td>NaN</td>\n      <td>NaN</td>\n      <td>NaN</td>\n      <td>NaN</td>\n      <td>NaN</td>\n      <td>29.699118</td>\n    </tr>\n    <tr>\n      <th>sibsp</th>\n      <td>0.523008</td>\n      <td>NaN</td>\n      <td>NaN</td>\n      <td>NaN</td>\n      <td>NaN</td>\n      <td>NaN</td>\n      <td>NaN</td>\n      <td>NaN</td>\n      <td>NaN</td>\n      <td>0.523008</td>\n    </tr>\n    <tr>\n      <th>parch</th>\n      <td>0.381594</td>\n      <td>NaN</td>\n      <td>NaN</td>\n      <td>NaN</td>\n      <td>NaN</td>\n      <td>NaN</td>\n      <td>NaN</td>\n      <td>NaN</td>\n      <td>NaN</td>\n      <td>0.381594</td>\n    </tr>\n    <tr>\n      <th>fare</th>\n      <td>32.204208</td>\n      <td>NaN</td>\n      <td>NaN</td>\n      <td>NaN</td>\n      <td>NaN</td>\n      <td>NaN</td>\n      <td>NaN</td>\n      <td>NaN</td>\n      <td>NaN</td>\n      <td>32.204208</td>\n    </tr>\n    <tr>\n      <th>adult_male</th>\n      <td>0.602694</td>\n      <td>NaN</td>\n      <td>NaN</td>\n      <td>NaN</td>\n      <td>NaN</td>\n      <td>NaN</td>\n      <td>NaN</td>\n      <td>NaN</td>\n      <td>NaN</td>\n      <td>0.602694</td>\n    </tr>\n    <tr>\n      <th>alone</th>\n      <td>0.602694</td>\n      <td>NaN</td>\n      <td>NaN</td>\n      <td>NaN</td>\n      <td>NaN</td>\n      <td>NaN</td>\n      <td>NaN</td>\n      <td>NaN</td>\n      <td>NaN</td>\n      <td>0.602694</td>\n    </tr>\n    <tr>\n      <th>0</th>\n      <td>NaN</td>\n      <td>0.0</td>\n      <td>3.0</td>\n      <td>24.0</td>\n      <td>0.0</td>\n      <td>0.0</td>\n      <td>8.05</td>\n      <td>True</td>\n      <td>True</td>\n      <td>NaN</td>\n    </tr>\n  </tbody>\n</table>\n</div>"
     },
     "execution_count": 40,
     "metadata": {},
     "output_type": "execute_result"
    }
   ],
   "source": [
    "# 평균값, 최빈값, 중앙값 구하기\n",
    "avg = titanic.mean(numeric_only=True)\n",
    "mode = titanic.mode(numeric_only=True)\n",
    "median = titanic.median(numeric_only=True)\n",
    "\n",
    "value_status = pandas.concat([avg, mode, avg], axis=1)\n",
    "value_status"
   ],
   "metadata": {
    "collapsed": false,
    "pycharm": {
     "name": "#%%\n"
    }
   }
  },
  {
   "cell_type": "code",
   "execution_count": 41,
   "outputs": [
    {
     "data": {
      "text/plain": "survived       0.486592\npclass         0.836071\nage           14.526497\nsibsp          1.102743\nparch          0.806057\nfare          49.693429\nadult_male     0.489615\nalone          0.489615\ndtype: float64"
     },
     "execution_count": 41,
     "metadata": {},
     "output_type": "execute_result"
    }
   ],
   "source": [
    "# titanic numeric data 컬럼들 표준편차\n",
    "titanic.std(numeric_only=True)"
   ],
   "metadata": {
    "collapsed": false,
    "pycharm": {
     "name": "#%%\n"
    }
   }
  },
  {
   "cell_type": "code",
   "execution_count": 42,
   "outputs": [
    {
     "data": {
      "text/plain": "            survived  pclass  age  sibsp  parch  fare  adult_male  alone\nsurvived         NaN     NaN  NaN    NaN    NaN   NaN         NaN    NaN\npclass           NaN     NaN  NaN    NaN    NaN   NaN         NaN    NaN\nage              NaN     NaN  NaN    NaN    NaN   NaN         NaN    NaN\nsibsp            NaN     NaN  NaN    NaN    NaN   NaN         NaN    NaN\nparch            NaN     NaN  NaN    NaN    NaN   NaN         NaN    NaN\nfare             NaN     NaN  NaN    NaN    NaN   NaN         NaN    NaN\nadult_male       NaN     NaN  NaN    NaN    NaN   NaN         NaN    NaN\nalone            NaN     NaN  NaN    NaN    NaN   NaN         NaN    NaN",
      "text/html": "<div>\n<style scoped>\n    .dataframe tbody tr th:only-of-type {\n        vertical-align: middle;\n    }\n\n    .dataframe tbody tr th {\n        vertical-align: top;\n    }\n\n    .dataframe thead th {\n        text-align: right;\n    }\n</style>\n<table border=\"1\" class=\"dataframe\">\n  <thead>\n    <tr style=\"text-align: right;\">\n      <th></th>\n      <th>survived</th>\n      <th>pclass</th>\n      <th>age</th>\n      <th>sibsp</th>\n      <th>parch</th>\n      <th>fare</th>\n      <th>adult_male</th>\n      <th>alone</th>\n    </tr>\n  </thead>\n  <tbody>\n    <tr>\n      <th>survived</th>\n      <td>NaN</td>\n      <td>NaN</td>\n      <td>NaN</td>\n      <td>NaN</td>\n      <td>NaN</td>\n      <td>NaN</td>\n      <td>NaN</td>\n      <td>NaN</td>\n    </tr>\n    <tr>\n      <th>pclass</th>\n      <td>NaN</td>\n      <td>NaN</td>\n      <td>NaN</td>\n      <td>NaN</td>\n      <td>NaN</td>\n      <td>NaN</td>\n      <td>NaN</td>\n      <td>NaN</td>\n    </tr>\n    <tr>\n      <th>age</th>\n      <td>NaN</td>\n      <td>NaN</td>\n      <td>NaN</td>\n      <td>NaN</td>\n      <td>NaN</td>\n      <td>NaN</td>\n      <td>NaN</td>\n      <td>NaN</td>\n    </tr>\n    <tr>\n      <th>sibsp</th>\n      <td>NaN</td>\n      <td>NaN</td>\n      <td>NaN</td>\n      <td>NaN</td>\n      <td>NaN</td>\n      <td>NaN</td>\n      <td>NaN</td>\n      <td>NaN</td>\n    </tr>\n    <tr>\n      <th>parch</th>\n      <td>NaN</td>\n      <td>NaN</td>\n      <td>NaN</td>\n      <td>NaN</td>\n      <td>NaN</td>\n      <td>NaN</td>\n      <td>NaN</td>\n      <td>NaN</td>\n    </tr>\n    <tr>\n      <th>fare</th>\n      <td>NaN</td>\n      <td>NaN</td>\n      <td>NaN</td>\n      <td>NaN</td>\n      <td>NaN</td>\n      <td>NaN</td>\n      <td>NaN</td>\n      <td>NaN</td>\n    </tr>\n    <tr>\n      <th>adult_male</th>\n      <td>NaN</td>\n      <td>NaN</td>\n      <td>NaN</td>\n      <td>NaN</td>\n      <td>NaN</td>\n      <td>NaN</td>\n      <td>NaN</td>\n      <td>NaN</td>\n    </tr>\n    <tr>\n      <th>alone</th>\n      <td>NaN</td>\n      <td>NaN</td>\n      <td>NaN</td>\n      <td>NaN</td>\n      <td>NaN</td>\n      <td>NaN</td>\n      <td>NaN</td>\n      <td>NaN</td>\n    </tr>\n  </tbody>\n</table>\n</div>"
     },
     "execution_count": 42,
     "metadata": {},
     "output_type": "execute_result"
    }
   ],
   "source": [
    "# 표준편차값 구한뒤 상관계수 찾아보기\n",
    "std_data = titanic.std(numeric_only=True)\n",
    "std_data2 = pandas.DataFrame([list(std_data)],\n",
    "                             columns=std_data.index)\n",
    "std_data2.corr()"
   ],
   "metadata": {
    "collapsed": false,
    "pycharm": {
     "name": "#%%\n"
    }
   }
  },
  {
   "cell_type": "code",
   "execution_count": 43,
   "outputs": [],
   "source": [
    "# titanic.apply(lambda x: x / abs(x.max()))"
   ],
   "metadata": {
    "collapsed": false,
    "pycharm": {
     "name": "#%%\n"
    }
   }
  },
  {
   "cell_type": "markdown",
   "source": [
    "---\n",
    "## 전체 탑승객 생존률"
   ],
   "metadata": {
    "collapsed": false,
    "pycharm": {
     "name": "#%% md\n"
    }
   }
  },
  {
   "cell_type": "code",
   "execution_count": 44,
   "outputs": [],
   "source": [
    "# 전체 탑승객 수\n",
    "passengers = titanic.shape[0]  # 891\n",
    "\n",
    "# 생존자 수\n",
    "srv = titanic['survived'].sum()  # 342\n",
    "\n",
    "# 생존률\n",
    "srv_rate = round(srv / passengers * 100, 1)  # 38.4%"
   ],
   "metadata": {
    "collapsed": false,
    "pycharm": {
     "name": "#%%\n"
    }
   }
  },
  {
   "cell_type": "markdown",
   "source": [
    "---\n",
    "## 연령대, pclass, 성별 기준 생존률"
   ],
   "metadata": {
    "collapsed": false,
    "pycharm": {
     "name": "#%% md\n"
    }
   }
  },
  {
   "cell_type": "code",
   "execution_count": 45,
   "outputs": [
    {
     "data": {
      "text/plain": "    age generation\n0  22.0       20's\n1  38.0       30's\n2  26.0       20's\n3  35.0       30's\n4  35.0       30's",
      "text/html": "<div>\n<style scoped>\n    .dataframe tbody tr th:only-of-type {\n        vertical-align: middle;\n    }\n\n    .dataframe tbody tr th {\n        vertical-align: top;\n    }\n\n    .dataframe thead th {\n        text-align: right;\n    }\n</style>\n<table border=\"1\" class=\"dataframe\">\n  <thead>\n    <tr style=\"text-align: right;\">\n      <th></th>\n      <th>age</th>\n      <th>generation</th>\n    </tr>\n  </thead>\n  <tbody>\n    <tr>\n      <th>0</th>\n      <td>22.0</td>\n      <td>20's</td>\n    </tr>\n    <tr>\n      <th>1</th>\n      <td>38.0</td>\n      <td>30's</td>\n    </tr>\n    <tr>\n      <th>2</th>\n      <td>26.0</td>\n      <td>20's</td>\n    </tr>\n    <tr>\n      <th>3</th>\n      <td>35.0</td>\n      <td>30's</td>\n    </tr>\n    <tr>\n      <th>4</th>\n      <td>35.0</td>\n      <td>30's</td>\n    </tr>\n  </tbody>\n</table>\n</div>"
     },
     "execution_count": 45,
     "metadata": {},
     "output_type": "execute_result"
    }
   ],
   "source": [
    "# 기존 데이터 유지를 위해 titanic2 따로 생성\n",
    "titanic2 = titanic.copy()\n",
    "\n",
    "# 10~70대까지 연령대 생성\n",
    "generation = pandas.cut(titanic['age'],\n",
    "                        bins=8,\n",
    "                        labels=[ \"0's\", \"10's\", \"20's\", \"30's\",\n",
    "                                \"40's\", \"50's\", \"60's\", \"70's\"])\n",
    "\n",
    "# titanic2 age컬럼 뒤에 generation컬럼 추가\n",
    "titanic2.insert(4, 'generation', generation)\n",
    "titanic2.filter(items=['age', 'generation']).head()"
   ],
   "metadata": {
    "collapsed": false,
    "pycharm": {
     "name": "#%%\n"
    }
   }
  },
  {
   "cell_type": "code",
   "execution_count": 46,
   "outputs": [],
   "source": [
    "# 3개의 컬럼별 생존률 데이터를 dict 자료형으로 생성\n",
    "srv_data = {}\n",
    "for column in titanic2[['generation', 'pclass', 'sex']]:\n",
    "    cnt = titanic2.groupby(column)['survived'].count()\n",
    "    r = cnt.agg(lambda x: round(x / passengers * 100, 1))\n",
    "    srv_data[column] = r"
   ],
   "metadata": {
    "collapsed": false,
    "pycharm": {
     "name": "#%%\n"
    }
   }
  },
  {
   "cell_type": "code",
   "execution_count": 47,
   "outputs": [
    {
     "data": {
      "text/plain": "category    group \ngeneration  0's        7.2\n            10's      12.9\n            20's      25.8\n            30's      17.4\n            40's       9.7\n            50's       4.7\n            60's       1.9\n            70's       0.6\npclass      1         24.2\n            2         20.7\n            3         55.1\nsex         female    35.2\n            male      64.8\nName: survived, dtype: float64"
     },
     "execution_count": 47,
     "metadata": {},
     "output_type": "execute_result"
    }
   ],
   "source": [
    "# dict 데이터를 DataFrame으로 변환\n",
    "srv_data2 = pandas.concat([srv_data['generation'],\n",
    "                           srv_data['pclass'],\n",
    "                           srv_data['sex']],\n",
    "                          keys=['generation', 'pclass', 'sex'],\n",
    "                          names=['category', 'group'])\n",
    "srv_data2"
   ],
   "metadata": {
    "collapsed": false,
    "pycharm": {
     "name": "#%%\n"
    }
   }
  },
  {
   "cell_type": "code",
   "execution_count": 74,
   "outputs": [
    {
     "name": "stdout",
     "output_type": "stream",
     "text": [
      "generation생존률 높은 구간----------\n",
      "category    group\n",
      "generation  20's     25.8\n",
      "Name: survived, dtype: float64 25.8\n",
      "generation생존률 낮은 구간----------\n",
      "category    group\n",
      "generation  70's     0.6\n",
      "Name: survived, dtype: float64 25.8\n",
      "\n",
      "pclass생존률 높은 구간----------\n",
      "category  group\n",
      "pclass    3        55.1\n",
      "Name: survived, dtype: float64 55.1\n",
      "pclass생존률 낮은 구간----------\n",
      "category  group\n",
      "pclass    2        20.7\n",
      "Name: survived, dtype: float64 55.1\n",
      "\n",
      "sex생존률 높은 구간----------\n",
      "category  group\n",
      "sex       male     64.8\n",
      "Name: survived, dtype: float64 64.8\n",
      "sex생존률 낮은 구간----------\n",
      "category  group \n",
      "sex       female    35.2\n",
      "Name: survived, dtype: float64 64.8\n",
      "\n"
     ]
    }
   ],
   "source": [
    "for column in ['generation', 'pclass', 'sex']:\n",
    "    high, low = srv_data2[column].agg([max, min])\n",
    "    print(column+'생존률 높은 구간----------')\n",
    "    print(srv_data2[srv_data2==high], high)\n",
    "    print(column+'생존률 낮은 구간----------')\n",
    "    print(srv_data2[srv_data2==low], high)\n",
    "    print()"
   ],
   "metadata": {
    "collapsed": false,
    "pycharm": {
     "name": "#%%\n"
    }
   }
  }
 ],
 "metadata": {
  "kernelspec": {
   "display_name": "Python 3",
   "language": "python",
   "name": "python3"
  },
  "language_info": {
   "codemirror_mode": {
    "name": "ipython",
    "version": 2
   },
   "file_extension": ".py",
   "mimetype": "text/x-python",
   "name": "python",
   "nbconvert_exporter": "python",
   "pygments_lexer": "ipython2",
   "version": "2.7.6"
  }
 },
 "nbformat": 4,
 "nbformat_minor": 0
}