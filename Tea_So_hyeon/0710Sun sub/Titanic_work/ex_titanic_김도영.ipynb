{
 "cells": [
  {
   "cell_type": "code",
   "execution_count": 60,
   "id": "187092d9",
   "metadata": {},
   "outputs": [],
   "source": [
    "import pandas as pd\n",
    "import seaborn"
   ]
  },
  {
   "cell_type": "code",
   "execution_count": 61,
   "id": "e8a05f97",
   "metadata": {},
   "outputs": [
    {
     "name": "stdout",
     "output_type": "stream",
     "text": [
      "Defaulting to user installation because normal site-packages is not writeable\n",
      "Requirement already satisfied: seaborn in c:\\programdata\\anaconda3\\lib\\site-packages (0.11.2)\n",
      "Requirement already satisfied: matplotlib>=2.2 in c:\\programdata\\anaconda3\\lib\\site-packages (from seaborn) (3.5.1)\n",
      "Requirement already satisfied: pandas>=0.23 in c:\\programdata\\anaconda3\\lib\\site-packages (from seaborn) (1.4.2)\n",
      "Requirement already satisfied: scipy>=1.0 in c:\\programdata\\anaconda3\\lib\\site-packages (from seaborn) (1.7.3)\n",
      "Requirement already satisfied: numpy>=1.15 in c:\\programdata\\anaconda3\\lib\\site-packages (from seaborn) (1.21.5)\n",
      "Requirement already satisfied: pyparsing>=2.2.1 in c:\\programdata\\anaconda3\\lib\\site-packages (from matplotlib>=2.2->seaborn) (3.0.4)\n",
      "Requirement already satisfied: fonttools>=4.22.0 in c:\\programdata\\anaconda3\\lib\\site-packages (from matplotlib>=2.2->seaborn) (4.25.0)\n",
      "Requirement already satisfied: kiwisolver>=1.0.1 in c:\\programdata\\anaconda3\\lib\\site-packages (from matplotlib>=2.2->seaborn) (1.3.2)\n",
      "Requirement already satisfied: pillow>=6.2.0 in c:\\programdata\\anaconda3\\lib\\site-packages (from matplotlib>=2.2->seaborn) (9.0.1)\n",
      "Requirement already satisfied: packaging>=20.0 in c:\\programdata\\anaconda3\\lib\\site-packages (from matplotlib>=2.2->seaborn) (21.3)\n",
      "Requirement already satisfied: python-dateutil>=2.7 in c:\\programdata\\anaconda3\\lib\\site-packages (from matplotlib>=2.2->seaborn) (2.8.2)\n",
      "Requirement already satisfied: cycler>=0.10 in c:\\programdata\\anaconda3\\lib\\site-packages (from matplotlib>=2.2->seaborn) (0.11.0)\n",
      "Requirement already satisfied: pytz>=2020.1 in c:\\programdata\\anaconda3\\lib\\site-packages (from pandas>=0.23->seaborn) (2021.3)\n",
      "Requirement already satisfied: six>=1.5 in c:\\programdata\\anaconda3\\lib\\site-packages (from python-dateutil>=2.7->matplotlib>=2.2->seaborn) (1.16.0)\n"
     ]
    }
   ],
   "source": [
    "!pip install seaborn"
   ]
  },
  {
   "cell_type": "code",
   "execution_count": 62,
   "id": "568ac1f5",
   "metadata": {},
   "outputs": [
    {
     "name": "stdout",
     "output_type": "stream",
     "text": [
      "<class 'pandas.core.frame.DataFrame'>\n",
      "RangeIndex: 891 entries, 0 to 890\n",
      "Data columns (total 15 columns):\n",
      " #   Column       Non-Null Count  Dtype   \n",
      "---  ------       --------------  -----   \n",
      " 0   survived     891 non-null    int64   \n",
      " 1   pclass       891 non-null    int64   \n",
      " 2   sex          891 non-null    object  \n",
      " 3   age          714 non-null    float64 \n",
      " 4   sibsp        891 non-null    int64   \n",
      " 5   parch        891 non-null    int64   \n",
      " 6   fare         891 non-null    float64 \n",
      " 7   embarked     889 non-null    object  \n",
      " 8   class        891 non-null    category\n",
      " 9   who          891 non-null    object  \n",
      " 10  adult_male   891 non-null    bool    \n",
      " 11  deck         203 non-null    category\n",
      " 12  embark_town  889 non-null    object  \n",
      " 13  alive        891 non-null    object  \n",
      " 14  alone        891 non-null    bool    \n",
      "dtypes: bool(2), category(2), float64(2), int64(4), object(5)\n",
      "memory usage: 80.7+ KB\n"
     ]
    }
   ],
   "source": [
    "# Data 로딩 ------------------------------------------------------------\n",
    "df=seaborn.load_dataset('titanic')\n",
    "df.info()"
   ]
  },
  {
   "cell_type": "code",
   "execution_count": 63,
   "id": "289f3ae4",
   "metadata": {},
   "outputs": [
    {
     "data": {
      "text/html": [
       "<div>\n",
       "<style scoped>\n",
       "    .dataframe tbody tr th:only-of-type {\n",
       "        vertical-align: middle;\n",
       "    }\n",
       "\n",
       "    .dataframe tbody tr th {\n",
       "        vertical-align: top;\n",
       "    }\n",
       "\n",
       "    .dataframe thead th {\n",
       "        text-align: right;\n",
       "    }\n",
       "</style>\n",
       "<table border=\"1\" class=\"dataframe\">\n",
       "  <thead>\n",
       "    <tr style=\"text-align: right;\">\n",
       "      <th></th>\n",
       "      <th>survived</th>\n",
       "      <th>pclass</th>\n",
       "      <th>sex</th>\n",
       "      <th>age</th>\n",
       "      <th>sibsp</th>\n",
       "      <th>parch</th>\n",
       "      <th>fare</th>\n",
       "      <th>embarked</th>\n",
       "      <th>class</th>\n",
       "      <th>who</th>\n",
       "      <th>adult_male</th>\n",
       "      <th>deck</th>\n",
       "      <th>embark_town</th>\n",
       "      <th>alive</th>\n",
       "      <th>alone</th>\n",
       "    </tr>\n",
       "  </thead>\n",
       "  <tbody>\n",
       "    <tr>\n",
       "      <th>0</th>\n",
       "      <td>0</td>\n",
       "      <td>3</td>\n",
       "      <td>male</td>\n",
       "      <td>22.0</td>\n",
       "      <td>1</td>\n",
       "      <td>0</td>\n",
       "      <td>7.2500</td>\n",
       "      <td>S</td>\n",
       "      <td>Third</td>\n",
       "      <td>man</td>\n",
       "      <td>True</td>\n",
       "      <td>NaN</td>\n",
       "      <td>Southampton</td>\n",
       "      <td>no</td>\n",
       "      <td>False</td>\n",
       "    </tr>\n",
       "    <tr>\n",
       "      <th>1</th>\n",
       "      <td>1</td>\n",
       "      <td>1</td>\n",
       "      <td>female</td>\n",
       "      <td>38.0</td>\n",
       "      <td>1</td>\n",
       "      <td>0</td>\n",
       "      <td>71.2833</td>\n",
       "      <td>C</td>\n",
       "      <td>First</td>\n",
       "      <td>woman</td>\n",
       "      <td>False</td>\n",
       "      <td>C</td>\n",
       "      <td>Cherbourg</td>\n",
       "      <td>yes</td>\n",
       "      <td>False</td>\n",
       "    </tr>\n",
       "    <tr>\n",
       "      <th>2</th>\n",
       "      <td>1</td>\n",
       "      <td>3</td>\n",
       "      <td>female</td>\n",
       "      <td>26.0</td>\n",
       "      <td>0</td>\n",
       "      <td>0</td>\n",
       "      <td>7.9250</td>\n",
       "      <td>S</td>\n",
       "      <td>Third</td>\n",
       "      <td>woman</td>\n",
       "      <td>False</td>\n",
       "      <td>NaN</td>\n",
       "      <td>Southampton</td>\n",
       "      <td>yes</td>\n",
       "      <td>True</td>\n",
       "    </tr>\n",
       "    <tr>\n",
       "      <th>3</th>\n",
       "      <td>1</td>\n",
       "      <td>1</td>\n",
       "      <td>female</td>\n",
       "      <td>35.0</td>\n",
       "      <td>1</td>\n",
       "      <td>0</td>\n",
       "      <td>53.1000</td>\n",
       "      <td>S</td>\n",
       "      <td>First</td>\n",
       "      <td>woman</td>\n",
       "      <td>False</td>\n",
       "      <td>C</td>\n",
       "      <td>Southampton</td>\n",
       "      <td>yes</td>\n",
       "      <td>False</td>\n",
       "    </tr>\n",
       "    <tr>\n",
       "      <th>4</th>\n",
       "      <td>0</td>\n",
       "      <td>3</td>\n",
       "      <td>male</td>\n",
       "      <td>35.0</td>\n",
       "      <td>0</td>\n",
       "      <td>0</td>\n",
       "      <td>8.0500</td>\n",
       "      <td>S</td>\n",
       "      <td>Third</td>\n",
       "      <td>man</td>\n",
       "      <td>True</td>\n",
       "      <td>NaN</td>\n",
       "      <td>Southampton</td>\n",
       "      <td>no</td>\n",
       "      <td>True</td>\n",
       "    </tr>\n",
       "    <tr>\n",
       "      <th>5</th>\n",
       "      <td>0</td>\n",
       "      <td>3</td>\n",
       "      <td>male</td>\n",
       "      <td>NaN</td>\n",
       "      <td>0</td>\n",
       "      <td>0</td>\n",
       "      <td>8.4583</td>\n",
       "      <td>Q</td>\n",
       "      <td>Third</td>\n",
       "      <td>man</td>\n",
       "      <td>True</td>\n",
       "      <td>NaN</td>\n",
       "      <td>Queenstown</td>\n",
       "      <td>no</td>\n",
       "      <td>True</td>\n",
       "    </tr>\n",
       "    <tr>\n",
       "      <th>6</th>\n",
       "      <td>0</td>\n",
       "      <td>1</td>\n",
       "      <td>male</td>\n",
       "      <td>54.0</td>\n",
       "      <td>0</td>\n",
       "      <td>0</td>\n",
       "      <td>51.8625</td>\n",
       "      <td>S</td>\n",
       "      <td>First</td>\n",
       "      <td>man</td>\n",
       "      <td>True</td>\n",
       "      <td>E</td>\n",
       "      <td>Southampton</td>\n",
       "      <td>no</td>\n",
       "      <td>True</td>\n",
       "    </tr>\n",
       "    <tr>\n",
       "      <th>7</th>\n",
       "      <td>0</td>\n",
       "      <td>3</td>\n",
       "      <td>male</td>\n",
       "      <td>2.0</td>\n",
       "      <td>3</td>\n",
       "      <td>1</td>\n",
       "      <td>21.0750</td>\n",
       "      <td>S</td>\n",
       "      <td>Third</td>\n",
       "      <td>child</td>\n",
       "      <td>False</td>\n",
       "      <td>NaN</td>\n",
       "      <td>Southampton</td>\n",
       "      <td>no</td>\n",
       "      <td>False</td>\n",
       "    </tr>\n",
       "    <tr>\n",
       "      <th>8</th>\n",
       "      <td>1</td>\n",
       "      <td>3</td>\n",
       "      <td>female</td>\n",
       "      <td>27.0</td>\n",
       "      <td>0</td>\n",
       "      <td>2</td>\n",
       "      <td>11.1333</td>\n",
       "      <td>S</td>\n",
       "      <td>Third</td>\n",
       "      <td>woman</td>\n",
       "      <td>False</td>\n",
       "      <td>NaN</td>\n",
       "      <td>Southampton</td>\n",
       "      <td>yes</td>\n",
       "      <td>False</td>\n",
       "    </tr>\n",
       "    <tr>\n",
       "      <th>9</th>\n",
       "      <td>1</td>\n",
       "      <td>2</td>\n",
       "      <td>female</td>\n",
       "      <td>14.0</td>\n",
       "      <td>1</td>\n",
       "      <td>0</td>\n",
       "      <td>30.0708</td>\n",
       "      <td>C</td>\n",
       "      <td>Second</td>\n",
       "      <td>child</td>\n",
       "      <td>False</td>\n",
       "      <td>NaN</td>\n",
       "      <td>Cherbourg</td>\n",
       "      <td>yes</td>\n",
       "      <td>False</td>\n",
       "    </tr>\n",
       "  </tbody>\n",
       "</table>\n",
       "</div>"
      ],
      "text/plain": [
       "   survived  pclass     sex   age  sibsp  parch     fare embarked   class  \\\n",
       "0         0       3    male  22.0      1      0   7.2500        S   Third   \n",
       "1         1       1  female  38.0      1      0  71.2833        C   First   \n",
       "2         1       3  female  26.0      0      0   7.9250        S   Third   \n",
       "3         1       1  female  35.0      1      0  53.1000        S   First   \n",
       "4         0       3    male  35.0      0      0   8.0500        S   Third   \n",
       "5         0       3    male   NaN      0      0   8.4583        Q   Third   \n",
       "6         0       1    male  54.0      0      0  51.8625        S   First   \n",
       "7         0       3    male   2.0      3      1  21.0750        S   Third   \n",
       "8         1       3  female  27.0      0      2  11.1333        S   Third   \n",
       "9         1       2  female  14.0      1      0  30.0708        C  Second   \n",
       "\n",
       "     who  adult_male deck  embark_town alive  alone  \n",
       "0    man        True  NaN  Southampton    no  False  \n",
       "1  woman       False    C    Cherbourg   yes  False  \n",
       "2  woman       False  NaN  Southampton   yes   True  \n",
       "3  woman       False    C  Southampton   yes  False  \n",
       "4    man        True  NaN  Southampton    no   True  \n",
       "5    man        True  NaN   Queenstown    no   True  \n",
       "6    man        True    E  Southampton    no   True  \n",
       "7  child       False  NaN  Southampton    no  False  \n",
       "8  woman       False  NaN  Southampton   yes  False  \n",
       "9  child       False  NaN    Cherbourg   yes  False  "
      ]
     },
     "execution_count": 63,
     "metadata": {},
     "output_type": "execute_result"
    }
   ],
   "source": [
    "df.head(10)"
   ]
  },
  {
   "cell_type": "code",
   "execution_count": 64,
   "id": "3b081971",
   "metadata": {
    "scrolled": true
   },
   "outputs": [
    {
     "data": {
      "text/plain": [
       "(29.69911764705882,\n",
       " 0    24.0\n",
       " Name: age, dtype: float64,\n",
       " 24.00    30\n",
       " 22.00    27\n",
       " 18.00    26\n",
       " 19.00    25\n",
       " 28.00    25\n",
       "          ..\n",
       " 36.50     1\n",
       " 55.50     1\n",
       " 0.92      1\n",
       " 23.50     1\n",
       " 74.00     1\n",
       " Name: age, Length: 88, dtype: int64)"
      ]
     },
     "execution_count": 64,
     "metadata": {},
     "output_type": "execute_result"
    }
   ],
   "source": [
    "# 성별, 등석, 나이에 따른 생존율 ----------------------------------------------------------------------------------\n",
    "df['age'].mean(), df['age'].mode(), df['age'].value_counts()"
   ]
  },
  {
   "cell_type": "code",
   "execution_count": 65,
   "id": "67c2c39b",
   "metadata": {},
   "outputs": [
    {
     "data": {
      "text/plain": [
       "<pandas.core.groupby.generic.DataFrameGroupBy object at 0x00000224C4A59D00>"
      ]
     },
     "execution_count": 65,
     "metadata": {},
     "output_type": "execute_result"
    }
   ],
   "source": [
    "# 성별 생존율\n",
    "sexGroup=df.groupby(by='sex')\n",
    "sexGroup"
   ]
  },
  {
   "cell_type": "code",
   "execution_count": 66,
   "id": "44f0d8fa",
   "metadata": {},
   "outputs": [
    {
     "data": {
      "text/plain": [
       "(577, 314)"
      ]
     },
     "execution_count": 66,
     "metadata": {},
     "output_type": "execute_result"
    }
   ],
   "source": [
    "# 성별 탑승객 수 체크\n",
    "maleGroup=sexGroup.get_group('male')\n",
    "femaleGroup=sexGroup.get_group('female')\n",
    "\n",
    "\n",
    "len(maleGroup.index), len(femaleGroup.index)"
   ]
  },
  {
   "cell_type": "code",
   "execution_count": 67,
   "id": "5929b404",
   "metadata": {},
   "outputs": [
    {
     "data": {
      "text/plain": [
       "342"
      ]
     },
     "execution_count": 67,
     "metadata": {},
     "output_type": "execute_result"
    }
   ],
   "source": [
    "# 탑승객 생존자수 체크\n",
    "sur=df.survived.sum()\n",
    "sur"
   ]
  },
  {
   "cell_type": "code",
   "execution_count": 68,
   "id": "3c723505",
   "metadata": {},
   "outputs": [],
   "source": [
    "# 성별 탑승객 생존자 수 체크\n",
    "mlGroup=maleGroup.groupby(by='alive')\n",
    "flGroup=femaleGroup.groupby(by='alive')\n",
    "\n",
    "ml=len(mlGroup.get_group('yes').index)\n",
    "fl=len(flGroup.get_group('yes').index)"
   ]
  },
  {
   "cell_type": "code",
   "execution_count": 69,
   "id": "504e5235",
   "metadata": {},
   "outputs": [
    {
     "name": "stdout",
     "output_type": "stream",
     "text": [
      "남녀 생존율\n",
      "남자 생존율은 32% 여자 생존율은 68%입니다.\n"
     ]
    }
   ],
   "source": [
    "print('남녀 생존율')\n",
    "print(f'남자 생존율은 {round((ml/sur)*100)}%',\n",
    "      f'여자 생존율은 {round((fl/sur)*100)}%입니다.')"
   ]
  },
  {
   "cell_type": "code",
   "execution_count": 70,
   "id": "f9c9e1b2",
   "metadata": {},
   "outputs": [
    {
     "data": {
      "text/plain": [
       "<pandas.core.groupby.generic.DataFrameGroupBy object at 0x00000224C490A670>"
      ]
     },
     "execution_count": 70,
     "metadata": {},
     "output_type": "execute_result"
    }
   ],
   "source": [
    "# 등석별 생존율\n",
    "pclassGroup=df.groupby(by='pclass')\n",
    "pclassGroup"
   ]
  },
  {
   "cell_type": "code",
   "execution_count": 71,
   "id": "30c5152a",
   "metadata": {},
   "outputs": [
    {
     "data": {
      "text/plain": [
       "(216, 184, 491)"
      ]
     },
     "execution_count": 71,
     "metadata": {},
     "output_type": "execute_result"
    }
   ],
   "source": [
    "# 등석별 탑승자 수 체크\n",
    "oneGroup=pclassGroup.get_group(1)\n",
    "twoGroup=pclassGroup.get_group(2)\n",
    "threeGroup=pclassGroup.get_group(3)\n",
    "\n",
    "len(oneGroup.index), len(twoGroup.index), len(threeGroup.index)"
   ]
  },
  {
   "cell_type": "code",
   "execution_count": 72,
   "id": "c3b594e3",
   "metadata": {},
   "outputs": [
    {
     "data": {
      "text/plain": [
       "(136, 87, 119)"
      ]
     },
     "execution_count": 72,
     "metadata": {},
     "output_type": "execute_result"
    }
   ],
   "source": [
    "# 등석별 생존자 수 체크\n",
    "olGroup=oneGroup.groupby(by='survived')\n",
    "tlGroup=twoGroup.groupby(by='survived')\n",
    "hlGroup=threeGroup.groupby(by='survived')\n",
    "\n",
    "ol=len(olGroup.get_group(1).index)\n",
    "tl=len(tlGroup.get_group(1).index)\n",
    "hl=len(hlGroup.get_group(1).index)\n",
    "\n",
    "ol, tl, hl"
   ]
  },
  {
   "cell_type": "code",
   "execution_count": 73,
   "id": "d5907ca2",
   "metadata": {},
   "outputs": [
    {
     "name": "stdout",
     "output_type": "stream",
     "text": [
      "등석별 생존율\n",
      "1등석 생존율은 63%\n",
      "2등석 생존율은 47%\n",
      "3등석 생존율은 24%입니다.\n"
     ]
    }
   ],
   "source": [
    "print('등석별 생존율')\n",
    "print(f'1등석 생존율은 {round((ol/len(oneGroup.index))*100)}%',\n",
    "      f'2등석 생존율은 {round((tl/len(twoGroup.index))*100)}%',\n",
    "      f'3등석 생존율은 {round((hl/len(threeGroup.index))*100)}%입니다.', sep='\\n')"
   ]
  },
  {
   "cell_type": "code",
   "execution_count": 74,
   "id": "dd553c91",
   "metadata": {},
   "outputs": [],
   "source": [
    "# 나이별 생존율\n",
    "# 결측치 처리\n",
    "# 'age' 누락된 행 없애기\n",
    "ageDF=df.dropna(how='any')"
   ]
  },
  {
   "cell_type": "code",
   "execution_count": 75,
   "id": "3ccc6b35",
   "metadata": {},
   "outputs": [
    {
     "data": {
      "text/plain": [
       "182"
      ]
     },
     "execution_count": 75,
     "metadata": {},
     "output_type": "execute_result"
    }
   ],
   "source": [
    "# 나이 구간 정하고 해당 구간 인원 수 리스트에 담기\n",
    "ageGroup=ageDF.groupby(by='age')\n",
    "age0_20=[]\n",
    "age20_40=[]\n",
    "age40_60=[]\n",
    "age60_80=[]\n",
    "for key, group in ageGroup:\n",
    "    if key>=0.92 and key<20:\n",
    "        age0_20.append(len(group['age'].index))\n",
    "    elif key>=20 and key<40:\n",
    "        age20_40.append(len(group['age'].index))\n",
    "    elif key>=40 and key<60:\n",
    "        age40_60.append(len(group['age'].index))\n",
    "    else:\n",
    "        age60_80.append(len(group['age'].index))\n",
    "        \n",
    "ageAll=sum(age0_20)+sum(age20_40)+sum(age40_60)+sum(age60_80) \n",
    "ageAll"
   ]
  },
  {
   "cell_type": "code",
   "execution_count": 76,
   "id": "43b93d0d",
   "metadata": {},
   "outputs": [],
   "source": [
    "# 나이별 생존자 수 체크\n",
    "ageAlive=ageDF[ageDF['survived']==1]\n",
    "ageAliveGroup=ageAlive.groupby(by='age')\n",
    "ageAlive0_20=[]\n",
    "ageAlive20_40=[]\n",
    "ageAlive40_60=[]\n",
    "ageAlive60_80=[]\n",
    "\n",
    "for key, group in ageAliveGroup:\n",
    "    if key>=0.92 and key<20:\n",
    "        ageAlive0_20.append(len(group['age'].index))\n",
    "    elif key>=20 and key<40:\n",
    "        ageAlive20_40.append(len(group['age'].index))\n",
    "    elif key>=40 and key<60:\n",
    "        ageAlive40_60.append(len(group['age'].index))\n",
    "    else:\n",
    "        ageAlive60_80.append(len(group['age'].index))"
   ]
  },
  {
   "cell_type": "code",
   "execution_count": 77,
   "id": "d980b599",
   "metadata": {},
   "outputs": [
    {
     "name": "stdout",
     "output_type": "stream",
     "text": [
      "나이별 생존율\n",
      "0세이상 20세미만 생존율은 79%\n",
      "20세이상 40세미만 생존율은 75%\n",
      "40세이상 60세미만 생존율은 57%\n",
      "60세이상 80세미만 생존율은 33%입니다.\n"
     ]
    }
   ],
   "source": [
    "print('나이별 생존율')\n",
    "print(f'0세이상 20세미만 생존율은 {round((sum(ageAlive0_20)/sum(age0_20))*100)}%',\n",
    "      f'20세이상 40세미만 생존율은 {round((sum(ageAlive20_40)/sum(age20_40))*100)}%',\n",
    "      f'40세이상 60세미만 생존율은 {round((sum(ageAlive40_60)/sum(age40_60))*100)}%',\n",
    "      f'60세이상 80세미만 생존율은 {round((sum(ageAlive60_80)/sum(age60_80))*100)}%입니다.', sep='\\n')"
   ]
  },
  {
   "cell_type": "markdown",
   "id": "357a2877",
   "metadata": {},
   "source": [
    "# -----------------------------------------------------------"
   ]
  },
  {
   "cell_type": "code",
   "execution_count": null,
   "id": "3ce16914",
   "metadata": {},
   "outputs": [],
   "source": []
  }
 ],
 "metadata": {
  "kernelspec": {
   "display_name": "Python 3 (ipykernel)",
   "language": "python",
   "name": "python3"
  },
  "language_info": {
   "codemirror_mode": {
    "name": "ipython",
    "version": 3
   },
   "file_extension": ".py",
   "mimetype": "text/x-python",
   "name": "python",
   "nbconvert_exporter": "python",
   "pygments_lexer": "ipython3",
   "version": "3.9.12"
  }
 },
 "nbformat": 4,
 "nbformat_minor": 5
}
