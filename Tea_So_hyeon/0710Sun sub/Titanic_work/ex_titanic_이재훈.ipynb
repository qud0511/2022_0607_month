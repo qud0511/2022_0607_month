{
 "cells": [
  {
   "cell_type": "code",
   "execution_count": 1,
   "id": "b1537458",
   "metadata": {},
   "outputs": [
    {
     "name": "stdout",
     "output_type": "stream",
     "text": [
      "Defaulting to user installation because normal site-packages is not writeable\n",
      "Requirement already satisfied: seaborn in c:\\programdata\\anaconda3\\lib\\site-packages (0.11.2)\n",
      "Requirement already satisfied: numpy>=1.15 in c:\\programdata\\anaconda3\\lib\\site-packages (from seaborn) (1.21.5)\n",
      "Requirement already satisfied: matplotlib>=2.2 in c:\\programdata\\anaconda3\\lib\\site-packages (from seaborn) (3.5.1)\n",
      "Requirement already satisfied: scipy>=1.0 in c:\\programdata\\anaconda3\\lib\\site-packages (from seaborn) (1.7.3)\n",
      "Requirement already satisfied: pandas>=0.23 in c:\\users\\ljh\\appdata\\roaming\\python\\python39\\site-packages (from seaborn) (1.4.3)\n",
      "Requirement already satisfied: packaging>=20.0 in c:\\programdata\\anaconda3\\lib\\site-packages (from matplotlib>=2.2->seaborn) (21.3)\n",
      "Requirement already satisfied: pyparsing>=2.2.1 in c:\\programdata\\anaconda3\\lib\\site-packages (from matplotlib>=2.2->seaborn) (3.0.4)\n",
      "Requirement already satisfied: cycler>=0.10 in c:\\programdata\\anaconda3\\lib\\site-packages (from matplotlib>=2.2->seaborn) (0.11.0)\n",
      "Requirement already satisfied: fonttools>=4.22.0 in c:\\programdata\\anaconda3\\lib\\site-packages (from matplotlib>=2.2->seaborn) (4.25.0)\n",
      "Requirement already satisfied: python-dateutil>=2.7 in c:\\programdata\\anaconda3\\lib\\site-packages (from matplotlib>=2.2->seaborn) (2.8.2)\n",
      "Requirement already satisfied: pillow>=6.2.0 in c:\\programdata\\anaconda3\\lib\\site-packages (from matplotlib>=2.2->seaborn) (9.0.1)\n",
      "Requirement already satisfied: kiwisolver>=1.0.1 in c:\\programdata\\anaconda3\\lib\\site-packages (from matplotlib>=2.2->seaborn) (1.3.2)\n",
      "Requirement already satisfied: pytz>=2020.1 in c:\\programdata\\anaconda3\\lib\\site-packages (from pandas>=0.23->seaborn) (2021.3)\n",
      "Requirement already satisfied: six>=1.5 in c:\\programdata\\anaconda3\\lib\\site-packages (from python-dateutil>=2.7->matplotlib>=2.2->seaborn) (1.16.0)\n"
     ]
    }
   ],
   "source": [
    "import pandas as pd\n",
    "import seaborn\n",
    "\n",
    "!pip install seaborn"
   ]
  },
  {
   "cell_type": "code",
   "execution_count": 2,
   "id": "8399c46a",
   "metadata": {},
   "outputs": [],
   "source": [
    "# Data 로딩\n",
    "df=seaborn.load_dataset('titanic')"
   ]
  },
  {
   "cell_type": "markdown",
   "id": "1ba2b10a",
   "metadata": {},
   "source": [
    "# 성별, 등석, 나이에 따른 생존율"
   ]
  },
  {
   "cell_type": "code",
   "execution_count": 3,
   "id": "264fd9b3",
   "metadata": {},
   "outputs": [
    {
     "name": "stderr",
     "output_type": "stream",
     "text": [
      "C:\\Users\\LJH\\AppData\\Local\\Temp\\ipykernel_8196\\4219000181.py:2: FutureWarning: Dropping of nuisance columns in DataFrame reductions (with 'numeric_only=None') is deprecated; in a future version this will raise TypeError.  Select only valid columns before calling the reduction.\n",
      "  df.fillna(df.median(), inplace=True)\n"
     ]
    }
   ],
   "source": [
    "# 나이는 평균으로 채우자\n",
    "df.fillna(df.median(), inplace=True)\n",
    "\n",
    "# pclass에서 age 까지만 필요함\n",
    "df = df.loc[:,['survived','pclass','sex','age']]\n",
    "# age 컬럼을 int로 바꾸고\n",
    "df['age'] = df['age'].astype(int)\n",
    "# age를 8등분\n",
    "df['age_type'] = pd.cut(x=df['age'], bins = 9, labels = ['10세 미만', '10대', '20대', '30대','40대','50대','60대','70대','80대'])"
   ]
  },
  {
   "cell_type": "code",
   "execution_count": 4,
   "id": "0b4a97a4",
   "metadata": {},
   "outputs": [
    {
     "data": {
      "text/plain": [
       "891"
      ]
     },
     "execution_count": 4,
     "metadata": {},
     "output_type": "execute_result"
    }
   ],
   "source": [
    "df['survived'].count()"
   ]
  },
  {
   "cell_type": "code",
   "execution_count": 5,
   "id": "6f4911bc",
   "metadata": {
    "scrolled": true
   },
   "outputs": [],
   "source": [
    "df = df.astype(str)\n",
    "df['survived'] = df['survived'].astype(int)"
   ]
  },
  {
   "cell_type": "code",
   "execution_count": 6,
   "id": "71f5b50d",
   "metadata": {},
   "outputs": [],
   "source": [
    "def defcount():\n",
    "    # 조건 입력받기\n",
    "    a = input()\n",
    "    # 조건 리스트화\n",
    "    alist = a.split(',') \n",
    "    # 전체 생존자 수 구하기\n",
    "    count_all = df['survived'].sum()\n",
    "    # 리스트에서\n",
    "    for i in range(0, len(alist), 2):\n",
    "        # 첫번째 조건의 경우 df에서 추출하고\n",
    "        if i == 0 :\n",
    "            df_01 = df.groupby(by = alist[i])\n",
    "            df_02 = df_01.get_group(alist[i + 1])\n",
    "        # 두번째 조건부터 df_02에서 사용\n",
    "        else :\n",
    "            df_01 = df_02.groupby(by = alist[i])\n",
    "            df_02 = df_01.get_group(alist[i + 1])\n",
    "    # 조건에서 마지막의 survived sum\n",
    "    count_survived = df_02['survived'].sum()\n",
    "    print(f'해당 조건 생존자는 {count_survived}명으로 전체 대비 생존률은 {round(count_survived/count_all * 100, 2)}% 입니다.')"
   ]
  },
  {
   "cell_type": "code",
   "execution_count": 7,
   "id": "d6061067",
   "metadata": {},
   "outputs": [
    {
     "name": "stdout",
     "output_type": "stream",
     "text": [
      "sex,female\n",
      "해당 조건 생존자는 233명으로 전체 대비 생존률은 68.13% 입니다.\n"
     ]
    }
   ],
   "source": [
    "defcount()"
   ]
  },
  {
   "cell_type": "code",
   "execution_count": 9,
   "id": "d3914548",
   "metadata": {},
   "outputs": [
    {
     "name": "stdout",
     "output_type": "stream",
     "text": [
      "sex,female,pclass,1,age_type,10세 미만\n",
      "해당 조건 생존자는 0명으로 전체 대비 생존률은 0.0% 입니다.\n"
     ]
    }
   ],
   "source": [
    "defcount()"
   ]
  },
  {
   "cell_type": "code",
   "execution_count": null,
   "id": "d25b3d40",
   "metadata": {},
   "outputs": [],
   "source": []
  }
 ],
 "metadata": {
  "kernelspec": {
   "display_name": "Python 3 (ipykernel)",
   "language": "python",
   "name": "python3"
  },
  "language_info": {
   "codemirror_mode": {
    "name": "ipython",
    "version": 3
   },
   "file_extension": ".py",
   "mimetype": "text/x-python",
   "name": "python",
   "nbconvert_exporter": "python",
   "pygments_lexer": "ipython3",
   "version": "3.9.12"
  }
 },
 "nbformat": 4,
 "nbformat_minor": 5
}
