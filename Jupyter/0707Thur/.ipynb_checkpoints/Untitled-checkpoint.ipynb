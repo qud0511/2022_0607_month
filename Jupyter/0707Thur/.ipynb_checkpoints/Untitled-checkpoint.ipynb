{
 "cells": [
  {
   "cell_type": "markdown",
   "id": "e9f56356",
   "metadata": {},
   "source": [
    "# 날짜시간관련 패키지 다루기\n",
    "- 파이썬 => date, time, datettime 관련 클래스"
   ]
  },
  {
   "cell_type": "code",
   "execution_count": 29,
   "id": "e9cd5058",
   "metadata": {},
   "outputs": [],
   "source": [
    "# 모듈 로딩\n",
    "import time as tm\n",
    "import matplotlib as mp\n",
    "\n",
    "# mp.__version__  -> 모듈 버전 보기"
   ]
  },
  {
   "cell_type": "markdown",
   "id": "4abf2795",
   "metadata": {},
   "source": [
    "## 시간관련 클래스 ----> time"
   ]
  },
  {
   "cell_type": "code",
   "execution_count": 30,
   "id": "34887994",
   "metadata": {},
   "outputs": [
    {
     "name": "stdout",
     "output_type": "stream",
     "text": [
      "현재시간은 Thu Jul  7 09:53:25 2022\n"
     ]
    }
   ],
   "source": [
    "# 현재 시간 출력 메서드\n",
    "# (1) 보기 쉽게 변환하여 가져오기\n",
    "currentTime=tm.ctime(tm.time())\n",
    "print(f'현재시간은 {currentTime}')"
   ]
  },
  {
   "cell_type": "code",
   "execution_count": 32,
   "id": "adb37558",
   "metadata": {},
   "outputs": [
    {
     "name": "stdout",
     "output_type": "stream",
     "text": [
      "현재시간구조체클래스 : time.struct_time(tm_year=2022, tm_mon=7, tm_mday=7, tm_hour=9, tm_min=53, tm_sec=31, tm_wday=3, tm_yday=188, tm_isdst=0)\n"
     ]
    }
   ],
   "source": [
    "# (2) 원하는대로 변환할 수 있도록 구조체 객체\n",
    "localStrct =  tm.localtime(tm.time())\n",
    "print(f'현재시간구조체클래스 : {localStrct}')"
   ]
  },
  {
   "cell_type": "markdown",
   "id": "b01bbc92",
   "metadata": {},
   "source": [
    "## 날짜 관련 클래스 ----> datetime.date 클래스"
   ]
  },
  {
   "cell_type": "code",
   "execution_count": null,
   "id": "af940a62",
   "metadata": {},
   "outputs": [],
   "source": [
    "# 모듈 로딩\n",
    "from datetime import date"
   ]
  },
  {
   "cell_type": "code",
   "execution_count": null,
   "id": "ca3ace74",
   "metadata": {},
   "outputs": [],
   "source": [
    "currentDT = date.today()\n",
    "print(type(currentDT), currentDT)"
   ]
  },
  {
   "cell_type": "code",
   "execution_count": 33,
   "id": "c2e52282",
   "metadata": {},
   "outputs": [
    {
     "name": "stdout",
     "output_type": "stream",
     "text": [
      "<class 'datetime.date'> 2022-12-24\n"
     ]
    }
   ],
   "source": [
    "d_day = date(2022, 12, 24)\n",
    "\n",
    "print(type(d_day), d_day)"
   ]
  },
  {
   "cell_type": "code",
   "execution_count": 34,
   "id": "55b1ff86",
   "metadata": {},
   "outputs": [
    {
     "data": {
      "text/plain": [
       "(24, 12, 2022)"
      ]
     },
     "execution_count": 34,
     "metadata": {},
     "output_type": "execute_result"
    }
   ],
   "source": [
    "d_day.day, d_day.month, d_day.year"
   ]
  },
  {
   "cell_type": "code",
   "execution_count": 35,
   "id": "2278e74a",
   "metadata": {},
   "outputs": [
    {
     "data": {
      "text/plain": [
       "<function date.weekday>"
      ]
     },
     "execution_count": 35,
     "metadata": {},
     "output_type": "execute_result"
    }
   ],
   "source": [
    "d_day.weekday"
   ]
  },
  {
   "cell_type": "code",
   "execution_count": 36,
   "id": "59a381be",
   "metadata": {},
   "outputs": [],
   "source": [
    "# 갹체 생성없이 쓰는 메서드> 클래스 메서드?"
   ]
  },
  {
   "cell_type": "markdown",
   "id": "e0ab9180",
   "metadata": {},
   "source": [
    "## 날짜시간 관련 클래스 ----> datet.datetime\n"
   ]
  },
  {
   "cell_type": "code",
   "execution_count": 40,
   "id": "7bfafbf1",
   "metadata": {},
   "outputs": [
    {
     "ename": "NameError",
     "evalue": "name 'd1' is not defined",
     "output_type": "error",
     "traceback": [
      "\u001b[1;31m---------------------------------------------------------------------------\u001b[0m",
      "\u001b[1;31mNameError\u001b[0m                                 Traceback (most recent call last)",
      "Input \u001b[1;32mIn [40]\u001b[0m, in \u001b[0;36m<cell line: 4>\u001b[1;34m()\u001b[0m\n\u001b[0;32m      1\u001b[0m \u001b[38;5;28;01mfrom\u001b[39;00m \u001b[38;5;21;01mdatetime\u001b[39;00m \u001b[38;5;28;01mimport\u001b[39;00m datetime \u001b[38;5;28;01mas\u001b[39;00m dt\n\u001b[0;32m      3\u001b[0m \u001b[38;5;66;03m# 현재 날짜, 시간\u001b[39;00m\n\u001b[1;32m----> 4\u001b[0m \u001b[43md1\u001b[49m\u001b[38;5;241m.\u001b[39mtoday()\n",
      "\u001b[1;31mNameError\u001b[0m: name 'd1' is not defined"
     ]
    }
   ],
   "source": [
    "from datetime import datetime as dt\n",
    "\n",
    "# 현재 날짜, 시간\n",
    "d1.today()"
   ]
  },
  {
   "cell_type": "code",
   "execution_count": 41,
   "id": "40148f0c",
   "metadata": {},
   "outputs": [
    {
     "ename": "NameError",
     "evalue": "name 'd1' is not defined",
     "output_type": "error",
     "traceback": [
      "\u001b[1;31m---------------------------------------------------------------------------\u001b[0m",
      "\u001b[1;31mNameError\u001b[0m                                 Traceback (most recent call last)",
      "Input \u001b[1;32mIn [41]\u001b[0m, in \u001b[0;36m<cell line: 1>\u001b[1;34m()\u001b[0m\n\u001b[1;32m----> 1\u001b[0m \u001b[43md1\u001b[49m\u001b[38;5;241m.\u001b[39mnow()\n",
      "\u001b[1;31mNameError\u001b[0m: name 'd1' is not defined"
     ]
    }
   ],
   "source": [
    "d1.now()"
   ]
  },
  {
   "cell_type": "code",
   "execution_count": 43,
   "id": "abd81dcd",
   "metadata": {},
   "outputs": [
    {
     "ename": "NameError",
     "evalue": "name 'd_dateime' is not defined",
     "output_type": "error",
     "traceback": [
      "\u001b[1;31m---------------------------------------------------------------------------\u001b[0m",
      "\u001b[1;31mNameError\u001b[0m                                 Traceback (most recent call last)",
      "Input \u001b[1;32mIn [43]\u001b[0m, in \u001b[0;36m<cell line: 2>\u001b[1;34m()\u001b[0m\n\u001b[0;32m      1\u001b[0m \u001b[38;5;66;03m# 원하는 날짜시간 생성\u001b[39;00m\n\u001b[1;32m----> 2\u001b[0m \u001b[43md_dateime\u001b[49m()\n",
      "\u001b[1;31mNameError\u001b[0m: name 'd_dateime' is not defined"
     ]
    }
   ],
   "source": [
    "# 원하는 날짜시간 생성\n",
    "c"
   ]
  },
  {
   "cell_type": "code",
   "execution_count": null,
   "id": "7841243c",
   "metadata": {},
   "outputs": [],
   "source": [
    "d_date"
   ]
  }
 ],
 "metadata": {
  "kernelspec": {
   "display_name": "Python 3 (ipykernel)",
   "language": "python",
   "name": "python3"
  },
  "language_info": {
   "codemirror_mode": {
    "name": "ipython",
    "version": 3
   },
   "file_extension": ".py",
   "mimetype": "text/x-python",
   "name": "python",
   "nbconvert_exporter": "python",
   "pygments_lexer": "ipython3",
   "version": "3.9.12"
  }
 },
 "nbformat": 4,
 "nbformat_minor": 5
}
