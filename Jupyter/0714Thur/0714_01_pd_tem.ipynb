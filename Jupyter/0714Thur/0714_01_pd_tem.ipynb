{
 "cells": [
  {
   "cell_type": "code",
   "execution_count": 221,
   "id": "86e4eade",
   "metadata": {},
   "outputs": [],
   "source": [
    "import pandas as pd\n",
    "import numpy as np\n",
    "# import datetime"
   ]
  },
  {
   "cell_type": "code",
   "execution_count": null,
   "id": "527c4585",
   "metadata": {},
   "outputs": [],
   "source": []
  },
  {
   "cell_type": "code",
   "execution_count": 222,
   "id": "095c8c61",
   "metadata": {},
   "outputs": [
    {
     "name": "stdout",
     "output_type": "stream",
     "text": [
      "Index(['날짜', '지점', '평균기온(℃)', '최저기온(℃)', '최고기온(℃)'], dtype='object')\n",
      "object\n"
     ]
    }
   ],
   "source": [
    "DIR = './Data/'\n",
    "FILE = DIR + 'ta_20220714101207.csv'\n",
    "df = pd.read_csv(FILE, encoding='CP949', skiprows=7)\n",
    "\n",
    "import pandas as pd\n",
    "weather_df = pd.read_csv('./Data/' + 'daegu.csv', encoding='euc_kr')\n",
    "print(weather_df.columns)\n",
    "print(weather_df['날짜'].dtype) # '날짜’컬럼은 object 타입"
   ]
  },
  {
   "cell_type": "code",
   "execution_count": 223,
   "id": "2788327a",
   "metadata": {},
   "outputs": [
    {
     "data": {
      "text/plain": [
       "'C:\\\\Users\\\\User\\\\PycharmProjects\\\\pythonProject\\\\Jupyter\\\\0714Thur'"
      ]
     },
     "execution_count": 223,
     "metadata": {},
     "output_type": "execute_result"
    }
   ],
   "source": [
    "# 경로 확인\n",
    "%pwd"
   ]
  },
  {
   "cell_type": "code",
   "execution_count": 224,
   "id": "6959ffe4",
   "metadata": {
    "scrolled": false
   },
   "outputs": [
    {
     "name": "stdout",
     "output_type": "stream",
     "text": [
      " C 드라이브의 볼륨에는 이름이 없습니다.\n",
      " 볼륨 일련 번호: 40A2-40BF\n",
      "\n",
      " C:\\Users\\User\\PycharmProjects\\pythonProject\\Jupyter\\0714Thur 디렉터리\n",
      "\n",
      "2022-07-14  오후 03:02    <DIR>          .\n",
      "2022-07-14  오후 03:02    <DIR>          ..\n",
      "2022-07-14  오후 02:07    <DIR>          .ipynb_checkpoints\n",
      "2022-07-14  오전 10:56               404 0714_01.py\n",
      "2022-07-14  오후 03:02             7,735 0714_01_pd_tem.ipynb\n",
      "2022-07-14  오후 02:10         2,494,165 0714_01csv_module_tem.ipynb\n",
      "2022-07-14  오후 02:33         1,252,012 daegu_utf-8\n",
      "2022-07-14  오후 02:54    <DIR>          Data\n",
      "               4개 파일           3,754,316 바이트\n",
      "               4개 디렉터리  125,186,338,816 바이트 남음\n"
     ]
    }
   ],
   "source": [
    "%ls"
   ]
  },
  {
   "cell_type": "code",
   "execution_count": 225,
   "id": "0a92be64",
   "metadata": {},
   "outputs": [
    {
     "name": "stdout",
     "output_type": "stream",
     "text": [
      "<class 'pandas.core.frame.DataFrame'>\n",
      "RangeIndex: 42126 entries, 0 to 42125\n",
      "Data columns (total 5 columns):\n",
      " #   Column   Non-Null Count  Dtype  \n",
      "---  ------   --------------  -----  \n",
      " 0   날짜       42126 non-null  object \n",
      " 1   지점       42126 non-null  int64  \n",
      " 2   평균기온(℃)  41423 non-null  float64\n",
      " 3   최저기온(℃)  41497 non-null  float64\n",
      " 4   최고기온(℃)  41496 non-null  float64\n",
      "dtypes: float64(3), int64(1), object(1)\n",
      "memory usage: 1.6+ MB\n"
     ]
    }
   ],
   "source": [
    "weather_df.info()"
   ]
  },
  {
   "cell_type": "code",
   "execution_count": 226,
   "id": "38d73945",
   "metadata": {
    "scrolled": true
   },
   "outputs": [
    {
     "data": {
      "text/html": [
       "<div>\n",
       "<style scoped>\n",
       "    .dataframe tbody tr th:only-of-type {\n",
       "        vertical-align: middle;\n",
       "    }\n",
       "\n",
       "    .dataframe tbody tr th {\n",
       "        vertical-align: top;\n",
       "    }\n",
       "\n",
       "    .dataframe thead th {\n",
       "        text-align: right;\n",
       "    }\n",
       "</style>\n",
       "<table border=\"1\" class=\"dataframe\">\n",
       "  <thead>\n",
       "    <tr style=\"text-align: right;\">\n",
       "      <th></th>\n",
       "      <th>날짜</th>\n",
       "      <th>지점</th>\n",
       "      <th>평균기온(℃)</th>\n",
       "      <th>최저기온(℃)</th>\n",
       "      <th>최고기온(℃)</th>\n",
       "    </tr>\n",
       "  </thead>\n",
       "  <tbody>\n",
       "    <tr>\n",
       "      <th>0</th>\n",
       "      <td>1907-01-31</td>\n",
       "      <td>143</td>\n",
       "      <td>NaN</td>\n",
       "      <td>-7.0</td>\n",
       "      <td>0.8</td>\n",
       "    </tr>\n",
       "    <tr>\n",
       "      <th>1</th>\n",
       "      <td>1907-02-01</td>\n",
       "      <td>143</td>\n",
       "      <td>NaN</td>\n",
       "      <td>NaN</td>\n",
       "      <td>NaN</td>\n",
       "    </tr>\n",
       "    <tr>\n",
       "      <th>2</th>\n",
       "      <td>1907-02-02</td>\n",
       "      <td>143</td>\n",
       "      <td>NaN</td>\n",
       "      <td>NaN</td>\n",
       "      <td>NaN</td>\n",
       "    </tr>\n",
       "    <tr>\n",
       "      <th>3</th>\n",
       "      <td>1907-02-03</td>\n",
       "      <td>143</td>\n",
       "      <td>NaN</td>\n",
       "      <td>NaN</td>\n",
       "      <td>NaN</td>\n",
       "    </tr>\n",
       "    <tr>\n",
       "      <th>4</th>\n",
       "      <td>1907-02-04</td>\n",
       "      <td>143</td>\n",
       "      <td>NaN</td>\n",
       "      <td>NaN</td>\n",
       "      <td>NaN</td>\n",
       "    </tr>\n",
       "  </tbody>\n",
       "</table>\n",
       "</div>"
      ],
      "text/plain": [
       "           날짜   지점  평균기온(℃)  최저기온(℃)  최고기온(℃)\n",
       "0  1907-01-31  143      NaN     -7.0      0.8\n",
       "1  1907-02-01  143      NaN      NaN      NaN\n",
       "2  1907-02-02  143      NaN      NaN      NaN\n",
       "3  1907-02-03  143      NaN      NaN      NaN\n",
       "4  1907-02-04  143      NaN      NaN      NaN"
      ]
     },
     "execution_count": 226,
     "metadata": {},
     "output_type": "execute_result"
    }
   ],
   "source": [
    "weather_df.head()"
   ]
  },
  {
   "cell_type": "code",
   "execution_count": 227,
   "id": "0421ef83",
   "metadata": {},
   "outputs": [],
   "source": [
    "# 특수 문자 제거\n",
    "weather_df.rename(columns={'평균기온(℃)' : '평균기온', \n",
    "                           '최저기온(℃)' : '최저기온', \n",
    "                           '최고기온(℃)' : '최고기온'}, inplace=True)"
   ]
  },
  {
   "cell_type": "code",
   "execution_count": 228,
   "id": "592d9f4e",
   "metadata": {},
   "outputs": [
    {
     "name": "stdout",
     "output_type": "stream",
     "text": [
      "datetime64[ns]\n"
     ]
    }
   ],
   "source": [
    "# '날짜’ 컬럼의 데이터 타입을 datetime 타입으로 변경\n",
    "# to_datetime(df[‘컬럼명’], format=‘%Y-%m-%d)\n",
    "\n",
    "weather_df['날짜'] = pd.to_datetime(weather_df['날짜'], format='%Y-%m-%d')\n",
    "print(weather_df['날짜'].dtype)"
   ]
  },
  {
   "cell_type": "code",
   "execution_count": 229,
   "id": "f2c3988a",
   "metadata": {},
   "outputs": [
    {
     "name": "stdout",
     "output_type": "stream",
     "text": [
      "날짜        0\n",
      "지점        0\n",
      "평균기온    703\n",
      "최저기온    629\n",
      "최고기온    630\n",
      "dtype: int64\n"
     ]
    }
   ],
   "source": [
    "num_rows = weather_df.shape[0] # shape(row, col), shape[0]: row의 개수\n",
    "num_missing = num_rows - weather_df.count() # count(): 정상값의 개수\n",
    "print(num_missing)"
   ]
  },
  {
   "cell_type": "code",
   "execution_count": 230,
   "id": "873a8b05",
   "metadata": {},
   "outputs": [
    {
     "name": "stdout",
     "output_type": "stream",
     "text": [
      "날짜      41421\n",
      "지점      41421\n",
      "평균기온    41421\n",
      "최저기온    41421\n",
      "최고기온    41421\n",
      "dtype: int64\n",
      "            날짜   지점  평균기온  최저기온  최고기온\n",
      "701 1909-01-01  143  -4.1  -8.0   0.1\n",
      "702 1909-01-02  143  -0.8  -6.7   6.1\n",
      "703 1909-01-03  143   1.0  -2.4   3.6\n",
      "704 1909-01-04  143   4.2   0.0   9.2\n",
      "705 1909-01-05  143   3.4  -0.4   9.0\n"
     ]
    }
   ],
   "source": [
    "# 누락값(NaN) 처리\n",
    "# • dropna(axis): 누락값 제거\n",
    "# – axis=0: Nan이 포함된 행 제거, axis=1: Nan이 포함된 열 제거\n",
    "# • fillna(0): 누락값을 0으로 변경\n",
    "# • fillna(method=‘ffill’): 이전 값으로 변경(forward fill)\n",
    "# • fillna(method=‘bfill’): 이후 값으로 변경(backward fill)\n",
    "# • interpolate(): 누락값 양쪽의 값으로 중간값 계산\n",
    "weather_df = weather_df.dropna(axis=0)\n",
    "print(weather_df.count())\n",
    "print(weather_df.head(5))\n",
    "\n",
    "# axis=0 행 기준\n",
    "# 기본값 any => na가 있으면 그 행 통째로 삭제"
   ]
  },
  {
   "cell_type": "code",
   "execution_count": 240,
   "id": "08af1286",
   "metadata": {},
   "outputs": [
    {
     "data": {
      "text/html": [
       "<div>\n",
       "<style scoped>\n",
       "    .dataframe tbody tr th:only-of-type {\n",
       "        vertical-align: middle;\n",
       "    }\n",
       "\n",
       "    .dataframe tbody tr th {\n",
       "        vertical-align: top;\n",
       "    }\n",
       "\n",
       "    .dataframe thead th {\n",
       "        text-align: right;\n",
       "    }\n",
       "</style>\n",
       "<table border=\"1\" class=\"dataframe\">\n",
       "  <thead>\n",
       "    <tr style=\"text-align: right;\">\n",
       "      <th></th>\n",
       "      <th>날짜</th>\n",
       "      <th>지점</th>\n",
       "      <th>평균기온</th>\n",
       "      <th>최저기온</th>\n",
       "      <th>최고기온</th>\n",
       "    </tr>\n",
       "  </thead>\n",
       "  <tbody>\n",
       "    <tr>\n",
       "      <th>0</th>\n",
       "      <td>1909-01-01</td>\n",
       "      <td>143</td>\n",
       "      <td>-4.1</td>\n",
       "      <td>-8.0</td>\n",
       "      <td>0.1</td>\n",
       "    </tr>\n",
       "    <tr>\n",
       "      <th>1</th>\n",
       "      <td>1909-01-02</td>\n",
       "      <td>143</td>\n",
       "      <td>-0.8</td>\n",
       "      <td>-6.7</td>\n",
       "      <td>6.1</td>\n",
       "    </tr>\n",
       "    <tr>\n",
       "      <th>2</th>\n",
       "      <td>1909-01-03</td>\n",
       "      <td>143</td>\n",
       "      <td>1.0</td>\n",
       "      <td>-2.4</td>\n",
       "      <td>3.6</td>\n",
       "    </tr>\n",
       "    <tr>\n",
       "      <th>3</th>\n",
       "      <td>1909-01-04</td>\n",
       "      <td>143</td>\n",
       "      <td>4.2</td>\n",
       "      <td>0.0</td>\n",
       "      <td>9.2</td>\n",
       "    </tr>\n",
       "    <tr>\n",
       "      <th>4</th>\n",
       "      <td>1909-01-05</td>\n",
       "      <td>143</td>\n",
       "      <td>3.4</td>\n",
       "      <td>-0.4</td>\n",
       "      <td>9.0</td>\n",
       "    </tr>\n",
       "    <tr>\n",
       "      <th>...</th>\n",
       "      <td>...</td>\n",
       "      <td>...</td>\n",
       "      <td>...</td>\n",
       "      <td>...</td>\n",
       "      <td>...</td>\n",
       "    </tr>\n",
       "    <tr>\n",
       "      <th>41416</th>\n",
       "      <td>2022-05-28</td>\n",
       "      <td>143</td>\n",
       "      <td>24.9</td>\n",
       "      <td>15.2</td>\n",
       "      <td>33.0</td>\n",
       "    </tr>\n",
       "    <tr>\n",
       "      <th>41417</th>\n",
       "      <td>2022-05-29</td>\n",
       "      <td>143</td>\n",
       "      <td>24.9</td>\n",
       "      <td>16.2</td>\n",
       "      <td>33.0</td>\n",
       "    </tr>\n",
       "    <tr>\n",
       "      <th>41418</th>\n",
       "      <td>2022-05-30</td>\n",
       "      <td>143</td>\n",
       "      <td>24.3</td>\n",
       "      <td>20.5</td>\n",
       "      <td>29.6</td>\n",
       "    </tr>\n",
       "    <tr>\n",
       "      <th>41419</th>\n",
       "      <td>2022-05-31</td>\n",
       "      <td>143</td>\n",
       "      <td>24.7</td>\n",
       "      <td>18.6</td>\n",
       "      <td>31.1</td>\n",
       "    </tr>\n",
       "    <tr>\n",
       "      <th>41420</th>\n",
       "      <td>2022-06-01</td>\n",
       "      <td>143</td>\n",
       "      <td>24.7</td>\n",
       "      <td>18.7</td>\n",
       "      <td>33.1</td>\n",
       "    </tr>\n",
       "  </tbody>\n",
       "</table>\n",
       "<p>41421 rows × 5 columns</p>\n",
       "</div>"
      ],
      "text/plain": [
       "               날짜   지점  평균기온  최저기온  최고기온\n",
       "0      1909-01-01  143  -4.1  -8.0   0.1\n",
       "1      1909-01-02  143  -0.8  -6.7   6.1\n",
       "2      1909-01-03  143   1.0  -2.4   3.6\n",
       "3      1909-01-04  143   4.2   0.0   9.2\n",
       "4      1909-01-05  143   3.4  -0.4   9.0\n",
       "...           ...  ...   ...   ...   ...\n",
       "41416  2022-05-28  143  24.9  15.2  33.0\n",
       "41417  2022-05-29  143  24.9  16.2  33.0\n",
       "41418  2022-05-30  143  24.3  20.5  29.6\n",
       "41419  2022-05-31  143  24.7  18.6  31.1\n",
       "41420  2022-06-01  143  24.7  18.7  33.1\n",
       "\n",
       "[41421 rows x 5 columns]"
      ]
     },
     "execution_count": 240,
     "metadata": {},
     "output_type": "execute_result"
    }
   ],
   "source": [
    "# 누락값을 제거한 최종 데이터를 csv파일로 저장\n",
    "# • index = False: 인덱스 항목 저장 안함\n",
    "# • encoding=‘utf-8’ (euc_kr이 아닌 utf-8로 저장)\n",
    "weather_df.to_csv('./Data/' + 'myDaegu_utf-8.csv', index=False, mode='w', encoding='utf-8')\n",
    "\n",
    "\n",
    "pd.read_csv('./Data/' + 'myDaegu_utf-8.csv')"
   ]
  },
  {
   "cell_type": "code",
   "execution_count": 235,
   "id": "a741bda9",
   "metadata": {},
   "outputs": [
    {
     "name": "stdout",
     "output_type": "stream",
     "text": [
      "              날짜   지점  평균기온  최저기온  최고기온\n",
      "41790 2021-07-01  143  25.1  19.6  32.4\n",
      "41791 2021-07-02  143  24.0  20.3  28.8\n",
      "41792 2021-07-03  143  22.7  21.4  24.8\n",
      "41793 2021-07-04  143  27.8  21.8  32.4\n",
      "41794 2021-07-05  143  23.8  20.6  27.2\n"
     ]
    }
   ],
   "source": [
    "# 특정 연도와 달의 최고,최저 기온 평균값 계산\n",
    "# • 해당 연도와 달의 DataFrame 가져오기\n",
    "# • datetime 객체 접근\n",
    "# – dt.year, dt.month, dt.day\n",
    "\n",
    "year_df = weather_df[weather_df['날짜'].dt.year == 2021]\n",
    "month_df = year_df[year_df['날짜'].dt.month == 7]\n",
    "print(month_df.head())\n",
    "\n",
    "# 연도와 달의 데이터 검색 => 추출 => 데이터 크기 축소 => 메모리 사용 줄임."
   ]
  },
  {
   "cell_type": "code",
   "execution_count": 233,
   "id": "213a475e",
   "metadata": {},
   "outputs": [
    {
     "name": "stdout",
     "output_type": "stream",
     "text": [
      "2021년 7월 최저기온 평균:22.9, 최고기온 평균 :32.1\n"
     ]
    }
   ],
   "source": [
    "# 특정 연도와 달의 최저 기온 및 최고 기온의 평균 계산\n",
    "max_temp_mean = round(month_df['최고기온'].mean(), 1)\n",
    "min_temp_mean = round(month_df['최저기온'].mean(), 1)\n",
    "print('2021년 7월 최저기온 평균:{}, 최고기온 평균 :{}'.format(min_temp_mean, max_temp_mean))"
   ]
  },
  {
   "cell_type": "code",
   "execution_count": null,
   "id": "0ce9f036",
   "metadata": {},
   "outputs": [],
   "source": []
  }
 ],
 "metadata": {
  "kernelspec": {
   "display_name": "Python 3 (ipykernel)",
   "language": "python",
   "name": "python3"
  },
  "language_info": {
   "codemirror_mode": {
    "name": "ipython",
    "version": 3
   },
   "file_extension": ".py",
   "mimetype": "text/x-python",
   "name": "python",
   "nbconvert_exporter": "python",
   "pygments_lexer": "ipython3",
   "version": "3.9.12"
  }
 },
 "nbformat": 4,
 "nbformat_minor": 5
}
