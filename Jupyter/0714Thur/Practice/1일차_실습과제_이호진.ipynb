{
 "cells": [
  {
   "cell_type": "code",
   "execution_count": 68,
   "id": "37578bb1",
   "metadata": {},
   "outputs": [],
   "source": [
    "import pandas as pd\n",
    "import csv\n",
    "import numpy as np\n",
    "import platform\n",
    "import matplotlib.pyplot as plt\n",
    "import matplotlib.font_manager as fm"
   ]
  },
  {
   "cell_type": "code",
   "execution_count": 69,
   "id": "76903762",
   "metadata": {},
   "outputs": [
    {
     "name": "stdout",
     "output_type": "stream",
     "text": [
      "           날짜   지점  평균기온  최저기온  최고기온\n",
      "0  1909-01-01  143  -4.1  -8.0   0.1\n",
      "1  1909-01-02  143  -0.8  -6.7   6.1\n",
      "2  1909-01-03  143   1.0  -2.4   3.6\n",
      "3  1909-01-04  143   4.2   0.0   9.2\n",
      "4  1909-01-05  143   3.4  -0.4   9.0\n"
     ]
    }
   ],
   "source": [
    "DIR='../Data1/'\n",
    "weatherDF = pd.read_csv(DIR+'daegu_utf8.csv')\n",
    "print(weatherDF.head())"
   ]
  },
  {
   "cell_type": "code",
   "execution_count": 70,
   "id": "99f6d775",
   "metadata": {},
   "outputs": [],
   "source": [
    "weatherDF['날짜'] = pd.to_datetime(weatherDF['날짜'])"
   ]
  },
  {
   "cell_type": "code",
   "execution_count": 71,
   "id": "20efa71b",
   "metadata": {},
   "outputs": [
    {
     "data": {
      "text/html": [
       "<div>\n",
       "<style scoped>\n",
       "    .dataframe tbody tr th:only-of-type {\n",
       "        vertical-align: middle;\n",
       "    }\n",
       "\n",
       "    .dataframe tbody tr th {\n",
       "        vertical-align: top;\n",
       "    }\n",
       "\n",
       "    .dataframe thead th {\n",
       "        text-align: right;\n",
       "    }\n",
       "</style>\n",
       "<table border=\"1\" class=\"dataframe\">\n",
       "  <thead>\n",
       "    <tr style=\"text-align: right;\">\n",
       "      <th></th>\n",
       "      <th>날짜</th>\n",
       "      <th>지점</th>\n",
       "      <th>평균기온</th>\n",
       "      <th>최저기온</th>\n",
       "      <th>최고기온</th>\n",
       "    </tr>\n",
       "  </thead>\n",
       "  <tbody>\n",
       "    <tr>\n",
       "      <th>0</th>\n",
       "      <td>1909-01-01</td>\n",
       "      <td>143</td>\n",
       "      <td>-4.1</td>\n",
       "      <td>-8.0</td>\n",
       "      <td>0.1</td>\n",
       "    </tr>\n",
       "    <tr>\n",
       "      <th>1</th>\n",
       "      <td>1909-01-02</td>\n",
       "      <td>143</td>\n",
       "      <td>-0.8</td>\n",
       "      <td>-6.7</td>\n",
       "      <td>6.1</td>\n",
       "    </tr>\n",
       "    <tr>\n",
       "      <th>2</th>\n",
       "      <td>1909-01-03</td>\n",
       "      <td>143</td>\n",
       "      <td>1.0</td>\n",
       "      <td>-2.4</td>\n",
       "      <td>3.6</td>\n",
       "    </tr>\n",
       "    <tr>\n",
       "      <th>3</th>\n",
       "      <td>1909-01-04</td>\n",
       "      <td>143</td>\n",
       "      <td>4.2</td>\n",
       "      <td>0.0</td>\n",
       "      <td>9.2</td>\n",
       "    </tr>\n",
       "    <tr>\n",
       "      <th>4</th>\n",
       "      <td>1909-01-05</td>\n",
       "      <td>143</td>\n",
       "      <td>3.4</td>\n",
       "      <td>-0.4</td>\n",
       "      <td>9.0</td>\n",
       "    </tr>\n",
       "    <tr>\n",
       "      <th>...</th>\n",
       "      <td>...</td>\n",
       "      <td>...</td>\n",
       "      <td>...</td>\n",
       "      <td>...</td>\n",
       "      <td>...</td>\n",
       "    </tr>\n",
       "    <tr>\n",
       "      <th>41445</th>\n",
       "      <td>2022-06-26</td>\n",
       "      <td>143</td>\n",
       "      <td>28.4</td>\n",
       "      <td>24.4</td>\n",
       "      <td>32.8</td>\n",
       "    </tr>\n",
       "    <tr>\n",
       "      <th>41446</th>\n",
       "      <td>2022-06-27</td>\n",
       "      <td>143</td>\n",
       "      <td>27.3</td>\n",
       "      <td>25.4</td>\n",
       "      <td>30.1</td>\n",
       "    </tr>\n",
       "    <tr>\n",
       "      <th>41447</th>\n",
       "      <td>2022-06-28</td>\n",
       "      <td>143</td>\n",
       "      <td>28.9</td>\n",
       "      <td>24.8</td>\n",
       "      <td>32.3</td>\n",
       "    </tr>\n",
       "    <tr>\n",
       "      <th>41448</th>\n",
       "      <td>2022-06-29</td>\n",
       "      <td>143</td>\n",
       "      <td>29.5</td>\n",
       "      <td>27.7</td>\n",
       "      <td>33.7</td>\n",
       "    </tr>\n",
       "    <tr>\n",
       "      <th>41449</th>\n",
       "      <td>2022-06-30</td>\n",
       "      <td>143</td>\n",
       "      <td>29.8</td>\n",
       "      <td>26.5</td>\n",
       "      <td>34.8</td>\n",
       "    </tr>\n",
       "  </tbody>\n",
       "</table>\n",
       "<p>41450 rows × 5 columns</p>\n",
       "</div>"
      ],
      "text/plain": [
       "              날짜   지점  평균기온  최저기온  최고기온\n",
       "0     1909-01-01  143  -4.1  -8.0   0.1\n",
       "1     1909-01-02  143  -0.8  -6.7   6.1\n",
       "2     1909-01-03  143   1.0  -2.4   3.6\n",
       "3     1909-01-04  143   4.2   0.0   9.2\n",
       "4     1909-01-05  143   3.4  -0.4   9.0\n",
       "...          ...  ...   ...   ...   ...\n",
       "41445 2022-06-26  143  28.4  24.4  32.8\n",
       "41446 2022-06-27  143  27.3  25.4  30.1\n",
       "41447 2022-06-28  143  28.9  24.8  32.3\n",
       "41448 2022-06-29  143  29.5  27.7  33.7\n",
       "41449 2022-06-30  143  29.8  26.5  34.8\n",
       "\n",
       "[41450 rows x 5 columns]"
      ]
     },
     "execution_count": 71,
     "metadata": {},
     "output_type": "execute_result"
    }
   ],
   "source": [
    "weatherDF"
   ]
  },
  {
   "cell_type": "code",
   "execution_count": 75,
   "id": "fe2611a2",
   "metadata": {},
   "outputs": [
    {
     "name": "stdout",
     "output_type": "stream",
     "text": [
      "Windows OS\n"
     ]
    }
   ],
   "source": [
    "system_name = platform.system()\n",
    "if system_name == 'Windows':\n",
    "    print('Windows OS')\n",
    "    plt.rc('font', family='Malgun Gothic')\n",
    "elif system_name == 'Darwin':\n",
    "    print('Mac OS')\n",
    "    plt.rc('font', family= 'AppleGothic')\n",
    "elif system_name == 'Linux':\n",
    "    print('Linux OS')\n",
    "    path = '/usr/share/fonts/truetype/nanum/NanumMyeongjo.ttf'\n",
    "    font_name = fm.FontProperties(fname=path, size=12)\n",
    "    plt.rc('font', family=font_name)\n",
    "else:\n",
    "    print('Not Support')"
   ]
  },
  {
   "cell_type": "code",
   "execution_count": 82,
   "id": "fff202b5",
   "metadata": {},
   "outputs": [
    {
     "name": "stdout",
     "output_type": "stream",
     "text": [
      "시작 연도를 입력하세요:2010\n",
      "마지막 연도를 입력하세요:2021\n",
      "기온 변화를 측정할 달을 입력하세요:12\n"
     ]
    },
    {
     "data": {
      "image/png": "[encoded data removed]",
      "text/plain": [
       "<Figure size 1440x288 with 1 Axes>"
      ]
     },
     "metadata": {
      "needs_background": "light"
     },
     "output_type": "display_data"
    }
   ],
   "source": [
    "firstyear=int(input(\"시작 연도를 입력하세요:\"))\n",
    "lastyear=int(input(\"마지막 연도를 입력하세요:\"))\n",
    "weatherchange=int(input(\"기온 변화를 측정할 달을 입력하세요:\"))\n",
    "\n",
    "yearplus=weatherDF[(weatherDF['날짜'].dt.year >= firstyear) & \n",
    "                   (weatherDF['날짜'].dt.year <= lastyear) & \n",
    "                   (weatherDF['날짜'].dt.month == weatherchange)]\n",
    "\n",
    "yearmean= yearplus.groupby(weatherDF['날짜'].dt.year).mean()\n",
    "\n",
    "yearmax = round(yearmean['최고기온'], 1)\n",
    "yearmin = round(yearmean['최저기온'], 1)\n",
    "\n",
    "yearmax1 = yearmax.to_list()\n",
    "yearmin1 = yearmin.to_list()\n",
    "\n",
    "\n",
    "plt.figure(figsize=(20,4))\n",
    "plt.rcParams['axes.unicode_minus'] = False\n",
    "plt.plot(yearmax, label='최고 기온', marker='s', color='r')\n",
    "plt.plot(yearmin, label='최저 기온', marker='o', color='b')\n",
    "plt.title(f'{firstyear}년부터 {lastyear}년까지의 {weatherchange}월의기온변화')\n",
    "plt.legend(loc=0)\n",
    "plt.show()"
   ]
  },
  {
   "cell_type": "code",
   "execution_count": null,
   "id": "60e4fbc0",
   "metadata": {},
   "outputs": [],
   "source": []
  }
 ],
 "metadata": {
  "kernelspec": {
   "display_name": "Python 3 (ipykernel)",
   "language": "python",
   "name": "python3"
  },
  "language_info": {
   "codemirror_mode": {
    "name": "ipython",
    "version": 3
   },
   "file_extension": ".py",
   "mimetype": "text/x-python",
   "name": "python",
   "nbconvert_exporter": "python",
   "pygments_lexer": "ipython3",
   "version": "3.9.12"
  }
 },
 "nbformat": 4,
 "nbformat_minor": 5
}
