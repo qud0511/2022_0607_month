{
 "cells": [
  {
   "cell_type": "code",
   "execution_count": 74,
   "metadata": {},
   "outputs": [
    {
     "data": {
      "text/html": [
       "<div>\n",
       "<style scoped>\n",
       "    .dataframe tbody tr th:only-of-type {\n",
       "        vertical-align: middle;\n",
       "    }\n",
       "\n",
       "    .dataframe tbody tr th {\n",
       "        vertical-align: top;\n",
       "    }\n",
       "\n",
       "    .dataframe thead th {\n",
       "        text-align: right;\n",
       "    }\n",
       "</style>\n",
       "<table border=\"1\" class=\"dataframe\">\n",
       "  <thead>\n",
       "    <tr style=\"text-align: right;\">\n",
       "      <th></th>\n",
       "      <th>날짜</th>\n",
       "      <th>지점</th>\n",
       "      <th>평균기온</th>\n",
       "      <th>최저기온</th>\n",
       "      <th>최고기온</th>\n",
       "    </tr>\n",
       "  </thead>\n",
       "  <tbody>\n",
       "    <tr>\n",
       "      <th>0</th>\n",
       "      <td>1909-01-01</td>\n",
       "      <td>143</td>\n",
       "      <td>-4.1</td>\n",
       "      <td>-8.0</td>\n",
       "      <td>0.1</td>\n",
       "    </tr>\n",
       "    <tr>\n",
       "      <th>1</th>\n",
       "      <td>1909-01-02</td>\n",
       "      <td>143</td>\n",
       "      <td>-0.8</td>\n",
       "      <td>-6.7</td>\n",
       "      <td>6.1</td>\n",
       "    </tr>\n",
       "  </tbody>\n",
       "</table>\n",
       "</div>"
      ],
      "text/plain": [
       "           날짜   지점  평균기온  최저기온  최고기온\n",
       "0  1909-01-01  143  -4.1  -8.0   0.1\n",
       "1  1909-01-02  143  -0.8  -6.7   6.1"
      ]
     },
     "execution_count": 74,
     "metadata": {},
     "output_type": "execute_result"
    }
   ],
   "source": [
    "# MODULE\n",
    "import pandas as pd\n",
    "import numpy as np\n",
    "import matplotlib.pyplot as plt\n",
    "import platform\n",
    "    # import csv\n",
    "    # # pandas 는 파일을 DF 형태로 변수에 저장하는 방식\n",
    "    # # b/ open()은 X -> close() 꼭 해주기\n",
    "\n",
    "    # f=open('../Data/daegu_utf8.csv', mode='r', encoding='euc_kr')\n",
    "\n",
    "# FILE\n",
    "FILE='../Data/daegu_utf8.csv'\n",
    "\n",
    "# READ\n",
    "DaeguWeatherDF=pd.read_csv(FILE, encoding='utf-8')\n",
    "\n",
    "DaeguWeatherDF.head(2)\n"
   ]
  },
  {
   "cell_type": "code",
   "execution_count": 75,
   "metadata": {},
   "outputs": [
    {
     "name": "stdout",
     "output_type": "stream",
     "text": [
      "Windows OS\n"
     ]
    }
   ],
   "source": [
    "# 시스템 설정\n",
    "system_name = platform.system()\n",
    "if system_name == 'Windows':\n",
    "    print('Windows OS')\n",
    "    plt.rc('font', family = 'Malgun Gothic')\n",
    "    \n",
    "elif system_name == 'Darwin':\n",
    "    print('Mac OS')\n",
    "    plt.rc('font', family = 'AppleGothic')\n",
    "    \n",
    "elif system_name == 'Linux':\n",
    "    print('Linux OS')\n",
    "    path = '/usr/share/fonts/truetype/nanum/NanumMyeongjo.ttf'\n",
    "    font_name = fm.FontProperties(fname = path, size = 12)\n",
    "    plt.rc('font', family = font_name)\n",
    "    \n",
    "else:\n",
    "    print('Not support')"
   ]
  },
  {
   "cell_type": "code",
   "execution_count": 76,
   "metadata": {},
   "outputs": [
    {
     "name": "stdout",
     "output_type": "stream",
     "text": [
      "<class 'pandas.core.frame.DataFrame'>\n",
      "RangeIndex: 41450 entries, 0 to 41449\n",
      "Data columns (total 5 columns):\n",
      " #   Column  Non-Null Count  Dtype  \n",
      "---  ------  --------------  -----  \n",
      " 0   날짜      41450 non-null  object \n",
      " 1   지점      41450 non-null  int64  \n",
      " 2   평균기온    41450 non-null  float64\n",
      " 3   최저기온    41450 non-null  float64\n",
      " 4   최고기온    41450 non-null  float64\n",
      "dtypes: float64(3), int64(1), object(1)\n",
      "memory usage: 1.6+ MB\n"
     ]
    }
   ],
   "source": [
    "DaeguWeatherDF.info()"
   ]
  },
  {
   "cell_type": "code",
   "execution_count": 77,
   "metadata": {},
   "outputs": [
    {
     "name": "stdout",
     "output_type": "stream",
     "text": [
      "datetime64[ns]\n",
      "\n",
      "0   1909-01-01\n",
      "1   1909-01-02\n",
      "2   1909-01-03\n",
      "Name: 날짜, dtype: datetime64[ns]\n",
      "<class 'pandas.core.frame.DataFrame'>\n",
      "RangeIndex: 41450 entries, 0 to 41449\n",
      "Data columns (total 5 columns):\n",
      " #   Column  Non-Null Count  Dtype         \n",
      "---  ------  --------------  -----         \n",
      " 0   날짜      41450 non-null  datetime64[ns]\n",
      " 1   지점      41450 non-null  int64         \n",
      " 2   평균기온    41450 non-null  float64       \n",
      " 3   최저기온    41450 non-null  float64       \n",
      " 4   최고기온    41450 non-null  float64       \n",
      "dtypes: datetime64[ns](1), float64(3), int64(1)\n",
      "memory usage: 1.6 MB\n",
      "\n",
      " None\n"
     ]
    }
   ],
   "source": [
    "# 날짜 컬럼 data type cast to datetime\n",
    "DaeguWeatherDF['날짜']=pd.to_datetime(DaeguWeatherDF['날짜'], format='%Y-%m-%d')\n",
    "print(DaeguWeatherDF['날짜'].dtype, DaeguWeatherDF['날짜'].head(3), sep='\\n\\n')\n",
    "print('\\n', DaeguWeatherDF.info())"
   ]
  },
  {
   "cell_type": "code",
   "execution_count": 78,
   "metadata": {},
   "outputs": [],
   "source": [
    "# 함수 생성 \n",
    "\n",
    "# 기    능 : 시작년도~끝년도 만 포함하는 DF 객체 생성\n",
    "# 함 수 명 : yearTrim\n",
    "# 파라미터 : 시작년도, 끝년도\n",
    "# 리 턴 값 : 해당 년도의 데이터를 포함한 DF객체\n",
    "\n",
    "def yearTrim(start,end):\n",
    "    DaeguTemp_trimed=pd.DataFrame()\n",
    "    for i in range(start, end+1):                                                        \n",
    "        year_df=DaeguWeatherDF[DaeguWeatherDF['날짜'].dt.year==i]\n",
    "        DaeguTemp_trimed=pd.concat([DaeguTemp_trimed, year_df],ignore_index=True)\n",
    "    return DaeguTemp_trimed\n",
    "\n"
   ]
  },
  {
   "cell_type": "code",
   "execution_count": 89,
   "metadata": {},
   "outputs": [],
   "source": [
    "# 기    능 : 해당 월의 최고 기온의 평균값, 최저기온의 평균값 산출\n",
    "# 함 수 명 : tempMaxMin\n",
    "# 파라미터 : yearTrimDF, 월\n",
    "# 리 턴 값 : 해달 월의 최고 기온의 평균값, 최저기온의 평균값\n",
    "\n",
    "def tempMaxMin(yearTrimDF , month,start, end):\n",
    "    tempMaxList=[]\n",
    "    tempMinList=[]\n",
    "    month_df=yearTrimDF[yearTrimDF['날짜'].dt.month==month]\n",
    "    for i in range(start, end+1):\n",
    "        maxTemp_mean=round(month_df[month_df['날짜'].dt.year==i]['최고기온'].mean(),2)\n",
    "        minTemp_mean=round(month_df[month_df['날짜'].dt.year==i]['최저기온'].mean(),2)\n",
    "        tempMaxList.append(maxTemp_mean)\n",
    "        tempMinList.append(minTemp_mean)\n",
    "    return tempMaxList, tempMinList   \n"
   ]
  },
  {
   "cell_type": "code",
   "execution_count": 90,
   "metadata": {},
   "outputs": [],
   "source": [
    "# 기    능 : 그래프 구현\n",
    "# 함 수 명 : drawMinMaxTemp\n",
    "# 파라미터 : 월, 시작년도, 끝년도, MaxTempList, MinTempList\n",
    "# 리 턴 값 : 없음\n",
    "\n",
    "def drawMinMaxTemp(month,start,end,maxList,minList):\n",
    "    plt.figure(figsize=(20,4))\n",
    "    line1=plt.plot(range(start,end+1), maxList, 'ro-', ms=5, label='최고온도')\n",
    "    line2=plt.plot(range(start,end+1), minList, 'bo-', ms=5, label='최저온도')\n",
    "\n",
    "    plt.title(f'{start}년~{end}년 최고온도,최저온도')\n",
    "    plt.xticks(list(range(start,end+1)))\n",
    "    plt.grid(True)\n",
    "\n",
    "    lines=line1+line2\n",
    "    labels=[l.get_label() for l in lines]\n",
    "    plt.legend(lines, labels, loc=2)"
   ]
  },
  {
   "cell_type": "code",
   "execution_count": 94,
   "metadata": {},
   "outputs": [
    {
     "data": {
      "image/png": "[encoded data removed]",
      "text/plain": [
       "<Figure size 1440x288 with 1 Axes>"
      ]
     },
     "metadata": {
      "needs_background": "light"
     },
     "output_type": "display_data"
    }
   ],
   "source": [
    "# 사용자 입력 \n",
    "start=int(input('시작년도를 입력하세요. : '))\n",
    "end=int(input('끝년도를 입력하세요. : '))\n",
    "month=int(input('월을 입력하세요. : '))\n",
    "\n",
    "\n",
    "DF=yearTrim(start, end)\n",
    "MaxMinList=tempMaxMin(DF, month,start, end)\n",
    "drawMinMaxTemp(month, start, end, MaxMinList[0], MaxMinList[1])"
   ]
  },
  {
   "cell_type": "code",
   "execution_count": 92,
   "metadata": {},
   "outputs": [
    {
     "name": "stdout",
     "output_type": "stream",
     "text": [
      "[31.38, 28.47, 29.22, 30.71, 31.01, 33.27, 31.98, 30.74, 29.65, 33.62, 30.34, 32.36, 34.44, 28.85, 31.23, 33.23, 31.35, 32.87, 32.2, 33.29, 30.55] \n",
      "\n",
      "[23.68, 22.12, 21.67, 22.4, 22.94, 24.35, 24.16, 22.2, 22.2, 25.03, 23.07, 24.54, 24.97, 21.7, 22.01, 23.16, 22.53, 23.65, 23.73, 24.81, 22.4]\n"
     ]
    }
   ],
   "source": []
  },
  {
   "cell_type": "code",
   "execution_count": null,
   "metadata": {},
   "outputs": [],
   "source": []
  },
  {
   "cell_type": "code",
   "execution_count": null,
   "metadata": {},
   "outputs": [],
   "source": []
  }
 ],
 "metadata": {
  "kernelspec": {
   "display_name": "Python 3 (ipykernel)",
   "language": "python",
   "name": "python3"
  },
  "language_info": {
   "codemirror_mode": {
    "name": "ipython",
    "version": 3
   },
   "file_extension": ".py",
   "mimetype": "text/x-python",
   "name": "python",
   "nbconvert_exporter": "python",
   "pygments_lexer": "ipython3",
   "version": "3.9.12"
  },
  "vscode": {
   "interpreter": {
    "hash": "d1dde8d3f1fc6169eb2afb9c884f1482ff31994a855398e316a83a9dc8ff488b"
   }
  }
 },
 "nbformat": 4,
 "nbformat_minor": 2
}
