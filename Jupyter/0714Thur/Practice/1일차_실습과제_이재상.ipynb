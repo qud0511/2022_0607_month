{
 "cells": [
  {
   "cell_type": "code",
   "execution_count": 46,
   "id": "e1c3c5f0",
   "metadata": {},
   "outputs": [
    {
     "name": "stdout",
     "output_type": "stream",
     "text": [
      "<class 'pandas.core.frame.DataFrame'>\n",
      "RangeIndex: 41450 entries, 0 to 41449\n",
      "Data columns (total 5 columns):\n",
      " #   Column  Non-Null Count  Dtype         \n",
      "---  ------  --------------  -----         \n",
      " 0   날짜      41450 non-null  datetime64[ns]\n",
      " 1   지점      41450 non-null  int64         \n",
      " 2   평균기온    41450 non-null  float64       \n",
      " 3   최저기온    41450 non-null  float64       \n",
      " 4   최고기온    41450 non-null  float64       \n",
      "dtypes: datetime64[ns](1), float64(3), int64(1)\n",
      "memory usage: 1.6 MB\n"
     ]
    }
   ],
   "source": [
    "# 모듈 로딩\n",
    "import pandas as pd\n",
    "import numpy as np\n",
    "import matplotlib.pyplot as plt\n",
    "import platform\n",
    "import matplotlib.font_manager as fm\n",
    "\n",
    "# DF 생성 및 날짜 컬럼 타입 변환\n",
    "w_df=pd.read_csv('daegu_utf8.csv')\n",
    "w_df['날짜']=w_df['날짜'].astype('datetime64')\n",
    "w_df.info()"
   ]
  },
  {
   "cell_type": "code",
   "execution_count": 47,
   "id": "5897e99a",
   "metadata": {
    "scrolled": false
   },
   "outputs": [
    {
     "data": {
      "text/html": [
       "<div>\n",
       "<style scoped>\n",
       "    .dataframe tbody tr th:only-of-type {\n",
       "        vertical-align: middle;\n",
       "    }\n",
       "\n",
       "    .dataframe tbody tr th {\n",
       "        vertical-align: top;\n",
       "    }\n",
       "\n",
       "    .dataframe thead th {\n",
       "        text-align: right;\n",
       "    }\n",
       "</style>\n",
       "<table border=\"1\" class=\"dataframe\">\n",
       "  <thead>\n",
       "    <tr style=\"text-align: right;\">\n",
       "      <th></th>\n",
       "      <th>날짜</th>\n",
       "      <th>지점</th>\n",
       "      <th>평균기온</th>\n",
       "      <th>최저기온</th>\n",
       "      <th>최고기온</th>\n",
       "    </tr>\n",
       "  </thead>\n",
       "  <tbody>\n",
       "    <tr>\n",
       "      <th>0</th>\n",
       "      <td>1909-01-01</td>\n",
       "      <td>143</td>\n",
       "      <td>-4.1</td>\n",
       "      <td>-8.0</td>\n",
       "      <td>0.1</td>\n",
       "    </tr>\n",
       "    <tr>\n",
       "      <th>1</th>\n",
       "      <td>1909-01-02</td>\n",
       "      <td>143</td>\n",
       "      <td>-0.8</td>\n",
       "      <td>-6.7</td>\n",
       "      <td>6.1</td>\n",
       "    </tr>\n",
       "    <tr>\n",
       "      <th>2</th>\n",
       "      <td>1909-01-03</td>\n",
       "      <td>143</td>\n",
       "      <td>1.0</td>\n",
       "      <td>-2.4</td>\n",
       "      <td>3.6</td>\n",
       "    </tr>\n",
       "    <tr>\n",
       "      <th>3</th>\n",
       "      <td>1909-01-04</td>\n",
       "      <td>143</td>\n",
       "      <td>4.2</td>\n",
       "      <td>0.0</td>\n",
       "      <td>9.2</td>\n",
       "    </tr>\n",
       "    <tr>\n",
       "      <th>4</th>\n",
       "      <td>1909-01-05</td>\n",
       "      <td>143</td>\n",
       "      <td>3.4</td>\n",
       "      <td>-0.4</td>\n",
       "      <td>9.0</td>\n",
       "    </tr>\n",
       "  </tbody>\n",
       "</table>\n",
       "</div>"
      ],
      "text/plain": [
       "          날짜   지점  평균기온  최저기온  최고기온\n",
       "0 1909-01-01  143  -4.1  -8.0   0.1\n",
       "1 1909-01-02  143  -0.8  -6.7   6.1\n",
       "2 1909-01-03  143   1.0  -2.4   3.6\n",
       "3 1909-01-04  143   4.2   0.0   9.2\n",
       "4 1909-01-05  143   3.4  -0.4   9.0"
      ]
     },
     "execution_count": 47,
     "metadata": {},
     "output_type": "execute_result"
    }
   ],
   "source": [
    "w_df.head()"
   ]
  },
  {
   "cell_type": "code",
   "execution_count": 48,
   "id": "dcf7e477",
   "metadata": {},
   "outputs": [],
   "source": [
    "# 사용자 정의 함수\n",
    "# 온도 데이터 추출 및 그래프 생성\n",
    "def TempP(year1, year2, m):\n",
    "    high_temp=[]\n",
    "    low_temp=[]\n",
    "    # 데이터 추출\n",
    "    for y in range(year1,year2+1):\n",
    "        year_df=w_df[w_df['날짜'].dt.year==y]\n",
    "        year_df=year_df[year_df['날짜'].dt.month==m]\n",
    "        high_temp.append(year_df['최고기온'].mean())\n",
    "        low_temp.append(year_df['최저기온'].mean())\n",
    "    \n",
    "    # 그래프 생성\n",
    "    print(f\"{year1}년부터 {year2}년까지 {m}월의 기온 변화 \\n {m}월 최저기온 평균 :\\n {np.round(low_temp,1)} \\n {m}월 최고기온 평균 :\\n {np.round(high_temp,1)}\")\n",
    "    plt.figure(figsize=(20,4))\n",
    "    plt.plot(range(year1,year2+1), high_temp, 'tomato', marker='o', label='최고기온')\n",
    "    plt.plot(range(year1,year2+1), low_temp, 'royalblue', marker='o', label='최저기온')\n",
    "    \n",
    "    # 운영체제별 폰트 설정\n",
    "    if platform.system() == 'Windows':\n",
    "        font_name = fm.FontProperties(fname='c:\\Windows\\Fonts\\malgun.ttf').get_name()\n",
    "        plt.rc('font', family=font_name)\n",
    "    else:\n",
    "        plt.rc('font', family='AppleGothic', size=8)\n",
    "\n",
    "    # 마이너스 기호 출력 깨짐 방지\n",
    "    plt.rcParams['axes.unicode_minus'] = False\n",
    "    plt.title(f'{year1}년부터 {year2}년까지 {m}월의 기온 변화', size=16)\n",
    "    plt.legend(loc=2)\n",
    "    plt.show()"
   ]
  },
  {
   "cell_type": "code",
   "execution_count": 49,
   "id": "38bddb22",
   "metadata": {},
   "outputs": [
    {
     "name": "stdout",
     "output_type": "stream",
     "text": [
      "시작 연도를 입력하세요.2020\n",
      "마지막 연도를 입력하세요.2022\n",
      "월을 입력하세요.5\n",
      "2020년부터 2022년까지 5월의 기온 변화 \n",
      " 5월 최저기온 평균 :\n",
      " [14.  12.8 14.1] \n",
      " 5월 최고기온 평균 :\n",
      " [25.7 24.3 27.4]\n"
     ]
    },
    {
     "data": {
      "image/png": "[encoded data removed]",
      "text/plain": [
       "<Figure size 1440x288 with 1 Axes>"
      ]
     },
     "metadata": {
      "needs_background": "light"
     },
     "output_type": "display_data"
    }
   ],
   "source": [
    "year1=int(input('시작 연도를 입력하세요.'))\n",
    "year2=int(input('마지막 연도를 입력하세요.'))\n",
    "m=int(input('월을 입력하세요.'))\n",
    "TempP(year1, year2, m)"
   ]
  },
  {
   "cell_type": "code",
   "execution_count": null,
   "id": "8821e028",
   "metadata": {},
   "outputs": [],
   "source": []
  }
 ],
 "metadata": {
  "kernelspec": {
   "display_name": "Python 3 (ipykernel)",
   "language": "python",
   "name": "python3"
  },
  "language_info": {
   "codemirror_mode": {
    "name": "ipython",
    "version": 3
   },
   "file_extension": ".py",
   "mimetype": "text/x-python",
   "name": "python",
   "nbconvert_exporter": "python",
   "pygments_lexer": "ipython3",
   "version": "3.9.12"
  }
 },
 "nbformat": 4,
 "nbformat_minor": 5
}
