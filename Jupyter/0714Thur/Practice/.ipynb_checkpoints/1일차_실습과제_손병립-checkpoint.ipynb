{
 "cells": [
  {
   "cell_type": "markdown",
   "metadata": {},
   "source": [
    "# 공공데이터 과제 #1\n",
    "#### 1. 시작 연도부터 끝나는 연도년까지 대구 기온 데이터에서 특정 월의 최고 기온 및 최저 기온의 평균값을 구하고 그래프로 표현 하시오."
   ]
  },
  {
   "cell_type": "code",
   "execution_count": 2,
   "metadata": {},
   "outputs": [
    {
     "name": "stdout",
     "output_type": "stream",
     "text": [
      "Windows OS\n",
      "datetime64[ns]\n"
     ]
    }
   ],
   "source": [
    "# 모듈 로딩\n",
    "import pandas as pd\n",
    "import matplotlib.pyplot as plt\n",
    "\n",
    "# 한글 글꼴\n",
    "import platform\n",
    "import matplotlib.font_manager as fm\n",
    "\n",
    "system_name=platform.system()\n",
    "if system_name=='Windows':         # Windows 운영체제\n",
    "    print('Windows OS')\n",
    "    plt.rc('font', family='Malgun Gothic')\n",
    "elif system_name=='Darwin':       # Mac OS\n",
    "    print('Mac OS')\n",
    "    plt.rc('font',family='AppleGothic')\n",
    "elif system_name=='Linux':        # Linux\n",
    "    print('Linux OS')\n",
    "    path = '/usr/share/fonts/truetype/nanum/NanumMyeongjo.ttf'  # => 폰트경로설정\n",
    "    font_name = fm.FontProperties(fname=path, size=12)\n",
    "    plt.rc('font',family=font_name)\n",
    "else:\n",
    "    print(\"Not support\")\n",
    "\n",
    "# 파일 불러오기\n",
    "weather_df=pd.read_csv('./daegu_utf8.csv',encoding='utf-8')\n",
    "\n",
    "# '날짜'컬럼 datetime으로 변환\n",
    "weather_df['날짜'] = pd.to_datetime(weather_df['날짜'], format='%Y-%m-%d')\n",
    "print(weather_df['날짜'].dtype)"
   ]
  },
  {
   "cell_type": "code",
   "execution_count": 3,
   "metadata": {},
   "outputs": [],
   "source": [
    "# 연/월 입력받기\n",
    "start_year=int(input('시작 연도를 입력하세요.'))\n",
    "end_year=int(input('마지막 연도를 입력하세요.'))\n",
    "month=int(input('기온 변화를 측정할 달을 입력하세요.'))\n",
    "\n",
    "# 필요한 연/월 추출\n",
    "year_df= weather_df[(weather_df['날짜'].dt.year>=start_year)&(weather_df['날짜'].dt.year<=end_year)]\n",
    "month_df=year_df[year_df['날짜'].dt.month==month]\n"
   ]
  },
  {
   "cell_type": "code",
   "execution_count": 4,
   "metadata": {},
   "outputs": [
    {
     "data": {
      "text/html": [
       "<div>\n",
       "<style scoped>\n",
       "    .dataframe tbody tr th:only-of-type {\n",
       "        vertical-align: middle;\n",
       "    }\n",
       "\n",
       "    .dataframe tbody tr th {\n",
       "        vertical-align: top;\n",
       "    }\n",
       "\n",
       "    .dataframe thead th {\n",
       "        text-align: right;\n",
       "    }\n",
       "</style>\n",
       "<table border=\"1\" class=\"dataframe\">\n",
       "  <thead>\n",
       "    <tr style=\"text-align: right;\">\n",
       "      <th></th>\n",
       "      <th>지점</th>\n",
       "      <th>평균기온</th>\n",
       "      <th>최저기온</th>\n",
       "      <th>최고기온</th>\n",
       "    </tr>\n",
       "    <tr>\n",
       "      <th>날짜</th>\n",
       "      <th></th>\n",
       "      <th></th>\n",
       "      <th></th>\n",
       "      <th></th>\n",
       "    </tr>\n",
       "  </thead>\n",
       "  <tbody>\n",
       "    <tr>\n",
       "      <th>2015</th>\n",
       "      <td>143.0</td>\n",
       "      <td>2.261290</td>\n",
       "      <td>-1.722581</td>\n",
       "      <td>6.812903</td>\n",
       "    </tr>\n",
       "    <tr>\n",
       "      <th>2016</th>\n",
       "      <td>143.0</td>\n",
       "      <td>-0.174194</td>\n",
       "      <td>-4.219355</td>\n",
       "      <td>4.329032</td>\n",
       "    </tr>\n",
       "    <tr>\n",
       "      <th>2017</th>\n",
       "      <td>143.0</td>\n",
       "      <td>1.080645</td>\n",
       "      <td>-3.677419</td>\n",
       "      <td>6.345161</td>\n",
       "    </tr>\n",
       "    <tr>\n",
       "      <th>2018</th>\n",
       "      <td>143.0</td>\n",
       "      <td>-0.929032</td>\n",
       "      <td>-5.170968</td>\n",
       "      <td>4.009677</td>\n",
       "    </tr>\n",
       "    <tr>\n",
       "      <th>2019</th>\n",
       "      <td>143.0</td>\n",
       "      <td>1.732258</td>\n",
       "      <td>-3.461290</td>\n",
       "      <td>7.322581</td>\n",
       "    </tr>\n",
       "  </tbody>\n",
       "</table>\n",
       "</div>"
      ],
      "text/plain": [
       "         지점      평균기온      최저기온      최고기온\n",
       "날짜                                       \n",
       "2015  143.0  2.261290 -1.722581  6.812903\n",
       "2016  143.0 -0.174194 -4.219355  4.329032\n",
       "2017  143.0  1.080645 -3.677419  6.345161\n",
       "2018  143.0 -0.929032 -5.170968  4.009677\n",
       "2019  143.0  1.732258 -3.461290  7.322581"
      ]
     },
     "execution_count": 4,
     "metadata": {},
     "output_type": "execute_result"
    }
   ],
   "source": [
    "# 연도별 그룹화\n",
    "year_group=month_df.groupby(month_df['날짜'].dt.year)\n",
    "year_group.mean()"
   ]
  },
  {
   "cell_type": "code",
   "execution_count": 5,
   "metadata": {},
   "outputs": [],
   "source": [
    "# 연도별 평균기온 리스트\n",
    "max_list=[]\n",
    "min_list=[]\n",
    "for i in year_group.mean()['최고기온'].values:\n",
    "    max_list+=[round(i,1)]\n",
    "for i in year_group.mean()['최저기온'].values:\n",
    "    min_list+=[round(i,1)]"
   ]
  },
  {
   "cell_type": "code",
   "execution_count": 6,
   "metadata": {},
   "outputs": [
    {
     "name": "stdout",
     "output_type": "stream",
     "text": [
      "\n",
      "2015년부터 2019년까지 1월의 기온 변화\n",
      "\n",
      "1월 최저기온 평균 :\n",
      "-1.7, -4.2, -3.7, -5.2, -3.5\n",
      "1월 최고기온 평균 :\n",
      "6.8, 4.3, 6.3, 4.0, 7.3\n"
     ]
    },
    {
     "data": {
      "image/png": "[encoded data removed]",
      "text/plain": [
       "<Figure size 1440x288 with 1 Axes>"
      ]
     },
     "metadata": {
      "needs_background": "light"
     },
     "output_type": "display_data"
    }
   ],
   "source": [
    "# x축 리스트\n",
    "x_year=[]\n",
    "for i in range(start_year,end_year+1):\n",
    "    x_year+=[i]\n",
    "\n",
    "# 그래프 그리기\n",
    "plt.figure(figsize=(20, 4))\n",
    "plt.plot(x_year,max_list, 'r', marker='s', label='최고기온')\n",
    "plt.plot(x_year,min_list, 'b', marker='s', label='최저기온')\n",
    "\n",
    "plt.rcParams['axes.unicode_minus'] = False\n",
    "plt.title(f\"{start_year}년부터 {end_year}년까지 {month}월의 기온 변화\", size=16)\n",
    "plt.legend(loc=2)\n",
    "\n",
    "# 출력\n",
    "print(f'\\n{start_year}년부터 {end_year}년까지 {month}월의 기온 변화\\n')\n",
    "print(f'{month}월 최저기온 평균 :\\n{str(min_list)[1:-1]}')\n",
    "print(f'{month}월 최고기온 평균 :\\n{str(max_list)[1:-1]}')\n",
    "plt.show()\n"
   ]
  },
  {
   "cell_type": "code",
   "execution_count": null,
   "metadata": {},
   "outputs": [],
   "source": []
  },
  {
   "cell_type": "code",
   "execution_count": null,
   "metadata": {},
   "outputs": [],
   "source": []
  },
  {
   "cell_type": "code",
   "execution_count": null,
   "metadata": {},
   "outputs": [],
   "source": []
  },
  {
   "cell_type": "code",
   "execution_count": null,
   "metadata": {},
   "outputs": [],
   "source": []
  },
  {
   "cell_type": "markdown",
   "metadata": {},
   "source": []
  }
 ],
 "metadata": {
  "kernelspec": {
   "display_name": "Python 3 (ipykernel)",
   "language": "python",
   "name": "python3"
  },
  "language_info": {
   "codemirror_mode": {
    "name": "ipython",
    "version": 3
   },
   "file_extension": ".py",
   "mimetype": "text/x-python",
   "name": "python",
   "nbconvert_exporter": "python",
   "pygments_lexer": "ipython3",
   "version": "3.9.12"
  },
  "vscode": {
   "interpreter": {
    "hash": "ad2bdc8ecc057115af97d19610ffacc2b4e99fae6737bb82f5d7fb13d2f2c186"
   }
  }
 },
 "nbformat": 4,
 "nbformat_minor": 2
}
