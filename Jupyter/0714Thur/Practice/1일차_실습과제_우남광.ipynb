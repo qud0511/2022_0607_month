{
 "cells": [
  {
   "cell_type": "markdown",
   "metadata": {},
   "source": [
    "1. 시작 연도부터 끝나는 연도년까지 대구 기온 데이터에서 특정 월의 최고 기온 및 최저 기\n",
    "온의 평균값을 구하고 그래프로 표현 하시오.\n",
    "\n",
    "n daegu_utf8.csv 파일 이용\n",
    "n 데이터 구조\n",
    "['날짜', '지점', '평균기온', '최저기온', '최고기온’]\n",
    "[0] [1] [2] [3] [4]\n",
    "n 화면에서 측정할 달을 입력받아서 진행\n",
    "n 해당 기간 동안 최고기온 평균값 및 최저기온 평균값 계산\n",
    "- 최고기온 및 최저기온 데이터를 이용하여 입력된 달의 각각 평균값을 구함\n",
    "- 문자열 형태의 ‘날짜’ 열의 데이터는 datetime으로 변경함:\n",
    "n 하나의 그래프 안에 2개의 꺾은선 그래프로 결과를 출력\n",
    "- 마이너스 기호 출력 깨짐 방지\n",
    "- 입력된 월을 이용하여 그래프의 타이틀 내용 변경\n",
    "- 최고 온도는 빨간색, 최저 온도는 파란색으로 표시하고 각각 마커 및 legend를 표시\n",
    "- 다른 운영체제에서도 동작할 수 있도록 platform 모듈을 사용하여 운영체제를\n",
    "구분하여 한글 폰트 지정할 것"
   ]
  },
  {
   "cell_type": "code",
   "execution_count": 63,
   "metadata": {},
   "outputs": [
    {
     "data": {
      "text/html": [
       "<div>\n",
       "<style scoped>\n",
       "    .dataframe tbody tr th:only-of-type {\n",
       "        vertical-align: middle;\n",
       "    }\n",
       "\n",
       "    .dataframe tbody tr th {\n",
       "        vertical-align: top;\n",
       "    }\n",
       "\n",
       "    .dataframe thead th {\n",
       "        text-align: right;\n",
       "    }\n",
       "</style>\n",
       "<table border=\"1\" class=\"dataframe\">\n",
       "  <thead>\n",
       "    <tr style=\"text-align: right;\">\n",
       "      <th></th>\n",
       "      <th>날짜</th>\n",
       "      <th>지점</th>\n",
       "      <th>평균기온</th>\n",
       "      <th>최저기온</th>\n",
       "      <th>최고기온</th>\n",
       "    </tr>\n",
       "  </thead>\n",
       "  <tbody>\n",
       "    <tr>\n",
       "      <th>0</th>\n",
       "      <td>1909-01-01</td>\n",
       "      <td>143</td>\n",
       "      <td>-4.1</td>\n",
       "      <td>-8.0</td>\n",
       "      <td>0.1</td>\n",
       "    </tr>\n",
       "    <tr>\n",
       "      <th>1</th>\n",
       "      <td>1909-01-02</td>\n",
       "      <td>143</td>\n",
       "      <td>-0.8</td>\n",
       "      <td>-6.7</td>\n",
       "      <td>6.1</td>\n",
       "    </tr>\n",
       "    <tr>\n",
       "      <th>2</th>\n",
       "      <td>1909-01-03</td>\n",
       "      <td>143</td>\n",
       "      <td>1.0</td>\n",
       "      <td>-2.4</td>\n",
       "      <td>3.6</td>\n",
       "    </tr>\n",
       "    <tr>\n",
       "      <th>3</th>\n",
       "      <td>1909-01-04</td>\n",
       "      <td>143</td>\n",
       "      <td>4.2</td>\n",
       "      <td>0.0</td>\n",
       "      <td>9.2</td>\n",
       "    </tr>\n",
       "    <tr>\n",
       "      <th>4</th>\n",
       "      <td>1909-01-05</td>\n",
       "      <td>143</td>\n",
       "      <td>3.4</td>\n",
       "      <td>-0.4</td>\n",
       "      <td>9.0</td>\n",
       "    </tr>\n",
       "    <tr>\n",
       "      <th>...</th>\n",
       "      <td>...</td>\n",
       "      <td>...</td>\n",
       "      <td>...</td>\n",
       "      <td>...</td>\n",
       "      <td>...</td>\n",
       "    </tr>\n",
       "    <tr>\n",
       "      <th>41445</th>\n",
       "      <td>2022-06-26</td>\n",
       "      <td>143</td>\n",
       "      <td>28.4</td>\n",
       "      <td>24.4</td>\n",
       "      <td>32.8</td>\n",
       "    </tr>\n",
       "    <tr>\n",
       "      <th>41446</th>\n",
       "      <td>2022-06-27</td>\n",
       "      <td>143</td>\n",
       "      <td>27.3</td>\n",
       "      <td>25.4</td>\n",
       "      <td>30.1</td>\n",
       "    </tr>\n",
       "    <tr>\n",
       "      <th>41447</th>\n",
       "      <td>2022-06-28</td>\n",
       "      <td>143</td>\n",
       "      <td>28.9</td>\n",
       "      <td>24.8</td>\n",
       "      <td>32.3</td>\n",
       "    </tr>\n",
       "    <tr>\n",
       "      <th>41448</th>\n",
       "      <td>2022-06-29</td>\n",
       "      <td>143</td>\n",
       "      <td>29.5</td>\n",
       "      <td>27.7</td>\n",
       "      <td>33.7</td>\n",
       "    </tr>\n",
       "    <tr>\n",
       "      <th>41449</th>\n",
       "      <td>2022-06-30</td>\n",
       "      <td>143</td>\n",
       "      <td>29.8</td>\n",
       "      <td>26.5</td>\n",
       "      <td>34.8</td>\n",
       "    </tr>\n",
       "  </tbody>\n",
       "</table>\n",
       "<p>41450 rows × 5 columns</p>\n",
       "</div>"
      ],
      "text/plain": [
       "               날짜   지점  평균기온  최저기온  최고기온\n",
       "0      1909-01-01  143  -4.1  -8.0   0.1\n",
       "1      1909-01-02  143  -0.8  -6.7   6.1\n",
       "2      1909-01-03  143   1.0  -2.4   3.6\n",
       "3      1909-01-04  143   4.2   0.0   9.2\n",
       "4      1909-01-05  143   3.4  -0.4   9.0\n",
       "...           ...  ...   ...   ...   ...\n",
       "41445  2022-06-26  143  28.4  24.4  32.8\n",
       "41446  2022-06-27  143  27.3  25.4  30.1\n",
       "41447  2022-06-28  143  28.9  24.8  32.3\n",
       "41448  2022-06-29  143  29.5  27.7  33.7\n",
       "41449  2022-06-30  143  29.8  26.5  34.8\n",
       "\n",
       "[41450 rows x 5 columns]"
      ]
     },
     "execution_count": 63,
     "metadata": {},
     "output_type": "execute_result"
    }
   ],
   "source": [
    "import pandas as pd\n",
    "import numpy as np\n",
    "import csv\n",
    "FILENAME = 'daegu_utf8.csv'\n",
    "df = pd.read_csv(FILENAME)\n",
    "df"
   ]
  },
  {
   "cell_type": "code",
   "execution_count": 64,
   "metadata": {},
   "outputs": [
    {
     "name": "stdout",
     "output_type": "stream",
     "text": [
      "Windows OS\n"
     ]
    }
   ],
   "source": [
    "# 운영체제 플랫폼 구별 및 한글 폰트 설정\n",
    "import platform\n",
    "import matplotlib.pyplot as plt\n",
    "import matplotlib.font_manager as fm\n",
    "\n",
    "system_name = platform.system()\n",
    "if system_name == 'Windows':\n",
    "    print('Windows OS')\n",
    "    plt.rc('font', family='Malgun Gothic')\n",
    "elif system_name == 'Darwin':\n",
    "    print('Mac OS')\n",
    "    plt.rc('font', family= 'AppleGothic')\n",
    "elif system_name == 'Linux':\n",
    "    print('Linux OS')\n",
    "    path = '/usr/share/fonts/truetype/nanum/NanumMyeongjo.ttf'\n",
    "    font_name = fm.FontProperties(fname=path, size=12)\n",
    "    plt.rc('font', family=font_name)\n",
    "else:\n",
    "    print('Not Support')"
   ]
  },
  {
   "cell_type": "code",
   "execution_count": 65,
   "metadata": {},
   "outputs": [],
   "source": [
    "df['날짜'] = pd.to_datetime(df['날짜'])"
   ]
  },
  {
   "cell_type": "code",
   "execution_count": 66,
   "metadata": {},
   "outputs": [
    {
     "name": "stdout",
     "output_type": "stream",
     "text": [
      "실행결과\n",
      "1991년부터 1999년까지 5월의 기온 변화\n",
      "\n",
      "12월 최저기온 평균: \n",
      "12.6, 11.8, 12.6, 13.5, 12.0, 13.1, 13.9, 14.6, 13.7, \n",
      "12월 최고기온 평균: \n",
      "24.5, 24.1, 25.3, 25.3, 24.9, 26.1, 25.9, 25.4, 25.4, "
     ]
    },
    {
     "data": {
      "image/png": "[encoded data removed]",
      "text/plain": [
       "<Figure size 1440x360 with 1 Axes>"
      ]
     },
     "metadata": {
      "needs_background": "light"
     },
     "output_type": "display_data"
    }
   ],
   "source": [
    "def month_mean():\n",
    "    start = input(\"시작 연도를 입력하세요: \")\n",
    "    end = input(\"마지막 연도를 입력하세요: \")\n",
    "    month = input(\"기온 변화를 측정할 달을 입력하세요: \")\n",
    "    cond1 = df['날짜'].dt.year >= int(start)\n",
    "    cond2 = df['날짜'].dt.year <= int(end)\n",
    "    cond3 = df['날짜'].dt.month == int(month)\n",
    "    cond_df = df[cond1 & cond2 & cond3].copy()\n",
    "    cond_df['연'] = cond_df['날짜'].dt.year\n",
    "    high = cond_df.groupby('연')['최고기온'].mean().round(1)\n",
    "    low = cond_df.groupby('연')['최저기온'].mean().round(1)\n",
    "\n",
    "\n",
    "    print('실행결과')\n",
    "    print(f'{start}년부터 {end}년까지 {month}월의 기온 변화')\n",
    "    print()\n",
    "    print('12월 최저기온 평균: ')\n",
    "    for i in low:\n",
    "        print(i, end=', ')\n",
    "    print()\n",
    "    print('12월 최고기온 평균: ')\n",
    "    for i in high:\n",
    "        print(i, end=', ')\n",
    "\n",
    "    plt.figure(figsize=(20,5))\n",
    "    plt.rcParams['axes.unicode_minus'] = False\n",
    "    plt.rc('font', family= 'Malgun Gothic')\n",
    "    plt.plot(high.index, high,'hotpink', marker='o', label='최고기온')\n",
    "    plt.plot(high.index, low,'royalblue', marker='s', label='최저기온')\n",
    "    plt.title(f'{start}년부터 {end}년까지 {month}월의 기온변화')\n",
    "    plt.legend()\n",
    "    plt.show()\n",
    "\n",
    "month_mean()\n",
    "\n"
   ]
  }
 ],
 "metadata": {
  "kernelspec": {
   "display_name": "Python 3.9.10 64-bit",
   "language": "python",
   "name": "python3"
  },
  "language_info": {
   "codemirror_mode": {
    "name": "ipython",
    "version": 3
   },
   "file_extension": ".py",
   "mimetype": "text/x-python",
   "name": "python",
   "nbconvert_exporter": "python",
   "pygments_lexer": "ipython3",
   "version": "3.9.10"
  },
  "orig_nbformat": 4,
  "vscode": {
   "interpreter": {
    "hash": "cf92aa13fedf815d5c8dd192b8d835913fde3e8bc926b2a0ad6cc74ef2ba3ca2"
   }
  }
 },
 "nbformat": 4,
 "nbformat_minor": 2
}
