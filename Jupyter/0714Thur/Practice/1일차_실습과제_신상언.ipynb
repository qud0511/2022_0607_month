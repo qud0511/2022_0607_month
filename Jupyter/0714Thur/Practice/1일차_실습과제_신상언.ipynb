{
 "cells": [
  {
   "cell_type": "code",
   "execution_count": 90,
   "id": "621760b1",
   "metadata": {},
   "outputs": [],
   "source": [
    "import pandas as pd\n",
    "import platform\n",
    "import matplotlib.font_manager as fm\n",
    "import matplotlib.pyplot as plt\n",
    "import numpy as np\n",
    "DIR = '../../Data/'\n",
    "FILE = DIR+'daegu_utf8.csv'"
   ]
  },
  {
   "cell_type": "code",
   "execution_count": 20,
   "id": "828a36bc",
   "metadata": {},
   "outputs": [
    {
     "data": {
      "text/html": [
       "<div>\n",
       "<style scoped>\n",
       "    .dataframe tbody tr th:only-of-type {\n",
       "        vertical-align: middle;\n",
       "    }\n",
       "\n",
       "    .dataframe tbody tr th {\n",
       "        vertical-align: top;\n",
       "    }\n",
       "\n",
       "    .dataframe thead th {\n",
       "        text-align: right;\n",
       "    }\n",
       "</style>\n",
       "<table border=\"1\" class=\"dataframe\">\n",
       "  <thead>\n",
       "    <tr style=\"text-align: right;\">\n",
       "      <th></th>\n",
       "      <th>날짜</th>\n",
       "      <th>지점</th>\n",
       "      <th>평균기온</th>\n",
       "      <th>최저기온</th>\n",
       "      <th>최고기온</th>\n",
       "    </tr>\n",
       "  </thead>\n",
       "  <tbody>\n",
       "    <tr>\n",
       "      <th>0</th>\n",
       "      <td>1909-01-01</td>\n",
       "      <td>143</td>\n",
       "      <td>-4.1</td>\n",
       "      <td>-8.0</td>\n",
       "      <td>0.1</td>\n",
       "    </tr>\n",
       "    <tr>\n",
       "      <th>1</th>\n",
       "      <td>1909-01-02</td>\n",
       "      <td>143</td>\n",
       "      <td>-0.8</td>\n",
       "      <td>-6.7</td>\n",
       "      <td>6.1</td>\n",
       "    </tr>\n",
       "    <tr>\n",
       "      <th>2</th>\n",
       "      <td>1909-01-03</td>\n",
       "      <td>143</td>\n",
       "      <td>1.0</td>\n",
       "      <td>-2.4</td>\n",
       "      <td>3.6</td>\n",
       "    </tr>\n",
       "    <tr>\n",
       "      <th>3</th>\n",
       "      <td>1909-01-04</td>\n",
       "      <td>143</td>\n",
       "      <td>4.2</td>\n",
       "      <td>0.0</td>\n",
       "      <td>9.2</td>\n",
       "    </tr>\n",
       "    <tr>\n",
       "      <th>4</th>\n",
       "      <td>1909-01-05</td>\n",
       "      <td>143</td>\n",
       "      <td>3.4</td>\n",
       "      <td>-0.4</td>\n",
       "      <td>9.0</td>\n",
       "    </tr>\n",
       "    <tr>\n",
       "      <th>...</th>\n",
       "      <td>...</td>\n",
       "      <td>...</td>\n",
       "      <td>...</td>\n",
       "      <td>...</td>\n",
       "      <td>...</td>\n",
       "    </tr>\n",
       "    <tr>\n",
       "      <th>41445</th>\n",
       "      <td>2022-06-26</td>\n",
       "      <td>143</td>\n",
       "      <td>28.4</td>\n",
       "      <td>24.4</td>\n",
       "      <td>32.8</td>\n",
       "    </tr>\n",
       "    <tr>\n",
       "      <th>41446</th>\n",
       "      <td>2022-06-27</td>\n",
       "      <td>143</td>\n",
       "      <td>27.3</td>\n",
       "      <td>25.4</td>\n",
       "      <td>30.1</td>\n",
       "    </tr>\n",
       "    <tr>\n",
       "      <th>41447</th>\n",
       "      <td>2022-06-28</td>\n",
       "      <td>143</td>\n",
       "      <td>28.9</td>\n",
       "      <td>24.8</td>\n",
       "      <td>32.3</td>\n",
       "    </tr>\n",
       "    <tr>\n",
       "      <th>41448</th>\n",
       "      <td>2022-06-29</td>\n",
       "      <td>143</td>\n",
       "      <td>29.5</td>\n",
       "      <td>27.7</td>\n",
       "      <td>33.7</td>\n",
       "    </tr>\n",
       "    <tr>\n",
       "      <th>41449</th>\n",
       "      <td>2022-06-30</td>\n",
       "      <td>143</td>\n",
       "      <td>29.8</td>\n",
       "      <td>26.5</td>\n",
       "      <td>34.8</td>\n",
       "    </tr>\n",
       "  </tbody>\n",
       "</table>\n",
       "<p>41450 rows × 5 columns</p>\n",
       "</div>"
      ],
      "text/plain": [
       "               날짜   지점  평균기온  최저기온  최고기온\n",
       "0      1909-01-01  143  -4.1  -8.0   0.1\n",
       "1      1909-01-02  143  -0.8  -6.7   6.1\n",
       "2      1909-01-03  143   1.0  -2.4   3.6\n",
       "3      1909-01-04  143   4.2   0.0   9.2\n",
       "4      1909-01-05  143   3.4  -0.4   9.0\n",
       "...           ...  ...   ...   ...   ...\n",
       "41445  2022-06-26  143  28.4  24.4  32.8\n",
       "41446  2022-06-27  143  27.3  25.4  30.1\n",
       "41447  2022-06-28  143  28.9  24.8  32.3\n",
       "41448  2022-06-29  143  29.5  27.7  33.7\n",
       "41449  2022-06-30  143  29.8  26.5  34.8\n",
       "\n",
       "[41450 rows x 5 columns]"
      ]
     },
     "execution_count": 20,
     "metadata": {},
     "output_type": "execute_result"
    }
   ],
   "source": [
    "df = pd.read_csv(FILE)\n",
    "df"
   ]
  },
  {
   "cell_type": "code",
   "execution_count": 21,
   "id": "6010db66",
   "metadata": {},
   "outputs": [
    {
     "name": "stdout",
     "output_type": "stream",
     "text": [
      "<class 'pandas.core.frame.DataFrame'>\n",
      "RangeIndex: 41450 entries, 0 to 41449\n",
      "Data columns (total 5 columns):\n",
      " #   Column  Non-Null Count  Dtype  \n",
      "---  ------  --------------  -----  \n",
      " 0   날짜      41450 non-null  object \n",
      " 1   지점      41450 non-null  int64  \n",
      " 2   평균기온    41450 non-null  float64\n",
      " 3   최저기온    41450 non-null  float64\n",
      " 4   최고기온    41450 non-null  float64\n",
      "dtypes: float64(3), int64(1), object(1)\n",
      "memory usage: 1.6+ MB\n"
     ]
    }
   ],
   "source": [
    "df.info()"
   ]
  },
  {
   "cell_type": "code",
   "execution_count": 22,
   "id": "b5f9d759",
   "metadata": {},
   "outputs": [
    {
     "name": "stdout",
     "output_type": "stream",
     "text": [
      "<class 'pandas.core.frame.DataFrame'>\n",
      "RangeIndex: 41450 entries, 0 to 41449\n",
      "Data columns (total 5 columns):\n",
      " #   Column  Non-Null Count  Dtype         \n",
      "---  ------  --------------  -----         \n",
      " 0   날짜      41450 non-null  datetime64[ns]\n",
      " 1   지점      41450 non-null  int64         \n",
      " 2   평균기온    41450 non-null  float64       \n",
      " 3   최저기온    41450 non-null  float64       \n",
      " 4   최고기온    41450 non-null  float64       \n",
      "dtypes: datetime64[ns](1), float64(3), int64(1)\n",
      "memory usage: 1.6 MB\n"
     ]
    }
   ],
   "source": [
    "df['날짜'] = pd.to_datetime(df['날짜'])\n",
    "df.info()"
   ]
  },
  {
   "cell_type": "code",
   "execution_count": 92,
   "id": "ff22d61e",
   "metadata": {},
   "outputs": [
    {
     "name": "stdout",
     "output_type": "stream",
     "text": [
      "시작 연도를 입력하세요: 2010\n",
      "마지막 연도를 입력하세요: 2021\n",
      "기온 변화를 측정한 달을 입력하세요: 12\n",
      "2010 년부터 2021 까지의 12 월의 기온 변화\n",
      "12월 최저기온 평균 :\n",
      "[-2.5, -1.5, -3.9, -0.5, -2.8, 0.5, -0.6, -4.0, -2.3, -1.0, -3.1, -2.1]\n",
      "12월 최고기온 평균 :\n",
      "[7.3, 6.9, 3.9, 8.1, 5.8, 9.0, 8.7, 5.8, 7.0, 9.0, 7.2, 8.9]\n"
     ]
    },
    {
     "name": "stderr",
     "output_type": "stream",
     "text": [
      "C:\\Users\\ss\\AppData\\Local\\Temp\\ipykernel_6564\\3658820361.py:9: SettingWithCopyWarning: \n",
      "A value is trying to be set on a copy of a slice from a DataFrame.\n",
      "Try using .loc[row_indexer,col_indexer] = value instead\n",
      "\n",
      "See the caveats in the documentation: https://pandas.pydata.org/pandas-docs/stable/user_guide/indexing.html#returning-a-view-versus-a-copy\n",
      "  periodmonth['Year'] = periodmonth['날짜'].dt.year                # 새로운 Year 컬럼 만든 후 년도별 그룹화\n"
     ]
    },
    {
     "data": {
      "image/png": "[encoded data removed]",
      "text/plain": [
       "<Figure size 1440x288 with 1 Axes>"
      ]
     },
     "metadata": {
      "needs_background": "light"
     },
     "output_type": "display_data"
    }
   ],
   "source": [
    "s_year = int(input('시작 연도를 입력하세요: '))  \n",
    "l_year = int(input('마지막 연도를 입력하세요: '))\n",
    "tem_month = int(input('기온 변화를 측정한 달을 입력하세요: '))   # 시작 연도, 마지막 연도, 달 입력\n",
    "\n",
    "startdf = df[df['날짜'].dt.year >= s_year]  \n",
    "lastdf = df[df['날짜'].dt.year <= l_year]   \n",
    "perioddf = pd.merge(startdf,lastdf, how='inner')                 # 중복되는 기간 merge\n",
    "periodmonth = perioddf[perioddf['날짜'].dt.month==tem_month]\n",
    "periodmonth['Year'] = periodmonth['날짜'].dt.year                # 새로운 Year 컬럼 만든 후 년도별 그룹화\n",
    "temp_mean = periodmonth.groupby(['Year']).mean()                 # 평균값 \n",
    "min_temp_mean = round(temp_mean['최저기온'],1)\n",
    "max_temp_mean = round(temp_mean['최고기온'],1)\n",
    "\n",
    "min_list = min_temp_mean.to_list()                               # 시리즈 => 리스트 변환\n",
    "max_list = max_temp_mean.to_list()\n",
    "print(f'{s_year} 년부터 {l_year} 까지의 {tem_month} 월의 기온 변화')\n",
    "print('12월 최저기온 평균 :')\n",
    "print(min_list)\n",
    "print('12월 최고기온 평균 :')\n",
    "print(max_list)\n",
    "    \n",
    "    \n",
    "plt.figure(figsize=(20, 4))\n",
    "plt.plot(max_temp_mean.index, max_temp_mean, 'r', marker='o', label='high_Tem')\n",
    "plt.plot(min_temp_mean.index, min_temp_mean, 'blue',marker='s', label='low_Tem')\n",
    "if platform.system() == 'Windows':\n",
    "    font_name = fm.FontProperties(fname='c:\\Windows\\Fonts\\malgun.ttf').get_name()\n",
    "    plt.rc('font', family=font_name)\n",
    "        # plt.rc(‘font’, family=‘Malgun Gothic’, size=8) # 간단히 맑은 고딕으로 설정\n",
    "else:\n",
    "        # MacOS\n",
    "    plt.rc('font', family='AppleGothic', size=8) # 한글 폰트 사용 For Mac OS\n",
    "\n",
    "plt.rcParams['axes.unicode_minus'] = False\n",
    "plt.title(f'{s_year}년부터 {l_year}까지 {tem_month}월의 기온변화')\n",
    "plt.xticks(np.arange(s_year, l_year+1, step=1)) # x축 범위 및 간격 설정\n",
    "plt.legend(loc=0)\n",
    "plt.show()"
   ]
  },
  {
   "cell_type": "code",
   "execution_count": null,
   "id": "d3f33688",
   "metadata": {},
   "outputs": [],
   "source": []
  }
 ],
 "metadata": {
  "kernelspec": {
   "display_name": "Python 3 (ipykernel)",
   "language": "python",
   "name": "python3"
  },
  "language_info": {
   "codemirror_mode": {
    "name": "ipython",
    "version": 3
   },
   "file_extension": ".py",
   "mimetype": "text/x-python",
   "name": "python",
   "nbconvert_exporter": "python",
   "pygments_lexer": "ipython3",
   "version": "3.9.12"
  }
 },
 "nbformat": 4,
 "nbformat_minor": 5
}
