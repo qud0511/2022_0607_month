{
 "cells": [
  {
   "cell_type": "code",
   "execution_count": 69,
   "id": "6d200e88",
   "metadata": {},
   "outputs": [
    {
     "data": {
      "text/html": [
       "<div>\n",
       "<style scoped>\n",
       "    .dataframe tbody tr th:only-of-type {\n",
       "        vertical-align: middle;\n",
       "    }\n",
       "\n",
       "    .dataframe tbody tr th {\n",
       "        vertical-align: top;\n",
       "    }\n",
       "\n",
       "    .dataframe thead th {\n",
       "        text-align: right;\n",
       "    }\n",
       "</style>\n",
       "<table border=\"1\" class=\"dataframe\">\n",
       "  <thead>\n",
       "    <tr style=\"text-align: right;\">\n",
       "      <th></th>\n",
       "      <th>날짜</th>\n",
       "      <th>지점</th>\n",
       "      <th>평균기온</th>\n",
       "      <th>최저기온</th>\n",
       "      <th>최고기온</th>\n",
       "    </tr>\n",
       "  </thead>\n",
       "  <tbody>\n",
       "    <tr>\n",
       "      <th>0</th>\n",
       "      <td>1909-01-01</td>\n",
       "      <td>143</td>\n",
       "      <td>-4.1</td>\n",
       "      <td>-8.0</td>\n",
       "      <td>0.1</td>\n",
       "    </tr>\n",
       "    <tr>\n",
       "      <th>1</th>\n",
       "      <td>1909-01-02</td>\n",
       "      <td>143</td>\n",
       "      <td>-0.8</td>\n",
       "      <td>-6.7</td>\n",
       "      <td>6.1</td>\n",
       "    </tr>\n",
       "    <tr>\n",
       "      <th>2</th>\n",
       "      <td>1909-01-03</td>\n",
       "      <td>143</td>\n",
       "      <td>1.0</td>\n",
       "      <td>-2.4</td>\n",
       "      <td>3.6</td>\n",
       "    </tr>\n",
       "    <tr>\n",
       "      <th>3</th>\n",
       "      <td>1909-01-04</td>\n",
       "      <td>143</td>\n",
       "      <td>4.2</td>\n",
       "      <td>0.0</td>\n",
       "      <td>9.2</td>\n",
       "    </tr>\n",
       "    <tr>\n",
       "      <th>4</th>\n",
       "      <td>1909-01-05</td>\n",
       "      <td>143</td>\n",
       "      <td>3.4</td>\n",
       "      <td>-0.4</td>\n",
       "      <td>9.0</td>\n",
       "    </tr>\n",
       "    <tr>\n",
       "      <th>...</th>\n",
       "      <td>...</td>\n",
       "      <td>...</td>\n",
       "      <td>...</td>\n",
       "      <td>...</td>\n",
       "      <td>...</td>\n",
       "    </tr>\n",
       "    <tr>\n",
       "      <th>41445</th>\n",
       "      <td>2022-06-26</td>\n",
       "      <td>143</td>\n",
       "      <td>28.4</td>\n",
       "      <td>24.4</td>\n",
       "      <td>32.8</td>\n",
       "    </tr>\n",
       "    <tr>\n",
       "      <th>41446</th>\n",
       "      <td>2022-06-27</td>\n",
       "      <td>143</td>\n",
       "      <td>27.3</td>\n",
       "      <td>25.4</td>\n",
       "      <td>30.1</td>\n",
       "    </tr>\n",
       "    <tr>\n",
       "      <th>41447</th>\n",
       "      <td>2022-06-28</td>\n",
       "      <td>143</td>\n",
       "      <td>28.9</td>\n",
       "      <td>24.8</td>\n",
       "      <td>32.3</td>\n",
       "    </tr>\n",
       "    <tr>\n",
       "      <th>41448</th>\n",
       "      <td>2022-06-29</td>\n",
       "      <td>143</td>\n",
       "      <td>29.5</td>\n",
       "      <td>27.7</td>\n",
       "      <td>33.7</td>\n",
       "    </tr>\n",
       "    <tr>\n",
       "      <th>41449</th>\n",
       "      <td>2022-06-30</td>\n",
       "      <td>143</td>\n",
       "      <td>29.8</td>\n",
       "      <td>26.5</td>\n",
       "      <td>34.8</td>\n",
       "    </tr>\n",
       "  </tbody>\n",
       "</table>\n",
       "<p>41450 rows × 5 columns</p>\n",
       "</div>"
      ],
      "text/plain": [
       "               날짜   지점  평균기온  최저기온  최고기온\n",
       "0      1909-01-01  143  -4.1  -8.0   0.1\n",
       "1      1909-01-02  143  -0.8  -6.7   6.1\n",
       "2      1909-01-03  143   1.0  -2.4   3.6\n",
       "3      1909-01-04  143   4.2   0.0   9.2\n",
       "4      1909-01-05  143   3.4  -0.4   9.0\n",
       "...           ...  ...   ...   ...   ...\n",
       "41445  2022-06-26  143  28.4  24.4  32.8\n",
       "41446  2022-06-27  143  27.3  25.4  30.1\n",
       "41447  2022-06-28  143  28.9  24.8  32.3\n",
       "41448  2022-06-29  143  29.5  27.7  33.7\n",
       "41449  2022-06-30  143  29.8  26.5  34.8\n",
       "\n",
       "[41450 rows x 5 columns]"
      ]
     },
     "execution_count": 69,
     "metadata": {},
     "output_type": "execute_result"
    }
   ],
   "source": [
    "import pandas as pd\n",
    "import datetime as dt\n",
    "\n",
    "df=pd.read_csv('daegu_utf8.csv',encoding='utf8')\n",
    "df"
   ]
  },
  {
   "cell_type": "code",
   "execution_count": 70,
   "id": "a29a99f9",
   "metadata": {},
   "outputs": [],
   "source": [
    "df['날짜']=pd.to_datetime(df['날짜'])"
   ]
  },
  {
   "cell_type": "code",
   "execution_count": 71,
   "id": "24abe21f",
   "metadata": {
    "scrolled": true
   },
   "outputs": [
    {
     "name": "stdout",
     "output_type": "stream",
     "text": [
      "<class 'pandas.core.frame.DataFrame'>\n",
      "RangeIndex: 41450 entries, 0 to 41449\n",
      "Data columns (total 5 columns):\n",
      " #   Column  Non-Null Count  Dtype         \n",
      "---  ------  --------------  -----         \n",
      " 0   날짜      41450 non-null  datetime64[ns]\n",
      " 1   지점      41450 non-null  int64         \n",
      " 2   평균기온    41450 non-null  float64       \n",
      " 3   최저기온    41450 non-null  float64       \n",
      " 4   최고기온    41450 non-null  float64       \n",
      "dtypes: datetime64[ns](1), float64(3), int64(1)\n",
      "memory usage: 1.6 MB\n"
     ]
    }
   ],
   "source": [
    "df.info()"
   ]
  },
  {
   "cell_type": "code",
   "execution_count": 82,
   "id": "98cfe08e",
   "metadata": {},
   "outputs": [
    {
     "name": "stdout",
     "output_type": "stream",
     "text": [
      "시작연도, 마지막연도, 달 입력: 2010 2021 12\n",
      "2010년부터 2021년까지 12월의 기온 변화\n",
      "12월 최저기온 평균:\n",
      "[-2.5, -1.5, -3.9, -0.5, -2.8, 0.5, -0.6, -4.0, -2.3, -1.0, -3.1, -2.1]\n",
      "12월 최고기온 평균:\n",
      "[7.3, 6.9, 3.9, 8.1, 5.8, 9.0, 8.7, 5.8, 7.0, 9.0, 7.2, 8.9]\n"
     ]
    },
    {
     "data": {
      "image/png": "[encoded data removed]",
      "text/plain": [
       "<Figure size 1440x288 with 1 Axes>"
      ]
     },
     "metadata": {
      "needs_background": "light"
     },
     "output_type": "display_data"
    }
   ],
   "source": [
    "import matplotlib.pyplot as plt\n",
    "import matplotlib.font_manager as fm\n",
    "import platform\n",
    "\n",
    "def draw_graph():    \n",
    "    year1, year2, month = input('시작연도, 마지막연도, 달 입력: ').split()\n",
    "    year1=int(year1)\n",
    "    year2=int(year2)\n",
    "    month=int(month)\n",
    "    if year2<year1: # 연도 반대로 입력했을 경우 값 바꿔 줌\n",
    "        temp=year1\n",
    "        year1=year2\n",
    "        year2=temp\n",
    "        \n",
    "    year_df=df[(df['날짜'].dt.year>=year1)&(df['날짜'].dt.year<=year2)]\n",
    "    max_temp_mean=[]\n",
    "    min_temp_mean=[]\n",
    "    x_year=[]\n",
    "    \n",
    "    for i in range(1+year2-year1):\n",
    "        month_df=year_df[(year_df['날짜'].dt.month==month)&(year_df['날짜'].dt.year==year1+i)]\n",
    "        x_year.append(year1+i)\n",
    "        max_temp_mean.append(round(month_df['최고기온'].mean(),1))\n",
    "        min_temp_mean.append(round(month_df['최저기온'].mean(),1))\n",
    "   \n",
    "    if platform.system() == 'Windows':\n",
    "        font_name = fm.FontProperties(fname='c:\\Windows\\Fonts\\malgun.ttf').get_name()\n",
    "        plt.rc('font', family=font_name)\n",
    "        # plt.rc(‘font’, family=‘Malgun Gothic’, size=8) # 간단히 맑은 고딕으로 설정\n",
    "    else:\n",
    "        # MacOS\n",
    "        plt.rc('font', family='AppleGothic', size=8) # 한글 폰트 사용 For Mac OS\n",
    "        \n",
    "    print('{}년부터 {}년까지 {}월의 기온 변화'.format(year1,year2,month))\n",
    "    print('{}월 최저기온 평균:\\n{}'.format(month,min_temp_mean))\n",
    "    print('{}월 최고기온 평균:\\n{}'.format(month,max_temp_mean))\n",
    "    \n",
    "    plt.figure(figsize=(20,4))\n",
    "    plt.title('{}년부터 {}년까지 {}월의 기온 변화'.format(year1,year2,month))\n",
    "    plt.rcParams['axes.unicode_minus']=False\n",
    "    plt.plot(x_year,max_temp_mean,'r',marker='s',label='최고기온 평균')\n",
    "    plt.plot(x_year,min_temp_mean,'b',marker='s',label='최저기온 평균')\n",
    "    plt.legend()\n",
    "    plt.show()\n",
    "    \n",
    "draw_graph()"
   ]
  },
  {
   "cell_type": "code",
   "execution_count": null,
   "id": "4663638b",
   "metadata": {},
   "outputs": [],
   "source": []
  },
  {
   "cell_type": "code",
   "execution_count": null,
   "id": "de4bf36d",
   "metadata": {},
   "outputs": [],
   "source": []
  }
 ],
 "metadata": {
  "kernelspec": {
   "display_name": "Python 3 (ipykernel)",
   "language": "python",
   "name": "python3"
  },
  "language_info": {
   "codemirror_mode": {
    "name": "ipython",
    "version": 3
   },
   "file_extension": ".py",
   "mimetype": "text/x-python",
   "name": "python",
   "nbconvert_exporter": "python",
   "pygments_lexer": "ipython3",
   "version": "3.9.12"
  }
 },
 "nbformat": 4,
 "nbformat_minor": 5
}
