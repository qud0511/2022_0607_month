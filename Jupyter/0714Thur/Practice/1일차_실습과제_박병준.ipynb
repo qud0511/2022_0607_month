{
 "cells": [
  {
   "cell_type": "code",
   "execution_count": 1,
   "id": "f51e785d",
   "metadata": {},
   "outputs": [],
   "source": [
    "import pandas as pd\n",
    "import numpy as np\n",
    "import datetime"
   ]
  },
  {
   "cell_type": "code",
   "execution_count": 2,
   "id": "005027eb",
   "metadata": {},
   "outputs": [
    {
     "name": "stdout",
     "output_type": "stream",
     "text": [
      "Windows OS\n"
     ]
    }
   ],
   "source": [
    "import platform\n",
    "import matplotlib.pyplot as plt\n",
    "import matplotlib.font_manager as fm\n",
    "\n",
    "system_name = platform.system()\n",
    "if system_name == 'Windows':\n",
    "    # Windows 운영체제\n",
    "    print('Windows OS')\n",
    "    plt.rc('font', family='Malgun Gothic')\n",
    "    \n",
    "elif system_name == 'Darwin': # Mac OS\n",
    "    print('Mac OS')\n",
    "    plt.rc('font', family='AppleGothic')\n",
    "    \n",
    "elif system_name == 'Linux': # Linux\n",
    "    print('Linux OS')\n",
    "    path = '/usr/share/fonts/truetype/nanum/NanumMyeongjo.ttf'\n",
    "    font_name = fm.FontProperties(fname=path, size=12)\n",
    "    plt.rc('font', family=font_name)\n",
    "    \n",
    "else:\n",
    "    print(\"지원하지 않는 OS입니다.\")"
   ]
  },
  {
   "cell_type": "code",
   "execution_count": 3,
   "id": "949c6fd5",
   "metadata": {},
   "outputs": [],
   "source": [
    "df=pd.read_csv('./Data/' + 'daegu_utf8.csv', encoding='utf-8')"
   ]
  },
  {
   "cell_type": "code",
   "execution_count": 4,
   "id": "450d6aa1",
   "metadata": {},
   "outputs": [
    {
     "data": {
      "text/plain": [
       "array(['1909-01-01', '1909-01-02', '1909-01-03', ..., '2022-06-28',\n",
       "       '2022-06-29', '2022-06-30'], dtype=object)"
      ]
     },
     "execution_count": 4,
     "metadata": {},
     "output_type": "execute_result"
    }
   ],
   "source": [
    "df['날짜'].unique()"
   ]
  },
  {
   "cell_type": "code",
   "execution_count": 5,
   "id": "770a2356",
   "metadata": {},
   "outputs": [
    {
     "data": {
      "text/plain": [
       "dtype('<M8[ns]')"
      ]
     },
     "execution_count": 5,
     "metadata": {},
     "output_type": "execute_result"
    }
   ],
   "source": [
    "# ['날짜'] 컬럼 -> datetime으로 형변환\n",
    "# df['날짜']=pd.to_datetime(df['날짜'])\n",
    "df['날짜']=df['날짜'].astype('datetime64')\n",
    "df['날짜'].dtypes"
   ]
  },
  {
   "cell_type": "code",
   "execution_count": 6,
   "id": "5885ee42",
   "metadata": {},
   "outputs": [],
   "source": [
    "high_temp=[]\n",
    "low_temp=[]\n",
    "x_year=[]"
   ]
  },
  {
   "cell_type": "code",
   "execution_count": 7,
   "id": "d8c66e78",
   "metadata": {},
   "outputs": [],
   "source": [
    "def get_tem():\n",
    "\n",
    "    # 입력값\n",
    "    start_year = int(input('원하는 시작 연도 입력 => '))\n",
    "    last_year = int(input('원하는 마지막 연도 입력 => '))\n",
    "    user_month = int(input('원하는 월 입력 => '))\n",
    "    \n",
    "#     high_temp=[] # 최고기온 평균을 리스트로 받음\n",
    "#     low_temp=[]  # 최저기온 평균을 리스트로 받음\n",
    "#     x_year=[]  # 그래프 x축\n",
    "    \n",
    "    # 틀 만들기?\n",
    "#     dateDF=df[ (df['날짜'].dt.year>=start_year) & (df['날짜'].dt.year<last_year) & (df['날짜'].dt.month==user_month) ]\n",
    "    df_year=df['날짜'].dt.year\n",
    "    df_month=df['날짜'].dt.month\n",
    "    dateDF=df[(df_year>=start_year)&(df_year<=last_year)&(df_month==user_month)]\n",
    "    \n",
    "    # 특정 연도와 달의 최저 기온 및 최고 기온의 평균 계산\n",
    "    for i in range(start_year, last_year+1):\n",
    "        max_temp_mean=round(dateDF[(dateDF['날짜'].dt.year==i)]['최고기온'].mean(), 1)\n",
    "        min_temp_mean=round(dateDF[(dateDF['날짜'].dt.year==i)]['최저기온'].mean(), 1)\n",
    "    \n",
    "        high_temp.append(max_temp_mean)\n",
    "        low_temp.append(min_temp_mean)\n",
    "        x_year.append(i)\n",
    "    \n",
    "        print(f'최고기온 : {high_temp}, 최저기온 : {low_temp}')\n",
    "        \n",
    "    # 그래프 그리기\n",
    "    plt.figure()\n",
    "    plt.plot(x_year, high_temp, 'pink', marker='*', label='최고기온')\n",
    "    plt.plot(x_year, low_temp, 'skyblue', marker='D', label='최저기온')\n",
    "    plt.title(f'{start_year}-{last_year} 동안의 {user_month}월 최고,최저기온')"
   ]
  },
  {
   "cell_type": "code",
   "execution_count": 8,
   "id": "0f4ed795",
   "metadata": {},
   "outputs": [
    {
     "name": "stdout",
     "output_type": "stream",
     "text": [
      "원하는 시작 연도 입력 => 2011\n",
      "원하는 마지막 연도 입력 => 2012\n",
      "원하는 월 입력 => 11\n",
      "최고기온 : [16.3], 최저기온 : [8.2]\n",
      "최고기온 : [16.3, 13.2], 최저기온 : [8.2, 3.9]\n"
     ]
    },
    {
     "data": {
      "image/png": "[encoded data removed]",
      "text/plain": [
       "<Figure size 432x288 with 1 Axes>"
      ]
     },
     "metadata": {
      "needs_background": "light"
     },
     "output_type": "display_data"
    }
   ],
   "source": [
    "get_tem()"
   ]
  }
 ],
 "metadata": {
  "kernelspec": {
   "display_name": "Python 3 (ipykernel)",
   "language": "python",
   "name": "python3"
  },
  "language_info": {
   "codemirror_mode": {
    "name": "ipython",
    "version": 3
   },
   "file_extension": ".py",
   "mimetype": "text/x-python",
   "name": "python",
   "nbconvert_exporter": "python",
   "pygments_lexer": "ipython3",
   "version": "3.9.12"
  }
 },
 "nbformat": 4,
 "nbformat_minor": 5
}
