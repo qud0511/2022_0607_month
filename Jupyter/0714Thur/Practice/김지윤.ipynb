{
 "cells": [
  {
   "cell_type": "code",
   "execution_count": 176,
   "id": "af6969d9",
   "metadata": {},
   "outputs": [],
   "source": [
    "import matplotlib.pyplot as plt\n",
    "import platform\n",
    "\n"
   ]
  },
  {
   "cell_type": "code",
   "execution_count": 177,
   "id": "4ce5d3d7",
   "metadata": {
    "scrolled": true
   },
   "outputs": [
    {
     "data": {
      "text/html": [
       "<div>\n",
       "<style scoped>\n",
       "    .dataframe tbody tr th:only-of-type {\n",
       "        vertical-align: middle;\n",
       "    }\n",
       "\n",
       "    .dataframe tbody tr th {\n",
       "        vertical-align: top;\n",
       "    }\n",
       "\n",
       "    .dataframe thead th {\n",
       "        text-align: right;\n",
       "    }\n",
       "</style>\n",
       "<table border=\"1\" class=\"dataframe\">\n",
       "  <thead>\n",
       "    <tr style=\"text-align: right;\">\n",
       "      <th></th>\n",
       "      <th>날짜</th>\n",
       "      <th>지점</th>\n",
       "      <th>평균기온</th>\n",
       "      <th>최저기온</th>\n",
       "      <th>최고기온</th>\n",
       "    </tr>\n",
       "  </thead>\n",
       "  <tbody>\n",
       "    <tr>\n",
       "      <th>0</th>\n",
       "      <td>1909-01-01</td>\n",
       "      <td>143</td>\n",
       "      <td>-4.1</td>\n",
       "      <td>-8.0</td>\n",
       "      <td>0.1</td>\n",
       "    </tr>\n",
       "    <tr>\n",
       "      <th>1</th>\n",
       "      <td>1909-01-02</td>\n",
       "      <td>143</td>\n",
       "      <td>-0.8</td>\n",
       "      <td>-6.7</td>\n",
       "      <td>6.1</td>\n",
       "    </tr>\n",
       "    <tr>\n",
       "      <th>2</th>\n",
       "      <td>1909-01-03</td>\n",
       "      <td>143</td>\n",
       "      <td>1.0</td>\n",
       "      <td>-2.4</td>\n",
       "      <td>3.6</td>\n",
       "    </tr>\n",
       "    <tr>\n",
       "      <th>3</th>\n",
       "      <td>1909-01-04</td>\n",
       "      <td>143</td>\n",
       "      <td>4.2</td>\n",
       "      <td>0.0</td>\n",
       "      <td>9.2</td>\n",
       "    </tr>\n",
       "    <tr>\n",
       "      <th>4</th>\n",
       "      <td>1909-01-05</td>\n",
       "      <td>143</td>\n",
       "      <td>3.4</td>\n",
       "      <td>-0.4</td>\n",
       "      <td>9.0</td>\n",
       "    </tr>\n",
       "    <tr>\n",
       "      <th>...</th>\n",
       "      <td>...</td>\n",
       "      <td>...</td>\n",
       "      <td>...</td>\n",
       "      <td>...</td>\n",
       "      <td>...</td>\n",
       "    </tr>\n",
       "    <tr>\n",
       "      <th>41445</th>\n",
       "      <td>2022-06-26</td>\n",
       "      <td>143</td>\n",
       "      <td>28.4</td>\n",
       "      <td>24.4</td>\n",
       "      <td>32.8</td>\n",
       "    </tr>\n",
       "    <tr>\n",
       "      <th>41446</th>\n",
       "      <td>2022-06-27</td>\n",
       "      <td>143</td>\n",
       "      <td>27.3</td>\n",
       "      <td>25.4</td>\n",
       "      <td>30.1</td>\n",
       "    </tr>\n",
       "    <tr>\n",
       "      <th>41447</th>\n",
       "      <td>2022-06-28</td>\n",
       "      <td>143</td>\n",
       "      <td>28.9</td>\n",
       "      <td>24.8</td>\n",
       "      <td>32.3</td>\n",
       "    </tr>\n",
       "    <tr>\n",
       "      <th>41448</th>\n",
       "      <td>2022-06-29</td>\n",
       "      <td>143</td>\n",
       "      <td>29.5</td>\n",
       "      <td>27.7</td>\n",
       "      <td>33.7</td>\n",
       "    </tr>\n",
       "    <tr>\n",
       "      <th>41449</th>\n",
       "      <td>2022-06-30</td>\n",
       "      <td>143</td>\n",
       "      <td>29.8</td>\n",
       "      <td>26.5</td>\n",
       "      <td>34.8</td>\n",
       "    </tr>\n",
       "  </tbody>\n",
       "</table>\n",
       "<p>41450 rows × 5 columns</p>\n",
       "</div>"
      ],
      "text/plain": [
       "               날짜   지점  평균기온  최저기온  최고기온\n",
       "0      1909-01-01  143  -4.1  -8.0   0.1\n",
       "1      1909-01-02  143  -0.8  -6.7   6.1\n",
       "2      1909-01-03  143   1.0  -2.4   3.6\n",
       "3      1909-01-04  143   4.2   0.0   9.2\n",
       "4      1909-01-05  143   3.4  -0.4   9.0\n",
       "...           ...  ...   ...   ...   ...\n",
       "41445  2022-06-26  143  28.4  24.4  32.8\n",
       "41446  2022-06-27  143  27.3  25.4  30.1\n",
       "41447  2022-06-28  143  28.9  24.8  32.3\n",
       "41448  2022-06-29  143  29.5  27.7  33.7\n",
       "41449  2022-06-30  143  29.8  26.5  34.8\n",
       "\n",
       "[41450 rows x 5 columns]"
      ]
     },
     "execution_count": 177,
     "metadata": {},
     "output_type": "execute_result"
    }
   ],
   "source": [
    "import pandas as pd\n",
    "Wdf=pd.read_csv('대구_utf8.csv')\n",
    "Wdf"
   ]
  },
  {
   "cell_type": "code",
   "execution_count": 178,
   "id": "f94daa8a",
   "metadata": {},
   "outputs": [
    {
     "name": "stdout",
     "output_type": "stream",
     "text": [
      "시작연도를 입력하세요: 2010\n"
     ]
    }
   ],
   "source": [
    "startYear=int(input('시작연도를 입력하세요: '))"
   ]
  },
  {
   "cell_type": "code",
   "execution_count": 179,
   "id": "ce0b965f",
   "metadata": {},
   "outputs": [
    {
     "name": "stdout",
     "output_type": "stream",
     "text": [
      "마지막 연도를 입력하세요: 2015\n"
     ]
    }
   ],
   "source": [
    "finishYear=int(input('마지막 연도를 입력하세요: '))"
   ]
  },
  {
   "cell_type": "code",
   "execution_count": 180,
   "id": "958e2901",
   "metadata": {},
   "outputs": [
    {
     "name": "stdout",
     "output_type": "stream",
     "text": [
      "기온 변화를 측정할 달을 입력하세요: 6\n"
     ]
    }
   ],
   "source": [
    "cMonth=int(input('기온 변화를 측정할 달을 입력하세요: '))"
   ]
  },
  {
   "cell_type": "code",
   "execution_count": 181,
   "id": "74b6ec00",
   "metadata": {},
   "outputs": [
    {
     "data": {
      "text/plain": [
       "dtype('<M8[ns]')"
      ]
     },
     "execution_count": 181,
     "metadata": {},
     "output_type": "execute_result"
    }
   ],
   "source": [
    "Wdf['날짜']=pd.to_datetime(Wdf['날짜'], format='%Y-%m-%d')\n",
    "Wdf['날짜'].dtype"
   ]
  },
  {
   "cell_type": "code",
   "execution_count": 182,
   "id": "be26d1ad",
   "metadata": {},
   "outputs": [],
   "source": [
    "Wdf['Y']=Wdf['날짜'].dt.year\n",
    "Wdf['M']=Wdf['날짜'].dt.month"
   ]
  },
  {
   "cell_type": "code",
   "execution_count": 183,
   "id": "96ab901c",
   "metadata": {},
   "outputs": [
    {
     "data": {
      "image/png": "[encoded data removed]",
      "text/plain": [
       "<Figure size 1440x288 with 1 Axes>"
      ]
     },
     "metadata": {
      "needs_background": "light"
     },
     "output_type": "display_data"
    }
   ],
   "source": [
    "Wdf=Wdf[(Wdf['날짜'].dt.year>=startYear) & (Wdf['날짜'].dt.year<=finishYear) & (Wdf['날짜'].dt.month == cMonth)]\n",
    "Wdf\n",
    "monthGroup=Wdf.groupby(by='Y').mean()\n",
    "monthGroup[['최저기온', '최고기온']]\n",
    "L=monthGroup['최저기온'].to_list()\n",
    "H=monthGroup['최고기온'].to_list()\n",
    "\n",
    "if platform.system() == 'Windows':\n",
    "    plt.rc('font', family='Malgun Gothic', size=8)\n",
    "else:\n",
    "    plt.rc('font', family='AppleGothic', size=8)\n",
    "\n",
    "plt.figure(figsize=(20,4))\n",
    "plt.plot(L, 'blue', marker='o', label='최저기온')\n",
    "plt.plot(H, 'red', marker='o', label='최고기온')\n",
    "plt.legend()\n",
    "plt.title('{}년부터 {}까지 {}월의 기온 변화'.format(startYear, finishYear, cMonth))\n",
    "plt.show()\n"
   ]
  },
  {
   "cell_type": "code",
   "execution_count": null,
   "id": "e260181a",
   "metadata": {},
   "outputs": [],
   "source": []
  },
  {
   "cell_type": "code",
   "execution_count": null,
   "id": "5bb3aa7f",
   "metadata": {},
   "outputs": [],
   "source": []
  },
  {
   "cell_type": "code",
   "execution_count": null,
   "id": "60ac187b",
   "metadata": {},
   "outputs": [],
   "source": []
  },
  {
   "cell_type": "code",
   "execution_count": null,
   "id": "c631e7d7",
   "metadata": {
    "scrolled": false
   },
   "outputs": [],
   "source": []
  },
  {
   "cell_type": "code",
   "execution_count": null,
   "id": "c6b51f61",
   "metadata": {},
   "outputs": [],
   "source": []
  },
  {
   "cell_type": "code",
   "execution_count": null,
   "id": "2ca9f6bb",
   "metadata": {},
   "outputs": [],
   "source": []
  }
 ],
 "metadata": {
  "kernelspec": {
   "display_name": "Python 3 (ipykernel)",
   "language": "python",
   "name": "python3"
  },
  "language_info": {
   "codemirror_mode": {
    "name": "ipython",
    "version": 3
   },
   "file_extension": ".py",
   "mimetype": "text/x-python",
   "name": "python",
   "nbconvert_exporter": "python",
   "pygments_lexer": "ipython3",
   "version": "3.9.12"
  }
 },
 "nbformat": 4,
 "nbformat_minor": 5
}
