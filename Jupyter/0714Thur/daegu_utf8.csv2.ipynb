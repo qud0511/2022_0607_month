{
 "cells": [
  {
   "cell_type": "code",
   "execution_count": 115,
   "id": "f51e785d",
   "metadata": {},
   "outputs": [],
   "source": [
    "# 데이터프레임 처리\n",
    "import pandas as pd\n",
    "import numpy as np"
   ]
  },
  {
   "cell_type": "code",
   "execution_count": 116,
   "id": "1ca49610",
   "metadata": {},
   "outputs": [],
   "source": [
    "# 그래프\n",
    "import matplotlib.pyplot as plt"
   ]
  },
  {
   "cell_type": "code",
   "execution_count": 117,
   "id": "005027eb",
   "metadata": {},
   "outputs": [
    {
     "name": "stdout",
     "output_type": "stream",
     "text": [
      "Windows OS\n"
     ]
    }
   ],
   "source": [
    "# 폰트 및 호환\n",
    "import matplotlib.font_manager as fm\n",
    "import platform\n",
    "system_name = platform.system()\n",
    "if system_name == 'Windows':\n",
    "    # Windows 운영체제\n",
    "    print('Windows OS')\n",
    "    plt.rc('font', family='Malgun Gothic')\n",
    "    \n",
    "elif system_name == 'Darwin': # Mac OS\n",
    "    print('Mac OS')\n",
    "    plt.rc('font', family='AppleGothic')\n",
    "    \n",
    "elif system_name == 'Linux': # Linux\n",
    "    print('Linux OS')\n",
    "    path = '/usr/share/fonts/truetype/nanum/NanumMyeongjo.ttf'\n",
    "    font_name = fm.FontProperties(fname=path, size=12)\n",
    "    plt.rc('font', family=font_name)\n",
    "    \n",
    "else:\n",
    "    print(\"Not support\")"
   ]
  },
  {
   "cell_type": "code",
   "execution_count": 118,
   "id": "949c6fd5",
   "metadata": {},
   "outputs": [
    {
     "data": {
      "text/html": [
       "<div>\n",
       "<style scoped>\n",
       "    .dataframe tbody tr th:only-of-type {\n",
       "        vertical-align: middle;\n",
       "    }\n",
       "\n",
       "    .dataframe tbody tr th {\n",
       "        vertical-align: top;\n",
       "    }\n",
       "\n",
       "    .dataframe thead th {\n",
       "        text-align: right;\n",
       "    }\n",
       "</style>\n",
       "<table border=\"1\" class=\"dataframe\">\n",
       "  <thead>\n",
       "    <tr style=\"text-align: right;\">\n",
       "      <th></th>\n",
       "      <th>날짜</th>\n",
       "      <th>지점</th>\n",
       "      <th>평균기온</th>\n",
       "      <th>최저기온</th>\n",
       "      <th>최고기온</th>\n",
       "    </tr>\n",
       "  </thead>\n",
       "  <tbody>\n",
       "    <tr>\n",
       "      <th>0</th>\n",
       "      <td>1909-01-01</td>\n",
       "      <td>143</td>\n",
       "      <td>-4.1</td>\n",
       "      <td>-8.0</td>\n",
       "      <td>0.1</td>\n",
       "    </tr>\n",
       "    <tr>\n",
       "      <th>1</th>\n",
       "      <td>1909-01-02</td>\n",
       "      <td>143</td>\n",
       "      <td>-0.8</td>\n",
       "      <td>-6.7</td>\n",
       "      <td>6.1</td>\n",
       "    </tr>\n",
       "    <tr>\n",
       "      <th>2</th>\n",
       "      <td>1909-01-03</td>\n",
       "      <td>143</td>\n",
       "      <td>1.0</td>\n",
       "      <td>-2.4</td>\n",
       "      <td>3.6</td>\n",
       "    </tr>\n",
       "    <tr>\n",
       "      <th>3</th>\n",
       "      <td>1909-01-04</td>\n",
       "      <td>143</td>\n",
       "      <td>4.2</td>\n",
       "      <td>0.0</td>\n",
       "      <td>9.2</td>\n",
       "    </tr>\n",
       "    <tr>\n",
       "      <th>4</th>\n",
       "      <td>1909-01-05</td>\n",
       "      <td>143</td>\n",
       "      <td>3.4</td>\n",
       "      <td>-0.4</td>\n",
       "      <td>9.0</td>\n",
       "    </tr>\n",
       "  </tbody>\n",
       "</table>\n",
       "</div>"
      ],
      "text/plain": [
       "           날짜   지점  평균기온  최저기온  최고기온\n",
       "0  1909-01-01  143  -4.1  -8.0   0.1\n",
       "1  1909-01-02  143  -0.8  -6.7   6.1\n",
       "2  1909-01-03  143   1.0  -2.4   3.6\n",
       "3  1909-01-04  143   4.2   0.0   9.2\n",
       "4  1909-01-05  143   3.4  -0.4   9.0"
      ]
     },
     "execution_count": 118,
     "metadata": {},
     "output_type": "execute_result"
    }
   ],
   "source": [
    "df=pd.read_csv('./Data/' + 'daegu_utf8.csv', encoding='utf-8')\n",
    "df.head()"
   ]
  },
  {
   "cell_type": "code",
   "execution_count": 119,
   "id": "5885ee42",
   "metadata": {},
   "outputs": [
    {
     "name": "stdout",
     "output_type": "stream",
     "text": [
      "<class 'pandas.core.frame.DataFrame'>\n",
      "RangeIndex: 41450 entries, 0 to 41449\n",
      "Data columns (total 5 columns):\n",
      " #   Column  Non-Null Count  Dtype  \n",
      "---  ------  --------------  -----  \n",
      " 0   날짜      41450 non-null  object \n",
      " 1   지점      41450 non-null  int64  \n",
      " 2   평균기온    41450 non-null  float64\n",
      " 3   최저기온    41450 non-null  float64\n",
      " 4   최고기온    41450 non-null  float64\n",
      "dtypes: float64(3), int64(1), object(1)\n",
      "memory usage: 1.6+ MB\n"
     ]
    }
   ],
   "source": [
    "df.info()"
   ]
  },
  {
   "cell_type": "code",
   "execution_count": 120,
   "id": "3ce3b242",
   "metadata": {},
   "outputs": [
    {
     "data": {
      "text/plain": [
       "날짜      0\n",
       "지점      0\n",
       "평균기온    0\n",
       "최저기온    0\n",
       "최고기온    0\n",
       "dtype: int64"
      ]
     },
     "execution_count": 120,
     "metadata": {},
     "output_type": "execute_result"
    }
   ],
   "source": [
    "df.isna().sum()"
   ]
  },
  {
   "cell_type": "code",
   "execution_count": 121,
   "id": "e810086e",
   "metadata": {},
   "outputs": [
    {
     "data": {
      "text/plain": [
       "0       1909-01-01\n",
       "1       1909-01-02\n",
       "2       1909-01-03\n",
       "3       1909-01-04\n",
       "4       1909-01-05\n",
       "           ...    \n",
       "41445   2022-06-26\n",
       "41446   2022-06-27\n",
       "41447   2022-06-28\n",
       "41448   2022-06-29\n",
       "41449   2022-06-30\n",
       "Name: 날짜, Length: 41450, dtype: datetime64[ns]"
      ]
     },
     "execution_count": 121,
     "metadata": {},
     "output_type": "execute_result"
    }
   ],
   "source": [
    "df['날짜'] = pd.to_datetime(df['날짜'])\n",
    "df['날짜']"
   ]
  },
  {
   "cell_type": "code",
   "execution_count": 122,
   "id": "de36e52d",
   "metadata": {},
   "outputs": [
    {
     "data": {
      "text/plain": [
       "날짜      0\n",
       "지점      0\n",
       "평균기온    0\n",
       "최저기온    0\n",
       "최고기온    0\n",
       "dtype: int64"
      ]
     },
     "execution_count": 122,
     "metadata": {},
     "output_type": "execute_result"
    }
   ],
   "source": [
    "df.isna().sum()"
   ]
  },
  {
   "cell_type": "code",
   "execution_count": 123,
   "id": "f4edf742",
   "metadata": {},
   "outputs": [],
   "source": [
    "# ------------------------------------------"
   ]
  },
  {
   "cell_type": "code",
   "execution_count": 132,
   "id": "ebf9c0aa",
   "metadata": {},
   "outputs": [
    {
     "name": "stdout",
     "output_type": "stream",
     "text": [
      "시작 연도 입력 : 2001\n",
      "마지막 연도 입력 : 2021\n",
      "달 입력 : 8\n"
     ]
    }
   ],
   "source": [
    "start_year = int(input('시작 연도 입력 : '))\n",
    "last_year = int(input('마지막 연도 입력 : '))\n",
    "user_month = int(input('달 입력 : '))\n"
   ]
  },
  {
   "cell_type": "code",
   "execution_count": 133,
   "id": "98d763b2",
   "metadata": {},
   "outputs": [],
   "source": [
    "high_temp=[]\n",
    "low_temp=[]\n",
    "x_year=[]"
   ]
  },
  {
   "cell_type": "code",
   "execution_count": 134,
   "id": "dd587086",
   "metadata": {},
   "outputs": [],
   "source": [
    "# year_df=df[ (df.날짜.dt.year>=start_year) & (df.날짜.dt.year<=start_year) ]\n",
    "# month_df = df[ df.날짜.dt.month == user_month ]"
   ]
  },
  {
   "cell_type": "code",
   "execution_count": 135,
   "id": "be1f6b72",
   "metadata": {},
   "outputs": [],
   "source": [
    "year_df=df.날짜.dt.year\n",
    "month_df=df.날짜.dt.month\n"
   ]
  },
  {
   "cell_type": "code",
   "execution_count": 136,
   "id": "bfa4498c",
   "metadata": {},
   "outputs": [],
   "source": [
    "# 조건에 맞는 데이터프레임 생성\n",
    "cond_df=df[(year_df>=start_year)&(year_df<=last_year)&(month_df==user_month)]"
   ]
  },
  {
   "cell_type": "code",
   "execution_count": 137,
   "id": "6f834fdf",
   "metadata": {},
   "outputs": [],
   "source": [
    "for i in range(start_year, last_year+1):\n",
    "    max_temp_mean=round(cond_df[ cond_df.날짜.dt.year == i]['최고기온'].mean(), 1)\n",
    "    min_temp_mean=round(cond_df[ cond_df.날짜.dt.year == i]['최저기온'].mean(), 1)\n",
    "    \n",
    "    high_temp.append(max_temp_mean)\n",
    "    low_temp.append(min_temp_mean)\n",
    "    x_year.append(i)"
   ]
  },
  {
   "cell_type": "code",
   "execution_count": 138,
   "id": "14daa7ff",
   "metadata": {},
   "outputs": [
    {
     "data": {
      "text/plain": [
       "[<matplotlib.lines.Line2D at 0x18ac105a8b0>]"
      ]
     },
     "execution_count": 138,
     "metadata": {},
     "output_type": "execute_result"
    },
    {
     "data": {
      "image/png": "[encoded data removed]",
      "text/plain": [
       "<Figure size 1440x288 with 1 Axes>"
      ]
     },
     "metadata": {
      "needs_background": "light"
     },
     "output_type": "display_data"
    }
   ],
   "source": [
    "plt.figure(figsize=(20,4))\n",
    "plt.plot(x_year, high_temp, 'red', marker='*', label='최고기온')\n",
    "plt.plot(x_year, low_temp, 'blue', marker='s', label='최저기온')"
   ]
  },
  {
   "cell_type": "code",
   "execution_count": 141,
   "id": "18e4433c",
   "metadata": {},
   "outputs": [
    {
     "name": "stdout",
     "output_type": "stream",
     "text": [
      "2001년부터 2021까지 8월의 기온 변화\n",
      "8월 최저기온 평균 : \n",
      "[23.7, 22.1, 21.7, 22.4, 22.9, 24.3, 24.2, 22.2, 22.2, 25.0, 23.1, 24.5, 25.0, 21.7, 22.0, 23.2, 22.5, 23.7, 23.7, 24.8, 22.4]\n",
      "8월 최고기온 평균 : \n",
      "[31.4, 28.5, 29.2, 30.7, 31.0, 33.3, 32.0, 30.7, 29.7, 33.6, 30.3, 32.4, 34.4, 28.8, 31.2, 33.2, 31.4, 32.9, 32.2, 33.3, 30.5]\n"
     ]
    }
   ],
   "source": [
    "print(f'{start_year}년부터 {last_year}까지 {user_month}월의 기온 변화')\n",
    "print(f'{user_month}월 최저기온 평균 : \\n{low_temp}')\n",
    "print(f'{user_month}월 최고기온 평균 : \\n{high_temp}')"
   ]
  },
  {
   "cell_type": "code",
   "execution_count": 131,
   "id": "f7526225",
   "metadata": {},
   "outputs": [],
   "source": [
    "# 데이터프레임.groupby(그룹이되는컬럼)[계산하고 싶은 컬럼].집계함수()\n",
    "# df.groupby(df['날짜'])['최고기온'].mean()"
   ]
  },
  {
   "cell_type": "code",
   "execution_count": null,
   "id": "b1181291",
   "metadata": {},
   "outputs": [],
   "source": []
  },
  {
   "cell_type": "code",
   "execution_count": null,
   "id": "382f2ccc",
   "metadata": {},
   "outputs": [],
   "source": []
  },
  {
   "cell_type": "code",
   "execution_count": null,
   "id": "cda343db",
   "metadata": {},
   "outputs": [],
   "source": []
  }
 ],
 "metadata": {
  "kernelspec": {
   "display_name": "Python 3 (ipykernel)",
   "language": "python",
   "name": "python3"
  },
  "language_info": {
   "codemirror_mode": {
    "name": "ipython",
    "version": 3
   },
   "file_extension": ".py",
   "mimetype": "text/x-python",
   "name": "python",
   "nbconvert_exporter": "python",
   "pygments_lexer": "ipython3",
   "version": "3.9.12"
  }
 },
 "nbformat": 4,
 "nbformat_minor": 5
}
