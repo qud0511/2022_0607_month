{
 "cells": [
  {
   "cell_type": "markdown",
   "metadata": {},
   "source": [
    "# 송인욱 과제"
   ]
  },
  {
   "cell_type": "code",
   "execution_count": 132,
   "metadata": {},
   "outputs": [],
   "source": [
    "import pandas as pd\n",
    "import platform\n",
    "import matplotlib.pyplot as plt\n",
    "import matplotlib.font_manager as fm"
   ]
  },
  {
   "cell_type": "code",
   "execution_count": 133,
   "metadata": {},
   "outputs": [
    {
     "name": "stdout",
     "output_type": "stream",
     "text": [
      "           날짜   지점  평균기온  최저기온  최고기온\n",
      "0  1909-01-01  143  -4.1  -8.0   0.1\n",
      "1  1909-01-02  143  -0.8  -6.7   6.1\n",
      "2  1909-01-03  143   1.0  -2.4   3.6\n",
      "3  1909-01-04  143   4.2   0.0   9.2\n",
      "4  1909-01-05  143   3.4  -0.4   9.0\n"
     ]
    }
   ],
   "source": [
    "weather_df = pd.read_csv('daegu_utf8.csv')\n",
    "print(weather_df.head())"
   ]
  },
  {
   "cell_type": "code",
   "execution_count": 139,
   "metadata": {},
   "outputs": [],
   "source": [
    "def meanTemp(start_year, finish_year, month):\n",
    "    if int(start_year) > int(finish_year):\n",
    "        raise Exception('year error')\n",
    "\n",
    "    weather_df['날짜'] = pd.to_datetime(weather_df['날짜'])\n",
    "\n",
    "    year_df = weather_df[weather_df['날짜'].dt.year >= int(start_year)]\n",
    "    year_df2 = year_df[year_df['날짜'].dt.year <= int(finish_year)]\n",
    "\n",
    "    month_df = year_df2[year_df2['날짜'].dt.month == int(month)]\n",
    "    month_df['년도'] = month_df['날짜'].dt.year\n",
    "\n",
    "    year_mean = month_df.groupby('년도').mean().reset_index()\n",
    "\n",
    "    date = list(year_mean['년도'])\n",
    "    max_mean = list(year_mean['최고기온'])\n",
    "    min_mean = list(year_mean['최저기온'])\n",
    "\n",
    "    print(f'{start_year}년 부터 {finish_year}년 까지 {month}월의 기온 변화')\n",
    "    print(f'{month}월 최저기온 평균:')\n",
    "    minStr = str(round(min_mean[0],2))\n",
    "    for i in min_mean[1:]:\n",
    "        minStr = minStr + ', ' + str(round(i,2))\n",
    "    print(minStr)\n",
    "\n",
    "    print(f'{month}월 최고기온 평균:')\n",
    "    maxStr = str(round(max_mean[0],2))\n",
    "    for i in max_mean[1:]:\n",
    "        maxStr = maxStr + ', ' + str(round(i,2))\n",
    "    print(maxStr)\n",
    "\n",
    "    # 폰트설정\n",
    "    system_name = platform.system()\n",
    "    if system_name == 'Windows':\n",
    "        plt.rc('font', family='Malgun Gothic')\n",
    "    elif system_name == 'Darwin':\n",
    "        plt.rc('font', familly='AppleGothic')\n",
    "    elif system_name == 'Linux':\n",
    "        path = '/usr/share/fonts/truetype/nanum/NanumMyeongjo.ttf'\n",
    "        font_name = fm.FontProperties(fname=path, size=12)\n",
    "        plt.rc('font', family=font_name)\n",
    "    else:\n",
    "        raise Exception('not support')\n",
    "\n",
    "    # 그래프 그리기\n",
    "    plt.figure(figsize=(15,7))\n",
    "    plt.plot(date, max_mean, label='최고기온', marker='s', color='r')\n",
    "    plt.plot(date, min_mean, label='최저기온', marker='o', color='b')\n",
    "    plt.title(f'{start_year}년 부터 {finish_year}년 까지의 {month}월의 기온 변화')\n",
    "    plt.legend()\n",
    "    plt.show()"
   ]
  },
  {
   "cell_type": "code",
   "execution_count": 141,
   "metadata": {},
   "outputs": [
    {
     "name": "stdout",
     "output_type": "stream",
     "text": [
      "2001년 부터 2010년 까지 4월의 기온 변화\n",
      "4월 최저기온 평균:\n",
      "9.56, 9.46, 9.33, 9.27, 9.84, 8.62, 8.58, 9.29, 9.5, 6.54\n",
      "4월 최고기온 평균:\n",
      "22.26, 21.55, 19.46, 22.03, 22.35, 19.06, 19.92, 20.96, 21.87, 17.01\n"
     ]
    },
    {
     "name": "stderr",
     "output_type": "stream",
     "text": [
      "C:\\Users\\User\\AppData\\Local\\Temp\\ipykernel_9612\\544972262.py:11: SettingWithCopyWarning: \n",
      "A value is trying to be set on a copy of a slice from a DataFrame.\n",
      "Try using .loc[row_indexer,col_indexer] = value instead\n",
      "\n",
      "See the caveats in the documentation: https://pandas.pydata.org/pandas-docs/stable/user_guide/indexing.html#returning-a-view-versus-a-copy\n",
      "  month_df['년도'] = month_df['날짜'].dt.year\n"
     ]
    },
    {
     "data": {
      "image/png": "[encoded data removed]",
      "text/plain": [
       "<Figure size 1080x504 with 1 Axes>"
      ]
     },
     "metadata": {
      "needs_background": "light"
     },
     "output_type": "display_data"
    }
   ],
   "source": [
    "start_year = input('시작 연도를 입력하세요')\n",
    "finish_year = input('마지막 연도를 입력하세요')\n",
    "month = input('기온 변화를 측정할 달을 입력하세요')\n",
    "\n",
    "meanTemp(start_year, finish_year, month)"
   ]
  }
 ],
 "metadata": {
  "kernelspec": {
   "display_name": "Python 3 (ipykernel)",
   "language": "python",
   "name": "python3"
  },
  "language_info": {
   "codemirror_mode": {
    "name": "ipython",
    "version": 3
   },
   "file_extension": ".py",
   "mimetype": "text/x-python",
   "name": "python",
   "nbconvert_exporter": "python",
   "pygments_lexer": "ipython3",
   "version": "3.9.12"
  },
  "vscode": {
   "interpreter": {
    "hash": "d1dde8d3f1fc6169eb2afb9c884f1482ff31994a855398e316a83a9dc8ff488b"
   }
  }
 },
 "nbformat": 4,
 "nbformat_minor": 2
}
