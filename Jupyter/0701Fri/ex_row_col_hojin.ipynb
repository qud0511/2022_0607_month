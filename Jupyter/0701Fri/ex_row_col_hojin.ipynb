{
 "cells": [
  {
   "cell_type": "markdown",
   "id": "8a281323",
   "metadata": {},
   "source": [
    "# DataFrame에서 데이터 추출 ----------------------------------\n",
    "\n",
    " - 열(컬럼 column 세로벡터) 단위 데이터 추출\n",
    "     - 방식 : DF객체변수명[컬러명] 또는 DF객체변수명.컬럼명\n",
    " \n",
    " - 행(로우 row 가로벡터) 단위 데이터 추출\n",
    "     - 방식 : DF객체변수명.loc[ 인덱스라벨 ] 또는 DF객체변수명.iloc[ 정수인덱스 ]\n",
    "     \n",
    "     \n",
    " - 원소 단위 데이터 추출\n",
    "     - 방식 : DF객체변수명.loc[ 행인덱스라벨, 열인덱스라벨 ] 또는 [행인덱스라벨]\n",
    "     [열인덱스라벨]\n",
    "              DF객체변수명.iloc[ 행인덱스, 열인덱스 ] 또는 [행인덱스][열인덱스]"
   ]
  },
  {
   "cell_type": "code",
   "execution_count": 1,
   "id": "9f2eeba4",
   "metadata": {},
   "outputs": [
    {
     "name": "stdout",
     "output_type": "stream",
     "text": [
      "<class 'pandas.core.frame.DataFrame'>\n",
      "RangeIndex: 2 entries, 0 to 1\n",
      "Data columns (total 3 columns):\n",
      " #   Column  Non-Null Count  Dtype\n",
      "---  ------  --------------  -----\n",
      " 0   0       2 non-null      int64\n",
      " 1   1       2 non-null      int64\n",
      " 2   2       2 non-null      int64\n",
      "dtypes: int64(3)\n",
      "memory usage: 176.0 bytes\n"
     ]
    }
   ],
   "source": [
    "# 모듈 로딩 ---------------------------------------------\n",
    "import pandas as pd\n",
    "\n",
    "# DF객체 생성 -------------------------------------------\n",
    "df=pd.DataFrame(([1,2,3], [11,22,33]))\n",
    "\n",
    "# DF객체 요약 정보 출력 메서드\n",
    "df.info()"
   ]
  },
  {
   "cell_type": "code",
   "execution_count": 2,
   "id": "14b4a4fa",
   "metadata": {},
   "outputs": [
    {
     "data": {
      "text/html": [
       "<div>\n",
       "<style scoped>\n",
       "    .dataframe tbody tr th:only-of-type {\n",
       "        vertical-align: middle;\n",
       "    }\n",
       "\n",
       "    .dataframe tbody tr th {\n",
       "        vertical-align: top;\n",
       "    }\n",
       "\n",
       "    .dataframe thead th {\n",
       "        text-align: right;\n",
       "    }\n",
       "</style>\n",
       "<table border=\"1\" class=\"dataframe\">\n",
       "  <thead>\n",
       "    <tr style=\"text-align: right;\">\n",
       "      <th></th>\n",
       "      <th>0</th>\n",
       "      <th>1</th>\n",
       "      <th>2</th>\n",
       "    </tr>\n",
       "  </thead>\n",
       "  <tbody>\n",
       "    <tr>\n",
       "      <th>0</th>\n",
       "      <td>1</td>\n",
       "      <td>2</td>\n",
       "      <td>3</td>\n",
       "    </tr>\n",
       "    <tr>\n",
       "      <th>1</th>\n",
       "      <td>11</td>\n",
       "      <td>22</td>\n",
       "      <td>33</td>\n",
       "    </tr>\n",
       "  </tbody>\n",
       "</table>\n",
       "</div>"
      ],
      "text/plain": [
       "    0   1   2\n",
       "0   1   2   3\n",
       "1  11  22  33"
      ]
     },
     "execution_count": 2,
     "metadata": {},
     "output_type": "execute_result"
    }
   ],
   "source": [
    "# DF객체 구성 확인\n",
    "df"
   ]
  },
  {
   "cell_type": "markdown",
   "id": "2c5b4386",
   "metadata": {},
   "source": [
    "# 열 (세로) 데이터 추출"
   ]
  },
  {
   "cell_type": "code",
   "execution_count": 3,
   "id": "46a43298",
   "metadata": {},
   "outputs": [
    {
     "ename": "InvalidIndexError",
     "evalue": "(0, 1)",
     "output_type": "error",
     "traceback": [
      "\u001b[1;31m---------------------------------------------------------------------------\u001b[0m",
      "\u001b[1;31mInvalidIndexError\u001b[0m                         Traceback (most recent call last)",
      "Input \u001b[1;32mIn [3]\u001b[0m, in \u001b[0;36m<cell line: 2>\u001b[1;34m()\u001b[0m\n\u001b[0;32m      1\u001b[0m \u001b[38;5;66;03m# DF객체변수명[컬럼명]\u001b[39;00m\n\u001b[1;32m----> 2\u001b[0m twoCol\u001b[38;5;241m=\u001b[39m\u001b[43mdf\u001b[49m\u001b[43m[\u001b[49m\u001b[38;5;241;43m0\u001b[39;49m\u001b[43m,\u001b[49m\u001b[38;5;241;43m1\u001b[39;49m\u001b[43m]\u001b[49m\n\u001b[0;32m      4\u001b[0m \u001b[38;5;28mprint\u001b[39m(\u001b[38;5;124mf\u001b[39m\u001b[38;5;124m'\u001b[39m\u001b[38;5;124mtwoCol => \u001b[39m\u001b[38;5;130;01m\\n\u001b[39;00m\u001b[38;5;132;01m{\u001b[39;00mtwoCol\u001b[38;5;132;01m}\u001b[39;00m\u001b[38;5;124m'\u001b[39m, \u001b[38;5;124mf\u001b[39m\u001b[38;5;124m'\u001b[39m\u001b[38;5;124mtwoCol Type => \u001b[39m\u001b[38;5;132;01m{\u001b[39;00m\u001b[38;5;28mtype\u001b[39m(twoCol)\u001b[38;5;132;01m}\u001b[39;00m\u001b[38;5;124m'\u001b[39m,sep\u001b[38;5;241m=\u001b[39m\u001b[38;5;124m'\u001b[39m\u001b[38;5;130;01m\\n\u001b[39;00m\u001b[38;5;124m'\u001b[39m)\n",
      "File \u001b[1;32m~\\AppData\\Roaming\\Python\\Python39\\site-packages\\pandas\\core\\frame.py:3505\u001b[0m, in \u001b[0;36mDataFrame.__getitem__\u001b[1;34m(self, key)\u001b[0m\n\u001b[0;32m   3503\u001b[0m \u001b[38;5;28;01mif\u001b[39;00m \u001b[38;5;28mself\u001b[39m\u001b[38;5;241m.\u001b[39mcolumns\u001b[38;5;241m.\u001b[39mnlevels \u001b[38;5;241m>\u001b[39m \u001b[38;5;241m1\u001b[39m:\n\u001b[0;32m   3504\u001b[0m     \u001b[38;5;28;01mreturn\u001b[39;00m \u001b[38;5;28mself\u001b[39m\u001b[38;5;241m.\u001b[39m_getitem_multilevel(key)\n\u001b[1;32m-> 3505\u001b[0m indexer \u001b[38;5;241m=\u001b[39m \u001b[38;5;28;43mself\u001b[39;49m\u001b[38;5;241;43m.\u001b[39;49m\u001b[43mcolumns\u001b[49m\u001b[38;5;241;43m.\u001b[39;49m\u001b[43mget_loc\u001b[49m\u001b[43m(\u001b[49m\u001b[43mkey\u001b[49m\u001b[43m)\u001b[49m\n\u001b[0;32m   3506\u001b[0m \u001b[38;5;28;01mif\u001b[39;00m is_integer(indexer):\n\u001b[0;32m   3507\u001b[0m     indexer \u001b[38;5;241m=\u001b[39m [indexer]\n",
      "File \u001b[1;32m~\\AppData\\Roaming\\Python\\Python39\\site-packages\\pandas\\core\\indexes\\range.py:388\u001b[0m, in \u001b[0;36mRangeIndex.get_loc\u001b[1;34m(self, key, method, tolerance)\u001b[0m\n\u001b[0;32m    386\u001b[0m         \u001b[38;5;28;01mexcept\u001b[39;00m \u001b[38;5;167;01mValueError\u001b[39;00m \u001b[38;5;28;01mas\u001b[39;00m err:\n\u001b[0;32m    387\u001b[0m             \u001b[38;5;28;01mraise\u001b[39;00m \u001b[38;5;167;01mKeyError\u001b[39;00m(key) \u001b[38;5;28;01mfrom\u001b[39;00m \u001b[38;5;21;01merr\u001b[39;00m\n\u001b[1;32m--> 388\u001b[0m     \u001b[38;5;28;43mself\u001b[39;49m\u001b[38;5;241;43m.\u001b[39;49m\u001b[43m_check_indexing_error\u001b[49m\u001b[43m(\u001b[49m\u001b[43mkey\u001b[49m\u001b[43m)\u001b[49m\n\u001b[0;32m    389\u001b[0m     \u001b[38;5;28;01mraise\u001b[39;00m \u001b[38;5;167;01mKeyError\u001b[39;00m(key)\n\u001b[0;32m    390\u001b[0m \u001b[38;5;28;01mreturn\u001b[39;00m \u001b[38;5;28msuper\u001b[39m()\u001b[38;5;241m.\u001b[39mget_loc(key, method\u001b[38;5;241m=\u001b[39mmethod, tolerance\u001b[38;5;241m=\u001b[39mtolerance)\n",
      "File \u001b[1;32m~\\AppData\\Roaming\\Python\\Python39\\site-packages\\pandas\\core\\indexes\\base.py:5637\u001b[0m, in \u001b[0;36mIndex._check_indexing_error\u001b[1;34m(self, key)\u001b[0m\n\u001b[0;32m   5633\u001b[0m \u001b[38;5;28;01mdef\u001b[39;00m \u001b[38;5;21m_check_indexing_error\u001b[39m(\u001b[38;5;28mself\u001b[39m, key):\n\u001b[0;32m   5634\u001b[0m     \u001b[38;5;28;01mif\u001b[39;00m \u001b[38;5;129;01mnot\u001b[39;00m is_scalar(key):\n\u001b[0;32m   5635\u001b[0m         \u001b[38;5;66;03m# if key is not a scalar, directly raise an error (the code below\u001b[39;00m\n\u001b[0;32m   5636\u001b[0m         \u001b[38;5;66;03m# would convert to numpy arrays and raise later any way) - GH29926\u001b[39;00m\n\u001b[1;32m-> 5637\u001b[0m         \u001b[38;5;28;01mraise\u001b[39;00m InvalidIndexError(key)\n",
      "\u001b[1;31mInvalidIndexError\u001b[0m: (0, 1)"
     ]
    }
   ],
   "source": [
    "# DF객체변수명[컬럼명]\n",
    "twoCol=df[0,1]\n",
    "\n",
    "print(f'twoCol => \\n{twoCol}', f'twoCol Type => {type(twoCol)}',sep='\\n')"
   ]
  },
  {
   "cell_type": "code",
   "execution_count": null,
   "id": "82efa994",
   "metadata": {},
   "outputs": [],
   "source": [
    "# DF객체의 column 송성변경\n",
    "df.columns=['one', 'two', 'three']\n",
    "df"
   ]
  },
  {
   "cell_type": "code",
   "execution_count": null,
   "id": "185a8e31",
   "metadata": {},
   "outputs": [],
   "source": [
    "twoCol=df['one':'three']\n",
    "print(f'twoCol => \\n{twoCol}',f'twoCol Type => {type(twoCol)}',sep='\\n')"
   ]
  },
  {
   "cell_type": "markdown",
   "id": "59c12064",
   "metadata": {},
   "source": [
    "# 행(row, 가로) 데이터 추출 -------------------------------\n",
    "    - DF객체변수명.loc"
   ]
  },
  {
   "cell_type": "code",
   "execution_count": null,
   "id": "9120c931",
   "metadata": {},
   "outputs": [],
   "source": [
    "# 11, 22, 33 라인 전체 추출\n",
    "df['one']"
   ]
  },
  {
   "cell_type": "code",
   "execution_count": null,
   "id": "45684116",
   "metadata": {},
   "outputs": [],
   "source": [
    "# 11, 22, 33 라인 전체 추출\n",
    "oneRow=df.iloc[1]\n",
    "\n",
    "print(f'oneRow => \\n{oneRow}', f'oneRow Type => {type(oneRow)}',sep='\\n')"
   ]
  },
  {
   "cell_type": "code",
   "execution_count": null,
   "id": "5bbcd8de",
   "metadata": {},
   "outputs": [],
   "source": [
    "twoRow=df.iloc[0,1]\n",
    "\n",
    "print(f'twoRow => \\n{twoRow}', f'twoRow Type => {type(twoRow)}',sep='\\n')"
   ]
  },
  {
   "cell_type": "code",
   "execution_count": null,
   "id": "3751c3ac",
   "metadata": {},
   "outputs": [],
   "source": [
    "exam_data = {'수학':[99,80,79], '영어':[100,100,100],\n",
    "             '음악':[88,91,89], '체육':[90,90,90]}\n",
    "\n",
    "df1 = pd.DataFrame(exam_data, index=['서준','우현','인아'])\n",
    "df1"
   ]
  },
  {
   "cell_type": "code",
   "execution_count": null,
   "id": "f0532593",
   "metadata": {},
   "outputs": [],
   "source": [
    "df1.iloc[1]"
   ]
  },
  {
   "cell_type": "code",
   "execution_count": null,
   "id": "82c9d8f4",
   "metadata": {},
   "outputs": [],
   "source": [
    "# 우현학생의 성적만 추출\n",
    "oneRow=df1.loc['우현']\n",
    "oneRow"
   ]
  },
  {
   "cell_type": "code",
   "execution_count": null,
   "id": "b4b8b545",
   "metadata": {},
   "outputs": [],
   "source": [
    "# 인하학생의 성적만 추출\n",
    "oneRow = df1.iloc[2]\n",
    "oneRow"
   ]
  },
  {
   "cell_type": "code",
   "execution_count": null,
   "id": "c9454fe4",
   "metadata": {},
   "outputs": [],
   "source": [
    "# 음악과목의 성적만 추출\n",
    "oneCol=df1.음악\n",
    "oneCol"
   ]
  },
  {
   "cell_type": "code",
   "execution_count": null,
   "id": "768a0f5a",
   "metadata": {},
   "outputs": [],
   "source": [
    "oneCol=df1['음악']\n",
    "oneCol"
   ]
  },
  {
   "cell_type": "code",
   "execution_count": null,
   "id": "00fcb6e2",
   "metadata": {},
   "outputs": [],
   "source": [
    "# DF에서 원소 추출 => iloc[ 행, 열 ] 또는 loc[ 행, 열]\n",
    "woo=df1.loc['우현', '음악']\n",
    "\n",
    "print(f'woo => {woo}', f'woo type => {type(woo)}', sep='\\n')"
   ]
  },
  {
   "cell_type": "code",
   "execution_count": null,
   "id": "f63367c8",
   "metadata": {},
   "outputs": [],
   "source": [
    "df1"
   ]
  },
  {
   "cell_type": "code",
   "execution_count": null,
   "id": "33e3bf38",
   "metadata": {},
   "outputs": [],
   "source": [
    "#select = df1[1][2]\n",
    "#select                        - 실행 X\n",
    "select = df1['수학'][2]\n",
    "select"
   ]
  },
  {
   "cell_type": "code",
   "execution_count": null,
   "id": "a34c1166",
   "metadata": {},
   "outputs": [],
   "source": [
    "oneCol=df1['수학']\n",
    "oneCol[2]"
   ]
  },
  {
   "cell_type": "code",
   "execution_count": null,
   "id": "cb7480c6",
   "metadata": {},
   "outputs": [],
   "source": [
    "select = df1['수학'][[1,2]]\n",
    "\n",
    "select"
   ]
  },
  {
   "cell_type": "markdown",
   "id": "89cee559",
   "metadata": {},
   "source": [
    "# DF에 행과 열 추가하기 --------------------------------\n",
    "\n",
    "- 행 추가 => DF객체변수명.loc[행라벨] = 데이터\n",
    "\n",
    "- 열 추가 => DF객체변수명[컬럼] = 데이터"
   ]
  },
  {
   "cell_type": "code",
   "execution_count": null,
   "id": "e00bef1a",
   "metadata": {},
   "outputs": [],
   "source": [
    "# DF 데이터 확인\n",
    "df1"
   ]
  },
  {
   "cell_type": "code",
   "execution_count": null,
   "id": "24d015f6",
   "metadata": {},
   "outputs": [],
   "source": [
    "# 행(row) 추가하기 -----------------------------------\n",
    "df1.loc['호진']=[100, 100, 100, 100]\n",
    "df1"
   ]
  },
  {
   "cell_type": "code",
   "execution_count": null,
   "id": "201a2285",
   "metadata": {},
   "outputs": [],
   "source": [
    "#df1.loc['나령']=[100,100]"
   ]
  },
  {
   "cell_type": "code",
   "execution_count": null,
   "id": "0bd9d095",
   "metadata": {},
   "outputs": [],
   "source": [
    "df1.loc['나령']=100\n",
    "df1"
   ]
  },
  {
   "cell_type": "code",
   "execution_count": null,
   "id": "8856e562",
   "metadata": {},
   "outputs": [],
   "source": [
    "# 열(column) 추가하기 ---------------------\n",
    "df1['국어']=[100, 100, 100, 100, 100]\n",
    "df1"
   ]
  },
  {
   "cell_type": "code",
   "execution_count": null,
   "id": "f951c105",
   "metadata": {},
   "outputs": [],
   "source": [
    "df1['국어']=[0,0,0,0,1]\n",
    "df1"
   ]
  },
  {
   "cell_type": "code",
   "execution_count": null,
   "id": "78be0c93",
   "metadata": {},
   "outputs": [],
   "source": [
    "df1['나령']=2000\n",
    "df1"
   ]
  },
  {
   "cell_type": "markdown",
   "id": "8ba11116",
   "metadata": {},
   "source": [
    "# DF에서 행과 열 삭제하기 -------------------------\n",
    "\n",
    "- 삭제 관련 메서드 => drop( )\n",
    "    - 행 삭제 : DF객체변수명.drop(행, axis=0)   <- axis=0 행 기본값\n",
    "    - 열 삭제 : DF객체변수명.drop(열, axis=1)\n",
    "    \n",
    "\n",
    "- drop() 특징\n",
    "    - 실제 데이터 삭제하지 않음   => 복사본에서 데이터 삭제하고 복사본 반환\n",
    "    - 실제 데이터 삭제하기   => inplace = True"
   ]
  },
  {
   "cell_type": "code",
   "execution_count": null,
   "id": "a1ec3135",
   "metadata": {},
   "outputs": [],
   "source": [
    "df1"
   ]
  },
  {
   "cell_type": "code",
   "execution_count": null,
   "id": "d8957b03",
   "metadata": {},
   "outputs": [],
   "source": [
    "# 인아 학생 성적 제거 =====> 행(row)\n",
    "df1.drop('인아')"
   ]
  },
  {
   "cell_type": "code",
   "execution_count": null,
   "id": "40d79f30",
   "metadata": {},
   "outputs": [],
   "source": [
    "df1"
   ]
  },
  {
   "cell_type": "code",
   "execution_count": null,
   "id": "81b3e19b",
   "metadata": {},
   "outputs": [],
   "source": [
    "df2=df1.drop('인아')\n",
    "df2"
   ]
  },
  {
   "cell_type": "code",
   "execution_count": null,
   "id": "ad06f5f8",
   "metadata": {},
   "outputs": [],
   "source": [
    "df3=df1.drop('인아', inplace=True)\n",
    "print(df3)"
   ]
  },
  {
   "cell_type": "code",
   "execution_count": null,
   "id": "2ddd51cf",
   "metadata": {},
   "outputs": [],
   "source": [
    "df1"
   ]
  },
  {
   "cell_type": "code",
   "execution_count": null,
   "id": "969a592b",
   "metadata": {},
   "outputs": [],
   "source": [
    "df1"
   ]
  },
  {
   "cell_type": "code",
   "execution_count": null,
   "id": "64f64049",
   "metadata": {},
   "outputs": [],
   "source": [
    "df4=df1.drop('수학', axis=1)\n",
    "df4"
   ]
  },
  {
   "cell_type": "code",
   "execution_count": null,
   "id": "9c53f0ae",
   "metadata": {},
   "outputs": [],
   "source": [
    "df1"
   ]
  },
  {
   "cell_type": "code",
   "execution_count": null,
   "id": "151abfaf",
   "metadata": {},
   "outputs": [],
   "source": [
    "# 열(column) 삭제 => 수학 컬럼\n",
    "# => DF객체변수명.drop(행, axis=1, inplace=True)"
   ]
  },
  {
   "cell_type": "markdown",
   "id": "7414c285",
   "metadata": {},
   "source": [
    "# 행&열 전환 --------------------------------------\n",
    "\n",
    "- 행 ==> 열,   열 ==> 행으로 변환\n",
    "\n",
    "- 방법\n",
    "        - 메서드 : DF객체변수명.transpose()\n",
    "        - 속 성 : DF객체변수명.T\n",
    "       "
   ]
  },
  {
   "cell_type": "code",
   "execution_count": null,
   "id": "ac09d36a",
   "metadata": {},
   "outputs": [],
   "source": [
    "df1"
   ]
  },
  {
   "cell_type": "code",
   "execution_count": null,
   "id": "517f2686",
   "metadata": {},
   "outputs": [],
   "source": [
    "# DF 객체의 형태 => shape속성\n",
    "df1.shape"
   ]
  },
  {
   "cell_type": "code",
   "execution_count": null,
   "id": "4328da97",
   "metadata": {},
   "outputs": [],
   "source": [
    "# 행 <-> 열 전환\n",
    "df1.T"
   ]
  },
  {
   "cell_type": "code",
   "execution_count": null,
   "id": "78945168",
   "metadata": {},
   "outputs": [],
   "source": [
    "df1.shape"
   ]
  },
  {
   "cell_type": "code",
   "execution_count": null,
   "id": "c6960812",
   "metadata": {},
   "outputs": [],
   "source": [
    "df1.transpose()"
   ]
  },
  {
   "cell_type": "code",
   "execution_count": null,
   "id": "9e226735",
   "metadata": {},
   "outputs": [],
   "source": [
    "df1=df1.transpose()\n",
    "df1.shape"
   ]
  },
  {
   "cell_type": "code",
   "execution_count": null,
   "id": "5a4114b1",
   "metadata": {},
   "outputs": [],
   "source": []
  },
  {
   "cell_type": "code",
   "execution_count": null,
   "id": "90043059",
   "metadata": {},
   "outputs": [],
   "source": [
    "# 성적 DataFrame 객체 생성 ----------------------------------------------\n",
    "#df2=pd.DataFrame({'수학':[100,98,99], '영어':[78,91,88]})\n"
   ]
  }
 ],
 "metadata": {
  "kernelspec": {
   "display_name": "Python 3 (ipykernel)",
   "language": "python",
   "name": "python3"
  },
  "language_info": {
   "codemirror_mode": {
    "name": "ipython",
    "version": 3
   },
   "file_extension": ".py",
   "mimetype": "text/x-python",
   "name": "python",
   "nbconvert_exporter": "python",
   "pygments_lexer": "ipython3",
   "version": "3.9.12"
  }
 },
 "nbformat": 4,
 "nbformat_minor": 5
}
