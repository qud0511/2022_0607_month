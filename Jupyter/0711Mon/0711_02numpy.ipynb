{
 "cells": [
  {
   "cell_type": "markdown",
   "id": "1def9692",
   "metadata": {},
   "source": [
    "# Numpy 패키지\n",
    "\n",
    "- pandas에서 데이터를 저장 및 처리에 사용되는 패키지\n",
    "\n",
    "- 외부 패키지로 반드시 설치 필요\n",
    "\n",
    "- 고속 데이터 처리, 수치 계산 수행 패키지\n",
    "\n",
    "- 머신러닝/딥러닝용 패키지 Scikit-lern, Tensorflow, PyTorch, Keras 등등에서도\n",
    "- 내부 데이터 저장 및 수치 계산에 사용되는 패키지\n",
    "\n",
    "-[중요] 동일한 데이터 타입의 데이터를 저장하는 배열Array 타입\n",
    "\n",
    "- !pip install numpy"
   ]
  },
  {
   "cell_type": "code",
   "execution_count": 15,
   "id": "49e3d80d",
   "metadata": {},
   "outputs": [
    {
     "data": {
      "text/plain": [
       "'1.23.0'"
      ]
     },
     "execution_count": 15,
     "metadata": {},
     "output_type": "execute_result"
    }
   ],
   "source": [
    "# 버전 확인\n",
    "import numpy as np\n",
    "\n",
    "np.__version__"
   ]
  },
  {
   "cell_type": "markdown",
   "id": "aa5d860f",
   "metadata": {},
   "source": [
    "## 배열Array\n",
    "- 순차적으로 데이터를 저장하는 자료형\n",
    "- 서로 연관있는 데이터를 하나의 변수명으로 저장\n",
    "- 같은 타입의 변수들로 이루어진 유한 집합으로 정의\n",
    "- 원소 개수 변경 불가\n",
    "- 구성하는 각각의 값을 배열 요소/원소element\n",
    "- 위치를 가리키는 숫자는 인덱스index\n",
    "\n",
    "\n",
    "- 벡터Vector => 1차원 배열 int array[12]\n",
    "\n",
    "- 행렬Matrix => 2차원 배열 int array[4][3]\n",
    "\n",
    "- 다차원배열 => 3차원 이상 배열 int array[1][3][4]\n",
    "\n",
    "\n",
    "- 배열 - 넘파이 기본 단위 => 고정된 공간에 동일한 데이터 타입 저장\n",
    "- 리스트 - 파이썬 => 동적 공간에 서로 다른 데이터 타입 저장\n",
    "\n",
    "- class ndarray(n-dimentional array)\n",
    "- 행과 열 내의 모든 원소는 동일한 형태의 데이터(all of theelements must be the same type)"
   ]
  },
  {
   "cell_type": "code",
   "execution_count": 16,
   "id": "b05351f7",
   "metadata": {},
   "outputs": [
    {
     "data": {
      "text/plain": [
       "array([1, 2, 3])"
      ]
     },
     "execution_count": 16,
     "metadata": {},
     "output_type": "execute_result"
    }
   ],
   "source": [
    "# ndarray 객체 생성하기 ==> numpy.array()\n",
    "arr1=np.array([1,2,3])\n",
    "arr1"
   ]
  },
  {
   "cell_type": "code",
   "execution_count": 17,
   "id": "3f4cc4fb",
   "metadata": {},
   "outputs": [
    {
     "data": {
      "text/plain": [
       "numpy.ndarray"
      ]
     },
     "execution_count": 17,
     "metadata": {},
     "output_type": "execute_result"
    }
   ],
   "source": [
    "type(arr1)"
   ]
  },
  {
   "cell_type": "code",
   "execution_count": 18,
   "id": "1b8646ef",
   "metadata": {},
   "outputs": [
    {
     "data": {
      "text/plain": [
       "(1, (3,), dtype('int32'), 4, 3)"
      ]
     },
     "execution_count": 18,
     "metadata": {},
     "output_type": "execute_result"
    }
   ],
   "source": [
    "# ndarray 객체 속성 확인하기\n",
    "# 객체변수명.속성명\n",
    "arr1.ndim, arr1.shape, arr1.dtype, arr1.itemsize, arr1.size\n",
    "# ndim : 차원 (1,2,3,...)\n",
    "# shape : 형태 (갯수,), (행,열), (면,행,열)\n",
    "# dtype : 데이터 타입\n",
    "# itemsize : 배열 요소의 바이트 크기\n",
    "# size : 배열 요소 갯수"
   ]
  },
  {
   "cell_type": "code",
   "execution_count": 21,
   "id": "04e58806",
   "metadata": {},
   "outputs": [
    {
     "name": "stdout",
     "output_type": "stream",
     "text": [
      "객체변수명 : arr1 => [1 2 3]\n",
      "객체변수명 : arr1[0] => 1\n",
      "객체변수명 : arr1[1] => 2\n"
     ]
    }
   ],
   "source": [
    "# 배열의 요소 즉 아이템, 원소 접근하기\n",
    "# 0-base 인덱스 자동 지정 => 객체변수명[인덱스]\n",
    "print(f'객체변수명 : arr1 => {arr1}')\n",
    "print(f'객체변수명 : arr1[0] => {arr1[0]}')\n",
    "print(f'객체변수명 : arr1[1] => {arr1[1]}')"
   ]
  },
  {
   "cell_type": "code",
   "execution_count": 27,
   "id": "0c03c519",
   "metadata": {},
   "outputs": [
    {
     "data": {
      "text/plain": [
       "array([1, 1, 1, 1], dtype=int64)"
      ]
     },
     "execution_count": 27,
     "metadata": {},
     "output_type": "execute_result"
    }
   ],
   "source": [
    "# 모든 값을 1으로 채워서 ndarray 객체 생성하는 함수 => ones()\n",
    "# 근데 정수 아님. 디폴트값 float\n",
    "arr2=np.array([1,1,1,1])\n",
    "arr2=np.ones(4, dtype=np.int64)\n",
    "arr2\n",
    "# 0 채우고 싶으면 np.zeros()\n",
    "# 0,1 말고 원하는 값 채우고 싶으면 np.full(배열형태, 값)"
   ]
  },
  {
   "cell_type": "code",
   "execution_count": 28,
   "id": "0bac7932",
   "metadata": {},
   "outputs": [
    {
     "data": {
      "text/plain": [
       "(1, (4,), dtype('int64'), 8, 4)"
      ]
     },
     "execution_count": 28,
     "metadata": {},
     "output_type": "execute_result"
    }
   ],
   "source": [
    "arr2.ndim, arr2.shape, arr2.dtype, arr2.itemsize, arr2.size"
   ]
  },
  {
   "cell_type": "code",
   "execution_count": 31,
   "id": "dabe4513",
   "metadata": {},
   "outputs": [
    {
     "data": {
      "text/plain": [
       "array([[0., 0., 0.],\n",
       "       [0., 0., 0.]])"
      ]
     },
     "execution_count": 31,
     "metadata": {},
     "output_type": "execute_result"
    }
   ],
   "source": [
    "# 초기화하지 않고 ndarray 객체 생성 할 때는 => mumpy.empty()\n",
    "arr3=np.empty((2,3))\n",
    "arr3"
   ]
  },
  {
   "cell_type": "code",
   "execution_count": 37,
   "id": "49990970",
   "metadata": {},
   "outputs": [
    {
     "data": {
      "text/plain": [
       "array([[1, 2, 3],\n",
       "       [4, 5, 6]])"
      ]
     },
     "execution_count": 37,
     "metadata": {},
     "output_type": "execute_result"
    }
   ],
   "source": [
    "# 2차원 형태의 ndarray 객체 생성\n",
    "arr4=np.array([ [1,2,3,],[4,5,6] ])\n",
    "arr4"
   ]
  },
  {
   "cell_type": "code",
   "execution_count": 38,
   "id": "bf241c07",
   "metadata": {},
   "outputs": [
    {
     "data": {
      "text/plain": [
       "((2, 3), 2)"
      ]
     },
     "execution_count": 38,
     "metadata": {},
     "output_type": "execute_result"
    }
   ],
   "source": [
    "arr4.shape, arr4.ndim"
   ]
  },
  {
   "cell_type": "code",
   "execution_count": 40,
   "id": "a95ddcc4",
   "metadata": {},
   "outputs": [
    {
     "data": {
      "text/plain": [
       "array([1, 2, 3, 4, 5, 6])"
      ]
     },
     "execution_count": 40,
     "metadata": {},
     "output_type": "execute_result"
    }
   ],
   "source": [
    "# 2차원 => 1차원\n",
    "arr5=arr4.flatten()\n",
    "arr5"
   ]
  },
  {
   "cell_type": "code",
   "execution_count": 41,
   "id": "f4776083",
   "metadata": {},
   "outputs": [
    {
     "data": {
      "text/plain": [
       "((6,), 1)"
      ]
     },
     "execution_count": 41,
     "metadata": {},
     "output_type": "execute_result"
    }
   ],
   "source": [
    "arr5.shape, arr5.ndim"
   ]
  },
  {
   "cell_type": "code",
   "execution_count": 46,
   "id": "d2b0b02d",
   "metadata": {},
   "outputs": [
    {
     "data": {
      "text/plain": [
       "array([[[1, 2],\n",
       "        [3, 4],\n",
       "        [5, 6]]])"
      ]
     },
     "execution_count": 46,
     "metadata": {},
     "output_type": "execute_result"
    }
   ],
   "source": [
    "# 1차원 => 다른 차원으로 변경 reshape()\n",
    "arr6=arr5.reshape((1,3,2))     # ((2,3)) 2행, 3열\n",
    "arr6"
   ]
  },
  {
   "cell_type": "code",
   "execution_count": 47,
   "id": "52d9d3ab",
   "metadata": {},
   "outputs": [
    {
     "data": {
      "text/plain": [
       "array([1, 2, 3, 4, 5, 6])"
      ]
     },
     "execution_count": 47,
     "metadata": {},
     "output_type": "execute_result"
    }
   ],
   "source": [
    "arr7=arr6.flatten()\n",
    "arr7"
   ]
  },
  {
   "cell_type": "code",
   "execution_count": 50,
   "id": "533ef488",
   "metadata": {},
   "outputs": [
    {
     "data": {
      "text/plain": [
       "array([0, 1, 2, 3, 4, 5, 6, 7])"
      ]
     },
     "execution_count": 50,
     "metadata": {},
     "output_type": "execute_result"
    }
   ],
   "source": [
    "# 차원/형태 변환 => reshape(-1,n), reshape(n,-1)\n",
    "arr8=np.arange(8)\n",
    "arr8"
   ]
  },
  {
   "cell_type": "code",
   "execution_count": 52,
   "id": "fd7d94ec",
   "metadata": {},
   "outputs": [
    {
     "data": {
      "text/plain": [
       "array([[0, 1],\n",
       "       [2, 3],\n",
       "       [4, 5],\n",
       "       [6, 7]])"
      ]
     },
     "execution_count": 52,
     "metadata": {},
     "output_type": "execute_result"
    }
   ],
   "source": [
    "arr9=arr8.reshape(-1,2)    # 모르는 자리에 -1 넣으면 2행 기준으로 계산해줌.\n",
    "arr9"
   ]
  },
  {
   "cell_type": "code",
   "execution_count": 55,
   "id": "92e82945",
   "metadata": {},
   "outputs": [
    {
     "ename": "ValueError",
     "evalue": "cannot reshape array of size 8 into shape (3)",
     "output_type": "error",
     "traceback": [
      "\u001b[1;31m---------------------------------------------------------------------------\u001b[0m",
      "\u001b[1;31mValueError\u001b[0m                                Traceback (most recent call last)",
      "Input \u001b[1;32mIn [55]\u001b[0m, in \u001b[0;36m<cell line: 1>\u001b[1;34m()\u001b[0m\n\u001b[1;32m----> 1\u001b[0m arr9\u001b[38;5;241m=\u001b[39m\u001b[43marr8\u001b[49m\u001b[38;5;241;43m.\u001b[39;49m\u001b[43mreshape\u001b[49m\u001b[43m(\u001b[49m\u001b[38;5;241;43m-\u001b[39;49m\u001b[38;5;241;43m1\u001b[39;49m\u001b[43m,\u001b[49m\u001b[38;5;241;43m3\u001b[39;49m\u001b[43m)\u001b[49m\n\u001b[0;32m      2\u001b[0m arr9\n",
      "\u001b[1;31mValueError\u001b[0m: cannot reshape array of size 8 into shape (3)"
     ]
    }
   ],
   "source": [
    "arr9=arr8.reshape(-1,3)    # 비어지는 칸 생기면 오류\n",
    "arr9"
   ]
  },
  {
   "cell_type": "code",
   "execution_count": 56,
   "id": "46f45e9a",
   "metadata": {},
   "outputs": [
    {
     "data": {
      "text/plain": [
       "array([[0, 1],\n",
       "       [2, 3],\n",
       "       [4, 5],\n",
       "       [6, 7]])"
      ]
     },
     "execution_count": 56,
     "metadata": {},
     "output_type": "execute_result"
    }
   ],
   "source": [
    "arr9=arr8.reshape(4,-1)\n",
    "arr9"
   ]
  },
  {
   "cell_type": "code",
   "execution_count": null,
   "id": "2ed57fd1",
   "metadata": {},
   "outputs": [],
   "source": []
  }
 ],
 "metadata": {
  "kernelspec": {
   "display_name": "Python 3 (ipykernel)",
   "language": "python",
   "name": "python3"
  },
  "language_info": {
   "codemirror_mode": {
    "name": "ipython",
    "version": 3
   },
   "file_extension": ".py",
   "mimetype": "text/x-python",
   "name": "python",
   "nbconvert_exporter": "python",
   "pygments_lexer": "ipython3",
   "version": "3.9.12"
  }
 },
 "nbformat": 4,
 "nbformat_minor": 5
}
