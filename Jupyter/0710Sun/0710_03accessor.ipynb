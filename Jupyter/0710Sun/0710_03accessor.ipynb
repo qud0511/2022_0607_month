{
 "cells": [
  {
   "cell_type": "markdown",
   "id": "0b053b1d",
   "metadata": {},
   "source": [
    "# 접근자Accessor 실습\n",
    "\n",
    "- DF/SR에 속성으로 제공되며, 다른 객체의 기능/속성을 사용할 수 있도록 해줌.\n",
    "\n",
    "- 종류\n",
    "    - Series.dt  : datetime 속성 사용할 수 있도록 해줌.\n",
    "    - Series.str : string 관련 메서드 사용할 수 있도록 해줌.\n",
    "    - DataFrame.spare : spare 관련 속성/메서드 사용할 수 있도록 해줌."
   ]
  },
  {
   "cell_type": "code",
   "execution_count": 104,
   "id": "5e1291b1",
   "metadata": {},
   "outputs": [
    {
     "data": {
      "text/html": [
       "<div>\n",
       "<style scoped>\n",
       "    .dataframe tbody tr th:only-of-type {\n",
       "        vertical-align: middle;\n",
       "    }\n",
       "\n",
       "    .dataframe tbody tr th {\n",
       "        vertical-align: top;\n",
       "    }\n",
       "\n",
       "    .dataframe thead th {\n",
       "        text-align: right;\n",
       "    }\n",
       "</style>\n",
       "<table border=\"1\" class=\"dataframe\">\n",
       "  <thead>\n",
       "    <tr style=\"text-align: right;\">\n",
       "      <th></th>\n",
       "      <th>name</th>\n",
       "      <th>age</th>\n",
       "      <th>birth</th>\n",
       "    </tr>\n",
       "  </thead>\n",
       "  <tbody>\n",
       "    <tr>\n",
       "      <th>0</th>\n",
       "      <td>Glidong Hong</td>\n",
       "      <td>23</td>\n",
       "      <td>2020-01-31</td>\n",
       "    </tr>\n",
       "    <tr>\n",
       "      <th>1</th>\n",
       "      <td>Sam Kim</td>\n",
       "      <td>18</td>\n",
       "      <td>2020-02-29</td>\n",
       "    </tr>\n",
       "    <tr>\n",
       "      <th>2</th>\n",
       "      <td>Leo Choi</td>\n",
       "      <td>17</td>\n",
       "      <td>2020-03-31</td>\n",
       "    </tr>\n",
       "    <tr>\n",
       "      <th>3</th>\n",
       "      <td>John Park</td>\n",
       "      <td>20</td>\n",
       "      <td>2020-04-30</td>\n",
       "    </tr>\n",
       "    <tr>\n",
       "      <th>4</th>\n",
       "      <td>John Jo</td>\n",
       "      <td>21</td>\n",
       "      <td>2020-05-31</td>\n",
       "    </tr>\n",
       "    <tr>\n",
       "      <th>5</th>\n",
       "      <td>Steven Kim</td>\n",
       "      <td>25</td>\n",
       "      <td>2020-06-30</td>\n",
       "    </tr>\n",
       "    <tr>\n",
       "      <th>6</th>\n",
       "      <td>Hae Song</td>\n",
       "      <td>24</td>\n",
       "      <td>2020-07-31</td>\n",
       "    </tr>\n",
       "    <tr>\n",
       "      <th>7</th>\n",
       "      <td>Hary Sin</td>\n",
       "      <td>21</td>\n",
       "      <td>2020-08-31</td>\n",
       "    </tr>\n",
       "    <tr>\n",
       "      <th>8</th>\n",
       "      <td>Red Park</td>\n",
       "      <td>19</td>\n",
       "      <td>2020-09-30</td>\n",
       "    </tr>\n",
       "    <tr>\n",
       "      <th>9</th>\n",
       "      <td>Minsu Lee</td>\n",
       "      <td>25</td>\n",
       "      <td>2020-10-31</td>\n",
       "    </tr>\n",
       "  </tbody>\n",
       "</table>\n",
       "</div>"
      ],
      "text/plain": [
       "           name  age      birth\n",
       "0  Glidong Hong   23 2020-01-31\n",
       "1       Sam Kim   18 2020-02-29\n",
       "2      Leo Choi   17 2020-03-31\n",
       "3     John Park   20 2020-04-30\n",
       "4       John Jo   21 2020-05-31\n",
       "5    Steven Kim   25 2020-06-30\n",
       "6      Hae Song   24 2020-07-31\n",
       "7      Hary Sin   21 2020-08-31\n",
       "8      Red Park   19 2020-09-30\n",
       "9     Minsu Lee   25 2020-10-31"
      ]
     },
     "execution_count": 104,
     "metadata": {},
     "output_type": "execute_result"
    }
   ],
   "source": [
    "# 모듈 로딩\n",
    "import pandas as pd, random\n",
    "\n",
    "# 데이터 생성 ------------\n",
    "# 이름, 생년월일, 나이 3개 컬럼으로 구성\n",
    "# 10명\n",
    "# 생년월일 : 동년해, 동일날짜  <-  date_range()\n",
    "# 이름 : 영문 (예 : Tom KIm)\n",
    "df=pd.DataFrame({ 'name' : ['Glidong Hong','Sam Kim', 'Leo Choi', 'John Park',\n",
    "                     'John Jo', 'Steven Kim', 'Hae Song', 'Hary Sin',\n",
    "                     'Red Park', 'Minsu Lee'],\n",
    "             'age' : [random.randint(17,25) for count in range(10)],\n",
    "             'birth' : pd.date_range('2020-1-10', periods=10, freq='M') })\n",
    "df"
   ]
  },
  {
   "cell_type": "code",
   "execution_count": 105,
   "id": "be5ce3a6",
   "metadata": {},
   "outputs": [
    {
     "data": {
      "text/plain": [
       "name             object\n",
       "age               int64\n",
       "birth    datetime64[ns]\n",
       "dtype: object"
      ]
     },
     "execution_count": 105,
     "metadata": {},
     "output_type": "execute_result"
    }
   ],
   "source": [
    "df.dtypes"
   ]
  },
  {
   "cell_type": "code",
   "execution_count": 106,
   "id": "8363acc0",
   "metadata": {},
   "outputs": [
    {
     "data": {
      "text/plain": [
       "('Glidong Hong', str)"
      ]
     },
     "execution_count": 106,
     "metadata": {},
     "output_type": "execute_result"
    }
   ],
   "source": [
    "# 성과 이름을 분리\n",
    "df['name'][0], type(df['name'][0])"
   ]
  },
  {
   "cell_type": "code",
   "execution_count": 107,
   "id": "5abc1626",
   "metadata": {},
   "outputs": [
    {
     "data": {
      "text/plain": [
       "['Glidong', 'Hong']"
      ]
     },
     "execution_count": 107,
     "metadata": {},
     "output_type": "execute_result"
    }
   ],
   "source": [
    "df['name'][0].split()\n",
    "# df['name'][:].split(), df['name'].split() -> Series 속성은 split 없다고 오류"
   ]
  },
  {
   "cell_type": "code",
   "execution_count": 108,
   "id": "852c8cce",
   "metadata": {},
   "outputs": [],
   "source": [
    "filename=df['name'].str.split()"
   ]
  },
  {
   "cell_type": "code",
   "execution_count": 109,
   "id": "0085f8f8",
   "metadata": {},
   "outputs": [
    {
     "data": {
      "text/plain": [
       "0    False\n",
       "1     True\n",
       "2    False\n",
       "3    False\n",
       "4    False\n",
       "5     True\n",
       "6     True\n",
       "7     True\n",
       "8    False\n",
       "9    False\n",
       "Name: name, dtype: bool"
      ]
     },
     "execution_count": 109,
     "metadata": {},
     "output_type": "execute_result"
    }
   ],
   "source": [
    "# str 메서드 사용 가능\n",
    "# df.name.str.upper()\n",
    "df.name.str.contains('S') # 'S'가 포함되면 True"
   ]
  },
  {
   "cell_type": "code",
   "execution_count": 110,
   "id": "7ba72e2f",
   "metadata": {},
   "outputs": [
    {
     "data": {
      "text/plain": [
       "pandas.core.series.Series"
      ]
     },
     "execution_count": 110,
     "metadata": {},
     "output_type": "execute_result"
    }
   ],
   "source": [
    "type(filename)"
   ]
  },
  {
   "cell_type": "code",
   "execution_count": 111,
   "id": "181365ea",
   "metadata": {},
   "outputs": [
    {
     "data": {
      "text/plain": [
       "('Glidong', 'Hong')"
      ]
     },
     "execution_count": 111,
     "metadata": {},
     "output_type": "execute_result"
    }
   ],
   "source": [
    "filename[0][0],filename[0][1]\n",
    "# 일일이 이렇게 할 수 없음."
   ]
  },
  {
   "cell_type": "markdown",
   "id": "ef6dba42",
   "metadata": {},
   "source": [
    "## str 데이터로 구성된 컬럼Series의 str 접근자\n",
    "- 전체 컬럼의 요소에 str관련 메서드 사용 가능하도록 하는 접근자\n",
    "- 사용법\n",
    "    - 객체변수[컬럼명].str.메서드()  => upper,split, replace... 등등\n",
    "    - 객체변수[컬럼명].str.get(인덱스) => 분리 문자리스트에서 특정 요소 추출"
   ]
  },
  {
   "cell_type": "code",
   "execution_count": 112,
   "id": "4143a324",
   "metadata": {},
   "outputs": [
    {
     "data": {
      "text/plain": [
       "(0    Glidong\n",
       " 1        Sam\n",
       " 2        Leo\n",
       " 3       John\n",
       " 4       John\n",
       " 5     Steven\n",
       " 6        Hae\n",
       " 7       Hary\n",
       " 8        Red\n",
       " 9      Minsu\n",
       " Name: name, dtype: object,\n",
       " 0    Hong\n",
       " 1     Kim\n",
       " 2    Choi\n",
       " 3    Park\n",
       " 4      Jo\n",
       " 5     Kim\n",
       " 6    Song\n",
       " 7     Sin\n",
       " 8    Park\n",
       " 9     Lee\n",
       " Name: name, dtype: object)"
      ]
     },
     "execution_count": 112,
     "metadata": {},
     "output_type": "execute_result"
    }
   ],
   "source": [
    "# 강사님\n",
    "# 분리된 문자열 리스트에서 특정 값 가져오기\n",
    "filename.str.get(0), filename.str.get(1)"
   ]
  },
  {
   "cell_type": "code",
   "execution_count": 113,
   "id": "370a5c99",
   "metadata": {},
   "outputs": [
    {
     "data": {
      "text/html": [
       "<div>\n",
       "<style scoped>\n",
       "    .dataframe tbody tr th:only-of-type {\n",
       "        vertical-align: middle;\n",
       "    }\n",
       "\n",
       "    .dataframe tbody tr th {\n",
       "        vertical-align: top;\n",
       "    }\n",
       "\n",
       "    .dataframe thead th {\n",
       "        text-align: right;\n",
       "    }\n",
       "</style>\n",
       "<table border=\"1\" class=\"dataframe\">\n",
       "  <thead>\n",
       "    <tr style=\"text-align: right;\">\n",
       "      <th></th>\n",
       "      <th>name</th>\n",
       "      <th>age</th>\n",
       "      <th>birth</th>\n",
       "      <th>first_name</th>\n",
       "      <th>last_name</th>\n",
       "    </tr>\n",
       "  </thead>\n",
       "  <tbody>\n",
       "    <tr>\n",
       "      <th>0</th>\n",
       "      <td>Glidong Hong</td>\n",
       "      <td>23</td>\n",
       "      <td>2020-01-31</td>\n",
       "      <td>Glidong</td>\n",
       "      <td>Hong</td>\n",
       "    </tr>\n",
       "    <tr>\n",
       "      <th>1</th>\n",
       "      <td>Sam Kim</td>\n",
       "      <td>18</td>\n",
       "      <td>2020-02-29</td>\n",
       "      <td>Sam</td>\n",
       "      <td>Kim</td>\n",
       "    </tr>\n",
       "    <tr>\n",
       "      <th>2</th>\n",
       "      <td>Leo Choi</td>\n",
       "      <td>17</td>\n",
       "      <td>2020-03-31</td>\n",
       "      <td>Leo</td>\n",
       "      <td>Choi</td>\n",
       "    </tr>\n",
       "    <tr>\n",
       "      <th>3</th>\n",
       "      <td>John Park</td>\n",
       "      <td>20</td>\n",
       "      <td>2020-04-30</td>\n",
       "      <td>John</td>\n",
       "      <td>Park</td>\n",
       "    </tr>\n",
       "    <tr>\n",
       "      <th>4</th>\n",
       "      <td>John Jo</td>\n",
       "      <td>21</td>\n",
       "      <td>2020-05-31</td>\n",
       "      <td>John</td>\n",
       "      <td>Jo</td>\n",
       "    </tr>\n",
       "    <tr>\n",
       "      <th>5</th>\n",
       "      <td>Steven Kim</td>\n",
       "      <td>25</td>\n",
       "      <td>2020-06-30</td>\n",
       "      <td>Steven</td>\n",
       "      <td>Kim</td>\n",
       "    </tr>\n",
       "    <tr>\n",
       "      <th>6</th>\n",
       "      <td>Hae Song</td>\n",
       "      <td>24</td>\n",
       "      <td>2020-07-31</td>\n",
       "      <td>Hae</td>\n",
       "      <td>Song</td>\n",
       "    </tr>\n",
       "    <tr>\n",
       "      <th>7</th>\n",
       "      <td>Hary Sin</td>\n",
       "      <td>21</td>\n",
       "      <td>2020-08-31</td>\n",
       "      <td>Hary</td>\n",
       "      <td>Sin</td>\n",
       "    </tr>\n",
       "    <tr>\n",
       "      <th>8</th>\n",
       "      <td>Red Park</td>\n",
       "      <td>19</td>\n",
       "      <td>2020-09-30</td>\n",
       "      <td>Red</td>\n",
       "      <td>Park</td>\n",
       "    </tr>\n",
       "    <tr>\n",
       "      <th>9</th>\n",
       "      <td>Minsu Lee</td>\n",
       "      <td>25</td>\n",
       "      <td>2020-10-31</td>\n",
       "      <td>Minsu</td>\n",
       "      <td>Lee</td>\n",
       "    </tr>\n",
       "  </tbody>\n",
       "</table>\n",
       "</div>"
      ],
      "text/plain": [
       "           name  age      birth first_name last_name\n",
       "0  Glidong Hong   23 2020-01-31    Glidong      Hong\n",
       "1       Sam Kim   18 2020-02-29        Sam       Kim\n",
       "2      Leo Choi   17 2020-03-31        Leo      Choi\n",
       "3     John Park   20 2020-04-30       John      Park\n",
       "4       John Jo   21 2020-05-31       John        Jo\n",
       "5    Steven Kim   25 2020-06-30     Steven       Kim\n",
       "6      Hae Song   24 2020-07-31        Hae      Song\n",
       "7      Hary Sin   21 2020-08-31       Hary       Sin\n",
       "8      Red Park   19 2020-09-30        Red      Park\n",
       "9     Minsu Lee   25 2020-10-31      Minsu       Lee"
      ]
     },
     "execution_count": 113,
     "metadata": {},
     "output_type": "execute_result"
    }
   ],
   "source": [
    "df['first_name']=filename.str.get(0)\n",
    "df['last_name']=filename.str.get(1)\n",
    "df"
   ]
  },
  {
   "cell_type": "code",
   "execution_count": 114,
   "id": "a79408b3",
   "metadata": {},
   "outputs": [
    {
     "data": {
      "text/html": [
       "<div>\n",
       "<style scoped>\n",
       "    .dataframe tbody tr th:only-of-type {\n",
       "        vertical-align: middle;\n",
       "    }\n",
       "\n",
       "    .dataframe tbody tr th {\n",
       "        vertical-align: top;\n",
       "    }\n",
       "\n",
       "    .dataframe thead th {\n",
       "        text-align: right;\n",
       "    }\n",
       "</style>\n",
       "<table border=\"1\" class=\"dataframe\">\n",
       "  <thead>\n",
       "    <tr style=\"text-align: right;\">\n",
       "      <th></th>\n",
       "      <th>0</th>\n",
       "      <th>1</th>\n",
       "    </tr>\n",
       "  </thead>\n",
       "  <tbody>\n",
       "    <tr>\n",
       "      <th>0</th>\n",
       "      <td>Glidong</td>\n",
       "      <td>Hong</td>\n",
       "    </tr>\n",
       "    <tr>\n",
       "      <th>1</th>\n",
       "      <td>Sam</td>\n",
       "      <td>Kim</td>\n",
       "    </tr>\n",
       "    <tr>\n",
       "      <th>2</th>\n",
       "      <td>Leo</td>\n",
       "      <td>Choi</td>\n",
       "    </tr>\n",
       "    <tr>\n",
       "      <th>3</th>\n",
       "      <td>John</td>\n",
       "      <td>Park</td>\n",
       "    </tr>\n",
       "    <tr>\n",
       "      <th>4</th>\n",
       "      <td>John</td>\n",
       "      <td>Jo</td>\n",
       "    </tr>\n",
       "    <tr>\n",
       "      <th>5</th>\n",
       "      <td>Steven</td>\n",
       "      <td>Kim</td>\n",
       "    </tr>\n",
       "    <tr>\n",
       "      <th>6</th>\n",
       "      <td>Hae</td>\n",
       "      <td>Song</td>\n",
       "    </tr>\n",
       "    <tr>\n",
       "      <th>7</th>\n",
       "      <td>Hary</td>\n",
       "      <td>Sin</td>\n",
       "    </tr>\n",
       "    <tr>\n",
       "      <th>8</th>\n",
       "      <td>Red</td>\n",
       "      <td>Park</td>\n",
       "    </tr>\n",
       "    <tr>\n",
       "      <th>9</th>\n",
       "      <td>Minsu</td>\n",
       "      <td>Lee</td>\n",
       "    </tr>\n",
       "  </tbody>\n",
       "</table>\n",
       "</div>"
      ],
      "text/plain": [
       "         0     1\n",
       "0  Glidong  Hong\n",
       "1      Sam   Kim\n",
       "2      Leo  Choi\n",
       "3     John  Park\n",
       "4     John    Jo\n",
       "5   Steven   Kim\n",
       "6      Hae  Song\n",
       "7     Hary   Sin\n",
       "8      Red  Park\n",
       "9    Minsu   Lee"
      ]
     },
     "execution_count": 114,
     "metadata": {},
     "output_type": "execute_result"
    }
   ],
   "source": [
    "## 더 간단하게\n",
    "# str.split()\n",
    "# expamd = True하면 스플릿한 것들을 컬럼을 만듬.\n",
    "value=df['name'].str.split(expand=True)\n",
    "value"
   ]
  },
  {
   "cell_type": "code",
   "execution_count": 115,
   "id": "07eae476",
   "metadata": {},
   "outputs": [
    {
     "data": {
      "text/plain": [
       "(pandas.core.frame.DataFrame,\n",
       " (10, 2),\n",
       " 2,\n",
       " RangeIndex(start=0, stop=2, step=1),\n",
       " RangeIndex(start=0, stop=10, step=1))"
      ]
     },
     "execution_count": 115,
     "metadata": {},
     "output_type": "execute_result"
    }
   ],
   "source": [
    "type(value), value.shape, value.ndim, value.columns, value.index"
   ]
  },
  {
   "cell_type": "code",
   "execution_count": 119,
   "id": "286bd634",
   "metadata": {},
   "outputs": [],
   "source": [
    "df2=pd.concat([df, value], axis=1)"
   ]
  },
  {
   "cell_type": "code",
   "execution_count": 122,
   "id": "ce30dd5a",
   "metadata": {},
   "outputs": [],
   "source": [
    "df2.rename(columns={'0':'FName', '1':'LName'}, inplace=True)"
   ]
  },
  {
   "cell_type": "code",
   "execution_count": 123,
   "id": "1099c828",
   "metadata": {},
   "outputs": [
    {
     "data": {
      "text/html": [
       "<div>\n",
       "<style scoped>\n",
       "    .dataframe tbody tr th:only-of-type {\n",
       "        vertical-align: middle;\n",
       "    }\n",
       "\n",
       "    .dataframe tbody tr th {\n",
       "        vertical-align: top;\n",
       "    }\n",
       "\n",
       "    .dataframe thead th {\n",
       "        text-align: right;\n",
       "    }\n",
       "</style>\n",
       "<table border=\"1\" class=\"dataframe\">\n",
       "  <thead>\n",
       "    <tr style=\"text-align: right;\">\n",
       "      <th></th>\n",
       "      <th>name</th>\n",
       "      <th>age</th>\n",
       "      <th>birth</th>\n",
       "      <th>first_name</th>\n",
       "      <th>last_name</th>\n",
       "      <th>0</th>\n",
       "      <th>1</th>\n",
       "    </tr>\n",
       "  </thead>\n",
       "  <tbody>\n",
       "    <tr>\n",
       "      <th>0</th>\n",
       "      <td>Glidong Hong</td>\n",
       "      <td>23</td>\n",
       "      <td>2020-01-31</td>\n",
       "      <td>Glidong</td>\n",
       "      <td>Hong</td>\n",
       "      <td>Glidong</td>\n",
       "      <td>Hong</td>\n",
       "    </tr>\n",
       "    <tr>\n",
       "      <th>1</th>\n",
       "      <td>Sam Kim</td>\n",
       "      <td>18</td>\n",
       "      <td>2020-02-29</td>\n",
       "      <td>Sam</td>\n",
       "      <td>Kim</td>\n",
       "      <td>Sam</td>\n",
       "      <td>Kim</td>\n",
       "    </tr>\n",
       "    <tr>\n",
       "      <th>2</th>\n",
       "      <td>Leo Choi</td>\n",
       "      <td>17</td>\n",
       "      <td>2020-03-31</td>\n",
       "      <td>Leo</td>\n",
       "      <td>Choi</td>\n",
       "      <td>Leo</td>\n",
       "      <td>Choi</td>\n",
       "    </tr>\n",
       "    <tr>\n",
       "      <th>3</th>\n",
       "      <td>John Park</td>\n",
       "      <td>20</td>\n",
       "      <td>2020-04-30</td>\n",
       "      <td>John</td>\n",
       "      <td>Park</td>\n",
       "      <td>John</td>\n",
       "      <td>Park</td>\n",
       "    </tr>\n",
       "    <tr>\n",
       "      <th>4</th>\n",
       "      <td>John Jo</td>\n",
       "      <td>21</td>\n",
       "      <td>2020-05-31</td>\n",
       "      <td>John</td>\n",
       "      <td>Jo</td>\n",
       "      <td>John</td>\n",
       "      <td>Jo</td>\n",
       "    </tr>\n",
       "    <tr>\n",
       "      <th>5</th>\n",
       "      <td>Steven Kim</td>\n",
       "      <td>25</td>\n",
       "      <td>2020-06-30</td>\n",
       "      <td>Steven</td>\n",
       "      <td>Kim</td>\n",
       "      <td>Steven</td>\n",
       "      <td>Kim</td>\n",
       "    </tr>\n",
       "    <tr>\n",
       "      <th>6</th>\n",
       "      <td>Hae Song</td>\n",
       "      <td>24</td>\n",
       "      <td>2020-07-31</td>\n",
       "      <td>Hae</td>\n",
       "      <td>Song</td>\n",
       "      <td>Hae</td>\n",
       "      <td>Song</td>\n",
       "    </tr>\n",
       "    <tr>\n",
       "      <th>7</th>\n",
       "      <td>Hary Sin</td>\n",
       "      <td>21</td>\n",
       "      <td>2020-08-31</td>\n",
       "      <td>Hary</td>\n",
       "      <td>Sin</td>\n",
       "      <td>Hary</td>\n",
       "      <td>Sin</td>\n",
       "    </tr>\n",
       "    <tr>\n",
       "      <th>8</th>\n",
       "      <td>Red Park</td>\n",
       "      <td>19</td>\n",
       "      <td>2020-09-30</td>\n",
       "      <td>Red</td>\n",
       "      <td>Park</td>\n",
       "      <td>Red</td>\n",
       "      <td>Park</td>\n",
       "    </tr>\n",
       "    <tr>\n",
       "      <th>9</th>\n",
       "      <td>Minsu Lee</td>\n",
       "      <td>25</td>\n",
       "      <td>2020-10-31</td>\n",
       "      <td>Minsu</td>\n",
       "      <td>Lee</td>\n",
       "      <td>Minsu</td>\n",
       "      <td>Lee</td>\n",
       "    </tr>\n",
       "  </tbody>\n",
       "</table>\n",
       "</div>"
      ],
      "text/plain": [
       "           name  age      birth first_name last_name        0     1\n",
       "0  Glidong Hong   23 2020-01-31    Glidong      Hong  Glidong  Hong\n",
       "1       Sam Kim   18 2020-02-29        Sam       Kim      Sam   Kim\n",
       "2      Leo Choi   17 2020-03-31        Leo      Choi      Leo  Choi\n",
       "3     John Park   20 2020-04-30       John      Park     John  Park\n",
       "4       John Jo   21 2020-05-31       John        Jo     John    Jo\n",
       "5    Steven Kim   25 2020-06-30     Steven       Kim   Steven   Kim\n",
       "6      Hae Song   24 2020-07-31        Hae      Song      Hae  Song\n",
       "7      Hary Sin   21 2020-08-31       Hary       Sin     Hary   Sin\n",
       "8      Red Park   19 2020-09-30        Red      Park      Red  Park\n",
       "9     Minsu Lee   25 2020-10-31      Minsu       Lee    Minsu   Lee"
      ]
     },
     "execution_count": 123,
     "metadata": {},
     "output_type": "execute_result"
    }
   ],
   "source": [
    "df2"
   ]
  },
  {
   "cell_type": "code",
   "execution_count": null,
   "id": "2724d526",
   "metadata": {},
   "outputs": [],
   "source": []
  }
 ],
 "metadata": {
  "kernelspec": {
   "display_name": "Python 3 (ipykernel)",
   "language": "python",
   "name": "python3"
  },
  "language_info": {
   "codemirror_mode": {
    "name": "ipython",
    "version": 3
   },
   "file_extension": ".py",
   "mimetype": "text/x-python",
   "name": "python",
   "nbconvert_exporter": "python",
   "pygments_lexer": "ipython3",
   "version": "3.9.12"
  }
 },
 "nbformat": 4,
 "nbformat_minor": 5
}
