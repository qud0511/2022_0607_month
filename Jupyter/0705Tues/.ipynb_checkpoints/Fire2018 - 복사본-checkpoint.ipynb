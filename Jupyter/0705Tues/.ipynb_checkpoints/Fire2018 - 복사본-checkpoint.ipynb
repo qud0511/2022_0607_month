{
 "cells": [
  {
   "cell_type": "code",
   "execution_count": 29,
   "id": "abdfee21",
   "metadata": {},
   "outputs": [],
   "source": [
    "# 모듈\n",
    "import pandas as pd\n",
    "import matplotlib.pyplot as plt\n",
    "from matplotlib import font_manager as fm, rc"
   ]
  },
  {
   "cell_type": "code",
   "execution_count": 30,
   "id": "2b0ecef4",
   "metadata": {},
   "outputs": [],
   "source": [
    "# 폰트 등록\n",
    "FONT_PATH = '../Fonts/malgun.ttf'\n",
    "font_name = fm.FontProperties(fname=FONT_PATH).get_name()\n",
    "rc('font', family=font_name)"
   ]
  },
  {
   "cell_type": "markdown",
   "id": "390d0070",
   "metadata": {},
   "source": [
    "### 소방청 연간화재통계 2015 ~ 2019 통합파일 읽어오기"
   ]
  },
  {
   "cell_type": "code",
   "execution_count": 31,
   "id": "fefe6832",
   "metadata": {
    "scrolled": true
   },
   "outputs": [
    {
     "data": {
      "text/html": [
       "<div>\n",
       "<style scoped>\n",
       "    .dataframe tbody tr th:only-of-type {\n",
       "        vertical-align: middle;\n",
       "    }\n",
       "\n",
       "    .dataframe tbody tr th {\n",
       "        vertical-align: top;\n",
       "    }\n",
       "\n",
       "    .dataframe thead th {\n",
       "        text-align: right;\n",
       "    }\n",
       "</style>\n",
       "<table border=\"1\" class=\"dataframe\">\n",
       "  <thead>\n",
       "    <tr style=\"text-align: right;\">\n",
       "      <th></th>\n",
       "      <th>Unnamed: 0</th>\n",
       "      <th>년</th>\n",
       "      <th>월</th>\n",
       "      <th>시간대</th>\n",
       "      <th>시도</th>\n",
       "      <th>화재유형</th>\n",
       "      <th>발화열원대분류</th>\n",
       "      <th>발화요인대분류</th>\n",
       "      <th>최초착화물대분류</th>\n",
       "      <th>장소대분류</th>\n",
       "      <th>사망</th>\n",
       "      <th>부상</th>\n",
       "      <th>인명피해(명)소계</th>\n",
       "      <th>재산피해소계</th>\n",
       "    </tr>\n",
       "  </thead>\n",
       "  <tbody>\n",
       "    <tr>\n",
       "      <th>0</th>\n",
       "      <td>0</td>\n",
       "      <td>2015</td>\n",
       "      <td>1</td>\n",
       "      <td>심야</td>\n",
       "      <td>경상남도</td>\n",
       "      <td>건축,구조물</td>\n",
       "      <td>작동기기</td>\n",
       "      <td>전기적 요인</td>\n",
       "      <td>전기,전자</td>\n",
       "      <td>주거</td>\n",
       "      <td>0</td>\n",
       "      <td>0</td>\n",
       "      <td>0</td>\n",
       "      <td>2920</td>\n",
       "    </tr>\n",
       "    <tr>\n",
       "      <th>1</th>\n",
       "      <td>1</td>\n",
       "      <td>2015</td>\n",
       "      <td>1</td>\n",
       "      <td>심야</td>\n",
       "      <td>서울특별시</td>\n",
       "      <td>임야</td>\n",
       "      <td>담뱃불, 라이터불</td>\n",
       "      <td>부주의</td>\n",
       "      <td>기타</td>\n",
       "      <td>임야</td>\n",
       "      <td>0</td>\n",
       "      <td>0</td>\n",
       "      <td>0</td>\n",
       "      <td>0</td>\n",
       "    </tr>\n",
       "    <tr>\n",
       "      <th>2</th>\n",
       "      <td>2</td>\n",
       "      <td>2015</td>\n",
       "      <td>1</td>\n",
       "      <td>심야</td>\n",
       "      <td>서울특별시</td>\n",
       "      <td>자동차,철도차량</td>\n",
       "      <td>담뱃불, 라이터불</td>\n",
       "      <td>부주의</td>\n",
       "      <td>침구,직물류</td>\n",
       "      <td>자동차,철도차량</td>\n",
       "      <td>0</td>\n",
       "      <td>0</td>\n",
       "      <td>0</td>\n",
       "      <td>137</td>\n",
       "    </tr>\n",
       "    <tr>\n",
       "      <th>3</th>\n",
       "      <td>3</td>\n",
       "      <td>2015</td>\n",
       "      <td>1</td>\n",
       "      <td>심야</td>\n",
       "      <td>서울특별시</td>\n",
       "      <td>건축,구조물</td>\n",
       "      <td>담뱃불, 라이터불</td>\n",
       "      <td>부주의</td>\n",
       "      <td>종이,목재,건초등</td>\n",
       "      <td>판매,업무시설</td>\n",
       "      <td>0</td>\n",
       "      <td>0</td>\n",
       "      <td>0</td>\n",
       "      <td>326</td>\n",
       "    </tr>\n",
       "    <tr>\n",
       "      <th>4</th>\n",
       "      <td>4</td>\n",
       "      <td>2015</td>\n",
       "      <td>1</td>\n",
       "      <td>심야</td>\n",
       "      <td>부산광역시</td>\n",
       "      <td>건축,구조물</td>\n",
       "      <td>작동기기</td>\n",
       "      <td>부주의</td>\n",
       "      <td>식품</td>\n",
       "      <td>주거</td>\n",
       "      <td>0</td>\n",
       "      <td>0</td>\n",
       "      <td>0</td>\n",
       "      <td>0</td>\n",
       "    </tr>\n",
       "    <tr>\n",
       "      <th>...</th>\n",
       "      <td>...</td>\n",
       "      <td>...</td>\n",
       "      <td>...</td>\n",
       "      <td>...</td>\n",
       "      <td>...</td>\n",
       "      <td>...</td>\n",
       "      <td>...</td>\n",
       "      <td>...</td>\n",
       "      <td>...</td>\n",
       "      <td>...</td>\n",
       "      <td>...</td>\n",
       "      <td>...</td>\n",
       "      <td>...</td>\n",
       "      <td>...</td>\n",
       "    </tr>\n",
       "    <tr>\n",
       "      <th>214462</th>\n",
       "      <td>214462</td>\n",
       "      <td>2019</td>\n",
       "      <td>12</td>\n",
       "      <td>저녁</td>\n",
       "      <td>경기도</td>\n",
       "      <td>건축,구조물</td>\n",
       "      <td>작동기기</td>\n",
       "      <td>전기적 요인</td>\n",
       "      <td>전기,전자</td>\n",
       "      <td>산업시설</td>\n",
       "      <td>0</td>\n",
       "      <td>0</td>\n",
       "      <td>0</td>\n",
       "      <td>23707</td>\n",
       "    </tr>\n",
       "    <tr>\n",
       "      <th>214463</th>\n",
       "      <td>214463</td>\n",
       "      <td>2019</td>\n",
       "      <td>12</td>\n",
       "      <td>저녁</td>\n",
       "      <td>경상북도</td>\n",
       "      <td>건축,구조물</td>\n",
       "      <td>미상</td>\n",
       "      <td>미상</td>\n",
       "      <td>종이,목재,건초등</td>\n",
       "      <td>산업시설</td>\n",
       "      <td>0</td>\n",
       "      <td>0</td>\n",
       "      <td>0</td>\n",
       "      <td>3542</td>\n",
       "    </tr>\n",
       "    <tr>\n",
       "      <th>214464</th>\n",
       "      <td>214464</td>\n",
       "      <td>2019</td>\n",
       "      <td>12</td>\n",
       "      <td>저녁</td>\n",
       "      <td>부산광역시</td>\n",
       "      <td>건축,구조물</td>\n",
       "      <td>작동기기</td>\n",
       "      <td>부주의</td>\n",
       "      <td>식품</td>\n",
       "      <td>판매,업무시설</td>\n",
       "      <td>0</td>\n",
       "      <td>0</td>\n",
       "      <td>0</td>\n",
       "      <td>0</td>\n",
       "    </tr>\n",
       "    <tr>\n",
       "      <th>214465</th>\n",
       "      <td>214465</td>\n",
       "      <td>2019</td>\n",
       "      <td>12</td>\n",
       "      <td>저녁</td>\n",
       "      <td>제주특별자치도</td>\n",
       "      <td>건축,구조물</td>\n",
       "      <td>작동기기</td>\n",
       "      <td>부주의</td>\n",
       "      <td>합성수지</td>\n",
       "      <td>판매,업무시설</td>\n",
       "      <td>0</td>\n",
       "      <td>0</td>\n",
       "      <td>0</td>\n",
       "      <td>105</td>\n",
       "    </tr>\n",
       "    <tr>\n",
       "      <th>214466</th>\n",
       "      <td>214466</td>\n",
       "      <td>2019</td>\n",
       "      <td>12</td>\n",
       "      <td>저녁</td>\n",
       "      <td>인천광역시</td>\n",
       "      <td>건축,구조물</td>\n",
       "      <td>작동기기</td>\n",
       "      <td>전기적 요인</td>\n",
       "      <td>전기,전자</td>\n",
       "      <td>산업시설</td>\n",
       "      <td>0</td>\n",
       "      <td>0</td>\n",
       "      <td>0</td>\n",
       "      <td>3879</td>\n",
       "    </tr>\n",
       "  </tbody>\n",
       "</table>\n",
       "<p>214467 rows × 14 columns</p>\n",
       "</div>"
      ],
      "text/plain": [
       "        Unnamed: 0     년   월 시간대       시도      화재유형    발화열원대분류 발화요인대분류  \\\n",
       "0                0  2015   1  심야     경상남도    건축,구조물       작동기기  전기적 요인   \n",
       "1                1  2015   1  심야    서울특별시        임야  담뱃불, 라이터불     부주의   \n",
       "2                2  2015   1  심야    서울특별시  자동차,철도차량  담뱃불, 라이터불     부주의   \n",
       "3                3  2015   1  심야    서울특별시    건축,구조물  담뱃불, 라이터불     부주의   \n",
       "4                4  2015   1  심야    부산광역시    건축,구조물       작동기기     부주의   \n",
       "...            ...   ...  ..  ..      ...       ...        ...     ...   \n",
       "214462      214462  2019  12  저녁      경기도    건축,구조물       작동기기  전기적 요인   \n",
       "214463      214463  2019  12  저녁     경상북도    건축,구조물         미상      미상   \n",
       "214464      214464  2019  12  저녁    부산광역시    건축,구조물       작동기기     부주의   \n",
       "214465      214465  2019  12  저녁  제주특별자치도    건축,구조물       작동기기     부주의   \n",
       "214466      214466  2019  12  저녁    인천광역시    건축,구조물       작동기기  전기적 요인   \n",
       "\n",
       "         최초착화물대분류     장소대분류  사망  부상  인명피해(명)소계  재산피해소계  \n",
       "0           전기,전자        주거   0   0          0    2920  \n",
       "1              기타        임야   0   0          0       0  \n",
       "2          침구,직물류  자동차,철도차량   0   0          0     137  \n",
       "3       종이,목재,건초등   판매,업무시설   0   0          0     326  \n",
       "4              식품        주거   0   0          0       0  \n",
       "...           ...       ...  ..  ..        ...     ...  \n",
       "214462      전기,전자      산업시설   0   0          0   23707  \n",
       "214463  종이,목재,건초등      산업시설   0   0          0    3542  \n",
       "214464         식품   판매,업무시설   0   0          0       0  \n",
       "214465       합성수지   판매,업무시설   0   0          0     105  \n",
       "214466      전기,전자      산업시설   0   0          0    3879  \n",
       "\n",
       "[214467 rows x 14 columns]"
      ]
     },
     "execution_count": 31,
     "metadata": {},
     "output_type": "execute_result"
    }
   ],
   "source": [
    "DIR_PATH='../projectData/'\n",
    "FILE_NAME=DIR_PATH + 'fire_allyear.csv'\n",
    "FIRE=pd.read_csv(FILE_NAME, encoding='cp949')\n",
    "FIRE"
   ]
  },
  {
   "cell_type": "markdown",
   "id": "6f496061",
   "metadata": {},
   "source": [
    "### 소방청 연간화재통계 2018년 데이터 추출하기"
   ]
  },
  {
   "cell_type": "code",
   "execution_count": 32,
   "id": "2bedd702",
   "metadata": {},
   "outputs": [],
   "source": [
    "# yearIndex = FIRE.set_index('년')\n",
    "# fire2018 = yearIndex.loc[2018]\n",
    "# fire2018"
   ]
  },
  {
   "cell_type": "code",
   "execution_count": 33,
   "id": "61cb4d4d",
   "metadata": {
    "scrolled": true
   },
   "outputs": [
    {
     "name": "stdout",
     "output_type": "stream",
     "text": [
      "<class 'pandas.core.frame.DataFrame'>\n",
      "Int64Index: 42338 entries, 132026 to 174363\n",
      "Data columns (total 13 columns):\n",
      " #   Column     Non-Null Count  Dtype \n",
      "---  ------     --------------  ----- \n",
      " 0   년          42338 non-null  object\n",
      " 1   월          42338 non-null  object\n",
      " 2   시간대        42338 non-null  object\n",
      " 3   시도         42338 non-null  object\n",
      " 4   화재유형       42338 non-null  object\n",
      " 5   발화열원대분류    42338 non-null  object\n",
      " 6   발화요인대분류    42338 non-null  object\n",
      " 7   최초착화물대분류   42338 non-null  object\n",
      " 8   장소대분류      42338 non-null  object\n",
      " 9   사망         42338 non-null  int64 \n",
      " 10  부상         42338 non-null  int64 \n",
      " 11  인명피해(명)소계  42338 non-null  int64 \n",
      " 12  재산피해소계     42338 non-null  int64 \n",
      "dtypes: int64(4), object(9)\n",
      "memory usage: 4.5+ MB\n"
     ]
    }
   ],
   "source": [
    "year2018 = FIRE[ FIRE['년']==2018 ]\n",
    "\n",
    "year2018 = year2018.iloc[:, 1:]          # Unnamed: 0 -> 없애기 위해\n",
    "year2018['년'] = year2018['년'].astype(str)    # \n",
    "year2018['월'] = year2018['월'].astype(str)    # \n",
    "year2018.info()"
   ]
  },
  {
   "cell_type": "markdown",
   "id": "bbb9a120",
   "metadata": {},
   "source": [
    "### 2018년 시/도별 화재건수 => 경기도"
   ]
  },
  {
   "cell_type": "code",
   "execution_count": 34,
   "id": "2ed6bbf8",
   "metadata": {},
   "outputs": [
    {
     "data": {
      "text/plain": [
       "<function matplotlib.pyplot.show(close=None, block=None)>"
      ]
     },
     "execution_count": 34,
     "metadata": {},
     "output_type": "execute_result"
    },
    {
     "data": {
      "image/png": "[encoded data removed]",
      "text/plain": [
       "<Figure size 432x288 with 1 Axes>"
      ]
     },
     "metadata": {
      "needs_background": "light"
     },
     "output_type": "display_data"
    }
   ],
   "source": [
    "State = pd.DataFrame( year2018['시도'].value_counts().sort_values() )\n",
    "\n",
    "State.plot(kind='bar', color='skyblue')\n",
    "plt.ylabel('화재건수')                  \n",
    "plt.title('2018년 시/도별 화재건수')                                           \n",
    "plt.show"
   ]
  },
  {
   "cell_type": "markdown",
   "id": "2e409045",
   "metadata": {},
   "source": [
    "### 2018년 월별 화재건수 => 겨울"
   ]
  },
  {
   "cell_type": "code",
   "execution_count": 35,
   "id": "90db9f36",
   "metadata": {},
   "outputs": [
    {
     "data": {
      "text/plain": [
       "<function matplotlib.pyplot.show(close=None, block=None)>"
      ]
     },
     "execution_count": 35,
     "metadata": {},
     "output_type": "execute_result"
    },
    {
     "data": {
      "image/png": "[encoded data removed]",
      "text/plain": [
       "<Figure size 432x288 with 1 Axes>"
      ]
     },
     "metadata": {
      "needs_background": "light"
     },
     "output_type": "display_data"
    }
   ],
   "source": [
    "Month = pd.DataFrame( year2018['월'].value_counts() )\n",
    "\n",
    "Month.plot(kind='bar', color='skyblue')\n",
    "plt.ylabel('화재건수')                  \n",
    "plt.title('2018년 월별 화재건수')\n",
    "plt.show"
   ]
  },
  {
   "cell_type": "markdown",
   "id": "e7291c5c",
   "metadata": {},
   "source": [
    "### 2018년 화재의 시간대 => 낮"
   ]
  },
  {
   "cell_type": "code",
   "execution_count": 36,
   "id": "4b8d172e",
   "metadata": {},
   "outputs": [
    {
     "data": {
      "text/plain": [
       "<function matplotlib.pyplot.show(close=None, block=None)>"
      ]
     },
     "execution_count": 36,
     "metadata": {},
     "output_type": "execute_result"
    },
    {
     "data": {
      "image/png": "[encoded data removed]",
      "text/plain": [
       "<Figure size 432x288 with 1 Axes>"
      ]
     },
     "metadata": {
      "needs_background": "light"
     },
     "output_type": "display_data"
    }
   ],
   "source": [
    "Time = pd.DataFrame( year2018['시간대'].value_counts() )\n",
    "\n",
    "Time.plot(kind='bar', color='skyblue')\n",
    "plt.ylabel('화재건수')                  \n",
    "plt.title('2018년 시간대별 화재건수')                                           \n",
    "plt.show"
   ]
  },
  {
   "cell_type": "markdown",
   "id": "2667ba86",
   "metadata": {},
   "source": [
    "### 2018년 화재의 유형 => 건축, 구조물"
   ]
  },
  {
   "cell_type": "code",
   "execution_count": 37,
   "id": "e554239c",
   "metadata": {},
   "outputs": [
    {
     "data": {
      "text/plain": [
       "<function matplotlib.pyplot.show(close=None, block=None)>"
      ]
     },
     "execution_count": 37,
     "metadata": {},
     "output_type": "execute_result"
    },
    {
     "data": {
      "image/png": "[encoded data removed]",
      "text/plain": [
       "<Figure size 432x288 with 1 Axes>"
      ]
     },
     "metadata": {
      "needs_background": "light"
     },
     "output_type": "display_data"
    }
   ],
   "source": [
    "Type = pd.DataFrame( year2018['화재유형'].value_counts() )\n",
    "\n",
    "Type.plot(kind='bar', color='skyblue')\n",
    "plt.ylabel('화재건수')                  \n",
    "plt.title('2018년 유형별 화재건수')                                           \n",
    "plt.show"
   ]
  },
  {
   "cell_type": "markdown",
   "id": "91376cc6",
   "metadata": {},
   "source": [
    "### 2018년 발화열원대분류 => 작동기기"
   ]
  },
  {
   "cell_type": "code",
   "execution_count": 38,
   "id": "6d35cbd5",
   "metadata": {},
   "outputs": [
    {
     "data": {
      "text/plain": [
       "<function matplotlib.pyplot.show(close=None, block=None)>"
      ]
     },
     "execution_count": 38,
     "metadata": {},
     "output_type": "execute_result"
    },
    {
     "data": {
      "image/png": "[encoded data removed]",
      "text/plain": [
       "<Figure size 432x288 with 1 Axes>"
      ]
     },
     "metadata": {
      "needs_background": "light"
     },
     "output_type": "display_data"
    }
   ],
   "source": [
    "Point = pd.DataFrame( year2018['발화열원대분류'].value_counts() )\n",
    "\n",
    "Point.plot(kind='bar', color='skyblue')\n",
    "plt.ylabel('화재건수')                  \n",
    "plt.title('2018년 발화열원 대분류별 화재건수')                                           \n",
    "plt.show"
   ]
  },
  {
   "cell_type": "markdown",
   "id": "0bed1f7c",
   "metadata": {},
   "source": [
    "### 2018년 발화요인대분류 => 부주의, 전기적 요인"
   ]
  },
  {
   "cell_type": "code",
   "execution_count": 39,
   "id": "5219e0d2",
   "metadata": {},
   "outputs": [
    {
     "data": {
      "text/plain": [
       "<function matplotlib.pyplot.show(close=None, block=None)>"
      ]
     },
     "execution_count": 39,
     "metadata": {},
     "output_type": "execute_result"
    },
    {
     "data": {
      "image/png": "[encoded data removed]",
      "text/plain": [
       "<Figure size 432x288 with 1 Axes>"
      ]
     },
     "metadata": {
      "needs_background": "light"
     },
     "output_type": "display_data"
    }
   ],
   "source": [
    "source = pd.DataFrame( year2018['발화요인대분류'].value_counts() )\n",
    "\n",
    "source.plot(kind='bar', color='skyblue')\n",
    "plt.ylabel('화재건수')                  \n",
    "plt.title('2018년 발화요인 대분류 화재건수')                                           \n",
    "plt.show"
   ]
  },
  {
   "cell_type": "markdown",
   "id": "4a8dac94",
   "metadata": {},
   "source": [
    "### 2018년 최초착화물대분류 => 종이 등 발화제, 전지 및 전자"
   ]
  },
  {
   "cell_type": "code",
   "execution_count": 40,
   "id": "f783307a",
   "metadata": {},
   "outputs": [
    {
     "data": {
      "text/plain": [
       "<function matplotlib.pyplot.show(close=None, block=None)>"
      ]
     },
     "execution_count": 40,
     "metadata": {},
     "output_type": "execute_result"
    },
    {
     "data": {
      "image/png": "[encoded data removed]",
      "text/plain": [
       "<Figure size 432x288 with 1 Axes>"
      ]
     },
     "metadata": {
      "needs_background": "light"
     },
     "output_type": "display_data"
    }
   ],
   "source": [
    "First = pd.DataFrame( year2018['최초착화물대분류'].value_counts() )\n",
    "\n",
    "First.plot(kind='bar', color='skyblue')\n",
    "plt.ylabel('화재건수')                  \n",
    "plt.title('2018년 최초착화물 대분류별 화재건수')                                           \n",
    "plt.show"
   ]
  },
  {
   "cell_type": "markdown",
   "id": "fe22e88b",
   "metadata": {},
   "source": [
    "### 2018년 장소대분류 => 주거 및 산업시설"
   ]
  },
  {
   "cell_type": "code",
   "execution_count": 41,
   "id": "31452881",
   "metadata": {},
   "outputs": [
    {
     "data": {
      "text/plain": [
       "<function matplotlib.pyplot.show(close=None, block=None)>"
      ]
     },
     "execution_count": 41,
     "metadata": {},
     "output_type": "execute_result"
    },
    {
     "data": {
      "image/png": "[encoded data removed]",
      "text/plain": [
       "<Figure size 432x288 with 1 Axes>"
      ]
     },
     "metadata": {
      "needs_background": "light"
     },
     "output_type": "display_data"
    }
   ],
   "source": [
    "Place = pd.DataFrame( year2018['장소대분류'].value_counts() )\n",
    "\n",
    "Place.plot(kind='bar', color='skyblue')\n",
    "plt.ylabel('화재건수')                  \n",
    "plt.title('2018년 장소별 화재건수')                                           \n",
    "plt.show"
   ]
  },
  {
   "cell_type": "markdown",
   "id": "92b9c194",
   "metadata": {},
   "source": [
    "###### 2018년 사망건수(명)"
   ]
  },
  {
   "cell_type": "code",
   "execution_count": 42,
   "id": "8378b434",
   "metadata": {},
   "outputs": [],
   "source": [
    "# # 사망건수 0인 경우 => 42060명\n",
    "# result = year2018.사망 != 0\n",
    "# year2018 = year2018[result]\n",
    "# DeathCount = pd.DataFrame( year2018['사망'].value_counts(), )\n",
    "# DeathCount"
   ]
  },
  {
   "cell_type": "markdown",
   "id": "c6ac8af5",
   "metadata": {},
   "source": [
    "###### 2018년 부상건수(명)"
   ]
  },
  {
   "cell_type": "code",
   "execution_count": 43,
   "id": "6a18b228",
   "metadata": {},
   "outputs": [],
   "source": [
    "# # # 부상이 0인 경우 => 40905명\n",
    "# result = year2018.부상 != 0\n",
    "# year2018 = year2018[result]\n",
    "# Injury = pd.DataFrame( year2018['부상'].value_counts() )\n",
    "# Injury"
   ]
  },
  {
   "cell_type": "markdown",
   "id": "19b71bcc",
   "metadata": {},
   "source": [
    "###### 2018년 인명피해 건수(명)"
   ]
  },
  {
   "cell_type": "code",
   "execution_count": 44,
   "id": "a4dba009",
   "metadata": {},
   "outputs": [],
   "source": [
    "# pd.DataFrame( year2018['인명피해(명)소계'].value_counts() )"
   ]
  },
  {
   "cell_type": "markdown",
   "id": "f1376111",
   "metadata": {},
   "source": [
    "###### 2018년 재산피해소계()"
   ]
  },
  {
   "cell_type": "code",
   "execution_count": 45,
   "id": "4f437343",
   "metadata": {},
   "outputs": [],
   "source": [
    "# property = pd.DataFrame( year2018['재산피해소계'].value_counts() )\n",
    "# property"
   ]
  },
  {
   "cell_type": "markdown",
   "id": "e79d64f1",
   "metadata": {},
   "source": [
    "# 사망, 부상, 인명피해\n",
    "- 사망, 부상, 인명피해 <=> 발화요인, 발화열원, 발화유형"
   ]
  },
  {
   "cell_type": "code",
   "execution_count": 46,
   "id": "06cd38ad",
   "metadata": {},
   "outputs": [],
   "source": [
    "# pd.DataFrame( year2018.groupby(['발화열원대분류']).sum()['재산피해소계'].sort_values() )"
   ]
  },
  {
   "cell_type": "code",
   "execution_count": 47,
   "id": "6b081fbc",
   "metadata": {},
   "outputs": [
    {
     "data": {
      "text/html": [
       "<div>\n",
       "<style scoped>\n",
       "    .dataframe tbody tr th:only-of-type {\n",
       "        vertical-align: middle;\n",
       "    }\n",
       "\n",
       "    .dataframe tbody tr th {\n",
       "        vertical-align: top;\n",
       "    }\n",
       "\n",
       "    .dataframe thead th {\n",
       "        text-align: right;\n",
       "    }\n",
       "</style>\n",
       "<table border=\"1\" class=\"dataframe\">\n",
       "  <thead>\n",
       "    <tr style=\"text-align: right;\">\n",
       "      <th></th>\n",
       "      <th>사망</th>\n",
       "      <th>부상</th>\n",
       "      <th>인명피해(명)소계</th>\n",
       "      <th>재산피해소계</th>\n",
       "    </tr>\n",
       "    <tr>\n",
       "      <th>발화요인대분류</th>\n",
       "      <th></th>\n",
       "      <th></th>\n",
       "      <th></th>\n",
       "      <th></th>\n",
       "    </tr>\n",
       "  </thead>\n",
       "  <tbody>\n",
       "    <tr>\n",
       "      <th>부주의</th>\n",
       "      <td>70</td>\n",
       "      <td>798</td>\n",
       "      <td>868</td>\n",
       "      <td>124688688</td>\n",
       "    </tr>\n",
       "    <tr>\n",
       "      <th>전기적 요인</th>\n",
       "      <td>87</td>\n",
       "      <td>466</td>\n",
       "      <td>553</td>\n",
       "      <td>119960816</td>\n",
       "    </tr>\n",
       "    <tr>\n",
       "      <th>미상</th>\n",
       "      <td>102</td>\n",
       "      <td>384</td>\n",
       "      <td>486</td>\n",
       "      <td>233286755</td>\n",
       "    </tr>\n",
       "    <tr>\n",
       "      <th>방화</th>\n",
       "      <td>46</td>\n",
       "      <td>130</td>\n",
       "      <td>176</td>\n",
       "      <td>7510373</td>\n",
       "    </tr>\n",
       "    <tr>\n",
       "      <th>가스누출(폭발)</th>\n",
       "      <td>5</td>\n",
       "      <td>128</td>\n",
       "      <td>133</td>\n",
       "      <td>2811299</td>\n",
       "    </tr>\n",
       "    <tr>\n",
       "      <th>기계적 요인</th>\n",
       "      <td>7</td>\n",
       "      <td>114</td>\n",
       "      <td>121</td>\n",
       "      <td>38659233</td>\n",
       "    </tr>\n",
       "    <tr>\n",
       "      <th>방화의심</th>\n",
       "      <td>31</td>\n",
       "      <td>80</td>\n",
       "      <td>111</td>\n",
       "      <td>2438577</td>\n",
       "    </tr>\n",
       "    <tr>\n",
       "      <th>화학적 요인</th>\n",
       "      <td>7</td>\n",
       "      <td>66</td>\n",
       "      <td>73</td>\n",
       "      <td>18703578</td>\n",
       "    </tr>\n",
       "    <tr>\n",
       "      <th>기타</th>\n",
       "      <td>5</td>\n",
       "      <td>31</td>\n",
       "      <td>36</td>\n",
       "      <td>4723504</td>\n",
       "    </tr>\n",
       "    <tr>\n",
       "      <th>교통사고</th>\n",
       "      <td>9</td>\n",
       "      <td>23</td>\n",
       "      <td>32</td>\n",
       "      <td>5073201</td>\n",
       "    </tr>\n",
       "    <tr>\n",
       "      <th>자연적인 요인</th>\n",
       "      <td>0</td>\n",
       "      <td>5</td>\n",
       "      <td>5</td>\n",
       "      <td>1856365</td>\n",
       "    </tr>\n",
       "  </tbody>\n",
       "</table>\n",
       "</div>"
      ],
      "text/plain": [
       "           사망   부상  인명피해(명)소계     재산피해소계\n",
       "발화요인대분류                                 \n",
       "부주의        70  798        868  124688688\n",
       "전기적 요인     87  466        553  119960816\n",
       "미상        102  384        486  233286755\n",
       "방화         46  130        176    7510373\n",
       "가스누출(폭발)    5  128        133    2811299\n",
       "기계적 요인      7  114        121   38659233\n",
       "방화의심       31   80        111    2438577\n",
       "화학적 요인      7   66         73   18703578\n",
       "기타          5   31         36    4723504\n",
       "교통사고        9   23         32    5073201\n",
       "자연적인 요인     0    5          5    1856365"
      ]
     },
     "execution_count": 47,
     "metadata": {},
     "output_type": "execute_result"
    }
   ],
   "source": [
    "year2018.groupby(['발화요인대분류']).sum().sort_values('인명피해(명)소계', ascending=False)"
   ]
  },
  {
   "cell_type": "code",
   "execution_count": 48,
   "id": "3d84de49",
   "metadata": {},
   "outputs": [
    {
     "data": {
      "text/html": [
       "<div>\n",
       "<style scoped>\n",
       "    .dataframe tbody tr th:only-of-type {\n",
       "        vertical-align: middle;\n",
       "    }\n",
       "\n",
       "    .dataframe tbody tr th {\n",
       "        vertical-align: top;\n",
       "    }\n",
       "\n",
       "    .dataframe thead th {\n",
       "        text-align: right;\n",
       "    }\n",
       "</style>\n",
       "<table border=\"1\" class=\"dataframe\">\n",
       "  <thead>\n",
       "    <tr style=\"text-align: right;\">\n",
       "      <th></th>\n",
       "      <th>사망</th>\n",
       "      <th>부상</th>\n",
       "      <th>인명피해(명)소계</th>\n",
       "      <th>재산피해소계</th>\n",
       "    </tr>\n",
       "    <tr>\n",
       "      <th>발화열원대분류</th>\n",
       "      <th></th>\n",
       "      <th></th>\n",
       "      <th></th>\n",
       "      <th></th>\n",
       "    </tr>\n",
       "  </thead>\n",
       "  <tbody>\n",
       "    <tr>\n",
       "      <th>작동기기</th>\n",
       "      <td>118</td>\n",
       "      <td>829</td>\n",
       "      <td>947</td>\n",
       "      <td>162740670</td>\n",
       "    </tr>\n",
       "    <tr>\n",
       "      <th>미상</th>\n",
       "      <td>126</td>\n",
       "      <td>433</td>\n",
       "      <td>559</td>\n",
       "      <td>233655534</td>\n",
       "    </tr>\n",
       "    <tr>\n",
       "      <th>담뱃불, 라이터불</th>\n",
       "      <td>69</td>\n",
       "      <td>412</td>\n",
       "      <td>481</td>\n",
       "      <td>26356218</td>\n",
       "    </tr>\n",
       "    <tr>\n",
       "      <th>불꽃, 불티</th>\n",
       "      <td>41</td>\n",
       "      <td>338</td>\n",
       "      <td>379</td>\n",
       "      <td>91388265</td>\n",
       "    </tr>\n",
       "    <tr>\n",
       "      <th>마찰, 전도, 복사</th>\n",
       "      <td>8</td>\n",
       "      <td>145</td>\n",
       "      <td>153</td>\n",
       "      <td>26375812</td>\n",
       "    </tr>\n",
       "    <tr>\n",
       "      <th>기타</th>\n",
       "      <td>5</td>\n",
       "      <td>35</td>\n",
       "      <td>40</td>\n",
       "      <td>3860593</td>\n",
       "    </tr>\n",
       "    <tr>\n",
       "      <th>화학적 발화열</th>\n",
       "      <td>2</td>\n",
       "      <td>31</td>\n",
       "      <td>33</td>\n",
       "      <td>13559349</td>\n",
       "    </tr>\n",
       "    <tr>\n",
       "      <th>자연적 발화열</th>\n",
       "      <td>0</td>\n",
       "      <td>1</td>\n",
       "      <td>1</td>\n",
       "      <td>1741267</td>\n",
       "    </tr>\n",
       "    <tr>\n",
       "      <th>폭발물, 폭죽</th>\n",
       "      <td>0</td>\n",
       "      <td>1</td>\n",
       "      <td>1</td>\n",
       "      <td>34681</td>\n",
       "    </tr>\n",
       "  </tbody>\n",
       "</table>\n",
       "</div>"
      ],
      "text/plain": [
       "             사망   부상  인명피해(명)소계     재산피해소계\n",
       "발화열원대분류                                   \n",
       "작동기기        118  829        947  162740670\n",
       "미상          126  433        559  233655534\n",
       "담뱃불, 라이터불    69  412        481   26356218\n",
       "불꽃, 불티       41  338        379   91388265\n",
       "마찰, 전도, 복사    8  145        153   26375812\n",
       "기타            5   35         40    3860593\n",
       "화학적 발화열       2   31         33   13559349\n",
       "자연적 발화열       0    1          1    1741267\n",
       "폭발물, 폭죽       0    1          1      34681"
      ]
     },
     "execution_count": 48,
     "metadata": {},
     "output_type": "execute_result"
    }
   ],
   "source": [
    "year2018.groupby(['발화열원대분류']).sum().sort_values('인명피해(명)소계', ascending=False)"
   ]
  },
  {
   "cell_type": "code",
   "execution_count": 49,
   "id": "668b47e3",
   "metadata": {
    "scrolled": true
   },
   "outputs": [
    {
     "data": {
      "text/html": [
       "<div>\n",
       "<style scoped>\n",
       "    .dataframe tbody tr th:only-of-type {\n",
       "        vertical-align: middle;\n",
       "    }\n",
       "\n",
       "    .dataframe tbody tr th {\n",
       "        vertical-align: top;\n",
       "    }\n",
       "\n",
       "    .dataframe thead th {\n",
       "        text-align: right;\n",
       "    }\n",
       "</style>\n",
       "<table border=\"1\" class=\"dataframe\">\n",
       "  <thead>\n",
       "    <tr style=\"text-align: right;\">\n",
       "      <th></th>\n",
       "      <th>사망</th>\n",
       "      <th>부상</th>\n",
       "      <th>인명피해(명)소계</th>\n",
       "      <th>재산피해소계</th>\n",
       "    </tr>\n",
       "    <tr>\n",
       "      <th>화재유형</th>\n",
       "      <th></th>\n",
       "      <th></th>\n",
       "      <th></th>\n",
       "      <th></th>\n",
       "    </tr>\n",
       "  </thead>\n",
       "  <tbody>\n",
       "    <tr>\n",
       "      <th>건축,구조물</th>\n",
       "      <td>316</td>\n",
       "      <td>1915</td>\n",
       "      <td>2231</td>\n",
       "      <td>495040348</td>\n",
       "    </tr>\n",
       "    <tr>\n",
       "      <th>자동차,철도차량</th>\n",
       "      <td>28</td>\n",
       "      <td>132</td>\n",
       "      <td>160</td>\n",
       "      <td>32480219</td>\n",
       "    </tr>\n",
       "    <tr>\n",
       "      <th>기타(쓰레기 화재등)</th>\n",
       "      <td>13</td>\n",
       "      <td>81</td>\n",
       "      <td>94</td>\n",
       "      <td>6727101</td>\n",
       "    </tr>\n",
       "    <tr>\n",
       "      <th>임야</th>\n",
       "      <td>11</td>\n",
       "      <td>67</td>\n",
       "      <td>78</td>\n",
       "      <td>7763534</td>\n",
       "    </tr>\n",
       "    <tr>\n",
       "      <th>선박,항공기</th>\n",
       "      <td>0</td>\n",
       "      <td>20</td>\n",
       "      <td>20</td>\n",
       "      <td>9569820</td>\n",
       "    </tr>\n",
       "    <tr>\n",
       "      <th>위험물,가스제조소등</th>\n",
       "      <td>1</td>\n",
       "      <td>10</td>\n",
       "      <td>11</td>\n",
       "      <td>8131367</td>\n",
       "    </tr>\n",
       "  </tbody>\n",
       "</table>\n",
       "</div>"
      ],
      "text/plain": [
       "              사망    부상  인명피해(명)소계     재산피해소계\n",
       "화재유형                                        \n",
       "건축,구조물       316  1915       2231  495040348\n",
       "자동차,철도차량      28   132        160   32480219\n",
       "기타(쓰레기 화재등)   13    81         94    6727101\n",
       "임야            11    67         78    7763534\n",
       "선박,항공기         0    20         20    9569820\n",
       "위험물,가스제조소등     1    10         11    8131367"
      ]
     },
     "execution_count": 49,
     "metadata": {},
     "output_type": "execute_result"
    }
   ],
   "source": [
    "year2018.groupby(['화재유형']).sum().sort_values('인명피해(명)소계', ascending=False)"
   ]
  },
  {
   "cell_type": "code",
   "execution_count": 50,
   "id": "3e4a1716",
   "metadata": {
    "scrolled": true
   },
   "outputs": [
    {
     "data": {
      "text/html": [
       "<div>\n",
       "<style scoped>\n",
       "    .dataframe tbody tr th:only-of-type {\n",
       "        vertical-align: middle;\n",
       "    }\n",
       "\n",
       "    .dataframe tbody tr th {\n",
       "        vertical-align: top;\n",
       "    }\n",
       "\n",
       "    .dataframe thead th {\n",
       "        text-align: right;\n",
       "    }\n",
       "</style>\n",
       "<table border=\"1\" class=\"dataframe\">\n",
       "  <thead>\n",
       "    <tr style=\"text-align: right;\">\n",
       "      <th></th>\n",
       "      <th>년</th>\n",
       "      <th>월</th>\n",
       "      <th>시간대</th>\n",
       "      <th>시도</th>\n",
       "      <th>화재유형</th>\n",
       "      <th>발화열원대분류</th>\n",
       "      <th>발화요인대분류</th>\n",
       "      <th>최초착화물대분류</th>\n",
       "      <th>장소대분류</th>\n",
       "      <th>사망</th>\n",
       "      <th>부상</th>\n",
       "      <th>인명피해(명)소계</th>\n",
       "      <th>재산피해소계</th>\n",
       "    </tr>\n",
       "  </thead>\n",
       "  <tbody>\n",
       "    <tr>\n",
       "      <th>132026</th>\n",
       "      <td>2018</td>\n",
       "      <td>1</td>\n",
       "      <td>심야</td>\n",
       "      <td>경기도</td>\n",
       "      <td>건축,구조물</td>\n",
       "      <td>작동기기</td>\n",
       "      <td>전기적 요인</td>\n",
       "      <td>전기,전자</td>\n",
       "      <td>주거</td>\n",
       "      <td>0</td>\n",
       "      <td>1</td>\n",
       "      <td>1</td>\n",
       "      <td>24099</td>\n",
       "    </tr>\n",
       "    <tr>\n",
       "      <th>132028</th>\n",
       "      <td>2018</td>\n",
       "      <td>1</td>\n",
       "      <td>심야</td>\n",
       "      <td>경기도</td>\n",
       "      <td>임야</td>\n",
       "      <td>담뱃불, 라이터불</td>\n",
       "      <td>부주의</td>\n",
       "      <td>종이,목재,건초등</td>\n",
       "      <td>임야</td>\n",
       "      <td>0</td>\n",
       "      <td>0</td>\n",
       "      <td>0</td>\n",
       "      <td>28</td>\n",
       "    </tr>\n",
       "    <tr>\n",
       "      <th>132033</th>\n",
       "      <td>2018</td>\n",
       "      <td>1</td>\n",
       "      <td>심야</td>\n",
       "      <td>경기도</td>\n",
       "      <td>기타(쓰레기 화재등)</td>\n",
       "      <td>작동기기</td>\n",
       "      <td>전기적 요인</td>\n",
       "      <td>전기,전자</td>\n",
       "      <td>기타</td>\n",
       "      <td>0</td>\n",
       "      <td>0</td>\n",
       "      <td>0</td>\n",
       "      <td>316</td>\n",
       "    </tr>\n",
       "    <tr>\n",
       "      <th>132049</th>\n",
       "      <td>2018</td>\n",
       "      <td>1</td>\n",
       "      <td>심야</td>\n",
       "      <td>경기도</td>\n",
       "      <td>건축,구조물</td>\n",
       "      <td>미상</td>\n",
       "      <td>방화의심</td>\n",
       "      <td>합성수지</td>\n",
       "      <td>주거</td>\n",
       "      <td>0</td>\n",
       "      <td>0</td>\n",
       "      <td>0</td>\n",
       "      <td>215</td>\n",
       "    </tr>\n",
       "    <tr>\n",
       "      <th>132052</th>\n",
       "      <td>2018</td>\n",
       "      <td>1</td>\n",
       "      <td>심야</td>\n",
       "      <td>경기도</td>\n",
       "      <td>건축,구조물</td>\n",
       "      <td>작동기기</td>\n",
       "      <td>기계적 요인</td>\n",
       "      <td>종이,목재,건초등</td>\n",
       "      <td>주거</td>\n",
       "      <td>0</td>\n",
       "      <td>0</td>\n",
       "      <td>0</td>\n",
       "      <td>4811</td>\n",
       "    </tr>\n",
       "    <tr>\n",
       "      <th>...</th>\n",
       "      <td>...</td>\n",
       "      <td>...</td>\n",
       "      <td>...</td>\n",
       "      <td>...</td>\n",
       "      <td>...</td>\n",
       "      <td>...</td>\n",
       "      <td>...</td>\n",
       "      <td>...</td>\n",
       "      <td>...</td>\n",
       "      <td>...</td>\n",
       "      <td>...</td>\n",
       "      <td>...</td>\n",
       "      <td>...</td>\n",
       "    </tr>\n",
       "    <tr>\n",
       "      <th>174316</th>\n",
       "      <td>2018</td>\n",
       "      <td>12</td>\n",
       "      <td>낮</td>\n",
       "      <td>경기도</td>\n",
       "      <td>기타(쓰레기 화재등)</td>\n",
       "      <td>담뱃불, 라이터불</td>\n",
       "      <td>부주의</td>\n",
       "      <td>종이,목재,건초등</td>\n",
       "      <td>기타</td>\n",
       "      <td>0</td>\n",
       "      <td>0</td>\n",
       "      <td>0</td>\n",
       "      <td>7658</td>\n",
       "    </tr>\n",
       "    <tr>\n",
       "      <th>174320</th>\n",
       "      <td>2018</td>\n",
       "      <td>12</td>\n",
       "      <td>저녁</td>\n",
       "      <td>경기도</td>\n",
       "      <td>건축,구조물</td>\n",
       "      <td>작동기기</td>\n",
       "      <td>기계적 요인</td>\n",
       "      <td>종이,목재,건초등</td>\n",
       "      <td>주거</td>\n",
       "      <td>0</td>\n",
       "      <td>0</td>\n",
       "      <td>0</td>\n",
       "      <td>345</td>\n",
       "    </tr>\n",
       "    <tr>\n",
       "      <th>174333</th>\n",
       "      <td>2018</td>\n",
       "      <td>12</td>\n",
       "      <td>저녁</td>\n",
       "      <td>경기도</td>\n",
       "      <td>건축,구조물</td>\n",
       "      <td>불꽃, 불티</td>\n",
       "      <td>부주의</td>\n",
       "      <td>쓰레기류</td>\n",
       "      <td>산업시설</td>\n",
       "      <td>0</td>\n",
       "      <td>0</td>\n",
       "      <td>0</td>\n",
       "      <td>15</td>\n",
       "    </tr>\n",
       "    <tr>\n",
       "      <th>174353</th>\n",
       "      <td>2018</td>\n",
       "      <td>12</td>\n",
       "      <td>저녁</td>\n",
       "      <td>경기도</td>\n",
       "      <td>건축,구조물</td>\n",
       "      <td>작동기기</td>\n",
       "      <td>전기적 요인</td>\n",
       "      <td>전기,전자</td>\n",
       "      <td>생활서비스</td>\n",
       "      <td>0</td>\n",
       "      <td>0</td>\n",
       "      <td>0</td>\n",
       "      <td>229</td>\n",
       "    </tr>\n",
       "    <tr>\n",
       "      <th>174361</th>\n",
       "      <td>2018</td>\n",
       "      <td>12</td>\n",
       "      <td>저녁</td>\n",
       "      <td>경기도</td>\n",
       "      <td>건축,구조물</td>\n",
       "      <td>작동기기</td>\n",
       "      <td>기계적 요인</td>\n",
       "      <td>합성수지</td>\n",
       "      <td>판매,업무시설</td>\n",
       "      <td>0</td>\n",
       "      <td>0</td>\n",
       "      <td>0</td>\n",
       "      <td>1635</td>\n",
       "    </tr>\n",
       "  </tbody>\n",
       "</table>\n",
       "<p>9632 rows × 13 columns</p>\n",
       "</div>"
      ],
      "text/plain": [
       "           년   월 시간대   시도         화재유형    발화열원대분류 발화요인대분류   최초착화물대분류    장소대분류  \\\n",
       "132026  2018   1  심야  경기도       건축,구조물       작동기기  전기적 요인      전기,전자       주거   \n",
       "132028  2018   1  심야  경기도           임야  담뱃불, 라이터불     부주의  종이,목재,건초등       임야   \n",
       "132033  2018   1  심야  경기도  기타(쓰레기 화재등)       작동기기  전기적 요인      전기,전자       기타   \n",
       "132049  2018   1  심야  경기도       건축,구조물         미상    방화의심       합성수지       주거   \n",
       "132052  2018   1  심야  경기도       건축,구조물       작동기기  기계적 요인  종이,목재,건초등       주거   \n",
       "...      ...  ..  ..  ...          ...        ...     ...        ...      ...   \n",
       "174316  2018  12   낮  경기도  기타(쓰레기 화재등)  담뱃불, 라이터불     부주의  종이,목재,건초등       기타   \n",
       "174320  2018  12  저녁  경기도       건축,구조물       작동기기  기계적 요인  종이,목재,건초등       주거   \n",
       "174333  2018  12  저녁  경기도       건축,구조물     불꽃, 불티     부주의       쓰레기류     산업시설   \n",
       "174353  2018  12  저녁  경기도       건축,구조물       작동기기  전기적 요인      전기,전자    생활서비스   \n",
       "174361  2018  12  저녁  경기도       건축,구조물       작동기기  기계적 요인       합성수지  판매,업무시설   \n",
       "\n",
       "        사망  부상  인명피해(명)소계  재산피해소계  \n",
       "132026   0   1          1   24099  \n",
       "132028   0   0          0      28  \n",
       "132033   0   0          0     316  \n",
       "132049   0   0          0     215  \n",
       "132052   0   0          0    4811  \n",
       "...     ..  ..        ...     ...  \n",
       "174316   0   0          0    7658  \n",
       "174320   0   0          0     345  \n",
       "174333   0   0          0      15  \n",
       "174353   0   0          0     229  \n",
       "174361   0   0          0    1635  \n",
       "\n",
       "[9632 rows x 13 columns]"
      ]
     },
     "execution_count": 50,
     "metadata": {},
     "output_type": "execute_result"
    }
   ],
   "source": [
    "Gyeonggi = year2018[year2018['시도']=='경기도']\n",
    "# Gyeonggi = pd.DataFrame( Gyeonggi.value_counts().sort_values(ascending=False) )\n",
    "Gyeonggi"
   ]
  },
  {
   "cell_type": "code",
   "execution_count": 51,
   "id": "6cc1df34",
   "metadata": {},
   "outputs": [
    {
     "name": "stderr",
     "output_type": "stream",
     "text": [
      "C:\\Users\\User\\AppData\\Local\\Temp\\ipykernel_14808\\3493143815.py:1: SettingWithCopyWarning: \n",
      "A value is trying to be set on a copy of a slice from a DataFrame\n",
      "\n",
      "See the caveats in the documentation: https://pandas.pydata.org/pandas-docs/stable/user_guide/indexing.html#returning-a-view-versus-a-copy\n",
      "  Gyeonggi.drop( ['년','시도'], axis=1, inplace=True )\n"
     ]
    }
   ],
   "source": [
    "Gyeonggi.drop( ['년','시도'], axis=1, inplace=True )"
   ]
  },
  {
   "cell_type": "code",
   "execution_count": 53,
   "id": "7d573fe4",
   "metadata": {},
   "outputs": [
    {
     "data": {
      "text/html": [
       "<div>\n",
       "<style scoped>\n",
       "    .dataframe tbody tr th:only-of-type {\n",
       "        vertical-align: middle;\n",
       "    }\n",
       "\n",
       "    .dataframe tbody tr th {\n",
       "        vertical-align: top;\n",
       "    }\n",
       "\n",
       "    .dataframe thead th {\n",
       "        text-align: right;\n",
       "    }\n",
       "</style>\n",
       "<table border=\"1\" class=\"dataframe\">\n",
       "  <thead>\n",
       "    <tr style=\"text-align: right;\">\n",
       "      <th></th>\n",
       "      <th>월</th>\n",
       "      <th>시간대</th>\n",
       "      <th>화재유형</th>\n",
       "      <th>발화열원대분류</th>\n",
       "      <th>최초착화물대분류</th>\n",
       "      <th>장소대분류</th>\n",
       "      <th>사망</th>\n",
       "      <th>부상</th>\n",
       "      <th>인명피해(명)소계</th>\n",
       "      <th>재산피해소계</th>\n",
       "    </tr>\n",
       "    <tr>\n",
       "      <th>발화요인대분류</th>\n",
       "      <th></th>\n",
       "      <th></th>\n",
       "      <th></th>\n",
       "      <th></th>\n",
       "      <th></th>\n",
       "      <th></th>\n",
       "      <th></th>\n",
       "      <th></th>\n",
       "      <th></th>\n",
       "      <th></th>\n",
       "    </tr>\n",
       "  </thead>\n",
       "  <tbody>\n",
       "    <tr>\n",
       "      <th>부주의</th>\n",
       "      <td>4052</td>\n",
       "      <td>4052</td>\n",
       "      <td>4052</td>\n",
       "      <td>4052</td>\n",
       "      <td>4052</td>\n",
       "      <td>4052</td>\n",
       "      <td>4052</td>\n",
       "      <td>4052</td>\n",
       "      <td>4052</td>\n",
       "      <td>4052</td>\n",
       "    </tr>\n",
       "    <tr>\n",
       "      <th>전기적 요인</th>\n",
       "      <td>2738</td>\n",
       "      <td>2738</td>\n",
       "      <td>2738</td>\n",
       "      <td>2738</td>\n",
       "      <td>2738</td>\n",
       "      <td>2738</td>\n",
       "      <td>2738</td>\n",
       "      <td>2738</td>\n",
       "      <td>2738</td>\n",
       "      <td>2738</td>\n",
       "    </tr>\n",
       "    <tr>\n",
       "      <th>기계적 요인</th>\n",
       "      <td>1418</td>\n",
       "      <td>1418</td>\n",
       "      <td>1418</td>\n",
       "      <td>1418</td>\n",
       "      <td>1418</td>\n",
       "      <td>1418</td>\n",
       "      <td>1418</td>\n",
       "      <td>1418</td>\n",
       "      <td>1418</td>\n",
       "      <td>1418</td>\n",
       "    </tr>\n",
       "    <tr>\n",
       "      <th>미상</th>\n",
       "      <td>692</td>\n",
       "      <td>692</td>\n",
       "      <td>692</td>\n",
       "      <td>692</td>\n",
       "      <td>692</td>\n",
       "      <td>692</td>\n",
       "      <td>692</td>\n",
       "      <td>692</td>\n",
       "      <td>692</td>\n",
       "      <td>692</td>\n",
       "    </tr>\n",
       "    <tr>\n",
       "      <th>화학적 요인</th>\n",
       "      <td>197</td>\n",
       "      <td>197</td>\n",
       "      <td>197</td>\n",
       "      <td>197</td>\n",
       "      <td>197</td>\n",
       "      <td>197</td>\n",
       "      <td>197</td>\n",
       "      <td>197</td>\n",
       "      <td>197</td>\n",
       "      <td>197</td>\n",
       "    </tr>\n",
       "    <tr>\n",
       "      <th>교통사고</th>\n",
       "      <td>132</td>\n",
       "      <td>132</td>\n",
       "      <td>132</td>\n",
       "      <td>132</td>\n",
       "      <td>132</td>\n",
       "      <td>132</td>\n",
       "      <td>132</td>\n",
       "      <td>132</td>\n",
       "      <td>132</td>\n",
       "      <td>132</td>\n",
       "    </tr>\n",
       "    <tr>\n",
       "      <th>방화</th>\n",
       "      <td>106</td>\n",
       "      <td>106</td>\n",
       "      <td>106</td>\n",
       "      <td>106</td>\n",
       "      <td>106</td>\n",
       "      <td>106</td>\n",
       "      <td>106</td>\n",
       "      <td>106</td>\n",
       "      <td>106</td>\n",
       "      <td>106</td>\n",
       "    </tr>\n",
       "    <tr>\n",
       "      <th>방화의심</th>\n",
       "      <td>92</td>\n",
       "      <td>92</td>\n",
       "      <td>92</td>\n",
       "      <td>92</td>\n",
       "      <td>92</td>\n",
       "      <td>92</td>\n",
       "      <td>92</td>\n",
       "      <td>92</td>\n",
       "      <td>92</td>\n",
       "      <td>92</td>\n",
       "    </tr>\n",
       "    <tr>\n",
       "      <th>기타</th>\n",
       "      <td>87</td>\n",
       "      <td>87</td>\n",
       "      <td>87</td>\n",
       "      <td>87</td>\n",
       "      <td>87</td>\n",
       "      <td>87</td>\n",
       "      <td>87</td>\n",
       "      <td>87</td>\n",
       "      <td>87</td>\n",
       "      <td>87</td>\n",
       "    </tr>\n",
       "    <tr>\n",
       "      <th>자연적인 요인</th>\n",
       "      <td>67</td>\n",
       "      <td>67</td>\n",
       "      <td>67</td>\n",
       "      <td>67</td>\n",
       "      <td>67</td>\n",
       "      <td>67</td>\n",
       "      <td>67</td>\n",
       "      <td>67</td>\n",
       "      <td>67</td>\n",
       "      <td>67</td>\n",
       "    </tr>\n",
       "    <tr>\n",
       "      <th>가스누출(폭발)</th>\n",
       "      <td>51</td>\n",
       "      <td>51</td>\n",
       "      <td>51</td>\n",
       "      <td>51</td>\n",
       "      <td>51</td>\n",
       "      <td>51</td>\n",
       "      <td>51</td>\n",
       "      <td>51</td>\n",
       "      <td>51</td>\n",
       "      <td>51</td>\n",
       "    </tr>\n",
       "  </tbody>\n",
       "</table>\n",
       "</div>"
      ],
      "text/plain": [
       "             월   시간대  화재유형  발화열원대분류  최초착화물대분류  장소대분류    사망    부상  인명피해(명)소계  \\\n",
       "발화요인대분류                                                                       \n",
       "부주의       4052  4052  4052     4052      4052   4052  4052  4052       4052   \n",
       "전기적 요인    2738  2738  2738     2738      2738   2738  2738  2738       2738   \n",
       "기계적 요인    1418  1418  1418     1418      1418   1418  1418  1418       1418   \n",
       "미상         692   692   692      692       692    692   692   692        692   \n",
       "화학적 요인     197   197   197      197       197    197   197   197        197   \n",
       "교통사고       132   132   132      132       132    132   132   132        132   \n",
       "방화         106   106   106      106       106    106   106   106        106   \n",
       "방화의심        92    92    92       92        92     92    92    92         92   \n",
       "기타          87    87    87       87        87     87    87    87         87   \n",
       "자연적인 요인     67    67    67       67        67     67    67    67         67   \n",
       "가스누출(폭발)    51    51    51       51        51     51    51    51         51   \n",
       "\n",
       "          재산피해소계  \n",
       "발화요인대분류           \n",
       "부주의         4052  \n",
       "전기적 요인      2738  \n",
       "기계적 요인      1418  \n",
       "미상           692  \n",
       "화학적 요인       197  \n",
       "교통사고         132  \n",
       "방화           106  \n",
       "방화의심          92  \n",
       "기타            87  \n",
       "자연적인 요인       67  \n",
       "가스누출(폭발)      51  "
      ]
     },
     "execution_count": 53,
     "metadata": {},
     "output_type": "execute_result"
    }
   ],
   "source": [
    "Gyeonggi.groupby(['발화요인대분류']).count().sort_values('인명피해(명)소계', ascending=False)"
   ]
  },
  {
   "cell_type": "code",
   "execution_count": null,
   "id": "e22d2554",
   "metadata": {},
   "outputs": [],
   "source": []
  }
 ],
 "metadata": {
  "kernelspec": {
   "display_name": "Python 3 (ipykernel)",
   "language": "python",
   "name": "python3"
  },
  "language_info": {
   "codemirror_mode": {
    "name": "ipython",
    "version": 3
   },
   "file_extension": ".py",
   "mimetype": "text/x-python",
   "name": "python",
   "nbconvert_exporter": "python",
   "pygments_lexer": "ipython3",
   "version": "3.9.12"
  }
 },
 "nbformat": 4,
 "nbformat_minor": 5
}
