{
 "cells": [
  {
   "cell_type": "code",
   "execution_count": 1544,
   "id": "abdfee21",
   "metadata": {},
   "outputs": [],
   "source": [
    "# 모듈\n",
    "import pandas as pd\n",
    "import matplotlib.pyplot as plt\n",
    "from matplotlib import font_manager as fm, rc"
   ]
  },
  {
   "cell_type": "code",
   "execution_count": 1545,
   "id": "2b0ecef4",
   "metadata": {},
   "outputs": [],
   "source": [
    "# 폰트 등록\n",
    "FONT_PATH = '../Fonts/malgun.ttf'\n",
    "font_name = fm.FontProperties(fname=FONT_PATH).get_name()\n",
    "rc('font', family=font_name)\n",
    "# 그래프의 한글 텍스트가 깨지지 않기 위함."
   ]
  },
  {
   "cell_type": "code",
   "execution_count": 1546,
   "id": "5a5ab6b0",
   "metadata": {},
   "outputs": [],
   "source": [
    "# 폰트 등록\n",
    "FONT_PATH = '../Fonts/malgun.ttf'\n",
    "font_name = fm.FontProperties(fname=FONT_PATH).get_name()\n",
    "rc('font', family=font_name)\n",
    "# 그래프의 한글 텍스트가 깨지지 않기 위함."
   ]
  },
  {
   "cell_type": "markdown",
   "id": "390d0070",
   "metadata": {},
   "source": [
    "## 소방청 연간화재통계 2015 ~ 2019 통합파일 읽어오기"
   ]
  },
  {
   "cell_type": "code",
   "execution_count": 1547,
   "id": "fefe6832",
   "metadata": {
    "scrolled": true
   },
   "outputs": [
    {
     "data": {
      "text/html": [
       "<div>\n",
       "<style scoped>\n",
       "    .dataframe tbody tr th:only-of-type {\n",
       "        vertical-align: middle;\n",
       "    }\n",
       "\n",
       "    .dataframe tbody tr th {\n",
       "        vertical-align: top;\n",
       "    }\n",
       "\n",
       "    .dataframe thead th {\n",
       "        text-align: right;\n",
       "    }\n",
       "</style>\n",
       "<table border=\"1\" class=\"dataframe\">\n",
       "  <thead>\n",
       "    <tr style=\"text-align: right;\">\n",
       "      <th></th>\n",
       "      <th>Unnamed: 0</th>\n",
       "      <th>년</th>\n",
       "      <th>월</th>\n",
       "      <th>시간대</th>\n",
       "      <th>시도</th>\n",
       "      <th>화재유형</th>\n",
       "      <th>발화열원대분류</th>\n",
       "      <th>발화요인대분류</th>\n",
       "      <th>최초착화물대분류</th>\n",
       "      <th>장소대분류</th>\n",
       "      <th>사망</th>\n",
       "      <th>부상</th>\n",
       "      <th>인명피해(명)소계</th>\n",
       "      <th>재산피해소계</th>\n",
       "    </tr>\n",
       "  </thead>\n",
       "  <tbody>\n",
       "    <tr>\n",
       "      <th>0</th>\n",
       "      <td>0</td>\n",
       "      <td>2015</td>\n",
       "      <td>1</td>\n",
       "      <td>심야</td>\n",
       "      <td>경상남도</td>\n",
       "      <td>건축,구조물</td>\n",
       "      <td>작동기기</td>\n",
       "      <td>전기적 요인</td>\n",
       "      <td>전기,전자</td>\n",
       "      <td>주거</td>\n",
       "      <td>0</td>\n",
       "      <td>0</td>\n",
       "      <td>0</td>\n",
       "      <td>2920</td>\n",
       "    </tr>\n",
       "    <tr>\n",
       "      <th>1</th>\n",
       "      <td>1</td>\n",
       "      <td>2015</td>\n",
       "      <td>1</td>\n",
       "      <td>심야</td>\n",
       "      <td>서울특별시</td>\n",
       "      <td>임야</td>\n",
       "      <td>담뱃불, 라이터불</td>\n",
       "      <td>부주의</td>\n",
       "      <td>기타</td>\n",
       "      <td>임야</td>\n",
       "      <td>0</td>\n",
       "      <td>0</td>\n",
       "      <td>0</td>\n",
       "      <td>0</td>\n",
       "    </tr>\n",
       "    <tr>\n",
       "      <th>2</th>\n",
       "      <td>2</td>\n",
       "      <td>2015</td>\n",
       "      <td>1</td>\n",
       "      <td>심야</td>\n",
       "      <td>서울특별시</td>\n",
       "      <td>자동차,철도차량</td>\n",
       "      <td>담뱃불, 라이터불</td>\n",
       "      <td>부주의</td>\n",
       "      <td>침구,직물류</td>\n",
       "      <td>자동차,철도차량</td>\n",
       "      <td>0</td>\n",
       "      <td>0</td>\n",
       "      <td>0</td>\n",
       "      <td>137</td>\n",
       "    </tr>\n",
       "    <tr>\n",
       "      <th>3</th>\n",
       "      <td>3</td>\n",
       "      <td>2015</td>\n",
       "      <td>1</td>\n",
       "      <td>심야</td>\n",
       "      <td>서울특별시</td>\n",
       "      <td>건축,구조물</td>\n",
       "      <td>담뱃불, 라이터불</td>\n",
       "      <td>부주의</td>\n",
       "      <td>종이,목재,건초등</td>\n",
       "      <td>판매,업무시설</td>\n",
       "      <td>0</td>\n",
       "      <td>0</td>\n",
       "      <td>0</td>\n",
       "      <td>326</td>\n",
       "    </tr>\n",
       "    <tr>\n",
       "      <th>4</th>\n",
       "      <td>4</td>\n",
       "      <td>2015</td>\n",
       "      <td>1</td>\n",
       "      <td>심야</td>\n",
       "      <td>부산광역시</td>\n",
       "      <td>건축,구조물</td>\n",
       "      <td>작동기기</td>\n",
       "      <td>부주의</td>\n",
       "      <td>식품</td>\n",
       "      <td>주거</td>\n",
       "      <td>0</td>\n",
       "      <td>0</td>\n",
       "      <td>0</td>\n",
       "      <td>0</td>\n",
       "    </tr>\n",
       "    <tr>\n",
       "      <th>...</th>\n",
       "      <td>...</td>\n",
       "      <td>...</td>\n",
       "      <td>...</td>\n",
       "      <td>...</td>\n",
       "      <td>...</td>\n",
       "      <td>...</td>\n",
       "      <td>...</td>\n",
       "      <td>...</td>\n",
       "      <td>...</td>\n",
       "      <td>...</td>\n",
       "      <td>...</td>\n",
       "      <td>...</td>\n",
       "      <td>...</td>\n",
       "      <td>...</td>\n",
       "    </tr>\n",
       "    <tr>\n",
       "      <th>214462</th>\n",
       "      <td>214462</td>\n",
       "      <td>2019</td>\n",
       "      <td>12</td>\n",
       "      <td>저녁</td>\n",
       "      <td>경기도</td>\n",
       "      <td>건축,구조물</td>\n",
       "      <td>작동기기</td>\n",
       "      <td>전기적 요인</td>\n",
       "      <td>전기,전자</td>\n",
       "      <td>산업시설</td>\n",
       "      <td>0</td>\n",
       "      <td>0</td>\n",
       "      <td>0</td>\n",
       "      <td>23707</td>\n",
       "    </tr>\n",
       "    <tr>\n",
       "      <th>214463</th>\n",
       "      <td>214463</td>\n",
       "      <td>2019</td>\n",
       "      <td>12</td>\n",
       "      <td>저녁</td>\n",
       "      <td>경상북도</td>\n",
       "      <td>건축,구조물</td>\n",
       "      <td>미상</td>\n",
       "      <td>미상</td>\n",
       "      <td>종이,목재,건초등</td>\n",
       "      <td>산업시설</td>\n",
       "      <td>0</td>\n",
       "      <td>0</td>\n",
       "      <td>0</td>\n",
       "      <td>3542</td>\n",
       "    </tr>\n",
       "    <tr>\n",
       "      <th>214464</th>\n",
       "      <td>214464</td>\n",
       "      <td>2019</td>\n",
       "      <td>12</td>\n",
       "      <td>저녁</td>\n",
       "      <td>부산광역시</td>\n",
       "      <td>건축,구조물</td>\n",
       "      <td>작동기기</td>\n",
       "      <td>부주의</td>\n",
       "      <td>식품</td>\n",
       "      <td>판매,업무시설</td>\n",
       "      <td>0</td>\n",
       "      <td>0</td>\n",
       "      <td>0</td>\n",
       "      <td>0</td>\n",
       "    </tr>\n",
       "    <tr>\n",
       "      <th>214465</th>\n",
       "      <td>214465</td>\n",
       "      <td>2019</td>\n",
       "      <td>12</td>\n",
       "      <td>저녁</td>\n",
       "      <td>제주특별자치도</td>\n",
       "      <td>건축,구조물</td>\n",
       "      <td>작동기기</td>\n",
       "      <td>부주의</td>\n",
       "      <td>합성수지</td>\n",
       "      <td>판매,업무시설</td>\n",
       "      <td>0</td>\n",
       "      <td>0</td>\n",
       "      <td>0</td>\n",
       "      <td>105</td>\n",
       "    </tr>\n",
       "    <tr>\n",
       "      <th>214466</th>\n",
       "      <td>214466</td>\n",
       "      <td>2019</td>\n",
       "      <td>12</td>\n",
       "      <td>저녁</td>\n",
       "      <td>인천광역시</td>\n",
       "      <td>건축,구조물</td>\n",
       "      <td>작동기기</td>\n",
       "      <td>전기적 요인</td>\n",
       "      <td>전기,전자</td>\n",
       "      <td>산업시설</td>\n",
       "      <td>0</td>\n",
       "      <td>0</td>\n",
       "      <td>0</td>\n",
       "      <td>3879</td>\n",
       "    </tr>\n",
       "  </tbody>\n",
       "</table>\n",
       "<p>214467 rows × 14 columns</p>\n",
       "</div>"
      ],
      "text/plain": [
       "        Unnamed: 0     년   월 시간대       시도      화재유형    발화열원대분류 발화요인대분류  \\\n",
       "0                0  2015   1  심야     경상남도    건축,구조물       작동기기  전기적 요인   \n",
       "1                1  2015   1  심야    서울특별시        임야  담뱃불, 라이터불     부주의   \n",
       "2                2  2015   1  심야    서울특별시  자동차,철도차량  담뱃불, 라이터불     부주의   \n",
       "3                3  2015   1  심야    서울특별시    건축,구조물  담뱃불, 라이터불     부주의   \n",
       "4                4  2015   1  심야    부산광역시    건축,구조물       작동기기     부주의   \n",
       "...            ...   ...  ..  ..      ...       ...        ...     ...   \n",
       "214462      214462  2019  12  저녁      경기도    건축,구조물       작동기기  전기적 요인   \n",
       "214463      214463  2019  12  저녁     경상북도    건축,구조물         미상      미상   \n",
       "214464      214464  2019  12  저녁    부산광역시    건축,구조물       작동기기     부주의   \n",
       "214465      214465  2019  12  저녁  제주특별자치도    건축,구조물       작동기기     부주의   \n",
       "214466      214466  2019  12  저녁    인천광역시    건축,구조물       작동기기  전기적 요인   \n",
       "\n",
       "         최초착화물대분류     장소대분류  사망  부상  인명피해(명)소계  재산피해소계  \n",
       "0           전기,전자        주거   0   0          0    2920  \n",
       "1              기타        임야   0   0          0       0  \n",
       "2          침구,직물류  자동차,철도차량   0   0          0     137  \n",
       "3       종이,목재,건초등   판매,업무시설   0   0          0     326  \n",
       "4              식품        주거   0   0          0       0  \n",
       "...           ...       ...  ..  ..        ...     ...  \n",
       "214462      전기,전자      산업시설   0   0          0   23707  \n",
       "214463  종이,목재,건초등      산업시설   0   0          0    3542  \n",
       "214464         식품   판매,업무시설   0   0          0       0  \n",
       "214465       합성수지   판매,업무시설   0   0          0     105  \n",
       "214466      전기,전자      산업시설   0   0          0    3879  \n",
       "\n",
       "[214467 rows x 14 columns]"
      ]
     },
     "execution_count": 1547,
     "metadata": {},
     "output_type": "execute_result"
    }
   ],
   "source": [
    "DIR_PATH='../projectData/'\n",
    "FILE_NAME=DIR_PATH + 'fire_allyear.csv'\n",
    "FIRE=pd.read_csv(FILE_NAME, encoding='cp949') # 'KOR_EUC' 상위호환\n",
    "FIRE"
   ]
  },
  {
   "cell_type": "markdown",
   "id": "6f496061",
   "metadata": {},
   "source": [
    "## 소방청 연간화재통계 2018년 데이터 추출하기"
   ]
  },
  {
   "cell_type": "code",
   "execution_count": 1548,
   "id": "2bedd702",
   "metadata": {},
   "outputs": [],
   "source": [
    "# yearIndex = FIRE.set_index('년')\n",
    "# fire2018 = yearIndex.loc[2018]\n",
    "# fire2018"
   ]
  },
  {
   "cell_type": "code",
   "execution_count": 1549,
   "id": "61cb4d4d",
   "metadata": {
    "scrolled": true
   },
   "outputs": [
    {
     "ename": "SyntaxError",
     "evalue": "invalid syntax (1497061572.py, line 3)",
     "output_type": "error",
     "traceback": [
      "\u001b[1;36m  Input \u001b[1;32mIn [1549]\u001b[1;36m\u001b[0m\n\u001b[1;33m    9year2018 = year2018.iloc[:, 1:]          # Unnamed: 0 -> 없애기 위해\u001b[0m\n\u001b[1;37m     ^\u001b[0m\n\u001b[1;31mSyntaxError\u001b[0m\u001b[1;31m:\u001b[0m invalid syntax\n"
     ]
    }
   ],
   "source": [
    "year2018 = FIRE[ FIRE['년']==2018 ]\n",
    "\n",
    "9year2018 = year2018.iloc[:, 1:]          # Unnamed: 0 -> 없애기 위해\n",
    "year2018['년'] = year2018['년'].astype(str)    # count(), sum(), value_counts() 등 DF메서드를 사용할 때\n",
    "year2018['월'] = year2018['월'].astype(str)    # '년', '월'이 무의미하게 더해지는 것을 막기 위함.\n",
    "year2018.info()"
   ]
  },
  {
   "cell_type": "code",
   "execution_count": null,
   "id": "1c96c47b",
   "metadata": {},
   "outputs": [],
   "source": [
    "year2018.isnull().sum()"
   ]
  },
  {
   "cell_type": "markdown",
   "id": "bbb9a120",
   "metadata": {},
   "source": [
    "# 2018년 시/도별 화재건수 => 경기도"
   ]
  },
  {
   "cell_type": "code",
   "execution_count": null,
   "id": "2ed6bbf8",
   "metadata": {},
   "outputs": [],
   "source": [
    "State = pd.DataFrame( year2018['시도'].value_counts().sort_values(ascending=False) )\n",
    "State\n",
    "# year2018의 데이터 값에 대한 갯수를 구하고, 정렬 -> DataFrame으로 보기좋게 묶음."
   ]
  },
  {
   "cell_type": "code",
   "execution_count": null,
   "id": "af243cdc",
   "metadata": {},
   "outputs": [],
   "source": [
    "a = pd.DataFrame( State.mean() )\n",
    "a"
   ]
  },
  {
   "cell_type": "code",
   "execution_count": null,
   "id": "345e0ec9",
   "metadata": {},
   "outputs": [],
   "source": [
    "plt.figure(figsize=(8,8))\n",
    "color_li=[]\n",
    "for c in range(17):\n",
    "    if c<1:\n",
    "        color_li.append('red')\n",
    "    else:\n",
    "        color_li.append('skyblue')\n",
    "State.plot(kind='bar',color=color_li)\n",
    "plt.ylabel('화재건수')                  \n",
    "plt.title('2018년 시/도별 화재건수')\n",
    "plt.legend('건수')\n",
    "# 그래프 막대 색깔 바꾸기 실패\n",
    "plt.show()"
   ]
  },
  {
   "cell_type": "markdown",
   "id": "2e409045",
   "metadata": {},
   "source": [
    "# 2018년 월별 화재건수 => 겨울"
   ]
  },
  {
   "cell_type": "code",
   "execution_count": null,
   "id": "90db9f36",
   "metadata": {},
   "outputs": [],
   "source": [
    "fireMonth = pd.DataFrame( year2018['월'].value_counts() )\n",
    "Month"
   ]
  },
  {
   "cell_type": "code",
   "execution_count": null,
   "id": "31bb74d7",
   "metadata": {},
   "outputs": [],
   "source": [
    "b = pd.DataFrame( fireMonth.mean() )\n",
    "b"
   ]
  },
  {
   "cell_type": "code",
   "execution_count": null,
   "id": "dab316ef",
   "metadata": {},
   "outputs": [],
   "source": [
    "fireMonth.plot(kind='bar', color='skyblue')\n",
    "plt.ylabel('화재건수')                  \n",
    "plt.title('2018년 월별 화재건수')\n",
    "plt.show"
   ]
  },
  {
   "cell_type": "markdown",
   "id": "e7291c5c",
   "metadata": {},
   "source": [
    "# 2018년 화재의 시간대 => 낮"
   ]
  },
  {
   "cell_type": "code",
   "execution_count": null,
   "id": "4b8d172e",
   "metadata": {},
   "outputs": [],
   "source": [
    "fireTime = year2018.groupby('시간대').count()['년']\n",
    "pd.DataFrame(fireTime)"
   ]
  },
  {
   "cell_type": "code",
   "execution_count": null,
   "id": "c8dc013b",
   "metadata": {},
   "outputs": [],
   "source": [
    "plt.figure(figsize=(8,8))\n",
    "plt.pie(fireTime, labels = fireTime.index, autopct = '%.1f%%',colors=['red','skyblue','burlywood','beige'])\n",
    "plt.show()"
   ]
  },
  {
   "cell_type": "markdown",
   "id": "2667ba86",
   "metadata": {},
   "source": [
    "# 2018년 화재의 유형 => 건축, 구조물"
   ]
  },
  {
   "cell_type": "code",
   "execution_count": null,
   "id": "e554239c",
   "metadata": {},
   "outputs": [],
   "source": [
    "fireType = pd.DataFrame( year2018['화재유형'].value_counts() )\n",
    "fireType"
   ]
  },
  {
   "cell_type": "code",
   "execution_count": null,
   "id": "9319d198",
   "metadata": {},
   "outputs": [],
   "source": [
    "d = pd.DataFrame( fireType.mean() )\n",
    "d"
   ]
  },
  {
   "cell_type": "code",
   "execution_count": null,
   "id": "b55a2ec7",
   "metadata": {},
   "outputs": [],
   "source": [
    "fireType.plot(kind='bar', color='skyblue')\n",
    "plt.ylabel('화재건수')                  \n",
    "plt.title('2018년 유형별 화재건수')                                           \n",
    "plt.show"
   ]
  },
  {
   "cell_type": "markdown",
   "id": "91376cc6",
   "metadata": {},
   "source": [
    "# 2018년 발화열원대분류 => 작동기기"
   ]
  },
  {
   "cell_type": "code",
   "execution_count": null,
   "id": "6d35cbd5",
   "metadata": {},
   "outputs": [],
   "source": [
    "hitPoint = pd.DataFrame( year2018['발화열원대분류'].value_counts() )\n",
    "hitPoint"
   ]
  },
  {
   "cell_type": "code",
   "execution_count": null,
   "id": "1bc0b8b3",
   "metadata": {},
   "outputs": [],
   "source": [
    "e = pd.DataFrame( hitPoint.mean() )\n",
    "e"
   ]
  },
  {
   "cell_type": "code",
   "execution_count": null,
   "id": "678197f6",
   "metadata": {},
   "outputs": [],
   "source": [
    "hitPoint.plot(kind='bar', color='skyblue')\n",
    "plt.ylabel('화재건수')                  \n",
    "plt.title('2018년 발화열원 대분류별 화재건수')                                           \n",
    "plt.show"
   ]
  },
  {
   "cell_type": "markdown",
   "id": "0bed1f7c",
   "metadata": {},
   "source": [
    "# 2018년 발화요인대분류 => 부주의, 전기적 요인"
   ]
  },
  {
   "cell_type": "code",
   "execution_count": null,
   "id": "5219e0d2",
   "metadata": {},
   "outputs": [],
   "source": [
    "source = pd.DataFrame( year2018['발화요인대분류'].value_counts() )\n",
    "source"
   ]
  },
  {
   "cell_type": "code",
   "execution_count": null,
   "id": "1c538dc4",
   "metadata": {},
   "outputs": [],
   "source": [
    "source.plot(kind='bar', color='skyblue')\n",
    "plt.ylabel('화재건수')                  \n",
    "plt.title('2018년 발화요인 대분류 화재건수')                                           \n",
    "plt.show"
   ]
  },
  {
   "cell_type": "markdown",
   "id": "4a8dac94",
   "metadata": {},
   "source": [
    "# 2018년 최초착화물대분류 => 종이 등 발화제, 전지 및 전자"
   ]
  },
  {
   "cell_type": "code",
   "execution_count": null,
   "id": "f783307a",
   "metadata": {},
   "outputs": [],
   "source": [
    "fireFirst = pd.DataFrame( year2018['최초착화물대분류'].value_counts() )\n",
    "fireFirst"
   ]
  },
  {
   "cell_type": "code",
   "execution_count": null,
   "id": "5b9384bb",
   "metadata": {},
   "outputs": [],
   "source": [
    "fireFirst.plot(kind='bar', color='skyblue')\n",
    "plt.ylabel('화재건수')                  \n",
    "plt.title('2018년 최초착화물 대분류별 화재건수')                                           \n",
    "plt.show"
   ]
  },
  {
   "cell_type": "markdown",
   "id": "fe22e88b",
   "metadata": {},
   "source": [
    "# 2018년 장소대분류 => 주거 및 산업시설"
   ]
  },
  {
   "cell_type": "code",
   "execution_count": null,
   "id": "31452881",
   "metadata": {},
   "outputs": [],
   "source": [
    "firePlace = pd.DataFrame( year2018['장소대분류'].value_counts() )\n",
    "firePlace"
   ]
  },
  {
   "cell_type": "code",
   "execution_count": null,
   "id": "ba54300c",
   "metadata": {},
   "outputs": [],
   "source": [
    "firePlace.plot(kind='bar', color='skyblue')\n",
    "plt.ylabel('화재건수')                  \n",
    "plt.title('2018년 장소별 화재건수')                                           \n",
    "plt.show"
   ]
  },
  {
   "cell_type": "markdown",
   "id": "92b9c194",
   "metadata": {},
   "source": [
    "###### 2018년 사망건수(명)"
   ]
  },
  {
   "cell_type": "code",
   "execution_count": null,
   "id": "8378b434",
   "metadata": {},
   "outputs": [],
   "source": [
    "# # 사망건수 0인 경우 => 42060명\n",
    "# result = year2018.사망 != 0\n",
    "# year2018 = year2018[result]\n",
    "# DeathCount = pd.DataFrame( year2018['사망'].value_counts(), )\n",
    "# DeathCount"
   ]
  },
  {
   "cell_type": "markdown",
   "id": "c6ac8af5",
   "metadata": {},
   "source": [
    "###### 2018년 부상건수(명)"
   ]
  },
  {
   "cell_type": "code",
   "execution_count": null,
   "id": "6a18b228",
   "metadata": {},
   "outputs": [],
   "source": [
    "# # # 부상이 0인 경우 => 40905명\n",
    "# result = year2018.부상 != 0\n",
    "# year2018 = year2018[result]\n",
    "# Injury = pd.DataFrame( year2018['부상'].value_counts() )\n",
    "# Injury"
   ]
  },
  {
   "cell_type": "markdown",
   "id": "19b71bcc",
   "metadata": {},
   "source": [
    "###### 2018년 인명피해 건수(명)"
   ]
  },
  {
   "cell_type": "code",
   "execution_count": null,
   "id": "a4dba009",
   "metadata": {},
   "outputs": [],
   "source": [
    "# pd.DataFrame( year2018['인명피해(명)소계'].value_counts() )"
   ]
  },
  {
   "cell_type": "markdown",
   "id": "f1376111",
   "metadata": {},
   "source": [
    "###### 2018년 재산피해소계()"
   ]
  },
  {
   "cell_type": "code",
   "execution_count": null,
   "id": "4f437343",
   "metadata": {},
   "outputs": [],
   "source": [
    "# property = pd.DataFrame( year2018['재산피해소계'].value_counts() )\n",
    "# property"
   ]
  },
  {
   "cell_type": "markdown",
   "id": "e79d64f1",
   "metadata": {},
   "source": [
    "# 사망, 부상, 인명피해\n",
    "## - 사망, 부상, 인명피해 <=> 발화요인, 발화열원, 발화유형"
   ]
  },
  {
   "cell_type": "code",
   "execution_count": null,
   "id": "06cd38ad",
   "metadata": {},
   "outputs": [],
   "source": [
    "# pd.DataFrame( year2018.groupby(['발화열원대분류']).sum()['재산피해소계'].sort_values() )"
   ]
  },
  {
   "cell_type": "code",
   "execution_count": null,
   "id": "6b081fbc",
   "metadata": {},
   "outputs": [],
   "source": [
    "year2018.groupby(['발화요인대분류']).sum().sort_values('인명피해(명)소계', ascending=False)"
   ]
  },
  {
   "cell_type": "code",
   "execution_count": null,
   "id": "3d84de49",
   "metadata": {},
   "outputs": [],
   "source": [
    "year2018.groupby(['발화열원대분류']).sum().sort_values('인명피해(명)소계', ascending=False)"
   ]
  },
  {
   "cell_type": "code",
   "execution_count": null,
   "id": "668b47e3",
   "metadata": {
    "scrolled": true
   },
   "outputs": [],
   "source": [
    "year2018.groupby(['화재유형']).sum().sort_values('인명피해(명)소계', ascending=False)"
   ]
  },
  {
   "cell_type": "markdown",
   "id": "a699b895",
   "metadata": {},
   "source": [
    "# 경기도 발화요인"
   ]
  },
  {
   "cell_type": "code",
   "execution_count": null,
   "id": "3e4a1716",
   "metadata": {
    "scrolled": true
   },
   "outputs": [],
   "source": [
    "Gyeonggi = year2018[year2018['시도']=='경기도']\n",
    "# Gyeonggi = pd.DataFrame( Gyeonggi.value_counts().sort_values(ascending=False) )\n",
    "Gyeonggi"
   ]
  },
  {
   "cell_type": "code",
   "execution_count": null,
   "id": "6cc1df34",
   "metadata": {},
   "outputs": [],
   "source": [
    "# Gyeonggi.drop( ['년','시도'], axis=1, inplace=True )\n",
    "# G2 = Gyeonggi.set_index('발화요인대분류')"
   ]
  },
  {
   "cell_type": "code",
   "execution_count": null,
   "id": "8b412ee2",
   "metadata": {
    "scrolled": true
   },
   "outputs": [],
   "source": [
    "# G2.sort_index(ascending=False)"
   ]
  },
  {
   "cell_type": "code",
   "execution_count": null,
   "id": "eb918ba9",
   "metadata": {},
   "outputs": [],
   "source": [
    "G2 = Gyeonggi.groupby(['발화요인대분류']).sum().sort_values('인명피해(명)소계', ascending=False)\n",
    "G2"
   ]
  },
  {
   "cell_type": "code",
   "execution_count": null,
   "id": "69bd75a2",
   "metadata": {},
   "outputs": [],
   "source": []
  },
  {
   "cell_type": "code",
   "execution_count": null,
   "id": "021fd8a4",
   "metadata": {},
   "outputs": [],
   "source": []
  }
 ],
 "metadata": {
  "kernelspec": {
   "display_name": "Python 3 (ipykernel)",
   "language": "python",
   "name": "python3"
  },
  "language_info": {
   "codemirror_mode": {
    "name": "ipython",
    "version": 3
   },
   "file_extension": ".py",
   "mimetype": "text/x-python",
   "name": "python",
   "nbconvert_exporter": "python",
   "pygments_lexer": "ipython3",
   "version": "3.9.12"
  }
 },
 "nbformat": 4,
 "nbformat_minor": 5
}
