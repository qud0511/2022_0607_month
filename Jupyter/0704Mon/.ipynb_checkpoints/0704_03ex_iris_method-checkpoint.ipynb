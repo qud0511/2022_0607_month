{
 "cells": [
  {
   "cell_type": "markdown",
   "id": "88f74e93",
   "metadata": {},
   "source": [
    "## 통계 관련 메서드 실습\n",
    "\n",
    "- 데이터에 대한 평균, 표준편차, 중앙값, 최빈값, 상관계수\n",
    "- 데이터와 데이터의 관계, 데이터의 분포 파악"
   ]
  },
  {
   "cell_type": "code",
   "execution_count": 1,
   "id": "21ecb4fc",
   "metadata": {},
   "outputs": [],
   "source": [
    "import pandas as pd\n",
    "\n",
    "iris = pd.read_csv('../Data/iris.csv')"
   ]
  },
  {
   "cell_type": "code",
   "execution_count": 2,
   "id": "391086fe",
   "metadata": {},
   "outputs": [
    {
     "data": {
      "text/html": [
       "<div>\n",
       "<style scoped>\n",
       "    .dataframe tbody tr th:only-of-type {\n",
       "        vertical-align: middle;\n",
       "    }\n",
       "\n",
       "    .dataframe tbody tr th {\n",
       "        vertical-align: top;\n",
       "    }\n",
       "\n",
       "    .dataframe thead th {\n",
       "        text-align: right;\n",
       "    }\n",
       "</style>\n",
       "<table border=\"1\" class=\"dataframe\">\n",
       "  <thead>\n",
       "    <tr style=\"text-align: right;\">\n",
       "      <th></th>\n",
       "      <th>SepalLength</th>\n",
       "      <th>SepalWidth</th>\n",
       "      <th>PetalLength</th>\n",
       "      <th>PetalWidth</th>\n",
       "      <th>Name</th>\n",
       "    </tr>\n",
       "  </thead>\n",
       "  <tbody>\n",
       "    <tr>\n",
       "      <th>0</th>\n",
       "      <td>5.1</td>\n",
       "      <td>3.5</td>\n",
       "      <td>1.4</td>\n",
       "      <td>0.2</td>\n",
       "      <td>Iris-setosa</td>\n",
       "    </tr>\n",
       "    <tr>\n",
       "      <th>1</th>\n",
       "      <td>4.9</td>\n",
       "      <td>3.0</td>\n",
       "      <td>1.4</td>\n",
       "      <td>0.2</td>\n",
       "      <td>Iris-setosa</td>\n",
       "    </tr>\n",
       "    <tr>\n",
       "      <th>2</th>\n",
       "      <td>4.7</td>\n",
       "      <td>3.2</td>\n",
       "      <td>1.3</td>\n",
       "      <td>0.2</td>\n",
       "      <td>Iris-setosa</td>\n",
       "    </tr>\n",
       "    <tr>\n",
       "      <th>3</th>\n",
       "      <td>4.6</td>\n",
       "      <td>3.1</td>\n",
       "      <td>1.5</td>\n",
       "      <td>0.2</td>\n",
       "      <td>Iris-setosa</td>\n",
       "    </tr>\n",
       "    <tr>\n",
       "      <th>4</th>\n",
       "      <td>5.0</td>\n",
       "      <td>3.6</td>\n",
       "      <td>1.4</td>\n",
       "      <td>0.2</td>\n",
       "      <td>Iris-setosa</td>\n",
       "    </tr>\n",
       "  </tbody>\n",
       "</table>\n",
       "</div>"
      ],
      "text/plain": [
       "   SepalLength  SepalWidth  PetalLength  PetalWidth         Name\n",
       "0          5.1         3.5          1.4         0.2  Iris-setosa\n",
       "1          4.9         3.0          1.4         0.2  Iris-setosa\n",
       "2          4.7         3.2          1.3         0.2  Iris-setosa\n",
       "3          4.6         3.1          1.5         0.2  Iris-setosa\n",
       "4          5.0         3.6          1.4         0.2  Iris-setosa"
      ]
     },
     "execution_count": 2,
     "metadata": {},
     "output_type": "execute_result"
    }
   ],
   "source": [
    "iris.head()"
   ]
  },
  {
   "cell_type": "code",
   "execution_count": 3,
   "id": "f9ceeaef",
   "metadata": {},
   "outputs": [],
   "source": [
    "# DF 객체 통계 메서드\n",
    "\n",
    "def get_stat(data):\n",
    "    print(f'''평균 : \n",
    "{data.mean()}\n",
    "          \n",
    "표준편차 : \n",
    "{data.cov()}\n",
    "\n",
    "중앙값 :\n",
    "{data.median()}\n",
    "\n",
    "최빈값 : \n",
    "{data.mode()}\n",
    "\n",
    "상관계수 :\n",
    "{data.corr}''')"
   ]
  },
  {
   "cell_type": "code",
   "execution_count": 4,
   "id": "1a22c736",
   "metadata": {},
   "outputs": [
    {
     "name": "stdout",
     "output_type": "stream",
     "text": [
      "평균 : \n",
      "SepalLength    5.843333\n",
      "SepalWidth     3.054000\n",
      "PetalLength    3.758667\n",
      "PetalWidth     1.198667\n",
      "dtype: float64\n",
      "          \n",
      "표준편차 : \n",
      "             SepalLength  SepalWidth  PetalLength  PetalWidth\n",
      "SepalLength     0.685694   -0.039268     1.273682    0.516904\n",
      "SepalWidth     -0.039268    0.188004    -0.321713   -0.117981\n",
      "PetalLength     1.273682   -0.321713     3.113179    1.296387\n",
      "PetalWidth      0.516904   -0.117981     1.296387    0.582414\n",
      "\n",
      "중앙값 :\n",
      "SepalLength    5.80\n",
      "SepalWidth     3.00\n",
      "PetalLength    4.35\n",
      "PetalWidth     1.30\n",
      "dtype: float64\n",
      "\n",
      "최빈값 : \n",
      "   SepalLength  SepalWidth  PetalLength  PetalWidth             Name\n",
      "0          5.0         3.0          1.5         0.2      Iris-setosa\n",
      "1          NaN         NaN          NaN         NaN  Iris-versicolor\n",
      "2          NaN         NaN          NaN         NaN   Iris-virginica\n",
      "\n",
      "상관계수 :\n",
      "<bound method DataFrame.corr of      SepalLength  SepalWidth  PetalLength  PetalWidth            Name\n",
      "0            5.1         3.5          1.4         0.2     Iris-setosa\n",
      "1            4.9         3.0          1.4         0.2     Iris-setosa\n",
      "2            4.7         3.2          1.3         0.2     Iris-setosa\n",
      "3            4.6         3.1          1.5         0.2     Iris-setosa\n",
      "4            5.0         3.6          1.4         0.2     Iris-setosa\n",
      "..           ...         ...          ...         ...             ...\n",
      "145          6.7         3.0          5.2         2.3  Iris-virginica\n",
      "146          6.3         2.5          5.0         1.9  Iris-virginica\n",
      "147          6.5         3.0          5.2         2.0  Iris-virginica\n",
      "148          6.2         3.4          5.4         2.3  Iris-virginica\n",
      "149          5.9         3.0          5.1         1.8  Iris-virginica\n",
      "\n",
      "[150 rows x 5 columns]>\n"
     ]
    },
    {
     "name": "stderr",
     "output_type": "stream",
     "text": [
      "C:\\Users\\User\\AppData\\Local\\Temp\\ipykernel_18336\\1618026001.py:5: FutureWarning: Dropping of nuisance columns in DataFrame reductions (with 'numeric_only=None') is deprecated; in a future version this will raise TypeError.  Select only valid columns before calling the reduction.\n",
      "  {data.mean()}\n",
      "C:\\Users\\User\\AppData\\Local\\Temp\\ipykernel_18336\\1618026001.py:11: FutureWarning: Dropping of nuisance columns in DataFrame reductions (with 'numeric_only=None') is deprecated; in a future version this will raise TypeError.  Select only valid columns before calling the reduction.\n",
      "  {data.median()}\n"
     ]
    }
   ],
   "source": [
    "get_stat(iris)"
   ]
  },
  {
   "cell_type": "code",
   "execution_count": 5,
   "id": "6d356ac4",
   "metadata": {},
   "outputs": [
    {
     "data": {
      "text/html": [
       "<div>\n",
       "<style scoped>\n",
       "    .dataframe tbody tr th:only-of-type {\n",
       "        vertical-align: middle;\n",
       "    }\n",
       "\n",
       "    .dataframe tbody tr th {\n",
       "        vertical-align: top;\n",
       "    }\n",
       "\n",
       "    .dataframe thead th {\n",
       "        text-align: right;\n",
       "    }\n",
       "</style>\n",
       "<table border=\"1\" class=\"dataframe\">\n",
       "  <thead>\n",
       "    <tr style=\"text-align: right;\">\n",
       "      <th></th>\n",
       "      <th>SepalLength</th>\n",
       "      <th>SepalWidth</th>\n",
       "      <th>PetalLength</th>\n",
       "      <th>PetalWidth</th>\n",
       "    </tr>\n",
       "  </thead>\n",
       "  <tbody>\n",
       "    <tr>\n",
       "      <th>SepalLength</th>\n",
       "      <td>0.685694</td>\n",
       "      <td>-0.039268</td>\n",
       "      <td>1.273682</td>\n",
       "      <td>0.516904</td>\n",
       "    </tr>\n",
       "    <tr>\n",
       "      <th>SepalWidth</th>\n",
       "      <td>-0.039268</td>\n",
       "      <td>0.188004</td>\n",
       "      <td>-0.321713</td>\n",
       "      <td>-0.117981</td>\n",
       "    </tr>\n",
       "    <tr>\n",
       "      <th>PetalLength</th>\n",
       "      <td>1.273682</td>\n",
       "      <td>-0.321713</td>\n",
       "      <td>3.113179</td>\n",
       "      <td>1.296387</td>\n",
       "    </tr>\n",
       "    <tr>\n",
       "      <th>PetalWidth</th>\n",
       "      <td>0.516904</td>\n",
       "      <td>-0.117981</td>\n",
       "      <td>1.296387</td>\n",
       "      <td>0.582414</td>\n",
       "    </tr>\n",
       "  </tbody>\n",
       "</table>\n",
       "</div>"
      ],
      "text/plain": [
       "             SepalLength  SepalWidth  PetalLength  PetalWidth\n",
       "SepalLength     0.685694   -0.039268     1.273682    0.516904\n",
       "SepalWidth     -0.039268    0.188004    -0.321713   -0.117981\n",
       "PetalLength     1.273682   -0.321713     3.113179    1.296387\n",
       "PetalWidth      0.516904   -0.117981     1.296387    0.582414"
      ]
     },
     "execution_count": 5,
     "metadata": {},
     "output_type": "execute_result"
    }
   ],
   "source": [
    "iris.cov()"
   ]
  },
  {
   "cell_type": "code",
   "execution_count": 6,
   "id": "09e0061f",
   "metadata": {},
   "outputs": [
    {
     "name": "stderr",
     "output_type": "stream",
     "text": [
      "C:\\Users\\User\\AppData\\Local\\Temp\\ipykernel_18336\\2384711547.py:1: FutureWarning: Dropping of nuisance columns in DataFrame reductions (with 'numeric_only=None') is deprecated; in a future version this will raise TypeError.  Select only valid columns before calling the reduction.\n",
      "  iris.var()\n"
     ]
    },
    {
     "data": {
      "text/plain": [
       "SepalLength    0.685694\n",
       "SepalWidth     0.188004\n",
       "PetalLength    3.113179\n",
       "PetalWidth     0.582414\n",
       "dtype: float64"
      ]
     },
     "execution_count": 6,
     "metadata": {},
     "output_type": "execute_result"
    }
   ],
   "source": [
    "iris.var()"
   ]
  },
  {
   "cell_type": "code",
   "execution_count": 7,
   "id": "910e5fba",
   "metadata": {},
   "outputs": [
    {
     "name": "stderr",
     "output_type": "stream",
     "text": [
      "C:\\Users\\User\\AppData\\Local\\Temp\\ipykernel_18336\\935066809.py:1: FutureWarning: Dropping of nuisance columns in DataFrame reductions (with 'numeric_only=None') is deprecated; in a future version this will raise TypeError.  Select only valid columns before calling the reduction.\n",
      "  iris.mean()\n"
     ]
    },
    {
     "data": {
      "text/plain": [
       "SepalLength    5.843333\n",
       "SepalWidth     3.054000\n",
       "PetalLength    3.758667\n",
       "PetalWidth     1.198667\n",
       "dtype: float64"
      ]
     },
     "execution_count": 7,
     "metadata": {},
     "output_type": "execute_result"
    }
   ],
   "source": [
    "iris.mean()"
   ]
  },
  {
   "cell_type": "code",
   "execution_count": 8,
   "id": "f35f3932",
   "metadata": {},
   "outputs": [
    {
     "data": {
      "text/html": [
       "<div>\n",
       "<style scoped>\n",
       "    .dataframe tbody tr th:only-of-type {\n",
       "        vertical-align: middle;\n",
       "    }\n",
       "\n",
       "    .dataframe tbody tr th {\n",
       "        vertical-align: top;\n",
       "    }\n",
       "\n",
       "    .dataframe thead th {\n",
       "        text-align: right;\n",
       "    }\n",
       "</style>\n",
       "<table border=\"1\" class=\"dataframe\">\n",
       "  <thead>\n",
       "    <tr style=\"text-align: right;\">\n",
       "      <th></th>\n",
       "      <th>SepalLength</th>\n",
       "      <th>SepalWidth</th>\n",
       "      <th>PetalLength</th>\n",
       "      <th>PetalWidth</th>\n",
       "    </tr>\n",
       "  </thead>\n",
       "  <tbody>\n",
       "    <tr>\n",
       "      <th>SepalLength</th>\n",
       "      <td>1.000000</td>\n",
       "      <td>-0.109369</td>\n",
       "      <td>0.871754</td>\n",
       "      <td>0.817954</td>\n",
       "    </tr>\n",
       "    <tr>\n",
       "      <th>SepalWidth</th>\n",
       "      <td>-0.109369</td>\n",
       "      <td>1.000000</td>\n",
       "      <td>-0.420516</td>\n",
       "      <td>-0.356544</td>\n",
       "    </tr>\n",
       "    <tr>\n",
       "      <th>PetalLength</th>\n",
       "      <td>0.871754</td>\n",
       "      <td>-0.420516</td>\n",
       "      <td>1.000000</td>\n",
       "      <td>0.962757</td>\n",
       "    </tr>\n",
       "    <tr>\n",
       "      <th>PetalWidth</th>\n",
       "      <td>0.817954</td>\n",
       "      <td>-0.356544</td>\n",
       "      <td>0.962757</td>\n",
       "      <td>1.000000</td>\n",
       "    </tr>\n",
       "  </tbody>\n",
       "</table>\n",
       "</div>"
      ],
      "text/plain": [
       "             SepalLength  SepalWidth  PetalLength  PetalWidth\n",
       "SepalLength     1.000000   -0.109369     0.871754    0.817954\n",
       "SepalWidth     -0.109369    1.000000    -0.420516   -0.356544\n",
       "PetalLength     0.871754   -0.420516     1.000000    0.962757\n",
       "PetalWidth      0.817954   -0.356544     0.962757    1.000000"
      ]
     },
     "execution_count": 8,
     "metadata": {},
     "output_type": "execute_result"
    }
   ],
   "source": [
    "iris.corr()"
   ]
  },
  {
   "cell_type": "code",
   "execution_count": 9,
   "id": "6c14eb4e",
   "metadata": {},
   "outputs": [
    {
     "name": "stderr",
     "output_type": "stream",
     "text": [
      "C:\\Users\\User\\AppData\\Local\\Temp\\ipykernel_18336\\3849825860.py:1: FutureWarning: Dropping of nuisance columns in DataFrame reductions (with 'numeric_only=None') is deprecated; in a future version this will raise TypeError.  Select only valid columns before calling the reduction.\n",
      "  iris.std()\n"
     ]
    },
    {
     "data": {
      "text/plain": [
       "SepalLength    0.828066\n",
       "SepalWidth     0.433594\n",
       "PetalLength    1.764420\n",
       "PetalWidth     0.763161\n",
       "dtype: float64"
      ]
     },
     "execution_count": 9,
     "metadata": {},
     "output_type": "execute_result"
    }
   ],
   "source": [
    "iris.std()"
   ]
  },
  {
   "cell_type": "code",
   "execution_count": 10,
   "id": "01426d7e",
   "metadata": {},
   "outputs": [
    {
     "name": "stdout",
     "output_type": "stream",
     "text": [
      "\n",
      "SepalLength  ---------------\n",
      "평균     : 5.843333333333335\n",
      "\n",
      "분산     : 0.6856935123042505\n",
      "\n",
      "표준편차 : 0.8280661279778629\n",
      "\n",
      "중앙값   : 5.8\n",
      "\n",
      "최빈값   : 5.0\n",
      "\n",
      "상관계수 :    \n",
      " SepalWidth\t: -0.1093692499506493\n",
      " PetalLength\t: 0.8717541573048712\n",
      " PetalWidth\t: 0.8179536333691636\n",
      "\n",
      "SepalWidth  ---------------\n",
      "평균     : 3.0540000000000007\n",
      "\n",
      "분산     : 0.18800402684563763\n",
      "\n",
      "표준편차 : 0.4335943113621737\n",
      "\n",
      "중앙값   : 3.0\n",
      "\n",
      "최빈값   : 3.0\n",
      "\n",
      "상관계수 :    \n",
      " SepalLength\t: -0.1093692499506493\n",
      " PetalLength\t: -0.42051609640115445\n",
      " PetalWidth\t: -0.35654408961380574\n",
      "\n",
      "PetalLength  ---------------\n",
      "평균     : 3.7586666666666693\n",
      "\n",
      "분산     : 3.1131794183445156\n",
      "\n",
      "표준편차 : 1.7644204199522617\n",
      "\n",
      "중앙값   : 4.35\n",
      "\n",
      "최빈값   : 1.5\n",
      "\n",
      "상관계수 :    \n",
      " SepalLength\t: 0.871754157304871\n",
      " SepalWidth\t: -0.42051609640115445\n",
      " PetalWidth\t: 0.9627570970509659\n",
      "\n",
      "PetalWidth  ---------------\n",
      "평균     : 1.1986666666666672\n",
      "\n",
      "분산     : 0.5824143176733784\n",
      "\n",
      "표준편차 : 0.7631607417008414\n",
      "\n",
      "중앙값   : 1.3\n",
      "\n",
      "최빈값   : 0.2\n",
      "\n",
      "상관계수 :    \n",
      " SepalLength\t: 0.8179536333691635\n",
      " SepalWidth\t: -0.3565440896138058\n",
      " PetalLength\t: 0.962757097050966\n"
     ]
    }
   ],
   "source": [
    "for col in iris.columns[:4]:\n",
    "    print(f'''\n",
    "{col}  ---------------\n",
    "평균     : {iris[col].mean()}\n",
    "\n",
    "분산     : {iris[col].var()}\n",
    "\n",
    "표준편차 : {iris[col].std()}\n",
    "\n",
    "중앙값   : {iris[col].median()}\n",
    "\n",
    "최빈값   : {iris[col].mode()[0]}\n",
    "\n",
    "상관계수 :    ''')\n",
    "    for j in iris.columns[:4]:\n",
    "        if j != col:\n",
    "            print(f' {j}\\t: {iris[col].corr(iris[j])}')\n"
   ]
  },
  {
   "cell_type": "code",
   "execution_count": 17,
   "id": "d576a2cb",
   "metadata": {},
   "outputs": [
    {
     "data": {
      "text/plain": [
       "SepalLength    0\n",
       "SepalWidth     0\n",
       "PetalLength    0\n",
       "PetalWidth     0\n",
       "Name           0\n",
       "dtype: int64"
      ]
     },
     "execution_count": 17,
     "metadata": {},
     "output_type": "execute_result"
    }
   ],
   "source": [
    "iris.isnull().sum()"
   ]
  },
  {
   "cell_type": "code",
   "execution_count": null,
   "id": "a9559796",
   "metadata": {},
   "outputs": [],
   "source": []
  }
 ],
 "metadata": {
  "kernelspec": {
   "display_name": "Python 3 (ipykernel)",
   "language": "python",
   "name": "python3"
  },
  "language_info": {
   "codemirror_mode": {
    "name": "ipython",
    "version": 3
   },
   "file_extension": ".py",
   "mimetype": "text/x-python",
   "name": "python",
   "nbconvert_exporter": "python",
   "pygments_lexer": "ipython3",
   "version": "3.9.12"
  }
 },
 "nbformat": 4,
 "nbformat_minor": 5
}
