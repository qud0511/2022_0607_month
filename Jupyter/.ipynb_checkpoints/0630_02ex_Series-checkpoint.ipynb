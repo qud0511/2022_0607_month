{
 "cells": [
  {
   "cell_type": "markdown",
   "id": "bd72424b",
   "metadata": {},
   "source": [
    "# 시리즈 Series 타입 실습\n",
    "- Pandas의 1종류(1차원 배열/세로 벡터) 데이터를 저장하는 데이터 타입(Type)\n",
    "- 생성 : series 객체 생성"
   ]
  },
  {
   "cell_type": "code",
   "execution_count": 189,
   "id": "5e92caf5",
   "metadata": {},
   "outputs": [],
   "source": [
    "# 모듈 로딩\n",
    "import pandas as pd\n",
    "\n",
    "# Series 객체 생성\n",
    "sr=pd.Series([1,2,3,4])"
   ]
  },
  {
   "cell_type": "code",
   "execution_count": 190,
   "id": "4c1b5ff9",
   "metadata": {},
   "outputs": [
    {
     "data": {
      "text/plain": [
       "0    1\n",
       "1    2\n",
       "2    3\n",
       "3    4\n",
       "dtype: int64"
      ]
     },
     "execution_count": 190,
     "metadata": {},
     "output_type": "execute_result"
    }
   ],
   "source": [
    "# 생성된 Series 객체 데이터 확인하기\n",
    "sr"
   ]
  },
  {
   "cell_type": "code",
   "execution_count": 191,
   "id": "c9b02111",
   "metadata": {},
   "outputs": [
    {
     "data": {
      "text/plain": [
       "RangeIndex(start=0, stop=4, step=1)"
      ]
     },
     "execution_count": 191,
     "metadata": {},
     "output_type": "execute_result"
    }
   ],
   "source": [
    "# Series 객체의 속성(Attribute) 확인 => 객체변수명.속성명\n",
    "\n",
    "# 인덱스 속성\n",
    "sr.index"
   ]
  },
  {
   "cell_type": "code",
   "execution_count": 192,
   "id": "923076b7",
   "metadata": {},
   "outputs": [
    {
     "data": {
      "text/plain": [
       "array([1, 2, 3, 4], dtype=int64)"
      ]
     },
     "execution_count": 192,
     "metadata": {},
     "output_type": "execute_result"
    }
   ],
   "source": [
    "# 값 속성\n",
    "sr.values"
   ]
  },
  {
   "cell_type": "code",
   "execution_count": 193,
   "id": "21b87a6e",
   "metadata": {},
   "outputs": [
    {
     "data": {
      "text/plain": [
       "1"
      ]
     },
     "execution_count": 193,
     "metadata": {},
     "output_type": "execute_result"
    }
   ],
   "source": [
    "# 차원(dimention) 속성\n",
    "sr.ndim"
   ]
  },
  {
   "cell_type": "code",
   "execution_count": 194,
   "id": "db2d45a2",
   "metadata": {},
   "outputs": [
    {
     "data": {
      "text/plain": [
       "(4,)"
      ]
     },
     "execution_count": 194,
     "metadata": {},
     "output_type": "execute_result"
    }
   ],
   "source": [
    "# 형(shape) 속성\n",
    "sr.shape\n",
    "# 1차원이라 (4,)로 나옴. tuple / 형 속성은 육각면체, 정사면체 등 차원?"
   ]
  },
  {
   "cell_type": "code",
   "execution_count": 195,
   "id": "fd5d19cb",
   "metadata": {},
   "outputs": [
    {
     "data": {
      "text/plain": [
       "<PandasArray>\n",
       "[1, 2, 3, 4]\n",
       "Length: 4, dtype: int64"
      ]
     },
     "execution_count": 195,
     "metadata": {},
     "output_type": "execute_result"
    }
   ],
   "source": [
    "# 배열 속성?\n",
    "sr.array"
   ]
  },
  {
   "cell_type": "code",
   "execution_count": 196,
   "id": "636861c3",
   "metadata": {},
   "outputs": [
    {
     "data": {
      "text/plain": [
       "(32, 4)"
      ]
     },
     "execution_count": 196,
     "metadata": {},
     "output_type": "execute_result"
    }
   ],
   "source": [
    "# nbytes 실제사용 메모리, size 데이터 갯수\n",
    "sr.nbytes, sr.size\n",
    "# in64는 8바이트씀. sr=pd.Series[(1,2,3,4)] 4개 이므로 32"
   ]
  },
  {
   "cell_type": "markdown",
   "id": "9f096018",
   "metadata": {},
   "source": [
    "## ------------------------------------------------------------------------------"
   ]
  },
  {
   "cell_type": "code",
   "execution_count": 197,
   "id": "ea9f210a",
   "metadata": {},
   "outputs": [
    {
     "data": {
      "text/plain": [
       "0      1\n",
       "1      4\n",
       "2      A\n",
       "3    4.5\n",
       "dtype: object"
      ]
     },
     "execution_count": 197,
     "metadata": {},
     "output_type": "execute_result"
    }
   ],
   "source": [
    "# 여러 타입의 데이터로 Series 객체 생성\n",
    "sr2=pd.Series([1,4,'A',4.5])\n",
    "sr2\n",
    "# 다 섞여서 타입이 오브젝트"
   ]
  },
  {
   "cell_type": "code",
   "execution_count": 198,
   "id": "44246c79",
   "metadata": {},
   "outputs": [
    {
     "name": "stdout",
     "output_type": "stream",
     "text": [
      "index => RangeIndex(start=0, stop=4, step=1)\n",
      "values => [1 4 'A' 4.5] | values type => <class 'numpy.ndarray'>\n",
      "array => <PandasArray>\n",
      "[1, 4, 'A', 4.5]\n",
      "Length: 4, dtype: object\n",
      "0      1\n",
      "1      4\n",
      "2      A\n",
      "3    4.5\n",
      "dtype: object\n"
     ]
    }
   ],
   "source": [
    "# Series 객체 속성 읽기\n",
    "print( f'index => {sr2.index}' )\n",
    "print( f'values => {sr2.values} | values type => {type(sr2.values)}' )    # 빠르게 읽고 쓰기 위해서 넘파이 타입으로 저장함.\n",
    "print( f'array => {sr2.array}' )\n",
    "print(sr2)"
   ]
  },
  {
   "cell_type": "markdown",
   "id": "dcdd7cbf",
   "metadata": {},
   "source": [
    "## ------------------------------------------------------------------------------"
   ]
  },
  {
   "cell_type": "code",
   "execution_count": 199,
   "id": "01b69740",
   "metadata": {},
   "outputs": [
    {
     "data": {
      "text/plain": [
       "name     HONG\n",
       "age        12\n",
       "loc     Daegu\n",
       "dtype: object"
      ]
     },
     "execution_count": 199,
     "metadata": {},
     "output_type": "execute_result"
    }
   ],
   "source": [
    "# Dict 데이터로 Series 객체 생성\n",
    "sr3=pd.Series({'name':'HONG', 'age':12, 'loc':'Daegu'})\n",
    "sr3"
   ]
  },
  {
   "cell_type": "code",
   "execution_count": 200,
   "id": "10aba6a1",
   "metadata": {},
   "outputs": [
    {
     "data": {
      "text/plain": [
       "하나    a\n",
       "둘     b\n",
       "셋     c\n",
       "dtype: object"
      ]
     },
     "execution_count": 200,
     "metadata": {},
     "output_type": "execute_result"
    }
   ],
   "source": [
    "# Series 객체 생성\n",
    "sr=pd.Series(['a','b','c'], index=['하나','둘','셋'])\n",
    "sr"
   ]
  },
  {
   "cell_type": "code",
   "execution_count": 201,
   "id": "d9a4626c",
   "metadata": {},
   "outputs": [
    {
     "data": {
      "text/plain": [
       "0    a\n",
       "1    b\n",
       "2    c\n",
       "dtype: object"
      ]
     },
     "execution_count": 201,
     "metadata": {},
     "output_type": "execute_result"
    }
   ],
   "source": [
    "sr2=pd.Series(['a','b','c'])\n",
    "sr2"
   ]
  },
  {
   "cell_type": "code",
   "execution_count": 202,
   "id": "24d37439",
   "metadata": {},
   "outputs": [
    {
     "data": {
      "text/plain": [
       "11    a\n",
       "22    b\n",
       "33    c\n",
       "dtype: object"
      ]
     },
     "execution_count": 202,
     "metadata": {},
     "output_type": "execute_result"
    }
   ],
   "source": [
    "# 인덱스 새로운 값으로 설정 => 객체변수명.속석명= 새로운 값\n",
    "sr2.index=[11,22,33]\n",
    "sr2"
   ]
  },
  {
   "cell_type": "code",
   "execution_count": 203,
   "id": "089c02fe",
   "metadata": {},
   "outputs": [],
   "source": [
    "# 객체 속성 읽기\n",
    "# s.속성명\n",
    "# print(s.index)\n",
    "\n",
    "# 객체 속성 새로운 값 저장\n",
    "# s.속성명 = 새로운 값\n",
    "# s.index=[11,22,33]"
   ]
  },
  {
   "cell_type": "markdown",
   "id": "c39c9cfa",
   "metadata": {},
   "source": [
    "## ------------------------------------------------------------------------------"
   ]
  },
  {
   "cell_type": "markdown",
   "id": "50bf23a3",
   "metadata": {},
   "source": [
    "### Series 객체의 원소/요소 다루기\n",
    "- 방법1 : 시리즈 객체.[인덱스 번호]\n",
    "- 방법2 : 시리즈 객체.[인덱스 라벨]"
   ]
  },
  {
   "cell_type": "code",
   "execution_count": 204,
   "id": "8bd08fa3",
   "metadata": {},
   "outputs": [
    {
     "data": {
      "text/plain": [
       "Int64Index([11, 22, 33], dtype='int64')"
      ]
     },
     "execution_count": 204,
     "metadata": {},
     "output_type": "execute_result"
    }
   ],
   "source": [
    "# 1번 원소 읽기\n",
    "sr2.index # 현재 sr2의 인덱스 확인"
   ]
  },
  {
   "cell_type": "code",
   "execution_count": 205,
   "id": "c6b20070",
   "metadata": {},
   "outputs": [
    {
     "data": {
      "text/plain": [
       "'b'"
      ]
     },
     "execution_count": 205,
     "metadata": {},
     "output_type": "execute_result"
    }
   ],
   "source": [
    "sr2[22]"
   ]
  },
  {
   "cell_type": "code",
   "execution_count": 206,
   "id": "fd260dea",
   "metadata": {},
   "outputs": [
    {
     "data": {
      "text/plain": [
       "Index(['one', 'two', 'three'], dtype='object')"
      ]
     },
     "execution_count": 206,
     "metadata": {},
     "output_type": "execute_result"
    }
   ],
   "source": [
    "# 문자형 인덱스로 새롭게 설정\n",
    "sr2.index=['one','two','three']\n",
    "sr2.index"
   ]
  },
  {
   "cell_type": "code",
   "execution_count": 207,
   "id": "dba5bdbf",
   "metadata": {},
   "outputs": [
    {
     "data": {
      "text/plain": [
       "('b', 'b', 'c', 'c')"
      ]
     },
     "execution_count": 207,
     "metadata": {},
     "output_type": "execute_result"
    }
   ],
   "source": [
    "sr2['two'], sr2[1], sr2['three'], sr2[2]"
   ]
  },
  {
   "cell_type": "code",
   "execution_count": 208,
   "id": "26193d9b",
   "metadata": {},
   "outputs": [
    {
     "data": {
      "text/plain": [
       "name    Hong\n",
       "age       12\n",
       "dtype: object"
      ]
     },
     "execution_count": 208,
     "metadata": {},
     "output_type": "execute_result"
    }
   ],
   "source": [
    "sr3=pd.Series({'name':'Hong', 'age':12})\n",
    "sr3"
   ]
  },
  {
   "cell_type": "code",
   "execution_count": 209,
   "id": "dfbbb0a5",
   "metadata": {},
   "outputs": [
    {
     "data": {
      "text/plain": [
       "Index(['name', 'age'], dtype='object')"
      ]
     },
     "execution_count": 209,
     "metadata": {},
     "output_type": "execute_result"
    }
   ],
   "source": [
    "sr3.index"
   ]
  },
  {
   "cell_type": "code",
   "execution_count": 210,
   "id": "e8569b9c",
   "metadata": {},
   "outputs": [
    {
     "data": {
      "text/plain": [
       "(12, 'Hong')"
      ]
     },
     "execution_count": 210,
     "metadata": {},
     "output_type": "execute_result"
    }
   ],
   "source": [
    "sr3['age'], sr3['name']"
   ]
  },
  {
   "cell_type": "code",
   "execution_count": 211,
   "id": "395f3256",
   "metadata": {},
   "outputs": [
    {
     "data": {
      "text/plain": [
       "('Hong', 12)"
      ]
     },
     "execution_count": 211,
     "metadata": {},
     "output_type": "execute_result"
    }
   ],
   "source": [
    "sr3[0], sr3[1]"
   ]
  },
  {
   "cell_type": "code",
   "execution_count": 212,
   "id": "5613b082",
   "metadata": {},
   "outputs": [
    {
     "data": {
      "text/plain": [
       "0    2022-06-30\n",
       "1        Pandas\n",
       "2          True\n",
       "3          4.55\n",
       "4       No work\n",
       "dtype: object"
      ]
     },
     "execution_count": 212,
     "metadata": {},
     "output_type": "execute_result"
    }
   ],
   "source": [
    "# 튜플\n",
    "sr4=pd.Series(('2022-06-30', 'Pandas', True, 4.55, 'No work'))\n",
    "sr4"
   ]
  },
  {
   "cell_type": "code",
   "execution_count": 213,
   "id": "4d872705",
   "metadata": {},
   "outputs": [
    {
     "data": {
      "text/plain": [
       "날짜      2022-06-30\n",
       "과목          Pandas\n",
       "불린            True\n",
       "실수            4.55\n",
       "희망사항       No work\n",
       "dtype: object"
      ]
     },
     "execution_count": 213,
     "metadata": {},
     "output_type": "execute_result"
    }
   ],
   "source": [
    "sr4.index=['날짜', '과목', '불린', '실수', '희망사항']\n",
    "sr4"
   ]
  },
  {
   "cell_type": "code",
   "execution_count": 214,
   "id": "813d1387",
   "metadata": {},
   "outputs": [
    {
     "name": "stdout",
     "output_type": "stream",
     "text": [
      "2022-06-30 4.55 No work\n",
      "2022-06-30 4.55 No work\n",
      "<class 'str'> <class 'float'> <class 'str'>\n",
      "날짜      2022-06-30\n",
      "실수            4.55\n",
      "희망사항       No work\n",
      "dtype: object <class 'pandas.core.series.Series'>\n",
      "과목       Pandas\n",
      "불린         True\n",
      "실수         4.55\n",
      "희망사항    No work\n",
      "dtype: object\n",
      "과목       Pandas\n",
      "불린         True\n",
      "실수         4.55\n",
      "희망사항    No work\n",
      "dtype: object\n",
      "과목    Pandas\n",
      "불린      True\n",
      "실수      4.55\n",
      "dtype: object\n",
      "과목       Pandas\n",
      "불린         True\n",
      "실수         4.55\n",
      "희망사항    No work\n",
      "dtype: object\n"
     ]
    }
   ],
   "source": [
    "# (1) 0번요소, 3번요소, 4번요소 읽어서 출력\n",
    "print(sr4[0], sr4[3], sr4[4])\n",
    "print(sr4['날짜'], sr4['실수'], sr4['희망사항'])\n",
    "\n",
    "print(type(sr4[0]), type(sr4[3]), type(sr4[4]))\n",
    "print(sr4[ [0,3,4] ], type(sr4[ [0,3,4] ]))\n",
    "\n",
    "\n",
    "# (2) 1번요소부터 끝까지 요소값 출력\n",
    "print(sr4[1:])\n",
    "print(sr4['과목':])\n",
    "\n",
    "# (3) 1번요소부터 3번요소까지 요소값 출력\n",
    "print(sr4[1:4])\n",
    "print(sr4['과목':'희망사항']) # 인덱스라벨은 끝원소로 포함(인덱스와 달리)"
   ]
  },
  {
   "cell_type": "code",
   "execution_count": null,
   "id": "ba6f84ec",
   "metadata": {},
   "outputs": [],
   "source": []
  }
 ],
 "metadata": {
  "kernelspec": {
   "display_name": "Python 3 (ipykernel)",
   "language": "python",
   "name": "python3"
  },
  "language_info": {
   "codemirror_mode": {
    "name": "ipython",
    "version": 3
   },
   "file_extension": ".py",
   "mimetype": "text/x-python",
   "name": "python",
   "nbconvert_exporter": "python",
   "pygments_lexer": "ipython3",
   "version": "3.9.12"
  }
 },
 "nbformat": 4,
 "nbformat_minor": 5
}
