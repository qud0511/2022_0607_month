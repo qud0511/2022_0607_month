{
 "cells": [
  {
   "cell_type": "markdown",
   "id": "91f36161",
   "metadata": {},
   "source": [
    "# 0701 과제 - 정한수"
   ]
  },
  {
   "cell_type": "markdown",
   "id": "c674bb8f",
   "metadata": {},
   "source": [
    "### 데이터 가져오기"
   ]
  },
  {
   "cell_type": "code",
   "execution_count": null,
   "id": "dc8712c2",
   "metadata": {},
   "outputs": [],
   "source": [
    "import pandas as pd\n",
    "\n",
    "FILE_PATH = './Data/'\n",
    "FILE_NAMES = ['남북한발전전력량.xlsx', 'iris.csv']"
   ]
  },
  {
   "cell_type": "code",
   "execution_count": null,
   "id": "ba2e8944",
   "metadata": {},
   "outputs": [],
   "source": [
    "people = pd.read_excel(FILE_PATH + FILE_NAMES[0], index_col = [0,1]).drop((   '전출지별',    '전입지별')) # 1행 빼고 읽기\n",
    "electric = pd.read_excel(FILE_PATH + FILE_NAMES[1], index_col = [0,1])\n",
    "iris = pd.read_csv(FILE_PATH + FILE_NAMES[2])"
   ]
  },
  {
   "cell_type": "code",
   "execution_count": null,
   "id": "129dcb46",
   "metadata": {},
   "outputs": [],
   "source": [
    "people"
   ]
  },
  {
   "cell_type": "code",
   "execution_count": null,
   "id": "9d1387b4",
   "metadata": {},
   "outputs": [],
   "source": [
    "electric.T"
   ]
  },
  {
   "cell_type": "code",
   "execution_count": null,
   "id": "05ed67f6",
   "metadata": {},
   "outputs": [],
   "source": [
    "iris"
   ]
  },
  {
   "cell_type": "markdown",
   "id": "ace5829d",
   "metadata": {},
   "source": [
    "## 1. 남북한 발전 전력량"
   ]
  },
  {
   "cell_type": "markdown",
   "id": "3d87f84e",
   "metadata": {},
   "source": [
    "#### 1.2 요약 정보 출력"
   ]
  },
  {
   "cell_type": "code",
   "execution_count": null,
   "id": "6b7b490b",
   "metadata": {},
   "outputs": [],
   "source": [
    "def print_detail(data):\n",
    "    print(f'--- data detail ------------------------------', end = '\\n\\n')\n",
    "    print(f'shape   : {data.shape}', end = '\\n\\n')\n",
    "    print(f'columns : {data.columns.values}', end = '\\n\\n')\n",
    "    print(f'index   : {data.index.values}', end = '\\n\\n')\n",
    "    print(f'{data.info()}', end = '\\n\\n')\n"
   ]
  },
  {
   "cell_type": "code",
   "execution_count": null,
   "id": "9a870c83",
   "metadata": {},
   "outputs": [],
   "source": [
    "print_detail(electric)"
   ]
  },
  {
   "cell_type": "markdown",
   "id": "e4dc1af4",
   "metadata": {},
   "source": [
    "#### 1.3  1990~2016 컬럼에서 컬럼별 최대값, 최소값"
   ]
  },
  {
   "cell_type": "code",
   "execution_count": null,
   "id": "ec219488",
   "metadata": {
    "scrolled": true
   },
   "outputs": [],
   "source": [
    "\n"
   ]
  },
  {
   "cell_type": "code",
   "execution_count": null,
   "id": "09a7ac80",
   "metadata": {},
   "outputs": [],
   "source": [
    "import numpy as np\n",
    "electric = electric.replace('-', np.nan)\n",
    "electric"
   ]
  },
  {
   "cell_type": "code",
   "execution_count": null,
   "id": "55654bba",
   "metadata": {},
   "outputs": [],
   "source": [
    "pd.DataFrame( {'max' : electric.max(), 'min': electric.min()}).T"
   ]
  },
  {
   "cell_type": "markdown",
   "id": "860f2ca6",
   "metadata": {},
   "source": [
    "#### 1.4 1990~2016 컬럼에서 짝수 컬럼 데이터만 출력"
   ]
  },
  {
   "cell_type": "code",
   "execution_count": null,
   "id": "d1c8ddf0",
   "metadata": {},
   "outputs": [],
   "source": [
    "# list comprehension 이용\n",
    "electric[[x for x in electric.columns if int(x)%2 ==0]]"
   ]
  },
  {
   "cell_type": "code",
   "execution_count": null,
   "id": "4459f90e",
   "metadata": {},
   "outputs": [],
   "source": [
    "# list comprehension 없이\n",
    "odd_cols = []\n",
    "for x in electric.columns:\n",
    "    if int(x)%2 ==0:\n",
    "        odd_cols.append(x)\n",
    "\n",
    "electric[odd_cols]"
   ]
  },
  {
   "cell_type": "code",
   "execution_count": null,
   "id": "2bcfe6cf",
   "metadata": {},
   "outputs": [],
   "source": [
    "# for문 이용\n",
    "cond_cols = []\n",
    "for x in electric.columns:\n",
    "    if int(x)%2 ==0:\n",
    "        cond_cols.append(x)\n",
    "electric[cond_cols]"
   ]
  },
  {
   "cell_type": "markdown",
   "id": "016680e0",
   "metadata": {},
   "source": [
    "#### 1.5  전력량과 발전 전력별을 하나의 컬럼으로 합치고 합친 컬럼을 추가"
   ]
  },
  {
   "cell_type": "code",
   "execution_count": null,
   "id": "7a306805",
   "metadata": {},
   "outputs": [],
   "source": [
    "electric.reset_index(inplace = True)"
   ]
  },
  {
   "cell_type": "code",
   "execution_count": null,
   "id": "76e36898",
   "metadata": {},
   "outputs": [],
   "source": [
    "new_ind = electric[electric.columns[0]]+' / ' + electric[electric.columns[1]]"
   ]
  },
  {
   "cell_type": "code",
   "execution_count": null,
   "id": "a06a5843",
   "metadata": {},
   "outputs": [],
   "source": [
    "electric['new_ind'] =new_ind"
   ]
  },
  {
   "cell_type": "code",
   "execution_count": null,
   "id": "2f95d225",
   "metadata": {},
   "outputs": [],
   "source": [
    "electric"
   ]
  },
  {
   "cell_type": "markdown",
   "id": "2e09b614",
   "metadata": {},
   "source": [
    "#### 1.6  5번에서 생성된 컬럼을 인덱스로 설정"
   ]
  },
  {
   "cell_type": "code",
   "execution_count": null,
   "id": "ae263ada",
   "metadata": {},
   "outputs": [],
   "source": [
    "electric.set_index(new_ind, inplace = True)\n",
    "electric.drop(electric.columns[[0,1]], axis = 1, inplace = True)"
   ]
  },
  {
   "cell_type": "code",
   "execution_count": null,
   "id": "8b7a7849",
   "metadata": {},
   "outputs": [],
   "source": [
    "electric"
   ]
  },
  {
   "cell_type": "markdown",
   "id": "6ca6dd2f",
   "metadata": {},
   "source": [
    "## 2. iris"
   ]
  },
  {
   "cell_type": "code",
   "execution_count": null,
   "id": "bbde3392",
   "metadata": {},
   "outputs": [],
   "source": [
    "iris"
   ]
  },
  {
   "cell_type": "markdown",
   "id": "cf0052ac",
   "metadata": {},
   "source": [
    "####  2.1 Length 데이터만 추출해서 출력"
   ]
  },
  {
   "cell_type": "code",
   "execution_count": null,
   "id": "0899ee3c",
   "metadata": {
    "scrolled": false
   },
   "outputs": [],
   "source": [
    "# list comprehension 이용\n",
    "iris[[x for x in iris.columns if 'Length' in x]]"
   ]
  },
  {
   "cell_type": "code",
   "execution_count": null,
   "id": "d3285448",
   "metadata": {},
   "outputs": [],
   "source": [
    "# list comprehension 없이\n",
    "len_col = []\n",
    "for x in iris.columns:\n",
    "    if 'Length' in x:\n",
    "        len_col.append(x)\n",
    "        \n",
    "iris[len_col]"
   ]
  },
  {
   "cell_type": "markdown",
   "id": "850dcfee",
   "metadata": {},
   "source": [
    "#### 2.2 SepalLength 컬럼에서 길이가 5.0보다 큰 걸럼의 SepalLength와 Names"
   ]
  },
  {
   "cell_type": "code",
   "execution_count": null,
   "id": "f85dbc70",
   "metadata": {},
   "outputs": [],
   "source": [
    "cond = iris['SepalLength'] > 5.0\n",
    "iris[['SepalLength', 'Name']][cond]"
   ]
  },
  {
   "cell_type": "markdown",
   "id": "0c560951",
   "metadata": {},
   "source": [
    "#### 2.3  Iris-setosa, Iris-versicolor, Iris-virginica에서 각각 최대, 최소 컬럼을 출력"
   ]
  },
  {
   "cell_type": "code",
   "execution_count": null,
   "id": "5d015b38",
   "metadata": {
    "scrolled": true
   },
   "outputs": [],
   "source": [
    "max_data = iris.groupby('Name').max()\n",
    "max_result = []\n",
    "for name in iris.Name.unique():\n",
    "    name_max_data = max_data.loc[name]\n",
    "    max_col = name_max_data[name_max_data == name_max_data.max()]\n",
    "    print(max_col.index.values[0])\n",
    "    max_result.append(max_col.index.values[0])\n",
    "    \n",
    "    \n",
    "min_data = iris.groupby('Name').max()\n",
    "min_result = []\n",
    "for name in iris.Name.unique():\n",
    "    name_min_data = min_data.loc[name]\n",
    "    min_col = name_min_data[name_min_data == name_min_data.min()]\n",
    "    print(name_min_data)\n",
    "    min_result.append(min_col.index.values[0])\n",
    "    \n",
    "pd.DataFrame({'max' : max_result, 'min' : min_result}, index = iris.Name.unique())\n",
    "    \n"
   ]
  },
  {
   "cell_type": "code",
   "execution_count": null,
   "id": "07704b6e",
   "metadata": {},
   "outputs": [],
   "source": [
    "iris.groupby('Name').max()"
   ]
  },
  {
   "cell_type": "code",
   "execution_count": null,
   "id": "384c3ada",
   "metadata": {},
   "outputs": [],
   "source": [
    "iris.groupby('Name').min()"
   ]
  },
  {
   "cell_type": "markdown",
   "id": "eaebb723",
   "metadata": {},
   "source": [
    "##### groupby 사용 안하고 만들기"
   ]
  },
  {
   "cell_type": "code",
   "execution_count": null,
   "id": "76135732",
   "metadata": {},
   "outputs": [],
   "source": [
    "max_cols = []\n",
    "min_cols = []\n",
    "    \n",
    "for name in  iris.Name.unique():\n",
    "    name_data = iris[iris.Name == name].drop('Name',axis =1)\n",
    "    name_max_data = name_data.max()\n",
    "    max_col = name_max_data[name_max_data == name_max_data.max()]\n",
    "    print(max_col.index.values[0])\n",
    "    max_cols.append(max_col.index.values[0])\n",
    "\n",
    "for name in  iris.Name.unique():\n",
    "    name_data = iris[iris.Name == name].drop('Name',axis =1)\n",
    "    name_min_data = name_data.min()\n",
    "    min_col = name_min_data[name_min_data == name_min_data.min()]\n",
    "    print(min_col.index.values[0])\n",
    "    min_cols.append(min_col.index.values[0])\n",
    "\n",
    "    \n",
    "\n",
    "    \n",
    "pd.DataFrame({'max' : max_cols, 'min' : min_cols}, index = iris.Name.unique())\n",
    "    \n"
   ]
  },
  {
   "cell_type": "code",
   "execution_count": null,
   "id": "558f910c",
   "metadata": {},
   "outputs": [],
   "source": []
  }
 ],
 "metadata": {
  "kernelspec": {
   "display_name": "Python 3 (ipykernel)",
   "language": "python",
   "name": "python3"
  },
  "language_info": {
   "codemirror_mode": {
    "name": "ipython",
    "version": 3
   },
   "file_extension": ".py",
   "mimetype": "text/x-python",
   "name": "python",
   "nbconvert_exporter": "python",
   "pygments_lexer": "ipython3",
   "version": "3.9.12"
  }
 },
 "nbformat": 4,
 "nbformat_minor": 5
}
