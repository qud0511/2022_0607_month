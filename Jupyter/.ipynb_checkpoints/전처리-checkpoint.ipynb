{
 "cells": [
  {
   "cell_type": "code",
   "execution_count": 1,
   "id": "1ca1550d",
   "metadata": {},
   "outputs": [],
   "source": [
    "import pandas as pd\n",
    "import openpyxl as op\n",
    "\n",
    "PATH='./projectData/'\n",
    "\n",
    "fire15=pd.read_csv(PATH+'소방청_연간화재통계_2015.csv',encoding='cp949')\n",
    "fire16=pd.read_csv(PATH+'소방청_연간화재통계_2016.csv',encoding='cp949')\n",
    "fire17=pd.read_csv(PATH+'소방청_연간화재통계_2017.csv',encoding='cp949')\n",
    "fire18=pd.read_csv(PATH+'소방청_연간화재통계_2018.csv',encoding='cp949')\n",
    "fire19=pd.read_csv(PATH+'소방청_연간화재통계_2019.csv',encoding='cp949')"
   ]
  },
  {
   "cell_type": "code",
   "execution_count": 2,
   "id": "3cabe968",
   "metadata": {},
   "outputs": [],
   "source": [
    "fire15.rename(columns={'발화열원':'발화열원대분류'},inplace=True)\n",
    "fire16.rename(columns={'발화열원':'발화열원대분류'},inplace=True)\n",
    "fire17.rename(columns={'발화열원':'발화열원대분류'},inplace=True)\n",
    "fire18.rename(columns={'발화열원':'발화열원대분류'},inplace=True)\n",
    "fire19.rename(columns={'시·군·구':'시군구'},inplace=True)"
   ]
  },
  {
   "cell_type": "code",
   "execution_count": 3,
   "id": "aff4b92b",
   "metadata": {},
   "outputs": [],
   "source": [
    "fire15=fire15[fire15.columns[1:]]\n",
    "fire16=fire16[fire16.columns[1:]]\n",
    "fire17=fire17[fire17.columns[1:]]\n",
    "fire18=fire18[fire18.columns[1:]]"
   ]
  },
  {
   "cell_type": "code",
   "execution_count": 4,
   "id": "881e9689",
   "metadata": {},
   "outputs": [
    {
     "name": "stdout",
     "output_type": "stream",
     "text": [
      "<class 'pandas.core.frame.DataFrame'>\n",
      "Int64Index: 214467 entries, 0 to 40102\n",
      "Data columns (total 18 columns):\n",
      " #   Column     Non-Null Count   Dtype \n",
      "---  ------     --------------   ----- \n",
      " 0   사망         214467 non-null  int64 \n",
      " 1   부상         214467 non-null  int64 \n",
      " 2   인명피해(명)소계  214467 non-null  int64 \n",
      " 3   재산피해소계     214467 non-null  int64 \n",
      " 4   화재발생년월일    214467 non-null  object\n",
      " 5   시도         214467 non-null  object\n",
      " 6   시군구        214467 non-null  object\n",
      " 7   읍면동        214436 non-null  object\n",
      " 8   화재유형       214467 non-null  object\n",
      " 9   발화열원대분류    214467 non-null  object\n",
      " 10  발화열원소분류    214467 non-null  object\n",
      " 11  발화요인대분류    214467 non-null  object\n",
      " 12  발화요인소분류    214467 non-null  object\n",
      " 13  최초착화물대분류   214467 non-null  object\n",
      " 14  최초착화물소분류   214467 non-null  object\n",
      " 15  장소대분류      214467 non-null  object\n",
      " 16  장소중분류      214467 non-null  object\n",
      " 17  장소소분류      214467 non-null  object\n",
      "dtypes: int64(4), object(14)\n",
      "memory usage: 31.1+ MB\n",
      "None\n"
     ]
    }
   ],
   "source": [
    "fireall=pd.concat([fire15,fire16,fire17,fire18,fire19])\n",
    "print(fireall.info())"
   ]
  },
  {
   "cell_type": "code",
   "execution_count": null,
   "id": "c62b75a2",
   "metadata": {},
   "outputs": [],
   "source": []
  },
  {
   "cell_type": "code",
   "execution_count": null,
   "id": "0676efc8",
   "metadata": {},
   "outputs": [],
   "source": []
  }
 ],
 "metadata": {
  "kernelspec": {
   "display_name": "Python 3 (ipykernel)",
   "language": "python",
   "name": "python3"
  },
  "language_info": {
   "codemirror_mode": {
    "name": "ipython",
    "version": 3
   },
   "file_extension": ".py",
   "mimetype": "text/x-python",
   "name": "python",
   "nbconvert_exporter": "python",
   "pygments_lexer": "ipython3",
   "version": "3.9.12"
  }
 },
 "nbformat": 4,
 "nbformat_minor": 5
}
