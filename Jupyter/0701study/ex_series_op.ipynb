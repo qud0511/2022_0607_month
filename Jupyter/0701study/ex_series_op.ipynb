{
 "cells": [
  {
   "cell_type": "markdown",
   "id": "5acefd06",
   "metadata": {},
   "source": [
    "# Series객체와 숫자 연산 수행 -----------------------\n",
    "\n",
    "- Series 객체의 모든 원소에 숫자 연산 적용  => 브로드캐스팅"
   ]
  },
  {
   "cell_type": "code",
   "execution_count": 2,
   "id": "b794aa68",
   "metadata": {},
   "outputs": [
    {
     "data": {
      "text/plain": [
       "0    10\n",
       "1    20\n",
       "2    30\n",
       "3    40\n",
       "dtype: int64"
      ]
     },
     "execution_count": 2,
     "metadata": {},
     "output_type": "execute_result"
    }
   ],
   "source": [
    "# 모듈 로딩 -----------------------------------------------------------\n",
    "import pandas as pd\n",
    "\n",
    "# Series 객체 생성 \n",
    "sr=pd.Series([10, 20, 30, 40])\n",
    "\n",
    "# Series 객체 데이터 확인\n",
    "sr"
   ]
  },
  {
   "cell_type": "code",
   "execution_count": 3,
   "id": "74e2cc7a",
   "metadata": {},
   "outputs": [
    {
     "name": "stdout",
     "output_type": "stream",
     "text": [
      "result=> \n",
      "0    15\n",
      "1    25\n",
      "2    35\n",
      "3    45\n",
      "dtype: int64\n",
      "result type => <class 'pandas.core.series.Series'>\n"
     ]
    }
   ],
   "source": [
    "# 숫자 데이터와 연산 수행 -----------------------------------------------\n",
    "result=sr+5\n",
    "\n",
    "print(f'result=> \\n{result}', f'result type => {type(result)}', sep='\\n')"
   ]
  },
  {
   "cell_type": "code",
   "execution_count": 9,
   "id": "5cf1f839",
   "metadata": {},
   "outputs": [
    {
     "name": "stdout",
     "output_type": "stream",
     "text": [
      "sr1.index => Index(['국어', '영어', '수학'], dtype='object')\n",
      "sr2.index => Index(['수학', '국어', '영어'], dtype='object')\n",
      "sr3.index => Index(['국어', '영어'], dtype='object')\n"
     ]
    }
   ],
   "source": [
    "# Series 객체 + Series  객체 연산 수행 ---------------------------------\n",
    "sr1=pd.Series({'국어':90, '영어':100, '수학':88})\n",
    "sr2=pd.Series({'수학':70, '국어':90, '영어':50})\n",
    "sr3=pd.Series({'국어':90, '영어':50})\n",
    "\n",
    "print(f'sr1.index => {sr1.index}', f'sr2.index => {sr2.index}', sep='\\n')\n",
    "print(f'sr3.index => {sr3.index}', sep='\\n')"
   ]
  },
  {
   "cell_type": "code",
   "execution_count": 5,
   "id": "03c67bc2",
   "metadata": {},
   "outputs": [],
   "source": [
    "# 인덱스 정렬 후 동일 인덱스 끼리 연산 수행\n",
    "result=sr1+sr2\n",
    "result"
   ]
  },
  {
   "cell_type": "code",
   "execution_count": 10,
   "id": "b3b73256",
   "metadata": {},
   "outputs": [
    {
     "data": {
      "text/plain": [
       "국어    180.0\n",
       "수학      NaN\n",
       "영어    150.0\n",
       "dtype: float64"
      ]
     },
     "execution_count": 10,
     "metadata": {},
     "output_type": "execute_result"
    }
   ],
   "source": [
    "# 동일 인덱스가 없는 경우 연산 수행 안함 => NaN    빈칸의미\n",
    "result=sr1+sr3\n",
    "result"
   ]
  },
  {
   "cell_type": "code",
   "execution_count": null,
   "id": "da45c25b",
   "metadata": {},
   "outputs": [],
   "source": []
  }
 ],
 "metadata": {
  "kernelspec": {
   "display_name": "Python 3 (ipykernel)",
   "language": "python",
   "name": "python3"
  },
  "language_info": {
   "codemirror_mode": {
    "name": "ipython",
    "version": 3
   },
   "file_extension": ".py",
   "mimetype": "text/x-python",
   "name": "python",
   "nbconvert_exporter": "python",
   "pygments_lexer": "ipython3",
   "version": "3.9.12"
  }
 },
 "nbformat": 4,
 "nbformat_minor": 5
}
